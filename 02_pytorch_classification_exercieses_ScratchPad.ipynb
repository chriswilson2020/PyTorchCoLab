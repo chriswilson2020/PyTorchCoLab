{
  "nbformat": 4,
  "nbformat_minor": 0,
  "metadata": {
    "colab": {
      "provenance": [],
      "authorship_tag": "ABX9TyOpvgTKyKrE/DhBYmx1LX5p",
      "include_colab_link": true
    },
    "kernelspec": {
      "name": "python3",
      "display_name": "Python 3"
    },
    "language_info": {
      "name": "python"
    },
    "accelerator": "GPU",
    "gpuClass": "standard"
  },
  "cells": [
    {
      "cell_type": "markdown",
      "metadata": {
        "id": "view-in-github",
        "colab_type": "text"
      },
      "source": [
        "<a href=\"https://colab.research.google.com/github/chriswilson2020/PyTorchCoLab/blob/main/02_pytorch_classification_exercieses_ScratchPad.ipynb\" target=\"_parent\"><img src=\"https://colab.research.google.com/assets/colab-badge.svg\" alt=\"Open In Colab\"/></a>"
      ]
    },
    {
      "cell_type": "code",
      "execution_count": 25,
      "metadata": {
        "id": "-yhYgU4nRF2S"
      },
      "outputs": [],
      "source": [
        "# Import dependencies\n",
        "import torch\n",
        "from torch import nn\n",
        "from sklearn.datasets import make_moons\n",
        "from sklearn.model_selection import train_test_split\n",
        "import pandas as pd\n",
        "import matplotlib.pyplot as plt\n",
        "import numpy as np"
      ]
    },
    {
      "cell_type": "markdown",
      "source": [
        "## Doc Links\n",
        "* sklearn make_moons - https://scikit-learn.org/stable/modules/generated/sklearn.datasets.make_moons.html"
      ],
      "metadata": {
        "id": "2jdLMuNNS1GB"
      }
    },
    {
      "cell_type": "code",
      "source": [
        "#Setup device agnostic code\n",
        "device = \"cuda\" if torch.cuda.is_available() else \"cpu\"\n",
        "print(f\"Our current device is: {device}\")"
      ],
      "metadata": {
        "colab": {
          "base_uri": "https://localhost:8080/"
        },
        "id": "Fi6UfUzbRQnN",
        "outputId": "8a3f45c9-683a-4f55-ccc0-8485f0b0be5d"
      },
      "execution_count": 2,
      "outputs": [
        {
          "output_type": "stream",
          "name": "stdout",
          "text": [
            "Our current device is: cuda\n"
          ]
        }
      ]
    },
    {
      "cell_type": "code",
      "source": [
        "#let's see what device we actually have\n",
        "!nvidia-smi"
      ],
      "metadata": {
        "colab": {
          "base_uri": "https://localhost:8080/"
        },
        "id": "1Ac0Jq6ZRYdd",
        "outputId": "2e2926b2-6980-47c8-d8f3-c33e36a56c1e"
      },
      "execution_count": 3,
      "outputs": [
        {
          "output_type": "stream",
          "name": "stdout",
          "text": [
            "Sat Dec  3 10:22:57 2022       \n",
            "+-----------------------------------------------------------------------------+\n",
            "| NVIDIA-SMI 460.32.03    Driver Version: 460.32.03    CUDA Version: 11.2     |\n",
            "|-------------------------------+----------------------+----------------------+\n",
            "| GPU  Name        Persistence-M| Bus-Id        Disp.A | Volatile Uncorr. ECC |\n",
            "| Fan  Temp  Perf  Pwr:Usage/Cap|         Memory-Usage | GPU-Util  Compute M. |\n",
            "|                               |                      |               MIG M. |\n",
            "|===============================+======================+======================|\n",
            "|   0  Tesla T4            Off  | 00000000:00:04.0 Off |                    0 |\n",
            "| N/A   63C    P0    29W /  70W |      3MiB / 15109MiB |      0%      Default |\n",
            "|                               |                      |                  N/A |\n",
            "+-------------------------------+----------------------+----------------------+\n",
            "                                                                               \n",
            "+-----------------------------------------------------------------------------+\n",
            "| Processes:                                                                  |\n",
            "|  GPU   GI   CI        PID   Type   Process name                  GPU Memory |\n",
            "|        ID   ID                                                   Usage      |\n",
            "|=============================================================================|\n",
            "|  No running processes found                                                 |\n",
            "+-----------------------------------------------------------------------------+\n"
          ]
        }
      ]
    },
    {
      "cell_type": "code",
      "source": [
        "# Setup Hyperparameters\n",
        "RANDOM_SEED = 42\n",
        "SAMPLES = 1000\n",
        "SHUFFLE=True\n",
        "NOISE=0.07\n",
        "RANDOM_STATE=RANDOM_SEED"
      ],
      "metadata": {
        "id": "r8gFlRGvRaA7"
      },
      "execution_count": 4,
      "outputs": []
    },
    {
      "cell_type": "code",
      "source": [
        "# Use sklearn to make half moon dataset consisting of \n",
        "# 1000 samples, 2 moon and a split of 80:20\n",
        "X, y = make_moons(n_samples=SAMPLES,\n",
        "                  shuffle=SHUFFLE,\n",
        "                  noise=NOISE,\n",
        "                  random_state=RANDOM_STATE)\n"
      ],
      "metadata": {
        "id": "mZVSO2C-RmJu"
      },
      "execution_count": 5,
      "outputs": []
    },
    {
      "cell_type": "code",
      "source": [
        "# Turn the data into a Pandas Dataframe\n",
        "moons = pd.DataFrame({\"X1\": X[:,0],\n",
        "                      \"X2\": X[:,1],\n",
        "                      \"label\": y})\n",
        "moons.head(10)"
      ],
      "metadata": {
        "colab": {
          "base_uri": "https://localhost:8080/",
          "height": 363
        },
        "id": "wjFam29xTW6y",
        "outputId": "a65576c2-26ab-424e-f41a-ff6a600d9ef7"
      },
      "execution_count": 6,
      "outputs": [
        {
          "output_type": "execute_result",
          "data": {
            "text/plain": [
              "         X1        X2  label\n",
              "0 -0.033411  0.421391      1\n",
              "1  0.998827 -0.442890      1\n",
              "2  0.889592 -0.327843      1\n",
              "3  0.341958 -0.417690      1\n",
              "4 -0.838531  0.532375      0\n",
              "5  0.599064 -0.289773      1\n",
              "6  0.290090 -0.204688      1\n",
              "7 -0.038269  0.459429      1\n",
              "8  1.613771 -0.293970      1\n",
              "9  0.693337  0.827819      0"
            ],
            "text/html": [
              "\n",
              "  <div id=\"df-b148232b-829f-40d5-861b-9ca50a5afc2e\">\n",
              "    <div class=\"colab-df-container\">\n",
              "      <div>\n",
              "<style scoped>\n",
              "    .dataframe tbody tr th:only-of-type {\n",
              "        vertical-align: middle;\n",
              "    }\n",
              "\n",
              "    .dataframe tbody tr th {\n",
              "        vertical-align: top;\n",
              "    }\n",
              "\n",
              "    .dataframe thead th {\n",
              "        text-align: right;\n",
              "    }\n",
              "</style>\n",
              "<table border=\"1\" class=\"dataframe\">\n",
              "  <thead>\n",
              "    <tr style=\"text-align: right;\">\n",
              "      <th></th>\n",
              "      <th>X1</th>\n",
              "      <th>X2</th>\n",
              "      <th>label</th>\n",
              "    </tr>\n",
              "  </thead>\n",
              "  <tbody>\n",
              "    <tr>\n",
              "      <th>0</th>\n",
              "      <td>-0.033411</td>\n",
              "      <td>0.421391</td>\n",
              "      <td>1</td>\n",
              "    </tr>\n",
              "    <tr>\n",
              "      <th>1</th>\n",
              "      <td>0.998827</td>\n",
              "      <td>-0.442890</td>\n",
              "      <td>1</td>\n",
              "    </tr>\n",
              "    <tr>\n",
              "      <th>2</th>\n",
              "      <td>0.889592</td>\n",
              "      <td>-0.327843</td>\n",
              "      <td>1</td>\n",
              "    </tr>\n",
              "    <tr>\n",
              "      <th>3</th>\n",
              "      <td>0.341958</td>\n",
              "      <td>-0.417690</td>\n",
              "      <td>1</td>\n",
              "    </tr>\n",
              "    <tr>\n",
              "      <th>4</th>\n",
              "      <td>-0.838531</td>\n",
              "      <td>0.532375</td>\n",
              "      <td>0</td>\n",
              "    </tr>\n",
              "    <tr>\n",
              "      <th>5</th>\n",
              "      <td>0.599064</td>\n",
              "      <td>-0.289773</td>\n",
              "      <td>1</td>\n",
              "    </tr>\n",
              "    <tr>\n",
              "      <th>6</th>\n",
              "      <td>0.290090</td>\n",
              "      <td>-0.204688</td>\n",
              "      <td>1</td>\n",
              "    </tr>\n",
              "    <tr>\n",
              "      <th>7</th>\n",
              "      <td>-0.038269</td>\n",
              "      <td>0.459429</td>\n",
              "      <td>1</td>\n",
              "    </tr>\n",
              "    <tr>\n",
              "      <th>8</th>\n",
              "      <td>1.613771</td>\n",
              "      <td>-0.293970</td>\n",
              "      <td>1</td>\n",
              "    </tr>\n",
              "    <tr>\n",
              "      <th>9</th>\n",
              "      <td>0.693337</td>\n",
              "      <td>0.827819</td>\n",
              "      <td>0</td>\n",
              "    </tr>\n",
              "  </tbody>\n",
              "</table>\n",
              "</div>\n",
              "      <button class=\"colab-df-convert\" onclick=\"convertToInteractive('df-b148232b-829f-40d5-861b-9ca50a5afc2e')\"\n",
              "              title=\"Convert this dataframe to an interactive table.\"\n",
              "              style=\"display:none;\">\n",
              "        \n",
              "  <svg xmlns=\"http://www.w3.org/2000/svg\" height=\"24px\"viewBox=\"0 0 24 24\"\n",
              "       width=\"24px\">\n",
              "    <path d=\"M0 0h24v24H0V0z\" fill=\"none\"/>\n",
              "    <path d=\"M18.56 5.44l.94 2.06.94-2.06 2.06-.94-2.06-.94-.94-2.06-.94 2.06-2.06.94zm-11 1L8.5 8.5l.94-2.06 2.06-.94-2.06-.94L8.5 2.5l-.94 2.06-2.06.94zm10 10l.94 2.06.94-2.06 2.06-.94-2.06-.94-.94-2.06-.94 2.06-2.06.94z\"/><path d=\"M17.41 7.96l-1.37-1.37c-.4-.4-.92-.59-1.43-.59-.52 0-1.04.2-1.43.59L10.3 9.45l-7.72 7.72c-.78.78-.78 2.05 0 2.83L4 21.41c.39.39.9.59 1.41.59.51 0 1.02-.2 1.41-.59l7.78-7.78 2.81-2.81c.8-.78.8-2.07 0-2.86zM5.41 20L4 18.59l7.72-7.72 1.47 1.35L5.41 20z\"/>\n",
              "  </svg>\n",
              "      </button>\n",
              "      \n",
              "  <style>\n",
              "    .colab-df-container {\n",
              "      display:flex;\n",
              "      flex-wrap:wrap;\n",
              "      gap: 12px;\n",
              "    }\n",
              "\n",
              "    .colab-df-convert {\n",
              "      background-color: #E8F0FE;\n",
              "      border: none;\n",
              "      border-radius: 50%;\n",
              "      cursor: pointer;\n",
              "      display: none;\n",
              "      fill: #1967D2;\n",
              "      height: 32px;\n",
              "      padding: 0 0 0 0;\n",
              "      width: 32px;\n",
              "    }\n",
              "\n",
              "    .colab-df-convert:hover {\n",
              "      background-color: #E2EBFA;\n",
              "      box-shadow: 0px 1px 2px rgba(60, 64, 67, 0.3), 0px 1px 3px 1px rgba(60, 64, 67, 0.15);\n",
              "      fill: #174EA6;\n",
              "    }\n",
              "\n",
              "    [theme=dark] .colab-df-convert {\n",
              "      background-color: #3B4455;\n",
              "      fill: #D2E3FC;\n",
              "    }\n",
              "\n",
              "    [theme=dark] .colab-df-convert:hover {\n",
              "      background-color: #434B5C;\n",
              "      box-shadow: 0px 1px 3px 1px rgba(0, 0, 0, 0.15);\n",
              "      filter: drop-shadow(0px 1px 2px rgba(0, 0, 0, 0.3));\n",
              "      fill: #FFFFFF;\n",
              "    }\n",
              "  </style>\n",
              "\n",
              "      <script>\n",
              "        const buttonEl =\n",
              "          document.querySelector('#df-b148232b-829f-40d5-861b-9ca50a5afc2e button.colab-df-convert');\n",
              "        buttonEl.style.display =\n",
              "          google.colab.kernel.accessAllowed ? 'block' : 'none';\n",
              "\n",
              "        async function convertToInteractive(key) {\n",
              "          const element = document.querySelector('#df-b148232b-829f-40d5-861b-9ca50a5afc2e');\n",
              "          const dataTable =\n",
              "            await google.colab.kernel.invokeFunction('convertToInteractive',\n",
              "                                                     [key], {});\n",
              "          if (!dataTable) return;\n",
              "\n",
              "          const docLinkHtml = 'Like what you see? Visit the ' +\n",
              "            '<a target=\"_blank\" href=https://colab.research.google.com/notebooks/data_table.ipynb>data table notebook</a>'\n",
              "            + ' to learn more about interactive tables.';\n",
              "          element.innerHTML = '';\n",
              "          dataTable['output_type'] = 'display_data';\n",
              "          await google.colab.output.renderOutput(dataTable, element);\n",
              "          const docLink = document.createElement('div');\n",
              "          docLink.innerHTML = docLinkHtml;\n",
              "          element.appendChild(docLink);\n",
              "        }\n",
              "      </script>\n",
              "    </div>\n",
              "  </div>\n",
              "  "
            ]
          },
          "metadata": {},
          "execution_count": 6
        }
      ]
    },
    {
      "cell_type": "code",
      "source": [
        "# Visualise the dataset\n",
        "plt.scatter(x=X[:,0],\n",
        "            y=X[:,1],\n",
        "            c=y,\n",
        "            cmap=plt.cm.RdYlBu);"
      ],
      "metadata": {
        "colab": {
          "base_uri": "https://localhost:8080/",
          "height": 265
        },
        "id": "Yl1so8ASUKWS",
        "outputId": "c0d38cfe-1d72-460e-f216-1549346afc52"
      },
      "execution_count": 7,
      "outputs": [
        {
          "output_type": "display_data",
          "data": {
            "text/plain": [
              "<Figure size 432x288 with 1 Axes>"
            ],
            "image/png": "[encoded data removed]"
          },
          "metadata": {
            "needs_background": "light"
          }
        }
      ]
    },
    {
      "cell_type": "code",
      "source": [
        "# Turn the data into tensors (type dtype float)\n",
        "\n",
        "X = torch.from_numpy(X).type(torch.float)\n",
        "y = torch.from_numpy(y).type(torch.float)\n"
      ],
      "metadata": {
        "id": "mgwbme_yUkl7"
      },
      "execution_count": 8,
      "outputs": []
    },
    {
      "cell_type": "code",
      "source": [
        "# Check our tensors\n",
        "\n",
        "print(f\"First five samples of X tensor: {X[:5]}\\n\")\n",
        "print(f\"First five samples of y tensor {y[:5]}\")"
      ],
      "metadata": {
        "colab": {
          "base_uri": "https://localhost:8080/"
        },
        "id": "f_V8_Ar6VeX5",
        "outputId": "89fab3c2-46cd-44c4-afbd-1eb69ead2904"
      },
      "execution_count": 9,
      "outputs": [
        {
          "output_type": "stream",
          "name": "stdout",
          "text": [
            "First five samples of X tensor: tensor([[-0.0334,  0.4214],\n",
            "        [ 0.9988, -0.4429],\n",
            "        [ 0.8896, -0.3278],\n",
            "        [ 0.3420, -0.4177],\n",
            "        [-0.8385,  0.5324]])\n",
            "\n",
            "First five samples of y tensor tensor([1., 1., 1., 1., 0.])\n"
          ]
        }
      ]
    },
    {
      "cell_type": "code",
      "source": [
        "# Split the data into training and test sets (80:20)\n",
        "\n",
        "X_train, X_test, y_train, y_test = train_test_split(X,\n",
        "                                                    y,\n",
        "                                                    test_size=0.2,\n",
        "                                                    random_state=RANDOM_STATE)"
      ],
      "metadata": {
        "id": "DhgPJQhFVjyq"
      },
      "execution_count": 10,
      "outputs": []
    },
    {
      "cell_type": "code",
      "source": [
        "# Check out the test train split\n",
        "print(f\"The length of X_train: {len(X_train)} and the length of X_test {len(X_test)}\\n\")\n",
        "print(f\"The length of y_train: {len(y_train)} and the length of y_test {len(y_test)}\\n\")\n"
      ],
      "metadata": {
        "colab": {
          "base_uri": "https://localhost:8080/"
        },
        "id": "uG_kG-6OWC05",
        "outputId": "1d582aef-55e9-49fc-f3ca-14b2c9163d5c"
      },
      "execution_count": 11,
      "outputs": [
        {
          "output_type": "stream",
          "name": "stdout",
          "text": [
            "The length of X_train: 800 and the length of X_test 200\n",
            "\n",
            "The length of y_train: 800 and the length of y_test 200\n",
            "\n"
          ]
        }
      ]
    },
    {
      "cell_type": "code",
      "source": [
        "# Build a model and instantiate it\n",
        "class MoonModelV0(nn.Module):\n",
        "  def __init__(self, input, output, hidden=8 ):\n",
        "    super().__init__()\n",
        "\n",
        "    self.layer_1 = nn.Linear(in_features = input, out_features = hidden)\n",
        "    self.layer_2 = nn.Linear(in_features=hidden, out_features=hidden)\n",
        "    self.layer_3 = nn.Linear(in_features=hidden, out_features=output)\n",
        "    self.relu = nn.ReLU()\n",
        "  \n",
        "  def forward(self, x):\n",
        "    return self.layer_3(self.relu(self.layer_2(self.relu(self.layer_1(x)))))"
      ],
      "metadata": {
        "id": "4QeQCE73WU_n"
      },
      "execution_count": 12,
      "outputs": []
    },
    {
      "cell_type": "code",
      "source": [
        "# Instantiate our model\n",
        "model_0 = MoonModelV0(input=2,\n",
        "        output=1,\n",
        "        hidden=8).to(device)"
      ],
      "metadata": {
        "id": "X3ZvugAIXl0d"
      },
      "execution_count": 13,
      "outputs": []
    },
    {
      "cell_type": "code",
      "source": [
        "# Take a look at the model\n",
        "model_0"
      ],
      "metadata": {
        "colab": {
          "base_uri": "https://localhost:8080/"
        },
        "id": "7vIM8raMXqZv",
        "outputId": "70cdbefc-3035-4321-f2dc-988031b9df25"
      },
      "execution_count": 14,
      "outputs": [
        {
          "output_type": "execute_result",
          "data": {
            "text/plain": [
              "MoonModelV0(\n",
              "  (layer_1): Linear(in_features=2, out_features=8, bias=True)\n",
              "  (layer_2): Linear(in_features=8, out_features=8, bias=True)\n",
              "  (layer_3): Linear(in_features=8, out_features=1, bias=True)\n",
              "  (relu): ReLU()\n",
              ")"
            ]
          },
          "metadata": {},
          "execution_count": 14
        }
      ]
    },
    {
      "cell_type": "code",
      "source": [
        "# Peek at the state_dict()\n",
        "model_0.state_dict()"
      ],
      "metadata": {
        "colab": {
          "base_uri": "https://localhost:8080/"
        },
        "id": "YW5RR4NyYd31",
        "outputId": "3b1ea532-580f-4856-bb69-0cc20f3926f3"
      },
      "execution_count": 15,
      "outputs": [
        {
          "output_type": "execute_result",
          "data": {
            "text/plain": [
              "OrderedDict([('layer_1.weight', tensor([[-0.3821, -0.6172],\n",
              "                      [-0.3334, -0.3502],\n",
              "                      [ 0.2457, -0.0797],\n",
              "                      [ 0.5250, -0.6623],\n",
              "                      [-0.5440, -0.1721],\n",
              "                      [-0.1820,  0.1926],\n",
              "                      [ 0.2641,  0.5666],\n",
              "                      [ 0.6676, -0.2300]], device='cuda:0')),\n",
              "             ('layer_1.bias',\n",
              "              tensor([ 0.3352, -0.1890,  0.3796, -0.4658, -0.1338,  0.2050, -0.5229, -0.4173],\n",
              "                     device='cuda:0')),\n",
              "             ('layer_2.weight',\n",
              "              tensor([[-1.8056e-01,  2.9481e-01, -3.4798e-01, -1.8001e-01, -6.5337e-02,\n",
              "                        4.4710e-02, -5.1744e-02,  1.5385e-01],\n",
              "                      [ 1.5875e-01,  3.2471e-01, -2.8713e-01, -1.4495e-01, -2.0175e-01,\n",
              "                       -2.0187e-01, -1.7591e-01, -5.3373e-02],\n",
              "                      [ 9.3251e-02,  2.7755e-01, -2.8107e-01, -1.6159e-02, -2.1664e-01,\n",
              "                       -3.7530e-02,  1.3728e-01, -1.2867e-01],\n",
              "                      [ 3.0843e-04,  1.4074e-01, -2.0397e-01, -2.1857e-01,  4.0211e-02,\n",
              "                       -2.9213e-01, -8.0454e-02, -1.5868e-01],\n",
              "                      [ 2.0864e-01, -2.9648e-01,  1.8844e-01, -2.0329e-01,  4.5235e-02,\n",
              "                       -2.8287e-01,  9.7461e-02,  8.9896e-02],\n",
              "                      [ 1.2380e-01,  8.8158e-02, -6.2060e-02,  3.3323e-01, -1.2707e-02,\n",
              "                        1.3784e-01, -1.1373e-01, -1.2254e-01],\n",
              "                      [-2.8061e-01,  1.2300e-01,  2.6348e-01, -8.1536e-02, -3.4754e-01,\n",
              "                        3.3819e-01,  8.8638e-02, -5.2342e-02],\n",
              "                      [ 3.4428e-02, -2.2171e-01, -2.2437e-01,  2.3896e-01, -1.9816e-01,\n",
              "                        3.3924e-01, -2.4107e-01, -1.7202e-01]], device='cuda:0')),\n",
              "             ('layer_2.bias',\n",
              "              tensor([-0.1111, -0.0320, -0.2377, -0.1450,  0.0817, -0.2212,  0.3403,  0.1777],\n",
              "                     device='cuda:0')),\n",
              "             ('layer_3.weight',\n",
              "              tensor([[ 0.1374, -0.2610, -0.1661, -0.3336, -0.1934, -0.2846,  0.2861,  0.0657]],\n",
              "                     device='cuda:0')),\n",
              "             ('layer_3.bias', tensor([-0.3079], device='cuda:0'))])"
            ]
          },
          "metadata": {},
          "execution_count": 15
        }
      ]
    },
    {
      "cell_type": "code",
      "source": [
        "# Make some predicitons with the model to test?\n",
        "with torch.inference_mode():\n",
        "  untrained_preds = model_0(X_test.to(device))\n",
        "print(f\"Length of predictions: {len(untrained_preds)}, Shape of predictions: {untrained_preds.shape}\")\n",
        "print(f\"Length of test samples: {len(X_test)}, Shape: {X_test.shape}\")\n",
        "print(f\"\\nFirst 10 predictions:\\n{torch.round(untrained_preds[:10])}\")\n",
        "print(f\"\\nFirst 10 labels:\\n{y_test[:10]}\")"
      ],
      "metadata": {
        "colab": {
          "base_uri": "https://localhost:8080/"
        },
        "id": "ZcCTzgOoYn5n",
        "outputId": "a4144417-0ccf-41f0-d4de-37d30c12c41a"
      },
      "execution_count": 16,
      "outputs": [
        {
          "output_type": "stream",
          "name": "stdout",
          "text": [
            "Length of predictions: 200, Shape of predictions: torch.Size([200, 1])\n",
            "Length of test samples: 200, Shape: torch.Size([200, 2])\n",
            "\n",
            "First 10 predictions:\n",
            "tensor([[-0.],\n",
            "        [-0.],\n",
            "        [-0.],\n",
            "        [-0.],\n",
            "        [-0.],\n",
            "        [-0.],\n",
            "        [-0.],\n",
            "        [-0.],\n",
            "        [-0.],\n",
            "        [-0.]], device='cuda:0')\n",
            "\n",
            "First 10 labels:\n",
            "tensor([1., 0., 1., 0., 1., 1., 0., 0., 1., 0.])\n"
          ]
        }
      ]
    },
    {
      "cell_type": "code",
      "source": [
        "# Setup the loss function and optimizer\n",
        "loss_fn = nn.BCEWithLogitsLoss()\n",
        "optimizer = torch.optim.SGD(params=model_0.parameters(),\n",
        "                            lr=0.01)"
      ],
      "metadata": {
        "id": "Ecl-qJieY24i"
      },
      "execution_count": 17,
      "outputs": []
    },
    {
      "cell_type": "code",
      "source": [
        "# See what is coming out of the model in \n",
        "# logits -> prediction probabilities -> prediciton labels\n",
        "model_0.eval()\n",
        "with torch.inference_mode():\n",
        "  print(\"Logits:\")\n",
        "  print(model_0(X_train.to(device)[:10]).squeeze(), \"\\n\")\n",
        "\n",
        "  print(\"Prediction Probabilities\")\n",
        "  print(torch.sigmoid(model_0(X_train.to(device)[:10]).squeeze()), \"\\n\")\n",
        "\n",
        "  print(\"Prediction Labels\")\n",
        "  print(torch.round(torch.sigmoid(model_0(X_train.to(device)[:10]).squeeze())))\n"
      ],
      "metadata": {
        "colab": {
          "base_uri": "https://localhost:8080/"
        },
        "id": "gtJhAWC8ZqYD",
        "outputId": "b1c09b79-de1d-415b-cf8a-c118b1d0c826"
      },
      "execution_count": 18,
      "outputs": [
        {
          "output_type": "stream",
          "name": "stdout",
          "text": [
            "Logits:\n",
            "tensor([-0.2134, -0.2290, -0.1337, -0.1363, -0.2271, -0.1353, -0.2341, -0.2032,\n",
            "        -0.1560, -0.2492], device='cuda:0') \n",
            "\n",
            "Prediction Probabilities\n",
            "tensor([0.4468, 0.4430, 0.4666, 0.4660, 0.4435, 0.4662, 0.4417, 0.4494, 0.4611,\n",
            "        0.4380], device='cuda:0') \n",
            "\n",
            "Prediction Labels\n",
            "tensor([0., 0., 0., 0., 0., 0., 0., 0., 0., 0.], device='cuda:0')\n"
          ]
        }
      ]
    },
    {
      "cell_type": "code",
      "source": [
        "# Calculation of the accuracy \n",
        "!pip -q install torchmetrics\n",
        "from torchmetrics import Accuracy"
      ],
      "metadata": {
        "id": "n1KlY6b5Z_Fh"
      },
      "execution_count": 19,
      "outputs": []
    },
    {
      "cell_type": "code",
      "source": [
        "# Implement the accuracy function from torchmetrics\n",
        "acc_fn = Accuracy(task='multiclass', num_classes=2).to(device)\n",
        "acc_fn"
      ],
      "metadata": {
        "colab": {
          "base_uri": "https://localhost:8080/"
        },
        "id": "U4h5GUQ_a27o",
        "outputId": "9bc9c74f-4626-4195-c007-d2baf64e4709"
      },
      "execution_count": 20,
      "outputs": [
        {
          "output_type": "execute_result",
          "data": {
            "text/plain": [
              "MulticlassAccuracy()"
            ]
          },
          "metadata": {},
          "execution_count": 20
        }
      ]
    },
    {
      "cell_type": "code",
      "source": [
        "## Build a model\n",
        "torch.manual_seed(RANDOM_SEED)\n",
        "torch.cuda.manual_seed(RANDOM_SEED)\n",
        "\n",
        "epochs = 10000\n",
        "\n",
        "X_train, y_train = X_train.to(device), y_train.to(device)\n",
        "X_test, y_test = X_test.to(device), y_test.to(device)"
      ],
      "metadata": {
        "id": "h4D90-Daa-HE"
      },
      "execution_count": 21,
      "outputs": []
    },
    {
      "cell_type": "code",
      "source": [
        "# Run the epoch loop\n",
        "\n",
        "for epoch in range(epochs):\n",
        "  model_0.train()\n",
        "\n",
        "  # Forward pass\n",
        "  y_logits = model_0(X_train).squeeze()\n",
        "  y_pred_probs = torch.sigmoid(y_logits)\n",
        "  y_pred_labels = torch.round(y_pred_probs)\n",
        "\n",
        "  # Loss function\n",
        "  loss = loss_fn(y_logits, y_train) #Note loss function has builtin sigmoid\n",
        "  acc = acc_fn(y_pred_labels, y_train.int())\n",
        "\n",
        "  # Zero gradients\n",
        "  optimizer.zero_grad()\n",
        "\n",
        "  # Back propagation\n",
        "  loss.backward()\n",
        "\n",
        "  # Gradient descent\n",
        "  optimizer.step()\n",
        "\n",
        "  #########################################\n",
        "  # Testing\n",
        "  model_0.eval()\n",
        "  with torch.inference_mode():\n",
        "    # Forward pass\n",
        "    test_logits = model_0(X_test).squeeze()\n",
        "    test_pred_labels = torch.round(torch.sigmoid(test_logits))\n",
        "\n",
        "    # Calculate the loss / accuracy\n",
        "    test_loss = loss_fn(test_logits, y_test)\n",
        "    test_acc = acc_fn(test_pred_labels, y_test.int())\n",
        "\n",
        "  # Print out results on the fly\n",
        "  if epoch % 100 == 0:\n",
        "    print(f\"Epoch: {epoch} | Loss: {loss:.5f} Acc: {acc:.2f} | Test loss: {test_loss:.5f} Test Acc: {test_acc:.2f}\")\n"
      ],
      "metadata": {
        "colab": {
          "base_uri": "https://localhost:8080/"
        },
        "id": "M0zaOa0JbefN",
        "outputId": "720096d8-0ead-4e50-8592-5dac5a85388b"
      },
      "execution_count": 22,
      "outputs": [
        {
          "output_type": "stream",
          "name": "stdout",
          "text": [
            "Epoch: 0 | Loss: 0.70821 Acc: 0.50 | Test loss: 0.70797 Test Acc: 0.50\n",
            "Epoch: 100 | Loss: 0.69893 Acc: 0.50 | Test loss: 0.69913 Test Acc: 0.50\n",
            "Epoch: 200 | Loss: 0.69100 Acc: 0.50 | Test loss: 0.69171 Test Acc: 0.50\n",
            "Epoch: 300 | Loss: 0.68282 Acc: 0.72 | Test loss: 0.68414 Test Acc: 0.71\n",
            "Epoch: 400 | Loss: 0.67291 Acc: 0.62 | Test loss: 0.67512 Test Acc: 0.57\n",
            "Epoch: 500 | Loss: 0.65989 Acc: 0.68 | Test loss: 0.66346 Test Acc: 0.63\n",
            "Epoch: 600 | Loss: 0.64273 Acc: 0.73 | Test loss: 0.64799 Test Acc: 0.71\n",
            "Epoch: 700 | Loss: 0.62052 Acc: 0.76 | Test loss: 0.62794 Test Acc: 0.71\n",
            "Epoch: 800 | Loss: 0.59352 Acc: 0.78 | Test loss: 0.60371 Test Acc: 0.73\n",
            "Epoch: 900 | Loss: 0.56291 Acc: 0.80 | Test loss: 0.57623 Test Acc: 0.75\n",
            "Epoch: 1000 | Loss: 0.53128 Acc: 0.80 | Test loss: 0.54745 Test Acc: 0.76\n",
            "Epoch: 1100 | Loss: 0.50078 Acc: 0.79 | Test loss: 0.51895 Test Acc: 0.77\n",
            "Epoch: 1200 | Loss: 0.47274 Acc: 0.80 | Test loss: 0.49180 Test Acc: 0.79\n",
            "Epoch: 1300 | Loss: 0.44703 Acc: 0.82 | Test loss: 0.46626 Test Acc: 0.79\n",
            "Epoch: 1400 | Loss: 0.42377 Acc: 0.82 | Test loss: 0.44279 Test Acc: 0.81\n",
            "Epoch: 1500 | Loss: 0.40254 Acc: 0.83 | Test loss: 0.42076 Test Acc: 0.82\n",
            "Epoch: 1600 | Loss: 0.38284 Acc: 0.83 | Test loss: 0.40006 Test Acc: 0.83\n",
            "Epoch: 1700 | Loss: 0.36437 Acc: 0.85 | Test loss: 0.38049 Test Acc: 0.84\n",
            "Epoch: 1800 | Loss: 0.34689 Acc: 0.85 | Test loss: 0.36177 Test Acc: 0.84\n",
            "Epoch: 1900 | Loss: 0.33043 Acc: 0.87 | Test loss: 0.34408 Test Acc: 0.86\n",
            "Epoch: 2000 | Loss: 0.31555 Acc: 0.87 | Test loss: 0.32767 Test Acc: 0.87\n",
            "Epoch: 2100 | Loss: 0.30210 Acc: 0.88 | Test loss: 0.31245 Test Acc: 0.89\n",
            "Epoch: 2200 | Loss: 0.28998 Acc: 0.88 | Test loss: 0.29850 Test Acc: 0.89\n",
            "Epoch: 2300 | Loss: 0.27890 Acc: 0.89 | Test loss: 0.28571 Test Acc: 0.89\n",
            "Epoch: 2400 | Loss: 0.26883 Acc: 0.89 | Test loss: 0.27391 Test Acc: 0.90\n",
            "Epoch: 2500 | Loss: 0.25970 Acc: 0.89 | Test loss: 0.26317 Test Acc: 0.90\n",
            "Epoch: 2600 | Loss: 0.25149 Acc: 0.90 | Test loss: 0.25369 Test Acc: 0.90\n",
            "Epoch: 2700 | Loss: 0.24409 Acc: 0.90 | Test loss: 0.24518 Test Acc: 0.92\n",
            "Epoch: 2800 | Loss: 0.23728 Acc: 0.90 | Test loss: 0.23742 Test Acc: 0.92\n",
            "Epoch: 2900 | Loss: 0.23096 Acc: 0.91 | Test loss: 0.23027 Test Acc: 0.92\n",
            "Epoch: 3000 | Loss: 0.22497 Acc: 0.91 | Test loss: 0.22357 Test Acc: 0.92\n",
            "Epoch: 3100 | Loss: 0.21924 Acc: 0.91 | Test loss: 0.21724 Test Acc: 0.93\n",
            "Epoch: 3200 | Loss: 0.21379 Acc: 0.92 | Test loss: 0.21122 Test Acc: 0.93\n",
            "Epoch: 3300 | Loss: 0.20851 Acc: 0.92 | Test loss: 0.20540 Test Acc: 0.93\n",
            "Epoch: 3400 | Loss: 0.20338 Acc: 0.92 | Test loss: 0.19979 Test Acc: 0.94\n",
            "Epoch: 3500 | Loss: 0.19837 Acc: 0.92 | Test loss: 0.19437 Test Acc: 0.94\n",
            "Epoch: 3600 | Loss: 0.19345 Acc: 0.92 | Test loss: 0.18911 Test Acc: 0.94\n",
            "Epoch: 3700 | Loss: 0.18857 Acc: 0.93 | Test loss: 0.18399 Test Acc: 0.94\n",
            "Epoch: 3800 | Loss: 0.18371 Acc: 0.93 | Test loss: 0.17891 Test Acc: 0.94\n",
            "Epoch: 3900 | Loss: 0.17888 Acc: 0.93 | Test loss: 0.17391 Test Acc: 0.94\n",
            "Epoch: 4000 | Loss: 0.17407 Acc: 0.94 | Test loss: 0.16894 Test Acc: 0.94\n",
            "Epoch: 4100 | Loss: 0.16929 Acc: 0.94 | Test loss: 0.16399 Test Acc: 0.94\n",
            "Epoch: 4200 | Loss: 0.16452 Acc: 0.94 | Test loss: 0.15907 Test Acc: 0.94\n",
            "Epoch: 4300 | Loss: 0.15975 Acc: 0.94 | Test loss: 0.15419 Test Acc: 0.94\n",
            "Epoch: 4400 | Loss: 0.15497 Acc: 0.94 | Test loss: 0.14937 Test Acc: 0.94\n",
            "Epoch: 4500 | Loss: 0.15020 Acc: 0.94 | Test loss: 0.14462 Test Acc: 0.94\n",
            "Epoch: 4600 | Loss: 0.14545 Acc: 0.94 | Test loss: 0.13987 Test Acc: 0.95\n",
            "Epoch: 4700 | Loss: 0.14072 Acc: 0.94 | Test loss: 0.13512 Test Acc: 0.95\n",
            "Epoch: 4800 | Loss: 0.13603 Acc: 0.95 | Test loss: 0.13011 Test Acc: 0.96\n",
            "Epoch: 4900 | Loss: 0.13101 Acc: 0.95 | Test loss: 0.12439 Test Acc: 0.97\n",
            "Epoch: 5000 | Loss: 0.12591 Acc: 0.95 | Test loss: 0.11862 Test Acc: 0.97\n",
            "Epoch: 5100 | Loss: 0.12037 Acc: 0.96 | Test loss: 0.11260 Test Acc: 0.98\n",
            "Epoch: 5200 | Loss: 0.11431 Acc: 0.96 | Test loss: 0.10613 Test Acc: 0.98\n",
            "Epoch: 5300 | Loss: 0.10736 Acc: 0.96 | Test loss: 0.09825 Test Acc: 0.98\n",
            "Epoch: 5400 | Loss: 0.10083 Acc: 0.97 | Test loss: 0.09096 Test Acc: 0.99\n",
            "Epoch: 5500 | Loss: 0.09452 Acc: 0.98 | Test loss: 0.08425 Test Acc: 0.99\n",
            "Epoch: 5600 | Loss: 0.08848 Acc: 0.98 | Test loss: 0.07821 Test Acc: 0.99\n",
            "Epoch: 5700 | Loss: 0.08300 Acc: 0.98 | Test loss: 0.07296 Test Acc: 0.99\n",
            "Epoch: 5800 | Loss: 0.07802 Acc: 0.98 | Test loss: 0.06827 Test Acc: 1.00\n",
            "Epoch: 5900 | Loss: 0.07343 Acc: 0.99 | Test loss: 0.06397 Test Acc: 1.00\n",
            "Epoch: 6000 | Loss: 0.06921 Acc: 0.99 | Test loss: 0.06008 Test Acc: 1.00\n",
            "Epoch: 6100 | Loss: 0.06534 Acc: 0.99 | Test loss: 0.05657 Test Acc: 1.00\n",
            "Epoch: 6200 | Loss: 0.06171 Acc: 0.99 | Test loss: 0.05329 Test Acc: 1.00\n",
            "Epoch: 6300 | Loss: 0.05832 Acc: 0.99 | Test loss: 0.05028 Test Acc: 1.00\n",
            "Epoch: 6400 | Loss: 0.05520 Acc: 0.99 | Test loss: 0.04753 Test Acc: 1.00\n",
            "Epoch: 6500 | Loss: 0.05233 Acc: 0.99 | Test loss: 0.04508 Test Acc: 1.00\n",
            "Epoch: 6600 | Loss: 0.04970 Acc: 0.99 | Test loss: 0.04275 Test Acc: 1.00\n",
            "Epoch: 6700 | Loss: 0.04730 Acc: 0.99 | Test loss: 0.04061 Test Acc: 1.00\n",
            "Epoch: 6800 | Loss: 0.04507 Acc: 0.99 | Test loss: 0.03866 Test Acc: 1.00\n",
            "Epoch: 6900 | Loss: 0.04302 Acc: 0.99 | Test loss: 0.03685 Test Acc: 1.00\n",
            "Epoch: 7000 | Loss: 0.04113 Acc: 0.99 | Test loss: 0.03519 Test Acc: 1.00\n",
            "Epoch: 7100 | Loss: 0.03939 Acc: 1.00 | Test loss: 0.03364 Test Acc: 1.00\n",
            "Epoch: 7200 | Loss: 0.03776 Acc: 1.00 | Test loss: 0.03221 Test Acc: 1.00\n",
            "Epoch: 7300 | Loss: 0.03625 Acc: 1.00 | Test loss: 0.03086 Test Acc: 1.00\n",
            "Epoch: 7400 | Loss: 0.03484 Acc: 1.00 | Test loss: 0.02961 Test Acc: 1.00\n",
            "Epoch: 7500 | Loss: 0.03353 Acc: 1.00 | Test loss: 0.02846 Test Acc: 1.00\n",
            "Epoch: 7600 | Loss: 0.03230 Acc: 1.00 | Test loss: 0.02735 Test Acc: 1.00\n",
            "Epoch: 7700 | Loss: 0.03116 Acc: 1.00 | Test loss: 0.02632 Test Acc: 1.00\n",
            "Epoch: 7800 | Loss: 0.03008 Acc: 1.00 | Test loss: 0.02537 Test Acc: 1.00\n",
            "Epoch: 7900 | Loss: 0.02907 Acc: 1.00 | Test loss: 0.02448 Test Acc: 1.00\n",
            "Epoch: 8000 | Loss: 0.02811 Acc: 1.00 | Test loss: 0.02364 Test Acc: 1.00\n",
            "Epoch: 8100 | Loss: 0.02722 Acc: 1.00 | Test loss: 0.02284 Test Acc: 1.00\n",
            "Epoch: 8200 | Loss: 0.02636 Acc: 1.00 | Test loss: 0.02209 Test Acc: 1.00\n",
            "Epoch: 8300 | Loss: 0.02556 Acc: 1.00 | Test loss: 0.02139 Test Acc: 1.00\n",
            "Epoch: 8400 | Loss: 0.02480 Acc: 1.00 | Test loss: 0.02072 Test Acc: 1.00\n",
            "Epoch: 8500 | Loss: 0.02408 Acc: 1.00 | Test loss: 0.02008 Test Acc: 1.00\n",
            "Epoch: 8600 | Loss: 0.02340 Acc: 1.00 | Test loss: 0.01950 Test Acc: 1.00\n",
            "Epoch: 8700 | Loss: 0.02275 Acc: 1.00 | Test loss: 0.01895 Test Acc: 1.00\n",
            "Epoch: 8800 | Loss: 0.02213 Acc: 1.00 | Test loss: 0.01843 Test Acc: 1.00\n",
            "Epoch: 8900 | Loss: 0.02155 Acc: 1.00 | Test loss: 0.01793 Test Acc: 1.00\n",
            "Epoch: 9000 | Loss: 0.02099 Acc: 1.00 | Test loss: 0.01745 Test Acc: 1.00\n",
            "Epoch: 9100 | Loss: 0.02046 Acc: 1.00 | Test loss: 0.01699 Test Acc: 1.00\n",
            "Epoch: 9200 | Loss: 0.01996 Acc: 1.00 | Test loss: 0.01656 Test Acc: 1.00\n",
            "Epoch: 9300 | Loss: 0.01947 Acc: 1.00 | Test loss: 0.01615 Test Acc: 1.00\n",
            "Epoch: 9400 | Loss: 0.01901 Acc: 1.00 | Test loss: 0.01574 Test Acc: 1.00\n",
            "Epoch: 9500 | Loss: 0.01857 Acc: 1.00 | Test loss: 0.01535 Test Acc: 1.00\n",
            "Epoch: 9600 | Loss: 0.01814 Acc: 1.00 | Test loss: 0.01498 Test Acc: 1.00\n",
            "Epoch: 9700 | Loss: 0.01774 Acc: 1.00 | Test loss: 0.01463 Test Acc: 1.00\n",
            "Epoch: 9800 | Loss: 0.01734 Acc: 1.00 | Test loss: 0.01429 Test Acc: 1.00\n",
            "Epoch: 9900 | Loss: 0.01697 Acc: 1.00 | Test loss: 0.01396 Test Acc: 1.00\n"
          ]
        }
      ]
    },
    {
      "cell_type": "code",
      "source": [],
      "metadata": {
        "id": "iXrD8mJqg7cI"
      },
      "execution_count": null,
      "outputs": []
    },
    {
      "cell_type": "code",
      "source": [
        "# Function to plot decision boundry \n",
        "# Plot the model predictions\n",
        "def plot_decision_boundary(model, X, y):\n",
        "  \n",
        "    # Put everything to CPU (works better with NumPy + Matplotlib)\n",
        "    model.to(\"cpu\")\n",
        "    X, y = X.to(\"cpu\"), y.to(\"cpu\")\n",
        "\n",
        "    # Source - https://madewithml.com/courses/foundations/neural-networks/ \n",
        "    # (with modifications)\n",
        "    x_min, x_max = X[:, 0].min() - 0.1, X[:, 0].max() + 0.1\n",
        "    y_min, y_max = X[:, 1].min() - 0.1, X[:, 1].max() + 0.1\n",
        "    xx, yy = np.meshgrid(np.linspace(x_min, x_max, 101), \n",
        "                         np.linspace(y_min, y_max, 101))\n",
        "\n",
        "    # Make features\n",
        "    X_to_pred_on = torch.from_numpy(np.column_stack((xx.ravel(), yy.ravel()))).float()\n",
        "\n",
        "    # Make predictions\n",
        "    model.eval()\n",
        "    with torch.inference_mode():\n",
        "        y_logits = model(X_to_pred_on)\n",
        "\n",
        "    # Test for multi-class or binary and adjust logits to prediction labels\n",
        "    if len(torch.unique(y)) > 2:\n",
        "        y_pred = torch.softmax(y_logits, dim=1).argmax(dim=1) # mutli-class\n",
        "    else: \n",
        "        y_pred = torch.round(torch.sigmoid(y_logits)) # binary\n",
        "    \n",
        "    # Reshape preds and plot\n",
        "    y_pred = y_pred.reshape(xx.shape).detach().numpy()\n",
        "    plt.contourf(xx, yy, y_pred, cmap=plt.cm.RdYlBu, alpha=0.7)\n",
        "    plt.scatter(X[:, 0], X[:, 1], c=y, s=40, cmap=plt.cm.RdYlBu)\n",
        "    plt.xlim(xx.min(), xx.max())\n",
        "    plt.ylim(yy.min(), yy.max())"
      ],
      "metadata": {
        "id": "8m-AJUHPeLA3"
      },
      "execution_count": 23,
      "outputs": []
    },
    {
      "cell_type": "code",
      "source": [
        "plt.figure(figsize=(12, 6))\n",
        "plt.subplot(1, 2, 1)\n",
        "plt.title(\"Train\")\n",
        "plot_decision_boundary(model_0, X_train, y_train)\n",
        "plt.subplot(1, 2, 2)\n",
        "plt.title(\"Test\")\n",
        "plot_decision_boundary(model_0, X_test, y_test)"
      ],
      "metadata": {
        "colab": {
          "base_uri": "https://localhost:8080/",
          "height": 351
        },
        "id": "IUb7ZicZhGPt",
        "outputId": "32504c17-b3e6-4932-8d51-7adf57c6d989"
      },
      "execution_count": 26,
      "outputs": [
        {
          "output_type": "display_data",
          "data": {
            "text/plain": [
              "<Figure size 864x432 with 2 Axes>"
            ],
            "image/png": "[encoded data removed]"
          },
          "metadata": {
            "needs_background": "light"
          }
        }
      ]
    }
  ]
}