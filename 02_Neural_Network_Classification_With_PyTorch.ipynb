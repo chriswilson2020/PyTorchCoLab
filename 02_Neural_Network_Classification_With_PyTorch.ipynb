{
  "nbformat": 4,
  "nbformat_minor": 0,
  "metadata": {
    "colab": {
      "provenance": [],
      "authorship_tag": "ABX9TyMpenYpCOWSOY3VH35O1iaF",
      "include_colab_link": true
    },
    "kernelspec": {
      "name": "python3",
      "display_name": "Python 3"
    },
    "language_info": {
      "name": "python"
    },
    "accelerator": "GPU",
    "gpuClass": "standard"
  },
  "cells": [
    {
      "cell_type": "markdown",
      "metadata": {
        "id": "view-in-github",
        "colab_type": "text"
      },
      "source": [
        "<a href=\"https://colab.research.google.com/github/chriswilson2020/PyTorchCoLab/blob/main/02_Neural_Network_Classification_With_PyTorch.ipynb\" target=\"_parent\"><img src=\"https://colab.research.google.com/assets/colab-badge.svg\" alt=\"Open In Colab\"/></a>"
      ]
    },
    {
      "cell_type": "markdown",
      "source": [
        "# 02. Neural Network classification with PyTorch\n",
        "\n",
        "Classification is a problem of predicting wheter something is on thing or another (there can be multiple things as the options).\n",
        "\n",
        "Book version of this notebook - https://www.learnpytorch.io/02_pytorch_classification/\n",
        "\n",
        "All other resources - https://github.com/mrdbourke/pytorch-deep-learning"
      ],
      "metadata": {
        "id": "QU1eMzDoTDt6"
      }
    },
    {
      "cell_type": "markdown",
      "source": [
        " ## 1. Make classification data and get it ready"
      ],
      "metadata": {
        "id": "K7dXSj7cYer-"
      }
    },
    {
      "cell_type": "code",
      "source": [
        "import sklearn"
      ],
      "metadata": {
        "id": "Cy89ttiKbV5l"
      },
      "execution_count": 1,
      "outputs": []
    },
    {
      "cell_type": "code",
      "source": [
        "from sklearn.datasets import make_circles\n",
        "\n",
        "# Make 1000 samples\n",
        "n_samples = 1000\n",
        "\n",
        "# Create circles\n",
        "X, y = make_circles(n_samples,\n",
        "                    noise=0.03,\n",
        "                    random_state=42) "
      ],
      "metadata": {
        "id": "IGxWJ4WIbXuL"
      },
      "execution_count": 2,
      "outputs": []
    },
    {
      "cell_type": "code",
      "source": [
        "len(X), len(y)"
      ],
      "metadata": {
        "colab": {
          "base_uri": "https://localhost:8080/"
        },
        "id": "i-_zEUQUbaYx",
        "outputId": "88e075ab-b6f2-44c2-d9a3-1b8c4f814cd7"
      },
      "execution_count": 3,
      "outputs": [
        {
          "output_type": "execute_result",
          "data": {
            "text/plain": [
              "(1000, 1000)"
            ]
          },
          "metadata": {},
          "execution_count": 3
        }
      ]
    },
    {
      "cell_type": "code",
      "source": [
        "print(f\"First 5 samples of X:\\n {X[:5]}\")\n",
        "print(f\"First 5 samples of y:\\n {y[:5]}\")"
      ],
      "metadata": {
        "colab": {
          "base_uri": "https://localhost:8080/"
        },
        "id": "-f0_brL5bzfV",
        "outputId": "8407a01d-deb3-48d4-bafb-11efc49dc1c4"
      },
      "execution_count": 4,
      "outputs": [
        {
          "output_type": "stream",
          "name": "stdout",
          "text": [
            "First 5 samples of X:\n",
            " [[ 0.75424625  0.23148074]\n",
            " [-0.75615888  0.15325888]\n",
            " [-0.81539193  0.17328203]\n",
            " [-0.39373073  0.69288277]\n",
            " [ 0.44220765 -0.89672343]]\n",
            "First 5 samples of y:\n",
            " [1 1 1 1 0]\n"
          ]
        }
      ]
    },
    {
      "cell_type": "code",
      "source": [
        "# Make DataFram of circle data\n",
        "import pandas as pd\n",
        "circles = pd.DataFrame({\"X1\": X[:,0],\n",
        "                        \"X2\": X[:,1],\n",
        "                        \"label\": y})\n",
        "circles.head(10)"
      ],
      "metadata": {
        "colab": {
          "base_uri": "https://localhost:8080/",
          "height": 363
        },
        "id": "KoH4wAnOb7C9",
        "outputId": "dbdd6c88-ad36-496d-a138-a55ddb208ccc"
      },
      "execution_count": 5,
      "outputs": [
        {
          "output_type": "execute_result",
          "data": {
            "text/plain": [
              "         X1        X2  label\n",
              "0  0.754246  0.231481      1\n",
              "1 -0.756159  0.153259      1\n",
              "2 -0.815392  0.173282      1\n",
              "3 -0.393731  0.692883      1\n",
              "4  0.442208 -0.896723      0\n",
              "5 -0.479646  0.676435      1\n",
              "6 -0.013648  0.803349      1\n",
              "7  0.771513  0.147760      1\n",
              "8 -0.169322 -0.793456      1\n",
              "9 -0.121486  1.021509      0"
            ],
            "text/html": [
              "\n",
              "  <div id=\"df-b63251c4-9613-45e0-a6b5-6eb31f17600e\">\n",
              "    <div class=\"colab-df-container\">\n",
              "      <div>\n",
              "<style scoped>\n",
              "    .dataframe tbody tr th:only-of-type {\n",
              "        vertical-align: middle;\n",
              "    }\n",
              "\n",
              "    .dataframe tbody tr th {\n",
              "        vertical-align: top;\n",
              "    }\n",
              "\n",
              "    .dataframe thead th {\n",
              "        text-align: right;\n",
              "    }\n",
              "</style>\n",
              "<table border=\"1\" class=\"dataframe\">\n",
              "  <thead>\n",
              "    <tr style=\"text-align: right;\">\n",
              "      <th></th>\n",
              "      <th>X1</th>\n",
              "      <th>X2</th>\n",
              "      <th>label</th>\n",
              "    </tr>\n",
              "  </thead>\n",
              "  <tbody>\n",
              "    <tr>\n",
              "      <th>0</th>\n",
              "      <td>0.754246</td>\n",
              "      <td>0.231481</td>\n",
              "      <td>1</td>\n",
              "    </tr>\n",
              "    <tr>\n",
              "      <th>1</th>\n",
              "      <td>-0.756159</td>\n",
              "      <td>0.153259</td>\n",
              "      <td>1</td>\n",
              "    </tr>\n",
              "    <tr>\n",
              "      <th>2</th>\n",
              "      <td>-0.815392</td>\n",
              "      <td>0.173282</td>\n",
              "      <td>1</td>\n",
              "    </tr>\n",
              "    <tr>\n",
              "      <th>3</th>\n",
              "      <td>-0.393731</td>\n",
              "      <td>0.692883</td>\n",
              "      <td>1</td>\n",
              "    </tr>\n",
              "    <tr>\n",
              "      <th>4</th>\n",
              "      <td>0.442208</td>\n",
              "      <td>-0.896723</td>\n",
              "      <td>0</td>\n",
              "    </tr>\n",
              "    <tr>\n",
              "      <th>5</th>\n",
              "      <td>-0.479646</td>\n",
              "      <td>0.676435</td>\n",
              "      <td>1</td>\n",
              "    </tr>\n",
              "    <tr>\n",
              "      <th>6</th>\n",
              "      <td>-0.013648</td>\n",
              "      <td>0.803349</td>\n",
              "      <td>1</td>\n",
              "    </tr>\n",
              "    <tr>\n",
              "      <th>7</th>\n",
              "      <td>0.771513</td>\n",
              "      <td>0.147760</td>\n",
              "      <td>1</td>\n",
              "    </tr>\n",
              "    <tr>\n",
              "      <th>8</th>\n",
              "      <td>-0.169322</td>\n",
              "      <td>-0.793456</td>\n",
              "      <td>1</td>\n",
              "    </tr>\n",
              "    <tr>\n",
              "      <th>9</th>\n",
              "      <td>-0.121486</td>\n",
              "      <td>1.021509</td>\n",
              "      <td>0</td>\n",
              "    </tr>\n",
              "  </tbody>\n",
              "</table>\n",
              "</div>\n",
              "      <button class=\"colab-df-convert\" onclick=\"convertToInteractive('df-b63251c4-9613-45e0-a6b5-6eb31f17600e')\"\n",
              "              title=\"Convert this dataframe to an interactive table.\"\n",
              "              style=\"display:none;\">\n",
              "        \n",
              "  <svg xmlns=\"http://www.w3.org/2000/svg\" height=\"24px\"viewBox=\"0 0 24 24\"\n",
              "       width=\"24px\">\n",
              "    <path d=\"M0 0h24v24H0V0z\" fill=\"none\"/>\n",
              "    <path d=\"M18.56 5.44l.94 2.06.94-2.06 2.06-.94-2.06-.94-.94-2.06-.94 2.06-2.06.94zm-11 1L8.5 8.5l.94-2.06 2.06-.94-2.06-.94L8.5 2.5l-.94 2.06-2.06.94zm10 10l.94 2.06.94-2.06 2.06-.94-2.06-.94-.94-2.06-.94 2.06-2.06.94z\"/><path d=\"M17.41 7.96l-1.37-1.37c-.4-.4-.92-.59-1.43-.59-.52 0-1.04.2-1.43.59L10.3 9.45l-7.72 7.72c-.78.78-.78 2.05 0 2.83L4 21.41c.39.39.9.59 1.41.59.51 0 1.02-.2 1.41-.59l7.78-7.78 2.81-2.81c.8-.78.8-2.07 0-2.86zM5.41 20L4 18.59l7.72-7.72 1.47 1.35L5.41 20z\"/>\n",
              "  </svg>\n",
              "      </button>\n",
              "      \n",
              "  <style>\n",
              "    .colab-df-container {\n",
              "      display:flex;\n",
              "      flex-wrap:wrap;\n",
              "      gap: 12px;\n",
              "    }\n",
              "\n",
              "    .colab-df-convert {\n",
              "      background-color: #E8F0FE;\n",
              "      border: none;\n",
              "      border-radius: 50%;\n",
              "      cursor: pointer;\n",
              "      display: none;\n",
              "      fill: #1967D2;\n",
              "      height: 32px;\n",
              "      padding: 0 0 0 0;\n",
              "      width: 32px;\n",
              "    }\n",
              "\n",
              "    .colab-df-convert:hover {\n",
              "      background-color: #E2EBFA;\n",
              "      box-shadow: 0px 1px 2px rgba(60, 64, 67, 0.3), 0px 1px 3px 1px rgba(60, 64, 67, 0.15);\n",
              "      fill: #174EA6;\n",
              "    }\n",
              "\n",
              "    [theme=dark] .colab-df-convert {\n",
              "      background-color: #3B4455;\n",
              "      fill: #D2E3FC;\n",
              "    }\n",
              "\n",
              "    [theme=dark] .colab-df-convert:hover {\n",
              "      background-color: #434B5C;\n",
              "      box-shadow: 0px 1px 3px 1px rgba(0, 0, 0, 0.15);\n",
              "      filter: drop-shadow(0px 1px 2px rgba(0, 0, 0, 0.3));\n",
              "      fill: #FFFFFF;\n",
              "    }\n",
              "  </style>\n",
              "\n",
              "      <script>\n",
              "        const buttonEl =\n",
              "          document.querySelector('#df-b63251c4-9613-45e0-a6b5-6eb31f17600e button.colab-df-convert');\n",
              "        buttonEl.style.display =\n",
              "          google.colab.kernel.accessAllowed ? 'block' : 'none';\n",
              "\n",
              "        async function convertToInteractive(key) {\n",
              "          const element = document.querySelector('#df-b63251c4-9613-45e0-a6b5-6eb31f17600e');\n",
              "          const dataTable =\n",
              "            await google.colab.kernel.invokeFunction('convertToInteractive',\n",
              "                                                     [key], {});\n",
              "          if (!dataTable) return;\n",
              "\n",
              "          const docLinkHtml = 'Like what you see? Visit the ' +\n",
              "            '<a target=\"_blank\" href=https://colab.research.google.com/notebooks/data_table.ipynb>data table notebook</a>'\n",
              "            + ' to learn more about interactive tables.';\n",
              "          element.innerHTML = '';\n",
              "          dataTable['output_type'] = 'display_data';\n",
              "          await google.colab.output.renderOutput(dataTable, element);\n",
              "          const docLink = document.createElement('div');\n",
              "          docLink.innerHTML = docLinkHtml;\n",
              "          element.appendChild(docLink);\n",
              "        }\n",
              "      </script>\n",
              "    </div>\n",
              "  </div>\n",
              "  "
            ]
          },
          "metadata": {},
          "execution_count": 5
        }
      ]
    },
    {
      "cell_type": "code",
      "source": [
        "# Visulaise, visualise, visualise\n",
        "import matplotlib.pyplot as plt\n",
        "\n",
        "plt.scatter(x=X[:,0],\n",
        "            y=X[:,1],\n",
        "            c=y,\n",
        "            cmap=plt.cm.RdYlBu);"
      ],
      "metadata": {
        "colab": {
          "base_uri": "https://localhost:8080/",
          "height": 265
        },
        "id": "MPt5YuaAdDIs",
        "outputId": "23d4b25f-2738-4a75-e30c-63a3f8948349"
      },
      "execution_count": 6,
      "outputs": [
        {
          "output_type": "display_data",
          "data": {
            "text/plain": [
              "<Figure size 432x288 with 1 Axes>"
            ],
            "image/png": "[encoded data removed]"
          },
          "metadata": {
            "needs_background": "light"
          }
        }
      ]
    },
    {
      "cell_type": "markdown",
      "source": [
        "Note: The data we're working with is often referred to as a toy dataset, a dataset that is small enough to experiment on but still sizeable enought to practice the fundamentals. \n",
        "\n",
        "Useful Resources for toy datasets - https://scikit-learn.org/stable/datasets/toy_dataset.html"
      ],
      "metadata": {
        "id": "AlrfI1Tgdd4k"
      }
    },
    {
      "cell_type": "markdown",
      "source": [
        "### 1.1 Check input an output shapes\n",
        "\n"
      ],
      "metadata": {
        "id": "THrf_c1kd7-a"
      }
    },
    {
      "cell_type": "code",
      "source": [
        "X.shape, y.shape"
      ],
      "metadata": {
        "colab": {
          "base_uri": "https://localhost:8080/"
        },
        "id": "XMS5XV6feeL6",
        "outputId": "5d2a9f2d-779b-403d-fa6e-32233f0f2927"
      },
      "execution_count": 7,
      "outputs": [
        {
          "output_type": "execute_result",
          "data": {
            "text/plain": [
              "((1000, 2), (1000,))"
            ]
          },
          "metadata": {},
          "execution_count": 7
        }
      ]
    },
    {
      "cell_type": "code",
      "source": [
        "X"
      ],
      "metadata": {
        "colab": {
          "base_uri": "https://localhost:8080/"
        },
        "id": "qrmVPGdQekQT",
        "outputId": "2cfbf857-272b-4107-ff91-3f837423cd4a"
      },
      "execution_count": 8,
      "outputs": [
        {
          "output_type": "execute_result",
          "data": {
            "text/plain": [
              "array([[ 0.75424625,  0.23148074],\n",
              "       [-0.75615888,  0.15325888],\n",
              "       [-0.81539193,  0.17328203],\n",
              "       ...,\n",
              "       [-0.13690036, -0.81001183],\n",
              "       [ 0.67036156, -0.76750154],\n",
              "       [ 0.28105665,  0.96382443]])"
            ]
          },
          "metadata": {},
          "execution_count": 8
        }
      ]
    },
    {
      "cell_type": "code",
      "source": [
        "# View the first example of features and labels\n",
        "X_sample = X[0]\n",
        "y_sample = y[0]\n",
        "\n",
        "print(f\"Values for one sample of X: {X_sample} and the same for y: {y_sample}\")\n",
        "print(f\"Shapes for one sample of X: {X_sample.shape} and the same for y: {y_sample.shape}\")"
      ],
      "metadata": {
        "colab": {
          "base_uri": "https://localhost:8080/"
        },
        "id": "jfGENTLRemCM",
        "outputId": "ad029c51-ec21-44a3-ea2b-c85e7fb937c4"
      },
      "execution_count": 9,
      "outputs": [
        {
          "output_type": "stream",
          "name": "stdout",
          "text": [
            "Values for one sample of X: [0.75424625 0.23148074] and the same for y: 1\n",
            "Shapes for one sample of X: (2,) and the same for y: ()\n"
          ]
        }
      ]
    },
    {
      "cell_type": "markdown",
      "source": [
        "### 1.2 Turn data into tensors and create train and test splits"
      ],
      "metadata": {
        "id": "sQkQbN5NfFpc"
      }
    },
    {
      "cell_type": "code",
      "source": [
        "# imports\n",
        "import torch\n",
        "torch.__version__"
      ],
      "metadata": {
        "colab": {
          "base_uri": "https://localhost:8080/",
          "height": 36
        },
        "id": "KL8AWbKbfZf0",
        "outputId": "703ec4c6-2274-4ae3-99b8-e1e5763b8b54"
      },
      "execution_count": 10,
      "outputs": [
        {
          "output_type": "execute_result",
          "data": {
            "text/plain": [
              "'1.12.1+cu113'"
            ],
            "application/vnd.google.colaboratory.intrinsic+json": {
              "type": "string"
            }
          },
          "metadata": {},
          "execution_count": 10
        }
      ]
    },
    {
      "cell_type": "code",
      "source": [],
      "metadata": {
        "id": "4-_vDobWgnWq"
      },
      "execution_count": 10,
      "outputs": []
    },
    {
      "cell_type": "code",
      "source": [
        "type(X)"
      ],
      "metadata": {
        "colab": {
          "base_uri": "https://localhost:8080/"
        },
        "id": "V4q4NM7-feP1",
        "outputId": "02a807d2-cc59-4fca-bf1a-28f967a41b2e"
      },
      "execution_count": 11,
      "outputs": [
        {
          "output_type": "execute_result",
          "data": {
            "text/plain": [
              "numpy.ndarray"
            ]
          },
          "metadata": {},
          "execution_count": 11
        }
      ]
    },
    {
      "cell_type": "code",
      "source": [
        "# Turn data into tensors\n",
        "X = torch.from_numpy(X).type(torch.float)\n",
        "y = torch.from_numpy(y).type(torch.float)\n",
        "\n",
        "X[:5], y[:5]"
      ],
      "metadata": {
        "colab": {
          "base_uri": "https://localhost:8080/"
        },
        "id": "TqXs4x7zfip6",
        "outputId": "6af5c970-0f5f-45c1-e4af-64c1e106c4cd"
      },
      "execution_count": 12,
      "outputs": [
        {
          "output_type": "execute_result",
          "data": {
            "text/plain": [
              "(tensor([[ 0.7542,  0.2315],\n",
              "         [-0.7562,  0.1533],\n",
              "         [-0.8154,  0.1733],\n",
              "         [-0.3937,  0.6929],\n",
              "         [ 0.4422, -0.8967]]), tensor([1., 1., 1., 1., 0.]))"
            ]
          },
          "metadata": {},
          "execution_count": 12
        }
      ]
    },
    {
      "cell_type": "code",
      "source": [
        "type(X), X.dtype, y.dtype"
      ],
      "metadata": {
        "colab": {
          "base_uri": "https://localhost:8080/"
        },
        "id": "9Qm0O25GfprF",
        "outputId": "44d80976-d28c-48c8-b631-a339f80b4668"
      },
      "execution_count": 13,
      "outputs": [
        {
          "output_type": "execute_result",
          "data": {
            "text/plain": [
              "(torch.Tensor, torch.float32, torch.float32)"
            ]
          },
          "metadata": {},
          "execution_count": 13
        }
      ]
    },
    {
      "cell_type": "code",
      "source": [
        "# Split data into training and test sets\n",
        "from sklearn.model_selection import train_test_split\n",
        "\n",
        "X_train, X_test, y_train, y_test = train_test_split(X,\n",
        "                                                    y,\n",
        "                                                    test_size=0.2, # 0.2 = 20% of data will be test & 80% will be train\n",
        "                                                    random_state=42)"
      ],
      "metadata": {
        "id": "dNZyT1L5gV3s"
      },
      "execution_count": 14,
      "outputs": []
    },
    {
      "cell_type": "code",
      "source": [
        "print(f\"The length of X_train: {len(X_train)} The length of X_test: {len(X_test)}\\nThe length of y_train: {len(y_train)} The length of y_test: {len(y_test)}\")"
      ],
      "metadata": {
        "colab": {
          "base_uri": "https://localhost:8080/"
        },
        "id": "AXDL1Pgxl38S",
        "outputId": "8cf4d0e7-fc2b-4857-a360-cfac545c7f3d"
      },
      "execution_count": 15,
      "outputs": [
        {
          "output_type": "stream",
          "name": "stdout",
          "text": [
            "The length of X_train: 800 The length of X_test: 200\n",
            "The length of y_train: 800 The length of y_test: 200\n"
          ]
        }
      ]
    },
    {
      "cell_type": "code",
      "source": [
        "n_samples"
      ],
      "metadata": {
        "colab": {
          "base_uri": "https://localhost:8080/"
        },
        "id": "pzWvVLdXmSsE",
        "outputId": "aa5f6349-b891-4baa-e000-a25f9af29fa0"
      },
      "execution_count": 16,
      "outputs": [
        {
          "output_type": "execute_result",
          "data": {
            "text/plain": [
              "1000"
            ]
          },
          "metadata": {},
          "execution_count": 16
        }
      ]
    },
    {
      "cell_type": "markdown",
      "source": [
        "## 2. Building a model\n",
        "\n",
        "Let's build a model to classify our bluw and red dots.\n",
        "\n",
        "To do so, we want to:\n",
        "\n",
        "1. Setup device agnostic code so our code will run on an accelerator (GPU) if there is one\n",
        "2. Construct a model (by subclassing `nn.Module`)\n",
        "3. Define the loss function and optimizer\n",
        "4. Create a training and test loop\n"
      ],
      "metadata": {
        "id": "HwNX0SWRma86"
      }
    },
    {
      "cell_type": "code",
      "source": [
        "# Import PyTorch and nn\n",
        "import torch\n",
        "from torch import nn\n",
        "\n",
        "# Make device agnostic code\n",
        "device = \"cuda\" if torch.cuda.is_available() else \"cpu\"\n",
        "device"
      ],
      "metadata": {
        "colab": {
          "base_uri": "https://localhost:8080/",
          "height": 36
        },
        "id": "_LupZpaPnRWD",
        "outputId": "27df88df-e11b-4492-d7ad-62ad3f1963fa"
      },
      "execution_count": 17,
      "outputs": [
        {
          "output_type": "execute_result",
          "data": {
            "text/plain": [
              "'cuda'"
            ],
            "application/vnd.google.colaboratory.intrinsic+json": {
              "type": "string"
            }
          },
          "metadata": {},
          "execution_count": 17
        }
      ]
    },
    {
      "cell_type": "code",
      "source": [
        "X_train"
      ],
      "metadata": {
        "colab": {
          "base_uri": "https://localhost:8080/"
        },
        "id": "1nY4E5xFnja_",
        "outputId": "2eae7a02-bd27-4162-f691-46c87f4a7bd2"
      },
      "execution_count": 18,
      "outputs": [
        {
          "output_type": "execute_result",
          "data": {
            "text/plain": [
              "tensor([[ 0.6579, -0.4651],\n",
              "        [ 0.6319, -0.7347],\n",
              "        [-1.0086, -0.1240],\n",
              "        ...,\n",
              "        [ 0.0157, -1.0300],\n",
              "        [ 1.0110,  0.1680],\n",
              "        [ 0.5578, -0.5709]])"
            ]
          },
          "metadata": {},
          "execution_count": 18
        }
      ]
    },
    {
      "cell_type": "markdown",
      "source": [
        "Now we've setup device agnostic code, let's create a model that:\n",
        "\n",
        "1. Subclasses `nn.module` (almost all models in PyTorch subclass `nn.Module`)\n",
        "2. Create 2 `nn.Linear()` layers that are capable of handling the shapes of our fata\n",
        "3. Define a `forward()` method that outlines the forward pass (or forward computation) of the model\n",
        "4. Instantiate an instance of our model class and send it to the target device"
      ],
      "metadata": {
        "id": "OYaAH7yYnx7j"
      }
    },
    {
      "cell_type": "code",
      "source": [
        "# 1. Construct a mdodel that subclasses nn.Module\n",
        "class CircleModelV0(nn.Module):\n",
        "  def __init__(self):\n",
        "    super().__init__()\n",
        "    # 2.0 Create 2 nn.Linear layers capable of handling the shapes of our data\n",
        "    self.layer_1 = nn.Linear(in_features=2, out_features=5) # takes in 2 features and upscales to 5 features\n",
        "    self.layer_2 = nn.Linear(in_features=2, out_features=1) # takes in 5 features from previous layer and outputs a single feature (same shape as y)\n",
        "\n",
        "  # 3. Define a forward() method that outlines the forward pass\n",
        "  def forward(self, x):\n",
        "    return self.layer_2(self.layer_1(x)) # x -> layer_1 -> layer_2 -> output\n",
        "\n",
        "# 4. Instantiate an instance of our model class and send it to the target device\n",
        "model_0 = CircleModelV0().to(device)\n",
        "model_0\n"
      ],
      "metadata": {
        "colab": {
          "base_uri": "https://localhost:8080/"
        },
        "id": "e98SkxYcooPU",
        "outputId": "5d2ff8fd-bd87-4b50-a8f2-84f84f77e5aa"
      },
      "execution_count": 19,
      "outputs": [
        {
          "output_type": "execute_result",
          "data": {
            "text/plain": [
              "CircleModelV0(\n",
              "  (layer_1): Linear(in_features=2, out_features=5, bias=True)\n",
              "  (layer_2): Linear(in_features=2, out_features=1, bias=True)\n",
              ")"
            ]
          },
          "metadata": {},
          "execution_count": 19
        }
      ]
    },
    {
      "cell_type": "code",
      "source": [
        "next(model_0.parameters()).device"
      ],
      "metadata": {
        "colab": {
          "base_uri": "https://localhost:8080/"
        },
        "id": "UvzkG8WKq3rl",
        "outputId": "1ca22647-c776-4f02-924f-bf7c2b317d77"
      },
      "execution_count": 20,
      "outputs": [
        {
          "output_type": "execute_result",
          "data": {
            "text/plain": [
              "device(type='cuda', index=0)"
            ]
          },
          "metadata": {},
          "execution_count": 20
        }
      ]
    },
    {
      "cell_type": "code",
      "source": [
        "# Let's replicate the model above using nn.Sequential()\n",
        "model_0 = nn.Sequential(\n",
        "    nn.Linear(in_features=2, out_features=5),\n",
        "    nn.Linear(in_features=5, out_features=1)\n",
        ").to(device)\n",
        "\n",
        "model_0"
      ],
      "metadata": {
        "colab": {
          "base_uri": "https://localhost:8080/"
        },
        "id": "8LwbizvErDSE",
        "outputId": "14b0af11-9a59-44cf-8505-78ef44f0cf7e"
      },
      "execution_count": 21,
      "outputs": [
        {
          "output_type": "execute_result",
          "data": {
            "text/plain": [
              "Sequential(\n",
              "  (0): Linear(in_features=2, out_features=5, bias=True)\n",
              "  (1): Linear(in_features=5, out_features=1, bias=True)\n",
              ")"
            ]
          },
          "metadata": {},
          "execution_count": 21
        }
      ]
    },
    {
      "cell_type": "code",
      "source": [
        "model_0.state_dict()"
      ],
      "metadata": {
        "colab": {
          "base_uri": "https://localhost:8080/"
        },
        "id": "igHzQCWywrlt",
        "outputId": "20022c0d-cd29-4f1e-9126-29c4a5a1d9a9"
      },
      "execution_count": 22,
      "outputs": [
        {
          "output_type": "execute_result",
          "data": {
            "text/plain": [
              "OrderedDict([('0.weight', tensor([[ 0.3044, -0.1669],\n",
              "                      [-0.6833, -0.3000],\n",
              "                      [-0.1653, -0.1421],\n",
              "                      [ 0.1493, -0.5823],\n",
              "                      [-0.3832, -0.2906]], device='cuda:0')),\n",
              "             ('0.bias',\n",
              "              tensor([-0.5942,  0.1083, -0.4756, -0.6102, -0.6620], device='cuda:0')),\n",
              "             ('1.weight',\n",
              "              tensor([[-0.0835,  0.2942,  0.4095, -0.3590, -0.1136]], device='cuda:0')),\n",
              "             ('1.bias', tensor([0.1898], device='cuda:0'))])"
            ]
          },
          "metadata": {},
          "execution_count": 22
        }
      ]
    },
    {
      "cell_type": "code",
      "source": [
        "# Make Predictions\n",
        "with torch.inference_mode():\n",
        "  untrained_preds = model_0(X_test.to(device))\n",
        "print(f\"Length of predictions: {len(untrained_preds)}, Shape of predictions: {untrained_preds.shape}\")\n",
        "print(f\"Length of test samples: {len(X_test)}, Shape: {X_test.shape}\")\n",
        "print(f\"\\nFirst 10 predictions:\\n{torch.round(untrained_preds[:10])}\")\n",
        "print(f\"\\nFirst 10 labels:\\n{y_test[:10]}\")"
      ],
      "metadata": {
        "colab": {
          "base_uri": "https://localhost:8080/"
        },
        "id": "CUq8vNxWxfDk",
        "outputId": "55780c95-fee7-477e-9ef9-eeb0eb4cd4be"
      },
      "execution_count": 23,
      "outputs": [
        {
          "output_type": "stream",
          "name": "stdout",
          "text": [
            "Length of predictions: 200, Shape of predictions: torch.Size([200, 1])\n",
            "Length of test samples: 200, Shape: torch.Size([200, 2])\n",
            "\n",
            "First 10 predictions:\n",
            "tensor([[1.],\n",
            "        [0.],\n",
            "        [1.],\n",
            "        [1.],\n",
            "        [0.],\n",
            "        [0.],\n",
            "        [0.],\n",
            "        [0.],\n",
            "        [1.],\n",
            "        [0.]], device='cuda:0')\n",
            "\n",
            "First 10 labels:\n",
            "tensor([1., 0., 1., 0., 1., 1., 0., 0., 1., 0.])\n"
          ]
        }
      ]
    },
    {
      "cell_type": "markdown",
      "source": [
        "### 2,1 Setup loss function and optimizer\n",
        "\n",
        "Which loss function or optimizer should you use?\n",
        "\n",
        "Again... this is problem specific.\n",
        "\n",
        "For example for regression you might want MAE or MSE (mean absolute error or mean squared error).\n",
        "For classification you might want binary cross entropy or categorical cross entropy (cross entropy).\n",
        "\n",
        "As a reminder, the loss function measures how wrong your predictions are.\n",
        "\n",
        "And for optimizers, two of the most common and useful are SGD and Adam although PyTorch has many more.\n",
        "\n",
        "* For some common choices of loss functions and optimizers - https://www.learnpytorch.io/02_pytorch_classification/#21-setup-loss-function-and-optimizer\n",
        "\n",
        "* For the loss function we're going to use `torch.nn.BECWithLogitsLoss()`, for more on what binary cross entropy (BCE) is, check out this article - https://towardsdatascience.com/understanding-binary-cross-entropy-log-loss-a-visual-explanation-a3ac6025181a\n",
        "\n",
        "* For a definition on what a logit is in deep learning - https://stackoverflow.com/a/52111173/7900723\n",
        "\n",
        "*For different optimizers see `torch.optim`\n"
      ],
      "metadata": {
        "id": "a8ffTyPJyAy3"
      }
    },
    {
      "cell_type": "code",
      "source": [
        "# Setup the loss function\n",
        "#loss_fn = nn.BCELoss() # BCELoss = requires inputs to have gone through the sigmoid activation function prior to input\n",
        "\n",
        "loss_fn = nn.BCEWithLogitsLoss() #BCEWithLogitsLoss = sigmoid activation function built in\n",
        "\n",
        "optimizer =  torch.optim.SGD(params=model_0.parameters(),\n",
        "                             lr=0.1)"
      ],
      "metadata": {
        "id": "qGPGgVVJ0JcD"
      },
      "execution_count": 24,
      "outputs": []
    },
    {
      "cell_type": "code",
      "source": [
        "# Calculate accuracy - out of 100 examples, what percentage does our model get right?\n",
        "\n",
        "def accuracy_fn(y_true, y_pred):\n",
        "   correct = torch.eq(y_true, y_pred).sum().item() # torch.eq() calculates where two tensors are equal\n",
        "   acc = (correct / len(y_pred)) * 100 \n",
        "   return acc"
      ],
      "metadata": {
        "id": "d6rvgPSM2WTO"
      },
      "execution_count": 25,
      "outputs": []
    },
    {
      "cell_type": "markdown",
      "source": [
        "## 3. Train model\n",
        "\n",
        "To train our model, we're going to need to build a training loop:\n",
        "\n",
        "1. Forward pass\n",
        "2. Calculate the loss\n",
        "3. Optimizer zero grad\n",
        "4. Loss backward (backpropagation)\n",
        "5. Optimizer step (gradient descent)"
      ],
      "metadata": {
        "id": "vD3c-FDc3TPE"
      }
    },
    {
      "cell_type": "markdown",
      "source": [
        "### 3.1 Going from raw logits -> prediction probabilities -> prediction labels\n",
        "\n",
        "Our model outputs are going to be raw **logits**\n",
        "\n",
        "We can convert these **logits** into prediction probabilities by passing them to some kind of activation function (e.g. sigmoid for binary classification and softmax for multiclass classification). \n",
        "\n",
        "Then we can convert our models prediction probabilities by **prediction labels** by either rounding them or taking the `argmax()`"
      ],
      "metadata": {
        "id": "MhXvbczR3UrU"
      }
    },
    {
      "cell_type": "code",
      "source": [
        "# View the first 5 outputs of the forward pass on the test data\n",
        "model_0.eval()\n",
        "with torch.inference_mode():\n",
        "  y_logits = model_0(X_test.to(device))[:5]\n",
        "y_logits"
      ],
      "metadata": {
        "colab": {
          "base_uri": "https://localhost:8080/"
        },
        "id": "yBjsyxgLT70D",
        "outputId": "cdbf1a06-0338-4a3a-fd02-f1253dfff5cb"
      },
      "execution_count": 26,
      "outputs": [
        {
          "output_type": "execute_result",
          "data": {
            "text/plain": [
              "tensor([[0.5598],\n",
              "        [0.4713],\n",
              "        [0.5501],\n",
              "        [0.5635],\n",
              "        [0.1669]], device='cuda:0')"
            ]
          },
          "metadata": {},
          "execution_count": 26
        }
      ]
    },
    {
      "cell_type": "code",
      "source": [
        "y_test[:5]"
      ],
      "metadata": {
        "colab": {
          "base_uri": "https://localhost:8080/"
        },
        "id": "zuA8svP_Vc0G",
        "outputId": "eac6fbe5-e252-47e0-c2ac-83b330b81b05"
      },
      "execution_count": 27,
      "outputs": [
        {
          "output_type": "execute_result",
          "data": {
            "text/plain": [
              "tensor([1., 0., 1., 0., 1.])"
            ]
          },
          "metadata": {},
          "execution_count": 27
        }
      ]
    },
    {
      "cell_type": "code",
      "source": [
        "# Use the sigmoid activation function on our model logits\n",
        "y_pred_probs = torch.sigmoid(y_logits)\n",
        "y_pred_probs"
      ],
      "metadata": {
        "colab": {
          "base_uri": "https://localhost:8080/"
        },
        "id": "8XMmFn-wWIIV",
        "outputId": "02361bb7-6d6d-42a8-8eae-c29fd635ec4f"
      },
      "execution_count": 28,
      "outputs": [
        {
          "output_type": "execute_result",
          "data": {
            "text/plain": [
              "tensor([[0.6364],\n",
              "        [0.6157],\n",
              "        [0.6342],\n",
              "        [0.6373],\n",
              "        [0.5416]], device='cuda:0')"
            ]
          },
          "metadata": {},
          "execution_count": 28
        }
      ]
    },
    {
      "cell_type": "markdown",
      "source": [
        "For our prediction probability values, we need to perform a range-style rounding on them:\n",
        "* `y_pred_probs` >= 0.5, `y=1` (class 1)\n",
        "* `y_pred_probs` < 0.5 `y=0` (class 0)\n"
      ],
      "metadata": {
        "id": "93yWgaaoWiuT"
      }
    },
    {
      "cell_type": "code",
      "source": [
        "# Find the predicted labels\n",
        "y_preds = torch.round(y_pred_probs)\n",
        "\n",
        "# In full (logits -> pred probs -> pred labels)\n",
        "y_pred_labels = torch.round(torch.sigmoid(model_0(X_test.to(device))[:5]))\n",
        "\n",
        "# Check for equality\n",
        "print(torch.eq(y_preds.squeeze(), y_pred_labels.squeeze()))\n",
        "\n",
        "# Get rid of extra dimension\n",
        "y_preds.squeeze()"
      ],
      "metadata": {
        "colab": {
          "base_uri": "https://localhost:8080/"
        },
        "id": "64o5yvAaWWZO",
        "outputId": "8172a389-c6ce-4c3c-ccea-65295308d429"
      },
      "execution_count": 29,
      "outputs": [
        {
          "output_type": "stream",
          "name": "stdout",
          "text": [
            "tensor([True, True, True, True, True], device='cuda:0')\n"
          ]
        },
        {
          "output_type": "execute_result",
          "data": {
            "text/plain": [
              "tensor([1., 1., 1., 1., 1.], device='cuda:0')"
            ]
          },
          "metadata": {},
          "execution_count": 29
        }
      ]
    },
    {
      "cell_type": "markdown",
      "source": [
        "## 3.2 Building a training and testing loop"
      ],
      "metadata": {
        "id": "wAxQHRY2Wge4"
      }
    },
    {
      "cell_type": "code",
      "source": [
        "torch.manual_seed(42)\n",
        "torch.cuda.manual_seed(42)\n",
        "\n",
        "# Set the number of epochs\n",
        "epochs = 1000\n",
        "\n",
        "# Put data to target device\n",
        "X_train, y_train = X_train.to(device), y_train.to(device)\n",
        "X_test, y_test = X_test.to(device), y_test.to(device)\n",
        "\n",
        "# Build training and evaluation loop\n",
        "\n",
        "for epoch in range(epochs):\n",
        "  ### Training\n",
        "  model_0.train()\n",
        "\n",
        "  # 1. Forward pass\n",
        "  y_logits = model_0(X_train).squeeze()\n",
        "  y_pred = torch.round(torch.sigmoid(y_logits)) # turn logits -> pred probs -pred labels\n",
        "\n",
        "  # 2. Calculate loss/accuracy\n",
        "  loss = loss_fn(y_logits, # nn.BCEWithLongitsLoss expects raw logits as input\n",
        "                 y_train)\n",
        "  \n",
        "  acc = accuracy_fn(y_true=y_train,\n",
        "                    y_pred=y_pred)\n",
        "  \n",
        "  # 3. Optimizer zero grad\n",
        "  optimizer.zero_grad()\n",
        "\n",
        "  # 4. Loss backward (backpropagation)\n",
        "  loss.backward()\n",
        "\n",
        "  # 5. Optimizer step (gradient descent)\n",
        "  optimizer.step()\n",
        "\n",
        "   ### Testing\n",
        "  model_0.eval()\n",
        "  with torch.inference_mode():\n",
        "     # 1. Forward pass\n",
        "     test_logits = model_0(X_test).squeeze()\n",
        "     test_pred = torch.round(torch.sigmoid(test_logits))\n",
        "\n",
        "     # 2. Calculate test loss/acc\n",
        "     test_loss = loss_fn(test_logits,\n",
        "                         y_test)\n",
        "     test_acc = accuracy_fn(y_true=y_test,\n",
        "                            y_pred=test_pred)\n",
        "     \n",
        "     # Print out what's happening\n",
        "     if epoch % 10 == 0:\n",
        "       print(f\"Epoch: {epoch} | Loss: {loss:.5f}, | Acc: {acc:.2f}% | Test loss: {test_loss:.5f}, Test_acc: {test_acc:.2f}%\")\n"
      ],
      "metadata": {
        "colab": {
          "base_uri": "https://localhost:8080/"
        },
        "id": "5NRBSvpraE44",
        "outputId": "a29ec9d2-59ce-4f9c-e108-0243e58ebd27"
      },
      "execution_count": 30,
      "outputs": [
        {
          "output_type": "stream",
          "name": "stdout",
          "text": [
            "Epoch: 0 | Loss: 0.71549, | Acc: 50.00% | Test loss: 0.71210, Test_acc: 50.00%\n",
            "Epoch: 10 | Loss: 0.70146, | Acc: 53.50% | Test loss: 0.69902, Test_acc: 54.00%\n",
            "Epoch: 20 | Loss: 0.69751, | Acc: 50.62% | Test loss: 0.69545, Test_acc: 56.50%\n",
            "Epoch: 30 | Loss: 0.69607, | Acc: 49.88% | Test loss: 0.69435, Test_acc: 53.00%\n",
            "Epoch: 40 | Loss: 0.69534, | Acc: 50.38% | Test loss: 0.69397, Test_acc: 51.50%\n",
            "Epoch: 50 | Loss: 0.69485, | Acc: 50.50% | Test loss: 0.69383, Test_acc: 47.50%\n",
            "Epoch: 60 | Loss: 0.69449, | Acc: 50.38% | Test loss: 0.69380, Test_acc: 50.00%\n",
            "Epoch: 70 | Loss: 0.69420, | Acc: 50.25% | Test loss: 0.69381, Test_acc: 50.50%\n",
            "Epoch: 80 | Loss: 0.69398, | Acc: 49.88% | Test loss: 0.69385, Test_acc: 51.50%\n",
            "Epoch: 90 | Loss: 0.69379, | Acc: 49.75% | Test loss: 0.69391, Test_acc: 51.50%\n",
            "Epoch: 100 | Loss: 0.69365, | Acc: 49.38% | Test loss: 0.69398, Test_acc: 54.00%\n",
            "Epoch: 110 | Loss: 0.69353, | Acc: 49.12% | Test loss: 0.69405, Test_acc: 52.00%\n",
            "Epoch: 120 | Loss: 0.69343, | Acc: 49.50% | Test loss: 0.69412, Test_acc: 51.50%\n",
            "Epoch: 130 | Loss: 0.69335, | Acc: 49.00% | Test loss: 0.69419, Test_acc: 51.00%\n",
            "Epoch: 140 | Loss: 0.69329, | Acc: 50.00% | Test loss: 0.69425, Test_acc: 49.50%\n",
            "Epoch: 150 | Loss: 0.69324, | Acc: 50.25% | Test loss: 0.69431, Test_acc: 51.00%\n",
            "Epoch: 160 | Loss: 0.69319, | Acc: 50.12% | Test loss: 0.69437, Test_acc: 51.50%\n",
            "Epoch: 170 | Loss: 0.69316, | Acc: 50.50% | Test loss: 0.69442, Test_acc: 49.00%\n",
            "Epoch: 180 | Loss: 0.69313, | Acc: 50.38% | Test loss: 0.69447, Test_acc: 49.00%\n",
            "Epoch: 190 | Loss: 0.69311, | Acc: 50.50% | Test loss: 0.69451, Test_acc: 48.00%\n",
            "Epoch: 200 | Loss: 0.69309, | Acc: 50.75% | Test loss: 0.69455, Test_acc: 47.50%\n",
            "Epoch: 210 | Loss: 0.69307, | Acc: 50.38% | Test loss: 0.69458, Test_acc: 49.00%\n",
            "Epoch: 220 | Loss: 0.69306, | Acc: 50.50% | Test loss: 0.69461, Test_acc: 49.00%\n",
            "Epoch: 230 | Loss: 0.69304, | Acc: 50.38% | Test loss: 0.69464, Test_acc: 47.00%\n",
            "Epoch: 240 | Loss: 0.69304, | Acc: 51.00% | Test loss: 0.69466, Test_acc: 47.00%\n",
            "Epoch: 250 | Loss: 0.69303, | Acc: 51.00% | Test loss: 0.69468, Test_acc: 46.50%\n",
            "Epoch: 260 | Loss: 0.69302, | Acc: 50.88% | Test loss: 0.69470, Test_acc: 45.50%\n",
            "Epoch: 270 | Loss: 0.69301, | Acc: 50.62% | Test loss: 0.69471, Test_acc: 46.00%\n",
            "Epoch: 280 | Loss: 0.69301, | Acc: 50.88% | Test loss: 0.69473, Test_acc: 46.50%\n",
            "Epoch: 290 | Loss: 0.69301, | Acc: 50.62% | Test loss: 0.69474, Test_acc: 46.50%\n",
            "Epoch: 300 | Loss: 0.69300, | Acc: 50.75% | Test loss: 0.69475, Test_acc: 46.00%\n",
            "Epoch: 310 | Loss: 0.69300, | Acc: 50.38% | Test loss: 0.69475, Test_acc: 46.00%\n",
            "Epoch: 320 | Loss: 0.69300, | Acc: 50.62% | Test loss: 0.69476, Test_acc: 47.00%\n",
            "Epoch: 330 | Loss: 0.69299, | Acc: 50.75% | Test loss: 0.69476, Test_acc: 47.50%\n",
            "Epoch: 340 | Loss: 0.69299, | Acc: 51.25% | Test loss: 0.69477, Test_acc: 48.00%\n",
            "Epoch: 350 | Loss: 0.69299, | Acc: 50.88% | Test loss: 0.69477, Test_acc: 47.50%\n",
            "Epoch: 360 | Loss: 0.69299, | Acc: 51.00% | Test loss: 0.69477, Test_acc: 47.00%\n",
            "Epoch: 370 | Loss: 0.69299, | Acc: 50.88% | Test loss: 0.69477, Test_acc: 47.00%\n",
            "Epoch: 380 | Loss: 0.69299, | Acc: 50.75% | Test loss: 0.69477, Test_acc: 46.50%\n",
            "Epoch: 390 | Loss: 0.69299, | Acc: 50.75% | Test loss: 0.69477, Test_acc: 47.00%\n",
            "Epoch: 400 | Loss: 0.69299, | Acc: 51.12% | Test loss: 0.69477, Test_acc: 47.00%\n",
            "Epoch: 410 | Loss: 0.69298, | Acc: 51.00% | Test loss: 0.69477, Test_acc: 47.00%\n",
            "Epoch: 420 | Loss: 0.69298, | Acc: 51.25% | Test loss: 0.69477, Test_acc: 47.00%\n",
            "Epoch: 430 | Loss: 0.69298, | Acc: 51.62% | Test loss: 0.69477, Test_acc: 47.00%\n",
            "Epoch: 440 | Loss: 0.69298, | Acc: 51.50% | Test loss: 0.69476, Test_acc: 46.50%\n",
            "Epoch: 450 | Loss: 0.69298, | Acc: 51.25% | Test loss: 0.69476, Test_acc: 46.50%\n",
            "Epoch: 460 | Loss: 0.69298, | Acc: 51.00% | Test loss: 0.69476, Test_acc: 46.50%\n",
            "Epoch: 470 | Loss: 0.69298, | Acc: 51.12% | Test loss: 0.69476, Test_acc: 46.50%\n",
            "Epoch: 480 | Loss: 0.69298, | Acc: 51.12% | Test loss: 0.69475, Test_acc: 46.50%\n",
            "Epoch: 490 | Loss: 0.69298, | Acc: 50.88% | Test loss: 0.69475, Test_acc: 46.50%\n",
            "Epoch: 500 | Loss: 0.69298, | Acc: 50.88% | Test loss: 0.69475, Test_acc: 46.50%\n",
            "Epoch: 510 | Loss: 0.69298, | Acc: 51.12% | Test loss: 0.69475, Test_acc: 46.00%\n",
            "Epoch: 520 | Loss: 0.69298, | Acc: 51.12% | Test loss: 0.69474, Test_acc: 46.00%\n",
            "Epoch: 530 | Loss: 0.69298, | Acc: 51.00% | Test loss: 0.69474, Test_acc: 46.00%\n",
            "Epoch: 540 | Loss: 0.69298, | Acc: 51.00% | Test loss: 0.69474, Test_acc: 46.00%\n",
            "Epoch: 550 | Loss: 0.69298, | Acc: 51.00% | Test loss: 0.69474, Test_acc: 46.00%\n",
            "Epoch: 560 | Loss: 0.69298, | Acc: 51.12% | Test loss: 0.69473, Test_acc: 46.00%\n",
            "Epoch: 570 | Loss: 0.69298, | Acc: 51.25% | Test loss: 0.69473, Test_acc: 46.00%\n",
            "Epoch: 580 | Loss: 0.69298, | Acc: 51.25% | Test loss: 0.69473, Test_acc: 46.00%\n",
            "Epoch: 590 | Loss: 0.69298, | Acc: 51.38% | Test loss: 0.69473, Test_acc: 46.00%\n",
            "Epoch: 600 | Loss: 0.69298, | Acc: 51.38% | Test loss: 0.69473, Test_acc: 46.00%\n",
            "Epoch: 610 | Loss: 0.69298, | Acc: 51.50% | Test loss: 0.69472, Test_acc: 46.00%\n",
            "Epoch: 620 | Loss: 0.69298, | Acc: 51.50% | Test loss: 0.69472, Test_acc: 46.00%\n",
            "Epoch: 630 | Loss: 0.69298, | Acc: 51.62% | Test loss: 0.69472, Test_acc: 46.00%\n",
            "Epoch: 640 | Loss: 0.69298, | Acc: 51.50% | Test loss: 0.69472, Test_acc: 46.00%\n",
            "Epoch: 650 | Loss: 0.69298, | Acc: 51.50% | Test loss: 0.69472, Test_acc: 46.00%\n",
            "Epoch: 660 | Loss: 0.69298, | Acc: 51.62% | Test loss: 0.69471, Test_acc: 46.00%\n",
            "Epoch: 670 | Loss: 0.69298, | Acc: 51.50% | Test loss: 0.69471, Test_acc: 46.00%\n",
            "Epoch: 680 | Loss: 0.69298, | Acc: 51.38% | Test loss: 0.69471, Test_acc: 46.00%\n",
            "Epoch: 690 | Loss: 0.69298, | Acc: 51.38% | Test loss: 0.69471, Test_acc: 46.00%\n",
            "Epoch: 700 | Loss: 0.69298, | Acc: 51.38% | Test loss: 0.69471, Test_acc: 45.50%\n",
            "Epoch: 710 | Loss: 0.69298, | Acc: 51.38% | Test loss: 0.69471, Test_acc: 45.00%\n",
            "Epoch: 720 | Loss: 0.69298, | Acc: 51.38% | Test loss: 0.69470, Test_acc: 45.00%\n",
            "Epoch: 730 | Loss: 0.69298, | Acc: 51.50% | Test loss: 0.69470, Test_acc: 44.50%\n",
            "Epoch: 740 | Loss: 0.69298, | Acc: 51.50% | Test loss: 0.69470, Test_acc: 44.50%\n",
            "Epoch: 750 | Loss: 0.69298, | Acc: 51.50% | Test loss: 0.69470, Test_acc: 44.50%\n",
            "Epoch: 760 | Loss: 0.69298, | Acc: 51.50% | Test loss: 0.69470, Test_acc: 44.50%\n",
            "Epoch: 770 | Loss: 0.69298, | Acc: 51.50% | Test loss: 0.69470, Test_acc: 44.50%\n",
            "Epoch: 780 | Loss: 0.69298, | Acc: 51.50% | Test loss: 0.69470, Test_acc: 44.50%\n",
            "Epoch: 790 | Loss: 0.69298, | Acc: 51.50% | Test loss: 0.69470, Test_acc: 44.50%\n",
            "Epoch: 800 | Loss: 0.69298, | Acc: 51.50% | Test loss: 0.69470, Test_acc: 45.00%\n",
            "Epoch: 810 | Loss: 0.69298, | Acc: 51.50% | Test loss: 0.69470, Test_acc: 45.00%\n",
            "Epoch: 820 | Loss: 0.69298, | Acc: 51.50% | Test loss: 0.69469, Test_acc: 45.00%\n",
            "Epoch: 830 | Loss: 0.69298, | Acc: 51.62% | Test loss: 0.69469, Test_acc: 45.00%\n",
            "Epoch: 840 | Loss: 0.69298, | Acc: 51.38% | Test loss: 0.69469, Test_acc: 45.00%\n",
            "Epoch: 850 | Loss: 0.69298, | Acc: 51.38% | Test loss: 0.69469, Test_acc: 45.00%\n",
            "Epoch: 860 | Loss: 0.69298, | Acc: 51.38% | Test loss: 0.69469, Test_acc: 45.00%\n",
            "Epoch: 870 | Loss: 0.69298, | Acc: 51.38% | Test loss: 0.69469, Test_acc: 45.00%\n",
            "Epoch: 880 | Loss: 0.69298, | Acc: 51.38% | Test loss: 0.69469, Test_acc: 45.00%\n",
            "Epoch: 890 | Loss: 0.69298, | Acc: 51.38% | Test loss: 0.69469, Test_acc: 45.00%\n",
            "Epoch: 900 | Loss: 0.69298, | Acc: 51.38% | Test loss: 0.69469, Test_acc: 45.00%\n",
            "Epoch: 910 | Loss: 0.69298, | Acc: 51.38% | Test loss: 0.69469, Test_acc: 45.00%\n",
            "Epoch: 920 | Loss: 0.69298, | Acc: 51.38% | Test loss: 0.69469, Test_acc: 45.00%\n",
            "Epoch: 930 | Loss: 0.69298, | Acc: 51.38% | Test loss: 0.69469, Test_acc: 45.00%\n",
            "Epoch: 940 | Loss: 0.69298, | Acc: 51.25% | Test loss: 0.69469, Test_acc: 45.00%\n",
            "Epoch: 950 | Loss: 0.69298, | Acc: 51.25% | Test loss: 0.69469, Test_acc: 45.00%\n",
            "Epoch: 960 | Loss: 0.69298, | Acc: 51.25% | Test loss: 0.69469, Test_acc: 45.00%\n",
            "Epoch: 970 | Loss: 0.69298, | Acc: 51.25% | Test loss: 0.69469, Test_acc: 45.50%\n",
            "Epoch: 980 | Loss: 0.69298, | Acc: 51.12% | Test loss: 0.69469, Test_acc: 45.50%\n",
            "Epoch: 990 | Loss: 0.69298, | Acc: 51.12% | Test loss: 0.69469, Test_acc: 45.50%\n"
          ]
        }
      ]
    },
    {
      "cell_type": "markdown",
      "source": [
        "## 4. Make predictions and evaluate the model\n",
        "\n",
        "From the metrics it looks like our model isn't leaarning anything...\n",
        "\n",
        "So to inspect it let's make some preditions and make it visual\n",
        "\n",
        "To do so, we're going to import a function called `plot_decision_boundary()`"
      ],
      "metadata": {
        "id": "JsXY-bxieVRY"
      }
    },
    {
      "cell_type": "code",
      "source": [
        "import requests\n",
        "from pathlib import Path\n",
        "\n",
        "#Download helper functions from Learn PyTorch repo (if it's already downloaded)\n",
        "if Path(\"helper_functions.py\").is_file():\n",
        "  print(\"helper_functions.py already exists, skipping download\")\n",
        "else:\n",
        "  print(\"Download helper_functions.py\")\n",
        "  request = requests.get(\"https://raw.githubusercontent.com/chriswilson2020/PyTorchCoLab/main/helper_functions.py\")\n",
        "  with open(\"helper_functions.py\", \"wb\") as f:\n",
        "    f.write(request.content)\n",
        "  \n",
        "from helper_functions import plot_predictions, plot_decision_boundary"
      ],
      "metadata": {
        "colab": {
          "base_uri": "https://localhost:8080/"
        },
        "id": "rb9pL-UO2Tvx",
        "outputId": "5a82033a-8e43-409a-d961-4ce9aedc89f4"
      },
      "execution_count": 31,
      "outputs": [
        {
          "output_type": "stream",
          "name": "stdout",
          "text": [
            "helper_functions.py already exists, skipping download\n"
          ]
        }
      ]
    },
    {
      "cell_type": "code",
      "source": [
        "# Plot decision bondary of the model\n",
        "plt.figure(figsize=(12,6))\n",
        "plt.subplot(1,2,1)\n",
        "plt.title(\"Train\")\n",
        "plot_decision_boundary(model_0, X_train, y_train)\n",
        "plt.subplot(1,2,2)\n",
        "plt.title(\"Test\")\n",
        "plot_decision_boundary(model_0, X_test, y_test)"
      ],
      "metadata": {
        "colab": {
          "base_uri": "https://localhost:8080/",
          "height": 354
        },
        "id": "8Buj9b692cIk",
        "outputId": "c5d63be8-0e61-41c9-8344-cc1377710a0b"
      },
      "execution_count": 32,
      "outputs": [
        {
          "output_type": "display_data",
          "data": {
            "text/plain": [
              "<Figure size 864x432 with 2 Axes>"
            ],
            "image/png": "[encoded data removed]"
          },
          "metadata": {
            "needs_background": "light"
          }
        }
      ]
    },
    {
      "cell_type": "markdown",
      "source": [
        "## 5. Improving a model (from a model perspective)\n",
        "\n",
        "* Add more layers - give the model more chances to learn about patterns in the data\n",
        "* Add more hidden units - go from 5 hidden units to 10 hidden units\n",
        "* Fit for longer\n",
        "* Changing the activation functions\n",
        "* Change the learning rate\n",
        "* Change the loss function\n",
        "\n",
        "These options are all from a model's perspective because they deal directly with the model, rather than the data.\n",
        "\n",
        "And becuase these are options are all values we (as machine learning engineers and data scientists) can change they are refferd to as **hyperparameters**.\n",
        "\n",
        "Let's try and improve our model by: \n",
        "* Adding more hidden units: 5 -> 10\n",
        "* Increase the number of layers: 2 -> 3\n",
        "* Increase the number of epochs: 100 -> 1000"
      ],
      "metadata": {
        "id": "Vd7nnTaT52kl"
      }
    },
    {
      "cell_type": "code",
      "source": [
        "class CircleModelV1(nn.Module):\n",
        "  def __init__(self):\n",
        "    super().__init__()\n",
        "    self.layer_1 = nn.Linear(in_features=2, out_features=10)\n",
        "    self.layer_2 = nn.Linear(in_features=10, out_features=10)\n",
        "    self.layer_3 = nn.Linear(in_features=10, out_features=1)\n",
        "  \n",
        "  def forward(self, x):\n",
        "  #z = self.layer_1(x)\n",
        "  #z = self.layer_2(z)\n",
        "  #z = self.layer_3(z)\n",
        "    return self.layer_3(self.layer_2(self.layer_1(x))) # This way of writing operations leverages speedups where possible behind the scenes\n",
        "\n",
        "model_1 = CircleModelV1().to(device)\n",
        "model_1"
      ],
      "metadata": {
        "colab": {
          "base_uri": "https://localhost:8080/"
        },
        "id": "jE7jGmiY6yIR",
        "outputId": "eaec7c4f-6f39-48c5-cc96-0c2ee78a8080"
      },
      "execution_count": 33,
      "outputs": [
        {
          "output_type": "execute_result",
          "data": {
            "text/plain": [
              "CircleModelV1(\n",
              "  (layer_1): Linear(in_features=2, out_features=10, bias=True)\n",
              "  (layer_2): Linear(in_features=10, out_features=10, bias=True)\n",
              "  (layer_3): Linear(in_features=10, out_features=1, bias=True)\n",
              ")"
            ]
          },
          "metadata": {},
          "execution_count": 33
        }
      ]
    },
    {
      "cell_type": "code",
      "source": [
        "model_1.state_dict()"
      ],
      "metadata": {
        "colab": {
          "base_uri": "https://localhost:8080/"
        },
        "id": "xxVXZy2s-f_t",
        "outputId": "c610fc39-8d13-4d9f-b998-f3dfe21f8a30"
      },
      "execution_count": 34,
      "outputs": [
        {
          "output_type": "execute_result",
          "data": {
            "text/plain": [
              "OrderedDict([('layer_1.weight', tensor([[ 0.5406,  0.5869],\n",
              "                      [-0.1657,  0.6496],\n",
              "                      [-0.1549,  0.1427],\n",
              "                      [-0.3443,  0.4153],\n",
              "                      [ 0.6233, -0.5188],\n",
              "                      [ 0.6146,  0.1323],\n",
              "                      [ 0.5224,  0.0958],\n",
              "                      [ 0.3410, -0.0998],\n",
              "                      [ 0.5451,  0.1045],\n",
              "                      [-0.3301,  0.1802]], device='cuda:0')),\n",
              "             ('layer_1.bias',\n",
              "              tensor([-0.3258, -0.0829, -0.2872,  0.4691, -0.5582, -0.3260, -0.1997, -0.4252,\n",
              "                       0.0667, -0.6984], device='cuda:0')),\n",
              "             ('layer_2.weight',\n",
              "              tensor([[ 0.2856, -0.2686,  0.2441,  0.0526, -0.1027,  0.1954,  0.0493,  0.2555,\n",
              "                        0.0346, -0.0997],\n",
              "                      [ 0.0850, -0.0858,  0.1331,  0.2823,  0.1828, -0.1382,  0.1825,  0.0566,\n",
              "                        0.1606, -0.1927],\n",
              "                      [-0.3130, -0.1222, -0.2426,  0.2595,  0.0911,  0.1310,  0.1000, -0.0055,\n",
              "                        0.2475, -0.2247],\n",
              "                      [ 0.0199, -0.2158,  0.0975, -0.1089,  0.0969, -0.0659,  0.2623, -0.1874,\n",
              "                       -0.1886, -0.1886],\n",
              "                      [ 0.2844,  0.1054,  0.3043, -0.2610, -0.3137, -0.2474, -0.2127,  0.1281,\n",
              "                        0.1132,  0.2628],\n",
              "                      [-0.1633, -0.2156,  0.1678, -0.1278,  0.1919, -0.0750,  0.1809, -0.2457,\n",
              "                       -0.1596,  0.0964],\n",
              "                      [ 0.0669, -0.0806,  0.1885,  0.2150, -0.2293, -0.1688,  0.2896, -0.1067,\n",
              "                       -0.1121, -0.3060],\n",
              "                      [-0.1811,  0.0790, -0.0417, -0.2295,  0.0074, -0.2160, -0.2683, -0.1741,\n",
              "                       -0.2768, -0.2014],\n",
              "                      [ 0.3161,  0.0597,  0.0974, -0.2949, -0.2077, -0.1053,  0.0494, -0.2783,\n",
              "                       -0.1363, -0.1893],\n",
              "                      [ 0.0009, -0.1177, -0.0219, -0.2143, -0.2171, -0.1845, -0.1082, -0.2496,\n",
              "                        0.2651, -0.0628]], device='cuda:0')),\n",
              "             ('layer_2.bias',\n",
              "              tensor([ 0.2721,  0.0985, -0.2678,  0.2188, -0.0870, -0.1212, -0.2625, -0.3144,\n",
              "                       0.0905, -0.0691], device='cuda:0')),\n",
              "             ('layer_3.weight',\n",
              "              tensor([[ 0.1231, -0.2595,  0.2348, -0.2321, -0.0546,  0.0661,  0.1633,  0.2553,\n",
              "                        0.2881, -0.2507]], device='cuda:0')),\n",
              "             ('layer_3.bias', tensor([0.0796], device='cuda:0'))])"
            ]
          },
          "metadata": {},
          "execution_count": 34
        }
      ]
    },
    {
      "cell_type": "code",
      "source": [
        "# Create a loss function\n",
        "loss_fn = nn.BCEWithLogitsLoss()\n",
        "\n",
        "# Create an optimizer\n",
        "optimizer = torch.optim.SGD(params=model_1.parameters(),\n",
        "                            lr = 0.01)"
      ],
      "metadata": {
        "id": "_yb4HoM78yb3"
      },
      "execution_count": 35,
      "outputs": []
    },
    {
      "cell_type": "code",
      "source": [
        "# Write a training and evaluation loop for model_1\n",
        "torch.manual_seed(42)\n",
        "torch.cuda.manual_seed(42)\n",
        "\n",
        "# Set the number of epochs\n",
        "epochs = 1000\n",
        "\n",
        "# Put data to target device\n",
        "X_train, y_train = X_train.to(device), y_train.to(device)\n",
        "X_test, y_test = X_test.to(device), y_test.to(device)\n",
        "\n",
        "# Build training and evaluation loop\n",
        "\n",
        "for epoch in range(epochs):\n",
        "  ### Training\n",
        "  model_1.train()\n",
        "\n",
        "  # 1. Forward pass\n",
        "  y_logits = model_1(X_train).squeeze()\n",
        "  y_pred = torch.round(torch.sigmoid(y_logits)) # turn logits -> pred probs -pred labels\n",
        "\n",
        "  # 2. Calculate loss/accuracy\n",
        "  loss = loss_fn(y_logits, # nn.BCEWithLongitsLoss expects raw logits as input\n",
        "                 y_train)\n",
        "  \n",
        "  acc = accuracy_fn(y_true=y_train,\n",
        "                    y_pred=y_pred)\n",
        "  \n",
        "  # 3. Optimizer zero grad\n",
        "  optimizer.zero_grad()\n",
        "\n",
        "  # 4. Loss backward (backpropagation)\n",
        "  loss.backward()\n",
        "\n",
        "  # 5. Optimizer step (gradient descent)\n",
        "  optimizer.step()\n",
        "\n",
        "   ### Testing\n",
        "  model_1.eval()\n",
        "  with torch.inference_mode():\n",
        "     # 1. Forward pass\n",
        "     test_logits = model_1(X_test).squeeze()\n",
        "     test_pred = torch.round(torch.sigmoid(test_logits))\n",
        "\n",
        "     # 2. Calculate test loss/acc\n",
        "     test_loss = loss_fn(test_logits,\n",
        "                         y_test)\n",
        "     test_acc = accuracy_fn(y_true=y_test,\n",
        "                            y_pred=test_pred)\n",
        "     \n",
        "     # Print out what's happening\n",
        "     if epoch % 100 == 0:\n",
        "       print(f\"Epoch: {epoch} | Loss: {loss:.5f}, | Acc: {acc:.2f}% | Test loss: {test_loss:.5f}, Test_acc: {test_acc:.2f}%\")\n"
      ],
      "metadata": {
        "colab": {
          "base_uri": "https://localhost:8080/"
        },
        "id": "wQ1d-JwY-VXK",
        "outputId": "e0d46c5a-b62f-45b1-d459-e85009837293"
      },
      "execution_count": 36,
      "outputs": [
        {
          "output_type": "stream",
          "name": "stdout",
          "text": [
            "Epoch: 0 | Loss: 0.69396, | Acc: 50.88% | Test loss: 0.69261, Test_acc: 51.00%\n",
            "Epoch: 100 | Loss: 0.69369, | Acc: 50.25% | Test loss: 0.69269, Test_acc: 50.00%\n",
            "Epoch: 200 | Loss: 0.69351, | Acc: 50.12% | Test loss: 0.69282, Test_acc: 49.50%\n",
            "Epoch: 300 | Loss: 0.69339, | Acc: 50.50% | Test loss: 0.69295, Test_acc: 49.00%\n",
            "Epoch: 400 | Loss: 0.69329, | Acc: 50.38% | Test loss: 0.69309, Test_acc: 48.50%\n",
            "Epoch: 500 | Loss: 0.69322, | Acc: 49.88% | Test loss: 0.69322, Test_acc: 49.50%\n",
            "Epoch: 600 | Loss: 0.69317, | Acc: 49.50% | Test loss: 0.69335, Test_acc: 53.00%\n",
            "Epoch: 700 | Loss: 0.69313, | Acc: 49.38% | Test loss: 0.69347, Test_acc: 50.50%\n",
            "Epoch: 800 | Loss: 0.69309, | Acc: 50.00% | Test loss: 0.69358, Test_acc: 51.00%\n",
            "Epoch: 900 | Loss: 0.69307, | Acc: 50.62% | Test loss: 0.69368, Test_acc: 47.50%\n"
          ]
        }
      ]
    },
    {
      "cell_type": "code",
      "source": [
        "# Plot decision bondary of the model\n",
        "plt.figure(figsize=(12,6))\n",
        "plt.subplot(1,2,1)\n",
        "plt.title(\"Train\")\n",
        "plot_decision_boundary(model_1, X_train, y_train)\n",
        "plt.subplot(1,2,2)\n",
        "plt.title(\"Test\")\n",
        "plot_decision_boundary(model_1, X_test, y_test)"
      ],
      "metadata": {
        "colab": {
          "base_uri": "https://localhost:8080/",
          "height": 354
        },
        "id": "dPsxW38rtFO-",
        "outputId": "f3181c1a-5624-4951-84ae-6d205c9bc82d"
      },
      "execution_count": 37,
      "outputs": [
        {
          "output_type": "display_data",
          "data": {
            "text/plain": [
              "<Figure size 864x432 with 2 Axes>"
            ],
            "image/png": "[encoded data removed]"
          },
          "metadata": {
            "needs_background": "light"
          }
        }
      ]
    },
    {
      "cell_type": "markdown",
      "source": [
        "### 5.1 Preparing data to see if our model can fit a straight line\n",
        "\n",
        "One way to troubleshoot to a larger problem is to test out a smaller problem. "
      ],
      "metadata": {
        "id": "J2tl1lXktK53"
      }
    },
    {
      "cell_type": "code",
      "source": [
        "# Create some data (same as notebook 01)\n",
        "weight = 0.7\n",
        "bias = 0.3\n",
        "start = 0\n",
        "end = 1\n",
        "step = 0.01\n",
        "\n",
        "# Create data\n",
        "X_regression = torch.arange(start, end, step).unsqueeze(dim=1)\n",
        "y_regression = weight * X_regression + bias # Linear regression formula (without epsilon)\n",
        "\n",
        "# Check the data\n",
        "print(len(X_regression))\n",
        "print(X_regression[:5], \"\\n\\n\", y_regression[:5])"
      ],
      "metadata": {
        "colab": {
          "base_uri": "https://localhost:8080/"
        },
        "id": "uEezkChCttly",
        "outputId": "26542517-fd94-4a57-f691-4a6730fb8295"
      },
      "execution_count": 38,
      "outputs": [
        {
          "output_type": "stream",
          "name": "stdout",
          "text": [
            "100\n",
            "tensor([[0.0000],\n",
            "        [0.0100],\n",
            "        [0.0200],\n",
            "        [0.0300],\n",
            "        [0.0400]]) \n",
            "\n",
            " tensor([[0.3000],\n",
            "        [0.3070],\n",
            "        [0.3140],\n",
            "        [0.3210],\n",
            "        [0.3280]])\n"
          ]
        }
      ]
    },
    {
      "cell_type": "code",
      "source": [
        "# Creat train and test splits\n",
        "train_split = int(0.8 * len(X_regression))\n",
        "X_train_regression, y_train_regression = X_regression[:train_split], y_regression[:train_split]\n",
        "X_test_regression, y_test_regression = X_regression[train_split:], y_regression[train_split:]\n",
        "\n",
        "print(f\"X training points: {len(X_train_regression)} X test points: {len(X_test_regression)} \\n\")\n",
        "print(f\"y training points: {len(y_train_regression)} y test points: {len(y_test_regression)}\")"
      ],
      "metadata": {
        "colab": {
          "base_uri": "https://localhost:8080/"
        },
        "id": "w13L0KJLueXn",
        "outputId": "78729e0a-155d-4e2e-b4c5-0afe6c1db346"
      },
      "execution_count": 39,
      "outputs": [
        {
          "output_type": "stream",
          "name": "stdout",
          "text": [
            "X training points: 80 X test points: 20 \n",
            "\n",
            "y training points: 80 y test points: 20\n"
          ]
        }
      ]
    },
    {
      "cell_type": "code",
      "source": [
        "plot_predictions(train_data=X_train_regression,\n",
        "                 train_labels=y_train_regression,\n",
        "                 test_data=X_test_regression,\n",
        "                 test_labels=y_test_regression)"
      ],
      "metadata": {
        "colab": {
          "base_uri": "https://localhost:8080/",
          "height": 428
        },
        "id": "CydgP9nQxbwV",
        "outputId": "c44a6a4a-04a7-4cf3-ca0e-4cec8f02f482"
      },
      "execution_count": 40,
      "outputs": [
        {
          "output_type": "display_data",
          "data": {
            "text/plain": [
              "<Figure size 720x504 with 1 Axes>"
            ],
            "image/png": "[encoded data removed]"
          },
          "metadata": {
            "needs_background": "light"
          }
        }
      ]
    },
    {
      "cell_type": "markdown",
      "source": [
        "## 5.2 Adjusting `model_1` to fit a straight line"
      ],
      "metadata": {
        "id": "47e14fB9KZUA"
      }
    },
    {
      "cell_type": "code",
      "source": [
        "# Same architecture as model_1 (but using nn.Sequential())\n",
        "model_2 = nn.Sequential(\n",
        "    nn.Linear(in_features=1, out_features=10),\n",
        "    nn.Linear(in_features=10, out_features=10),\n",
        "    nn.Linear(in_features=10, out_features=1)\n",
        ").to(device)\n",
        "\n",
        "model_2"
      ],
      "metadata": {
        "colab": {
          "base_uri": "https://localhost:8080/"
        },
        "id": "icLDIdXKKdVi",
        "outputId": "fed8bc3e-f789-45b3-dcec-f3970a7dbab3"
      },
      "execution_count": 41,
      "outputs": [
        {
          "output_type": "execute_result",
          "data": {
            "text/plain": [
              "Sequential(\n",
              "  (0): Linear(in_features=1, out_features=10, bias=True)\n",
              "  (1): Linear(in_features=10, out_features=10, bias=True)\n",
              "  (2): Linear(in_features=10, out_features=1, bias=True)\n",
              ")"
            ]
          },
          "metadata": {},
          "execution_count": 41
        }
      ]
    },
    {
      "cell_type": "code",
      "source": [
        "# Loss and optimizer\n",
        "loss_fn = nn.L1Loss()\n",
        "optimizer = torch.optim.SGD(params=model_2.parameters(),\n",
        "                            lr=0.01)"
      ],
      "metadata": {
        "id": "tnzlq2gKM06q"
      },
      "execution_count": 44,
      "outputs": []
    },
    {
      "cell_type": "code",
      "source": [
        "# Train the model\n",
        "torch.manual_seed(42)\n",
        "torch.cuda.manual_seed(42)\n",
        "\n",
        "#Set the number of epochs\n",
        "epochs = 1000\n",
        "\n",
        "# Put the data on the target device\n",
        "X_train_regression, y_train_regression = X_train_regression.to(device), y_train_regression.to(device)\n",
        "X_test_regression, y_test_regression = X_test_regression.to(device), y_test_regression.to(device)\n",
        "\n",
        "#Training\n",
        "for epoch in range(epochs):\n",
        "  y_pred = model_2(X_train_regression) #Forward\n",
        "  loss = loss_fn(y_pred, y_train_regression) #calculate the loss\n",
        "  optimizer.zero_grad() # zero the gradient\n",
        "  loss.backward() # Backpropagation\n",
        "  optimizer.step() # Gradient descent\n",
        "\n",
        "  # Testing\n",
        "  model_2.eval()\n",
        "  with torch.inference_mode():\n",
        "   test_pred = model_2(X_test_regression)\n",
        "   test_loss = loss_fn(test_pred, y_test_regression)\n",
        "\n",
        "  # Print out whats happening\n",
        "  if epoch % 100 == 0:\n",
        "    print(f\"Epoch: {epoch} | Loss: {loss:.5f} | Test loss: {test_loss:.5f}\")"
      ],
      "metadata": {
        "colab": {
          "base_uri": "https://localhost:8080/"
        },
        "id": "kG6mVox6Qpm1",
        "outputId": "690ff2e0-4e56-418f-f9be-68a9e5b30bf1"
      },
      "execution_count": 45,
      "outputs": [
        {
          "output_type": "stream",
          "name": "stdout",
          "text": [
            "Epoch: 0 | Loss: 0.06466 | Test loss: 0.12597\n",
            "Epoch: 100 | Loss: 0.00743 | Test loss: 0.00093\n",
            "Epoch: 200 | Loss: 0.00621 | Test loss: 0.00123\n",
            "Epoch: 300 | Loss: 0.00619 | Test loss: 0.00116\n",
            "Epoch: 400 | Loss: 0.00617 | Test loss: 0.00094\n",
            "Epoch: 500 | Loss: 0.00646 | Test loss: 0.00138\n",
            "Epoch: 600 | Loss: 0.00614 | Test loss: 0.00110\n",
            "Epoch: 700 | Loss: 0.00612 | Test loss: 0.00103\n",
            "Epoch: 800 | Loss: 0.00641 | Test loss: 0.00149\n",
            "Epoch: 900 | Loss: 0.00639 | Test loss: 0.00118\n"
          ]
        }
      ]
    },
    {
      "cell_type": "code",
      "source": [
        "# Make some predictions and plot\n",
        "model_2.eval()\n",
        "with torch.inference_mode():\n",
        "  y_preds = model_2(X_test_regression)\n",
        "\n",
        "plot_predictions(train_data=X_train_regression.cpu(),\n",
        "                 train_labels=y_train_regression.cpu(),\n",
        "                 test_data=X_test_regression.cpu(),\n",
        "                 test_labels=y_test_regression.cpu(),\n",
        "                 predictions=y_preds.cpu());"
      ],
      "metadata": {
        "colab": {
          "base_uri": "https://localhost:8080/",
          "height": 428
        },
        "id": "uxCoVjUbVlLQ",
        "outputId": "a7b65f73-8498-42e4-9c4b-4a96892d5b2e"
      },
      "execution_count": 68,
      "outputs": [
        {
          "output_type": "display_data",
          "data": {
            "text/plain": [
              "<Figure size 720x504 with 1 Axes>"
            ],
            "image/png": "[encoded data removed]"
          },
          "metadata": {
            "needs_background": "light"
          }
        }
      ]
    },
    {
      "cell_type": "code",
      "source": [],
      "metadata": {
        "id": "dn_GRWsKV9V2"
      },
      "execution_count": null,
      "outputs": []
    }
  ]
}