{
  "nbformat": 4,
  "nbformat_minor": 0,
  "metadata": {
    "colab": {
      "provenance": [],
      "authorship_tag": "ABX9TyN4zwYKPQlPkwwe5kZtksTb",
      "include_colab_link": true
    },
    "kernelspec": {
      "name": "python3",
      "display_name": "Python 3"
    },
    "language_info": {
      "name": "python"
    },
    "gpuClass": "standard"
  },
  "cells": [
    {
      "cell_type": "markdown",
      "metadata": {
        "id": "view-in-github",
        "colab_type": "text"
      },
      "source": [
        "<a href=\"https://colab.research.google.com/github/chriswilson2020/PyTorchCoLab/blob/main/00_PyTorch_Fundamentals_Video.ipynb\" target=\"_parent\"><img src=\"https://colab.research.google.com/assets/colab-badge.svg\" alt=\"Open In Colab\"/></a>"
      ]
    },
    {
      "cell_type": "markdown",
      "source": [
        "00_. PyTorch Fundamentals\n",
        "Resource notebook: https:www.learnpytorch.io/00_pytorch_fundamentals/\n",
        "If you have a question: https://githubcom/mrdbourke/pytorch-deep-learning/discussions\n"
      ],
      "metadata": {
        "id": "fl1aNBXAf-IX"
      }
    },
    {
      "cell_type": "code",
      "source": [
        "import torch\n",
        "import numpy as np\n",
        "import pandas as pd\n",
        "import matplotlib.pyplot as plt\n",
        "print(torch.__version__)"
      ],
      "metadata": {
        "colab": {
          "base_uri": "https://localhost:8080/"
        },
        "id": "sIU1AfSBexgh",
        "outputId": "973f376c-5a30-4501-ae64-c1e2bcf00733"
      },
      "execution_count": 4,
      "outputs": [
        {
          "output_type": "stream",
          "name": "stdout",
          "text": [
            "1.12.1+cu113\n"
          ]
        }
      ]
    },
    {
      "cell_type": "markdown",
      "source": [
        "## Introduction to Tensors\n",
        "\n",
        "### Creating tensors\n",
        "\n",
        "PyTorch tensors are created using ` torch.Tensor()`= https://pytorch.org/docs/stable/tensors.html\n",
        "\n",
        "\n",
        "![ScalarvectorMatrixTensor.png](data:image/png;base64,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)\n"
      ],
      "metadata": {
        "id": "Vlt4ZvFslIH2"
      }
    },
    {
      "cell_type": "code",
      "source": [
        "# scalar\n",
        "scalar = torch.tensor(7)\n",
        "scalar"
      ],
      "metadata": {
        "colab": {
          "base_uri": "https://localhost:8080/"
        },
        "id": "eum_MlDsldaJ",
        "outputId": "9d215009-d666-4390-92aa-c5eae6f97077"
      },
      "execution_count": 5,
      "outputs": [
        {
          "output_type": "execute_result",
          "data": {
            "text/plain": [
              "tensor(7)"
            ]
          },
          "metadata": {},
          "execution_count": 5
        }
      ]
    },
    {
      "cell_type": "code",
      "source": [
        "scalar.ndim"
      ],
      "metadata": {
        "colab": {
          "base_uri": "https://localhost:8080/"
        },
        "id": "rNEPoT_tmPsr",
        "outputId": "daf2f248-88c0-4ba8-dc60-2d3c64288852"
      },
      "execution_count": 6,
      "outputs": [
        {
          "output_type": "execute_result",
          "data": {
            "text/plain": [
              "0"
            ]
          },
          "metadata": {},
          "execution_count": 6
        }
      ]
    },
    {
      "cell_type": "code",
      "source": [
        "# Get tensor back as Python int\n",
        "scalar.item()"
      ],
      "metadata": {
        "colab": {
          "base_uri": "https://localhost:8080/"
        },
        "id": "QCKoRQsNmxtj",
        "outputId": "6324fffe-cbf2-4e3a-c92c-c2148948e2b3"
      },
      "execution_count": 8,
      "outputs": [
        {
          "output_type": "execute_result",
          "data": {
            "text/plain": [
              "7"
            ]
          },
          "metadata": {},
          "execution_count": 8
        }
      ]
    },
    {
      "cell_type": "code",
      "source": [
        "# Vector\n",
        "vector = torch.tensor([7, 7])"
      ],
      "metadata": {
        "id": "B3vroJvhnBS4"
      },
      "execution_count": 9,
      "outputs": []
    },
    {
      "cell_type": "code",
      "source": [
        "vector.ndim"
      ],
      "metadata": {
        "colab": {
          "base_uri": "https://localhost:8080/"
        },
        "id": "jbrf73DunJAo",
        "outputId": "fe8e018f-a50e-4b86-9a7d-4abbcf23ab16"
      },
      "execution_count": 10,
      "outputs": [
        {
          "output_type": "execute_result",
          "data": {
            "text/plain": [
              "1"
            ]
          },
          "metadata": {},
          "execution_count": 10
        }
      ]
    },
    {
      "cell_type": "code",
      "source": [
        "vector.shape"
      ],
      "metadata": {
        "colab": {
          "base_uri": "https://localhost:8080/"
        },
        "id": "fkNta7RonRf-",
        "outputId": "ae797e00-c660-45e1-ab54-c2a251275fae"
      },
      "execution_count": 11,
      "outputs": [
        {
          "output_type": "execute_result",
          "data": {
            "text/plain": [
              "torch.Size([2])"
            ]
          },
          "metadata": {},
          "execution_count": 11
        }
      ]
    },
    {
      "cell_type": "code",
      "source": [
        "# MATRIX\n",
        "MATRIX = torch.tensor([[7, 8],\n",
        "                       [9, 10]])\n",
        "MATRIX"
      ],
      "metadata": {
        "colab": {
          "base_uri": "https://localhost:8080/"
        },
        "id": "td8f2g4RnrZ6",
        "outputId": "ebfc4229-7091-4aac-9a62-0dd312db3f4e"
      },
      "execution_count": 14,
      "outputs": [
        {
          "output_type": "execute_result",
          "data": {
            "text/plain": [
              "tensor([[ 7,  8],\n",
              "        [ 9, 10]])"
            ]
          },
          "metadata": {},
          "execution_count": 14
        }
      ]
    },
    {
      "cell_type": "code",
      "source": [
        "MATRIX.ndim"
      ],
      "metadata": {
        "colab": {
          "base_uri": "https://localhost:8080/"
        },
        "id": "qD3_1mrRn9uX",
        "outputId": "22ee597f-45e2-4d11-85cf-0aed039ba874"
      },
      "execution_count": 15,
      "outputs": [
        {
          "output_type": "execute_result",
          "data": {
            "text/plain": [
              "2"
            ]
          },
          "metadata": {},
          "execution_count": 15
        }
      ]
    },
    {
      "cell_type": "code",
      "source": [
        "MATRIX[0]"
      ],
      "metadata": {
        "colab": {
          "base_uri": "https://localhost:8080/"
        },
        "id": "dVYy51yQoLMk",
        "outputId": "9c60c608-fbbe-4e0f-89c5-e3524870ce82"
      },
      "execution_count": 16,
      "outputs": [
        {
          "output_type": "execute_result",
          "data": {
            "text/plain": [
              "tensor([7, 8])"
            ]
          },
          "metadata": {},
          "execution_count": 16
        }
      ]
    },
    {
      "cell_type": "code",
      "source": [
        "MATRIX[1]"
      ],
      "metadata": {
        "colab": {
          "base_uri": "https://localhost:8080/"
        },
        "id": "F2eNt6_loNa_",
        "outputId": "5aec79bc-feb2-44c3-e14a-2343ff7bf4e5"
      },
      "execution_count": 17,
      "outputs": [
        {
          "output_type": "execute_result",
          "data": {
            "text/plain": [
              "tensor([ 9, 10])"
            ]
          },
          "metadata": {},
          "execution_count": 17
        }
      ]
    },
    {
      "cell_type": "code",
      "source": [
        "MATRIX.shape"
      ],
      "metadata": {
        "colab": {
          "base_uri": "https://localhost:8080/"
        },
        "id": "W1GodcWooQYN",
        "outputId": "658e22df-6613-4459-eb3f-cba438bac750"
      },
      "execution_count": 18,
      "outputs": [
        {
          "output_type": "execute_result",
          "data": {
            "text/plain": [
              "torch.Size([2, 2])"
            ]
          },
          "metadata": {},
          "execution_count": 18
        }
      ]
    },
    {
      "cell_type": "code",
      "source": [
        "# TENSOR\n",
        "TENSOR = torch.tensor([[[1,2,3],\n",
        "                        [3,6,9],\n",
        "                        [2,4,5]]])\n",
        "TENSOR"
      ],
      "metadata": {
        "colab": {
          "base_uri": "https://localhost:8080/"
        },
        "id": "HFzBsxGXoSDy",
        "outputId": "bdde1a0f-ecc5-4ae6-f576-c2d232057388"
      },
      "execution_count": 19,
      "outputs": [
        {
          "output_type": "execute_result",
          "data": {
            "text/plain": [
              "tensor([[[1, 2, 3],\n",
              "         [3, 6, 9],\n",
              "         [2, 4, 5]]])"
            ]
          },
          "metadata": {},
          "execution_count": 19
        }
      ]
    },
    {
      "cell_type": "code",
      "source": [
        "TENSOR.ndim"
      ],
      "metadata": {
        "colab": {
          "base_uri": "https://localhost:8080/"
        },
        "id": "M_IJbjxQonx3",
        "outputId": "5ef86b89-c241-4f15-a436-06c698f20379"
      },
      "execution_count": 20,
      "outputs": [
        {
          "output_type": "execute_result",
          "data": {
            "text/plain": [
              "3"
            ]
          },
          "metadata": {},
          "execution_count": 20
        }
      ]
    },
    {
      "cell_type": "code",
      "source": [
        "TENSOR.shape"
      ],
      "metadata": {
        "colab": {
          "base_uri": "https://localhost:8080/"
        },
        "id": "TBEukkPhoqau",
        "outputId": "0fc73436-91f0-48bc-becf-671acecc0036"
      },
      "execution_count": 21,
      "outputs": [
        {
          "output_type": "execute_result",
          "data": {
            "text/plain": [
              "torch.Size([1, 3, 3])"
            ]
          },
          "metadata": {},
          "execution_count": 21
        }
      ]
    },
    {
      "cell_type": "code",
      "source": [
        "TENSOR[0]"
      ],
      "metadata": {
        "colab": {
          "base_uri": "https://localhost:8080/"
        },
        "id": "oyLPvssNorcf",
        "outputId": "2204d50a-241d-4034-b307-705c46d5d443"
      },
      "execution_count": 22,
      "outputs": [
        {
          "output_type": "execute_result",
          "data": {
            "text/plain": [
              "tensor([[1, 2, 3],\n",
              "        [3, 6, 9],\n",
              "        [2, 4, 5]])"
            ]
          },
          "metadata": {},
          "execution_count": 22
        }
      ]
    },
    {
      "cell_type": "code",
      "source": [],
      "metadata": {
        "id": "f1Oii9Ugoz_p"
      },
      "execution_count": null,
      "outputs": []
    }
  ]
}