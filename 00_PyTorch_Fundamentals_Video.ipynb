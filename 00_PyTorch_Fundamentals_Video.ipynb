{
  "nbformat": 4,
  "nbformat_minor": 0,
  "metadata": {
    "colab": {
      "provenance": [],
      "authorship_tag": "ABX9TyOzSdYOxYsObp4p5eARZN7/",
      "include_colab_link": true
    },
    "kernelspec": {
      "name": "python3",
      "display_name": "Python 3"
    },
    "language_info": {
      "name": "python"
    },
    "gpuClass": "standard"
  },
  "cells": [
    {
      "cell_type": "markdown",
      "metadata": {
        "id": "view-in-github",
        "colab_type": "text"
      },
      "source": [
        "<a href=\"https://colab.research.google.com/github/chriswilson2020/PyTorchCoLab/blob/main/00_PyTorch_Fundamentals_Video.ipynb\" target=\"_parent\"><img src=\"https://colab.research.google.com/assets/colab-badge.svg\" alt=\"Open In Colab\"/></a>"
      ]
    },
    {
      "cell_type": "markdown",
      "source": [
        "00_. PyTorch Fundamentals\n",
        "Resource notebook: https:www.learnpytorch.io/00_pytorch_fundamentals/\n",
        "If you have a question: https://githubcom/mrdbourke/pytorch-deep-learning/discussions\n"
      ],
      "metadata": {
        "id": "fl1aNBXAf-IX"
      }
    },
    {
      "cell_type": "code",
      "source": [
        "import torch\n",
        "import numpy as np\n",
        "import pandas as pd\n",
        "import matplotlib.pyplot as plt\n",
        "print(torch.__version__)"
      ],
      "metadata": {
        "colab": {
          "base_uri": "https://localhost:8080/"
        },
        "id": "sIU1AfSBexgh",
        "outputId": "973c9786-01d8-46e0-8151-6c1e80a338a5"
      },
      "execution_count": 1,
      "outputs": [
        {
          "output_type": "stream",
          "name": "stdout",
          "text": [
            "1.12.1+cu113\n"
          ]
        }
      ]
    },
    {
      "cell_type": "markdown",
      "source": [
        "## Introduction to Tensors\n",
        "\n",
        "### Creating tensors\n",
        "\n",
        "PyTorch tensors are created using ` torch.Tensor()`= https://pytorch.org/docs/stable/tensors.html\n",
        "\n",
        "\n",
        "![ScalarvectorMatrixTensor.png](data:image/png;base64,iVBORw0KGgoAAAANSUhEUgAAAXoAAACFCAMAAABizcPaAAABO1BMVEX////8/PyioqL09PT4+Pjq6urm5ubv7+/j4+Pf39/6+vrIyMipqanX19fx8fHb29tcXFy4uLhfX1+jo6PR0dEAif9XV1fMzMytra2/v7//kwCzs7NmZmb/kgCCgoKQkJBvb2/0+f+amprE3f+Kvv84nP//z+P/Rp55eXkAjf/8MTL/UqT8PD3/8fhfqf/8SEn/sGD/xI3+lpf/8uf/mgAAhf+01//8NTb/5ub/5vD/2tpNTU3/0qP9ZWb+urr+ycn9W1z/pjqgzf91t///5crm8v//vXT/2bH/wt3/c7P8ICL/p87/ir7/m8f8KCn9e3z/sFP/oy0blP//6tX/9+zV6f+GvP//w4FGov//y5X/umz/1an/sluWxv//2+v/Xqj+oqP+L5b9hYX+rq79m5v8AAD/gLn9f3//xt1XkffTAAAWZklEQVR4nO2dC3/TNtfAfYkd20kcx0mca5MQxpLexgMNtNAxYLQrg1FW2lLYBXZ79rzf/xO850jyLbYcJyltoT7br7SOjqT8LR2dI0uyIGSSSSaZZJJJJplkkkkmmWSSyTWQQqV02VX4cqXQH4/7Nd6nY6eaIo9KpyPS33LNDjevecRsdjoF9nuh02maiak7VXmZwsodTyrL5DOfmAMLxHb6nM97VjFFLh3HYcBbjlM+j3qpu7Zt5civhm3bjpqUuOY40jKFVRxkYMMPp7tMPvPJwLaLjc6gq3A+T4fetGx273r2mJNm2GvNUS/V6XYtqlCwut1p9L1esG8pllMQlpBGr9/vd7tj+DlcJp+5pOzY2MVyPPIp0Qt92yYmQbEsHuCB05yjYoB+yO5izx5G0O86oWLkZHuUSixrqds3tzQsK2QfTMX7hfZ2D72SD6SKfNMaQ960baInKr7xZXmOrY57JZiXkI8106pjlx0LgUOTLrsGx62V4FgNN6XIbTZzSc5vNKGv6v2ueF/aDJZoBr/LPKI53bHu/dXqOpYzlAWx03Ucp4clUPRaD/4m/aPhOPmxEzUqXdpEB7bkJmf5sjzHdrfbtR0NWugQTKrdxGG54gyUQfwwozqW2bNwiC9aPdNC9F6tcl2SmWWKXafQdHZVcReGGrlrYRWGjr0QDBe9PIRCutgBdMdWxo7Vxe9h4NUBud1QC8vq50kCR+07XXGR4gTszVDjCm14kmPDX05HqOx2+8OBNRAZ+lzXGUs9Gzt5w+qOnRh73rEduFMlwqhsWT1pbNlqIM+ei94AZmDGCaaKNRg4Fg+90rBs+M22GgrJ1quVQdHbgN7uOdAjRMeqIQmoa8Mb8OcUht7wvyo2SwuKsqC5961ub+CMRfwNv5CN9xcTOPbC6OF2ggNhoRmuOfbQzLWwpbUMAY1zzW31Kn6dFuIC9HbNjPZxxbbBnlDzTMfHodUL5GnmBnZRzos4KhRycsvBIiuAUM/HGgxEb3SBaM3qGhS9XyszB10Q7Lsx6FrFvCJS9HAnnUbXSuMMxwhD37eG5Kt2DUGDVqYaLbwOQxiEN+hAY8XNXA3uuYAJrEIMi9Qid+DeQlOHDtDzLoqKrvetim/rTU0H6iIODvExVt8eCICggB7JQDZNGXpAKE9q6/MOHc2KtoPobZ7TqKKhH0KPQBYqRe/XSqC5GAObeCQGRQ91sLgO1iyh6KF6GlQ+h99So18VmoyQBw9OJ8MMKxG+nA4J7Hmctlhp2F1bEAeWG0/I4FLsgmPtoW+MbWcX3D0D0DvxHaxmOVoBGwtQBWOAAibIzxPQN0mdLWLddAs+BYPDqxJBD/6XbkOcQNEHauWhp/bZRW9CM9R5Oc4Qir5kuXVvAVmHjnbQj4owYHX7qmB2aUmkAizBciJhGxx4LsjAsout2thr9QXH6lUaHZuij89CHNjVPuntTXvQp6IE8vTQO8RTKFtOfiZ6YdCF/wSGPlArHz3pQn6rt7vLtXpAz+reQLI4mNLBvlwdgGXO57rMtWLoF3VvUHTiW/Zsi5gM2qChsSGeroe+Z6Hf0rCS0ANxiHywFZQCIaGXp4teBn70A1uYjR7ytJsMfbBW8M3JmBhGX7Gsjp0uDokKRS9btNugcQmhxyphijG1oBXbUpZEr1t2RysPSYUV8FxqerUP7OwaDjWewRnbfVEwx91E9Hmnywx7D3wvI98baIE8SZybB2+/adlSuQRWuZACveKQu0nQB2sFvmxPVgwxhF5zAFLHWs7DaToD3ZCLmG8QfaVv0JgZatGr6UUbR+Pl0LccnLmwrZ77h2PtNqFrW+Ou0yNjr0MNDrhRPcsG9M4uLy9wyWhnNMH/BveRMPDyFDrgBu5q+FUsB119gfj1vMxUh4ysY+KE0j8CtYIB2IYAA/16TGygR5mjfj3UcjG/3qEBMoQk4P5i5K051NY7kqDvAgDbQueyCV49/I+/sgSLigaecnfMBmpVGg/68GVyRfhXaYG9E4p9/KzUG4wruf5QFMp93kSbUPI+EiuQvpoP5QmVHgzGeK3QHwz6xE1q8KdM8n0StTSwDviHEqqVYEiDQS8nDmk+Yr+vQ8MkGnK/v5DJMfps+haqN+6j1VH6fbRwTSSgD8eDXoXYzjL+SoCxBJlkkkkmmWSSSSaZZJJJJplkkkkmmWSSSSaZfIYiRuQCijj/Mj43EUUjl5OnJJczzhPNBRTxGQqhYubDYiKZ8wMDZUSKwEIA/nkV8RkKUDFbnRgpnB8XKEOp1RoRKZnydWYv5kxVqkpRGcq5c0Ofy3ViSpCGJfPcyvgMxZDzulSttKalUD6/Jgm3t9ackmKxWZUaimmcTxGfoximUpYk6P21UkDKuqbk5fPCAugVVS8HCwD7UytKDTV/jZt9Lq+WJKlQq5XKvui6pirnaXDkvKLpuu6XgOyLUkG73ug1QA9tHmj7oih581yHWWCvBPLHPlBD9Ip83dEDeVXJAx4iyY4fJyJKipOIc0m9S1YEss/QE/RA3jTNgFfPCXf8+CsUEQWuxt4ykel5RYD9ue7oRYq+BKOqyaIe0+SHUzT+MllA5FIW/VYduMpRZuih2V8D9ElzJh56Na90PM+vwcMnGnLLS9VyhwMYRnXfbdS5yrm8X0ShfAnoEYJhBFlEr6TIgmnMTupNn8S1ZRc9OJM1P7Jq5jiOByT3AqKqpLKIyJDNlq9c4ChDRcpDV7daLJWqF4ue9E20eb49da1g6nkTUfQUuDY5lNa1BTFDp49ea0hFGkwVGhovyoQArFwoFEi6qqQrxPVHt70iNV1lhaOMLmaN6VaqxVpNumD06GapqkYcOBlJA3nieJFLaTw6nHVBR00jPuAMBUhcKJLoEX8okQDVQ6/rBakIgVWNhFMJ6GGABMew0ShIUpkGo6KcVytShymrXPSgrGoQWIFyqwplXSx6IK/5cxgVbLNiTg1cmT2Zh92m4mtwLatXYNG3EDVz+pu66CHKQfQ19O8xkOUaHLjrhH0N0JcgGMWLsqIBenrXVIyCeQbHU74E9HDjAya1gs3e8G8GWMD8zAkl+Pb5YtXLo5w404JfV2uwXl6MmTMJowd4GnYlbgPA/PLEK681cHCm6E2K3lPmejgyKoNbiegLDWl4geix0TSwX5MpEx27JlogjcTVpBuq+Vl1we5drLYatH9r/G9KBFsabWgNDNwjcyZh9JCfQpxL/uyNSIYOZB9ErwN6qiznbhhcdeKDwo0rtaSLR59Xp0wqtYDUfAJ6TZk1aWVA9ybocdYFfMLk+UV3+oQ3ZxJGX8bWgJ6TcPPdrZuRzPZ/f/bsewNcK/gaOkMvuq2+AuRlVP726WTy9NuI8t7ZL2cHgoFzChqOKxeOXtGwXwesoog9AU0gWkCpqM+cRjWgjRWlFrXKMwdm10JonDmTMHrd7RXf31utR9B/da+Ockqte8lDb1D0umpiVX5rt1dW2u2fp5SfwrV2++iEtp1LQE9LRUOhkM5JPRxqPkvYDbH+yXkYporoSzjrkmKSiwWaihY/ZxJFj1ef1Vej6O/XV9+8/WZ19Y3oB2JB9BppNQcr7d+2Ts4mKwch5R/ak6dnP0/av3kQLgc9kg/59eClo/kk6POz0OcJevDikuZaAmVi8AU9Kz5wj0V/q16//yaC/lb9zQ3oD3hPEtCfHL+Hli0ctc+CuicrKwBd+GUyOblc9GgVjXA0S8xnoN3xJUfQFzChkT78ZVrp0P9eP70RbfU37+OVfbgtSeiZHLVD1l7c+/UY/jloT7YuF32A781nz25wPuJIFOJXz+7HpNv75enTH475WqxGsQZnX9iPsfVEoNWfzkAvnmz90G6fxCj/ZzIRrwr67+ur95ZEv/+uXn8bTXZGhrWVbzlaXo1i0Qtc9Kerq++EGeiPcZTdilF+30YzdDXQP7sHw9ly6E9XYUj8KpLqYAUcvPeTSXsrVsuv0XzoT+ur9f006GO8SyA/eSpcDfQ33tVXv1oS/f16/dm7GPQ/r0DXFo7brsk9H/Q34TafCrPQw6j6vj3l4YDcAd9SFK4I+jf109P6cui/v/dMeFePot86JmZ+pf0+TitQo3nQo3t5GtTiD7O/RBz7M7BCYuCbXq7B2T+FdrSkwYERNg49lV/b7b1YLb9Gc6C/f2/1zX5IKw69SEp83z4KK8PA+1sIwmUPs8ujFxLQ71HjGq/FapQePbgE726EtWLQn7VXoL+dHE3CrR5Cqh/CEL5o9EB+ssXVYjVKjX4frM3391H2k9AfQ6FnZ0eTlb2gMo76B0QuOaS6GPR7K5P2gn49gr4XRb9K5nDuJYdUB8SrDUdUGEtNiLO7coVCqk+GHhra0VaCFqsRB/2Nm/f3w/ntf8PkXeJEAmR5cHZ2MBVQ7f32Hyo/XwP0v7YnRydJWqxGHPQzvsdMDydJ+QtH/+uKN8JytFiNwujx85nzQviMIXbSGP5Ko2wqS8zX79+Mn+CYJReG3gDbeuf9HZC5nMsSFM9bQMbS4/oJfPIVeUpVwecsybt06MIUVF74KdX91fqbuRS8sqPo7y07hyMIt+5F5nCMNpOVOzwtVqOYB4RJC8jY2pKkB4QzVp/RB4QLPpv9Csb6W/Mo+IVH+J6+fbs0+t/fRmYuxTuuzNPqq80m3cxTSlh9ViApms1mNbQioVp0lTXuqsGcWWHKRYJ+3hUJN76B0OLc0Kf5KCw8iItpeetwymB/U60+8xeQSWXV9BeDuMrDFue+Ta0+W2AxCITTp7/Xvzj0ul5uVUDIEjI9YQlUiawswaQF9iAZn8OUXOVCQU1YfdYoMN1KobHA6rO3p2Byvjj0mkaWpKRdfYYJdbZyRSSPH/FaKd3qMyYLrbn88tDj4iWN7LjR9dmrz2g61U3GFvvgRbJ0bcbqM0xXLi+43PULRA/OSV6ZuZnHXT5Bk7k3iED1lGX+MCt7yfAWLLTI+0tEb3p7bpJ2cfv7vk1Z9lz4wNXEnUB+Ecg+Q8/Qy8TpNulic35UZND15WZ4yThd7UMuJ8VjnjIuDMrQ+62etkkzKSpy6bnN22/1KZT9fT8YlGXoA7a+5J5dUFMSbL3uHXagB2x93r1aq5kJG7FKnnL50m391vEW7yOORCA++PCAV5xhcLXcJL6HU3LjnXQhFYjieThyyz/4gHeuRTCkkqRi+XI9nAN8fnB0EPcRV6YgPv84Go3Wn8el3Flb2xDjtfwaeX692sCJBLaNLcGv97axVSXN9+tb1SK73Clzhgqc73S3sRWrxdJifv3vuA5oAZni++3KpA3/kWdpC6J/PloffVxfH8Wxf7S9cTs1erKhp5Z6Q08N5wHKfjSLWxtmbegh683Jhh6yq+Ri91KF+Z60J0fHJ3uT4MKgedF/HK1/EDZ/XP8YTfjd4cYc6MtsLxVdfs5DL7LgCfCRDT2BOZyOq8wPqfz7dvEbesJ8j38+wvZ+p42rlRY1OA8+wI+vR+ub0+k2t7cfpUfPNvSQoxIUhXseC8FHV+s3YvZSkU0D3C1JdAsfmbBoLTRzuYzE8v2BLFlZysN5OYq2+tdrr79bmxN9iR6VYPI39AA+OU/sRiM6X4/KJj8oYIEXKl/CXqoYvsft9i+cj2IlAvHD1y9jbP3jwxeb86N3n1IJX//444epuhso4L9vJj6lEu8+IvLku5iqy/KyT6kWlhi+xzDQnsR/FC8RiD+Ch/N1pKTttT+EudF7z2Zx9J7K8+WfIyp/PhASns0Kr7e3D0Fe/B2p+T8vXtxd+tnsohLlC4MsXZu3OPqfwMP5ONVEhb/WnggLoGelvxqtR9FT8PDBg8QVCa+3Hz1G2Zmu+M7hxvZd/5teNvq9NiO/lK3f/Gm0HrbOjw/XHhL0CVq02Dj00I+eR9BvPkDZ/HcdRvQk9I/W/oqvOPi6Vwj93oq3NG+pYdYYTYH6Z23jye3bt8G73OBrkWLj0L8cfTAi6Klsro9eCjPRx+H8+/DJ7auD/qDtLxBbEP3mc5xFEEdT4+w/L9bA3m5vbBz+N04rUKNYg/MAEceifzUaGTPQb8Atjw6yO9uHjx+tXRX0QP7pSfxHCRKCuDka/SgQIGFjv/P4Icjd7duPH8doBWvEWX3GQQ/lvRKS0T85XFtb2z58PaX5aO2R8OTKoIdYisniIRUOiP9+HI1+iku6qK0XuOjhHm8Kyejvfvdw5/GT7cNwu//ucG3nKqFfaa9QMRa39a/W0e94FZv07/9uL+bh8NCzRp9izeWT7UchxQ3wda8Q+pMtVyIfJcg0xM2vn3+IzCKwpDs7PC2vRnOhh0b/IKjFR/+H79ei/A993SuEPu1HYfk0j0pSod9cX/8ppBWLntzuPwhrT27D2Escrtt3Lx/9dImfDj05Jw1yT79RX+Cgf8kafRL6u9svgP3ORti738AA93BjY/vF/y59o74Z2GVPTzFYZKN+ip369LA1k3eu5DzoxdH6v2GtGPSPX2xsvH69sX0YimbR33q482T7r4c7V+R4CpyaZSufP9HxFO7SYIVzmioX/ejPCPqXngubZHD+fgHO5eHthzGVuQK2Hh8q6LqmmexQFrLuq1RrVKppD2WpVshzCV1TZx871yLLS1HmQC/+3/PpsZvFEEGteFv/9927j2Mrc/vFJaInRxH5Z5/RY+eCZ5+lPIrIO/tsWJ557FzTPXROijm0fI4NPeLmpjGlNeeGns1N98nKZaAnR5a70po6dk7C+qc5gCt44t/sY+fwZEQ8ea7Q0CNP/jinQM36HgmnQM2USzoFCpssXWlLT+enx85562/JMXIz6iKyY+poHuqMY+fYw1TMvkQehCSe+OedfcbPEl2C5LPPklqCeGlnn+ETfff1BdPHzpFr/LUAnhCYXhbpjp3DY/t1kng69+iGHlOesfoMfQIlbkOPPkNZDJ13ddHo6VN5JKEFjp3Lk4XTetJSgGAebKE15qEo3LVeboHk1H4lvDQ4mFkQPZ6Li92De2YsZKeSt12AAauGzrmsNluoCz2Rv9LYyOlMuXLhz2YF95hNckA/fYJM4OTZkf1p3tQUUEh57FxgJWoi+rmOk65O7aXyBv6E1Wf6cht6lpTAe8lCx0kHr8zKgh5J7Z7fnyI5lTgTHlgCVWoWXSnwBhDotBUvVcfd0APWu+FdLSatPvOLqFw8eiH4Mj7ulbmzWLgy/oYeMN/u2K3wHJ3Qhp6y5p/kTZ2H5A093uozlMaFn+R91SSw5pKN/+UEev7qM0zn+QS+81COHcuZLrtv3kuSLvj8+qsmgZXGZGWYpiWvPmNnwNN0gbc2+MoJu4H8ZNjHsneVeFsbyMowMtjzV5C5C8iYl+C/q8R1HhJf7UOUabJr8q6SJAnvKvFeHsH36xd7Qw9T9d9YgWHkNUfvvRxJw3nQ4Ltguc7WAu+lwlWDueAbZ0lclaEn6HFKIvAm2E/xvtnQC2d5k9jXSQj6aqfTqUwJ9wVJ8wvutSqX/G3ixLksFK49elMtS9WYF86e7/tmK9ECIHiOvkXiOglZ9zvd4vGcidq5vm+2UC2GhDy6KZZ4R1lcC8FXn7ih6AW+b7YUDIevqUCcg1imJOUkavoy8uzwi3Ah51jG5yh+gBp8H+x5v2/WPfuCCSntXMv4HCVwaETQvUw5i5qyDO/4irAHe73JCyxCnZLkB32LFBFTxvITr5lk8pnK/wNtJcR/wlzr2gAAAABJRU5ErkJggg==)\n"
      ],
      "metadata": {
        "id": "Vlt4ZvFslIH2"
      }
    },
    {
      "cell_type": "code",
      "source": [
        "# scalar\n",
        "scalar = torch.tensor(7)\n",
        "scalar"
      ],
      "metadata": {
        "colab": {
          "base_uri": "https://localhost:8080/"
        },
        "id": "eum_MlDsldaJ",
        "outputId": "12f1965b-7a4c-4d87-9512-34275025a55e"
      },
      "execution_count": 2,
      "outputs": [
        {
          "output_type": "execute_result",
          "data": {
            "text/plain": [
              "tensor(7)"
            ]
          },
          "metadata": {},
          "execution_count": 2
        }
      ]
    },
    {
      "cell_type": "code",
      "source": [
        "scalar.ndim"
      ],
      "metadata": {
        "colab": {
          "base_uri": "https://localhost:8080/"
        },
        "id": "rNEPoT_tmPsr",
        "outputId": "717f8a61-bf04-4059-dab5-2810efa64bad"
      },
      "execution_count": 3,
      "outputs": [
        {
          "output_type": "execute_result",
          "data": {
            "text/plain": [
              "0"
            ]
          },
          "metadata": {},
          "execution_count": 3
        }
      ]
    },
    {
      "cell_type": "code",
      "source": [
        "# Get tensor back as Python int\n",
        "scalar.item()"
      ],
      "metadata": {
        "colab": {
          "base_uri": "https://localhost:8080/"
        },
        "id": "QCKoRQsNmxtj",
        "outputId": "a3a853e7-5869-4497-ee44-07cf30364c34"
      },
      "execution_count": 4,
      "outputs": [
        {
          "output_type": "execute_result",
          "data": {
            "text/plain": [
              "7"
            ]
          },
          "metadata": {},
          "execution_count": 4
        }
      ]
    },
    {
      "cell_type": "code",
      "source": [
        "# Vector\n",
        "vector = torch.tensor([7, 7])"
      ],
      "metadata": {
        "id": "B3vroJvhnBS4"
      },
      "execution_count": 5,
      "outputs": []
    },
    {
      "cell_type": "code",
      "source": [
        "vector.ndim"
      ],
      "metadata": {
        "colab": {
          "base_uri": "https://localhost:8080/"
        },
        "id": "jbrf73DunJAo",
        "outputId": "fa981485-5b2d-4abf-ea69-35e597a45cf0"
      },
      "execution_count": 6,
      "outputs": [
        {
          "output_type": "execute_result",
          "data": {
            "text/plain": [
              "1"
            ]
          },
          "metadata": {},
          "execution_count": 6
        }
      ]
    },
    {
      "cell_type": "code",
      "source": [
        "vector.shape"
      ],
      "metadata": {
        "colab": {
          "base_uri": "https://localhost:8080/"
        },
        "id": "fkNta7RonRf-",
        "outputId": "59eecb34-8039-4265-dd17-ec21c15b7de3"
      },
      "execution_count": 7,
      "outputs": [
        {
          "output_type": "execute_result",
          "data": {
            "text/plain": [
              "torch.Size([2])"
            ]
          },
          "metadata": {},
          "execution_count": 7
        }
      ]
    },
    {
      "cell_type": "code",
      "source": [
        "# MATRIX\n",
        "MATRIX = torch.tensor([[7, 8],\n",
        "                       [9, 10]])\n",
        "MATRIX"
      ],
      "metadata": {
        "colab": {
          "base_uri": "https://localhost:8080/"
        },
        "id": "td8f2g4RnrZ6",
        "outputId": "a27c1773-bff2-44f3-ad4d-c3d75932e82d"
      },
      "execution_count": 8,
      "outputs": [
        {
          "output_type": "execute_result",
          "data": {
            "text/plain": [
              "tensor([[ 7,  8],\n",
              "        [ 9, 10]])"
            ]
          },
          "metadata": {},
          "execution_count": 8
        }
      ]
    },
    {
      "cell_type": "code",
      "source": [
        "MATRIX.ndim"
      ],
      "metadata": {
        "colab": {
          "base_uri": "https://localhost:8080/"
        },
        "id": "qD3_1mrRn9uX",
        "outputId": "24b85d97-318f-4bc6-d2cc-35386382021b"
      },
      "execution_count": 9,
      "outputs": [
        {
          "output_type": "execute_result",
          "data": {
            "text/plain": [
              "2"
            ]
          },
          "metadata": {},
          "execution_count": 9
        }
      ]
    },
    {
      "cell_type": "code",
      "source": [
        "MATRIX[0]"
      ],
      "metadata": {
        "colab": {
          "base_uri": "https://localhost:8080/"
        },
        "id": "dVYy51yQoLMk",
        "outputId": "c93ff2da-413c-40be-aab2-4ee47ca71ce7"
      },
      "execution_count": 10,
      "outputs": [
        {
          "output_type": "execute_result",
          "data": {
            "text/plain": [
              "tensor([7, 8])"
            ]
          },
          "metadata": {},
          "execution_count": 10
        }
      ]
    },
    {
      "cell_type": "code",
      "source": [
        "MATRIX[1]"
      ],
      "metadata": {
        "colab": {
          "base_uri": "https://localhost:8080/"
        },
        "id": "F2eNt6_loNa_",
        "outputId": "8b3c17bb-ca8e-45d4-8777-700b64741b09"
      },
      "execution_count": 11,
      "outputs": [
        {
          "output_type": "execute_result",
          "data": {
            "text/plain": [
              "tensor([ 9, 10])"
            ]
          },
          "metadata": {},
          "execution_count": 11
        }
      ]
    },
    {
      "cell_type": "code",
      "source": [
        "MATRIX.shape"
      ],
      "metadata": {
        "colab": {
          "base_uri": "https://localhost:8080/"
        },
        "id": "W1GodcWooQYN",
        "outputId": "edf429d1-e2c1-4c3b-9eaf-c042cb601d2d"
      },
      "execution_count": 12,
      "outputs": [
        {
          "output_type": "execute_result",
          "data": {
            "text/plain": [
              "torch.Size([2, 2])"
            ]
          },
          "metadata": {},
          "execution_count": 12
        }
      ]
    },
    {
      "cell_type": "code",
      "source": [
        "# TENSOR\n",
        "TENSOR = torch.tensor([[[1,2,3],\n",
        "                        [3,6,9],\n",
        "                        [2,4,5]]])\n",
        "TENSOR"
      ],
      "metadata": {
        "colab": {
          "base_uri": "https://localhost:8080/"
        },
        "id": "HFzBsxGXoSDy",
        "outputId": "4ba91c80-7b78-477f-991e-8d693cd0f747"
      },
      "execution_count": 13,
      "outputs": [
        {
          "output_type": "execute_result",
          "data": {
            "text/plain": [
              "tensor([[[1, 2, 3],\n",
              "         [3, 6, 9],\n",
              "         [2, 4, 5]]])"
            ]
          },
          "metadata": {},
          "execution_count": 13
        }
      ]
    },
    {
      "cell_type": "code",
      "source": [
        "TENSOR.ndim"
      ],
      "metadata": {
        "colab": {
          "base_uri": "https://localhost:8080/"
        },
        "id": "M_IJbjxQonx3",
        "outputId": "32509273-0320-48ec-d887-43cb0d56c3f2"
      },
      "execution_count": 14,
      "outputs": [
        {
          "output_type": "execute_result",
          "data": {
            "text/plain": [
              "3"
            ]
          },
          "metadata": {},
          "execution_count": 14
        }
      ]
    },
    {
      "cell_type": "code",
      "source": [
        "TENSOR.shape"
      ],
      "metadata": {
        "colab": {
          "base_uri": "https://localhost:8080/"
        },
        "id": "TBEukkPhoqau",
        "outputId": "bf239acd-22ea-4c30-d8d3-75c25afd10b2"
      },
      "execution_count": 15,
      "outputs": [
        {
          "output_type": "execute_result",
          "data": {
            "text/plain": [
              "torch.Size([1, 3, 3])"
            ]
          },
          "metadata": {},
          "execution_count": 15
        }
      ]
    },
    {
      "cell_type": "code",
      "source": [
        "TENSOR[0]"
      ],
      "metadata": {
        "colab": {
          "base_uri": "https://localhost:8080/"
        },
        "id": "oyLPvssNorcf",
        "outputId": "1b2a876f-a151-4c9a-f2b8-4bd98f388157"
      },
      "execution_count": 16,
      "outputs": [
        {
          "output_type": "execute_result",
          "data": {
            "text/plain": [
              "tensor([[1, 2, 3],\n",
              "        [3, 6, 9],\n",
              "        [2, 4, 5]])"
            ]
          },
          "metadata": {},
          "execution_count": 16
        }
      ]
    },
    {
      "cell_type": "code",
      "source": [
        "# myTENSOR\n",
        "\n",
        "myTENSOR = torch.tensor([[[[1,3,4,5],\n",
        "                           [2,6,7,8],\n",
        "                           [3,9,10,11]]]])\n",
        "myTENSOR"
      ],
      "metadata": {
        "colab": {
          "base_uri": "https://localhost:8080/"
        },
        "id": "f1Oii9Ugoz_p",
        "outputId": "b1f885c7-aa59-4a3e-b2c3-cb87be72b902"
      },
      "execution_count": 17,
      "outputs": [
        {
          "output_type": "execute_result",
          "data": {
            "text/plain": [
              "tensor([[[[ 1,  3,  4,  5],\n",
              "          [ 2,  6,  7,  8],\n",
              "          [ 3,  9, 10, 11]]]])"
            ]
          },
          "metadata": {},
          "execution_count": 17
        }
      ]
    },
    {
      "cell_type": "code",
      "source": [
        "myTENSOR.ndim"
      ],
      "metadata": {
        "colab": {
          "base_uri": "https://localhost:8080/"
        },
        "id": "TY5qim-WrGrY",
        "outputId": "5d1be0a3-5f92-451c-ac69-ee0721b0581c"
      },
      "execution_count": 18,
      "outputs": [
        {
          "output_type": "execute_result",
          "data": {
            "text/plain": [
              "4"
            ]
          },
          "metadata": {},
          "execution_count": 18
        }
      ]
    },
    {
      "cell_type": "code",
      "source": [
        "myTENSOR.shape"
      ],
      "metadata": {
        "colab": {
          "base_uri": "https://localhost:8080/"
        },
        "id": "Dc1dRNKHrfPl",
        "outputId": "818baef4-b5d3-4ef9-a1cf-3288c2f7b2be"
      },
      "execution_count": 19,
      "outputs": [
        {
          "output_type": "execute_result",
          "data": {
            "text/plain": [
              "torch.Size([1, 1, 3, 4])"
            ]
          },
          "metadata": {},
          "execution_count": 19
        }
      ]
    },
    {
      "cell_type": "markdown",
      "source": [
        "### Random tensors\n",
        "\n",
        "Why random tensors?\n",
        "\n",
        "Random tensors are important because the way many neural networks learn is that they start with tensors full of random numbers and then adjust those randome numbers to better represent the data.\n",
        "\n",
        "`Start with random numbers -> look at data -> update random numbers -> look at data -> update random numbers`\n",
        "\n",
        "Torch random tensors - https://pytorch.org/docs/stable/generated/torch.rand.html\n"
      ],
      "metadata": {
        "id": "sjJLa5GYrido"
      }
    },
    {
      "cell_type": "code",
      "source": [
        "# Create a random tensor of size (3, 4)\n",
        "random_tensor = torch.rand(3, 4)\n",
        "\n",
        "random_tensor"
      ],
      "metadata": {
        "colab": {
          "base_uri": "https://localhost:8080/"
        },
        "id": "ELdUqMk6sS6f",
        "outputId": "eee02fbe-dd31-4310-9cc2-5dbc8a1c1b29"
      },
      "execution_count": 20,
      "outputs": [
        {
          "output_type": "execute_result",
          "data": {
            "text/plain": [
              "tensor([[0.8223, 0.0555, 0.6806, 0.3858],\n",
              "        [0.3857, 0.2473, 0.8922, 0.0734],\n",
              "        [0.1905, 0.2147, 0.4315, 0.7732]])"
            ]
          },
          "metadata": {},
          "execution_count": 20
        }
      ]
    },
    {
      "cell_type": "code",
      "source": [
        "random_tensor.ndim"
      ],
      "metadata": {
        "colab": {
          "base_uri": "https://localhost:8080/"
        },
        "id": "rflCCKyrs-1m",
        "outputId": "148cdda8-bd67-4256-9c0b-beb387f8c8af"
      },
      "execution_count": 21,
      "outputs": [
        {
          "output_type": "execute_result",
          "data": {
            "text/plain": [
              "2"
            ]
          },
          "metadata": {},
          "execution_count": 21
        }
      ]
    },
    {
      "cell_type": "code",
      "source": [
        "random_tensor = torch.rand(1, 10, 10)\n",
        "\n",
        "random_tensor"
      ],
      "metadata": {
        "colab": {
          "base_uri": "https://localhost:8080/"
        },
        "id": "dopoBaM6tR6i",
        "outputId": "dd144ecf-0c14-43a8-8d51-dd2e03b9a7b7"
      },
      "execution_count": 22,
      "outputs": [
        {
          "output_type": "execute_result",
          "data": {
            "text/plain": [
              "tensor([[[0.3967, 0.4280, 0.7174, 0.0651, 0.7549, 0.6717, 0.8170, 0.7300,\n",
              "          0.9010, 0.5182],\n",
              "         [0.1398, 0.5605, 0.2769, 0.2153, 0.5660, 0.6876, 0.2737, 0.6978,\n",
              "          0.5010, 0.8570],\n",
              "         [0.9839, 0.4912, 0.5220, 0.7063, 0.6882, 0.8800, 0.7108, 0.7955,\n",
              "          0.9172, 0.8561],\n",
              "         [0.9540, 0.2935, 0.9498, 0.2233, 0.7346, 0.4551, 0.3014, 0.1499,\n",
              "          0.1837, 0.3277],\n",
              "         [0.6823, 0.5009, 0.0871, 0.0330, 0.1593, 0.1464, 0.4288, 0.8330,\n",
              "          0.1874, 0.7569],\n",
              "         [0.9836, 0.7603, 0.8724, 0.3878, 0.4300, 0.4289, 0.8504, 0.5189,\n",
              "          0.0714, 0.4627],\n",
              "         [0.7066, 0.6028, 0.1761, 0.2527, 0.0485, 0.1666, 0.1453, 0.4048,\n",
              "          0.7930, 0.2458],\n",
              "         [0.4245, 0.1232, 0.7782, 0.0630, 0.4014, 0.3812, 0.5942, 0.4989,\n",
              "          0.2621, 0.2521],\n",
              "         [0.4399, 0.6905, 0.6771, 0.0056, 0.3610, 0.3733, 0.8553, 0.5134,\n",
              "          0.4171, 0.1433],\n",
              "         [0.5547, 0.7640, 0.0032, 0.3614, 0.3140, 0.7695, 0.3139, 0.0106,\n",
              "          0.2126, 0.5417]]])"
            ]
          },
          "metadata": {},
          "execution_count": 22
        }
      ]
    },
    {
      "cell_type": "code",
      "source": [
        "random_tensor.ndim"
      ],
      "metadata": {
        "colab": {
          "base_uri": "https://localhost:8080/"
        },
        "id": "XtMxyXOJtZjw",
        "outputId": "47abe603-e1ae-49e0-d6f3-b5d037840606"
      },
      "execution_count": 23,
      "outputs": [
        {
          "output_type": "execute_result",
          "data": {
            "text/plain": [
              "3"
            ]
          },
          "metadata": {},
          "execution_count": 23
        }
      ]
    },
    {
      "cell_type": "code",
      "source": [
        "random_tensor.shape"
      ],
      "metadata": {
        "colab": {
          "base_uri": "https://localhost:8080/"
        },
        "id": "0dmZYEzstdqi",
        "outputId": "4a972ccd-72dc-4879-8091-93d34d4bca58"
      },
      "execution_count": 24,
      "outputs": [
        {
          "output_type": "execute_result",
          "data": {
            "text/plain": [
              "torch.Size([1, 10, 10])"
            ]
          },
          "metadata": {},
          "execution_count": 24
        }
      ]
    },
    {
      "cell_type": "code",
      "source": [
        "random_tensor = torch.rand(10,10,10)\n",
        "random_tensor"
      ],
      "metadata": {
        "colab": {
          "base_uri": "https://localhost:8080/"
        },
        "id": "7p17GMadtmJX",
        "outputId": "757b3e84-4850-488d-831b-79db870d0bb1"
      },
      "execution_count": 25,
      "outputs": [
        {
          "output_type": "execute_result",
          "data": {
            "text/plain": [
              "tensor([[[8.6495e-01, 7.7955e-01, 5.4710e-01, 9.6380e-01, 4.8384e-01,\n",
              "          6.3650e-01, 4.6219e-01, 6.7762e-01, 7.3213e-02, 7.0131e-01],\n",
              "         [5.4430e-01, 5.9579e-01, 8.7602e-01, 8.6890e-01, 8.8502e-01,\n",
              "          6.4165e-01, 7.5254e-01, 8.2638e-01, 8.1239e-01, 4.5988e-01],\n",
              "         [4.4724e-01, 4.1398e-01, 4.5283e-01, 4.2561e-01, 4.9099e-01,\n",
              "          7.0760e-01, 7.2998e-01, 6.3670e-01, 2.9648e-01, 7.9804e-01],\n",
              "         [4.6370e-02, 8.2175e-01, 8.9120e-01, 5.3095e-01, 6.3017e-01,\n",
              "          2.7161e-01, 1.7512e-01, 1.8805e-01, 8.7072e-01, 9.3949e-01],\n",
              "         [9.7916e-01, 1.8214e-01, 2.7093e-01, 1.9207e-01, 4.6889e-01,\n",
              "          9.9507e-01, 7.1696e-01, 3.2162e-01, 7.8876e-01, 9.2222e-01],\n",
              "         [7.7088e-01, 5.8767e-02, 1.6831e-01, 5.7210e-01, 9.3852e-02,\n",
              "          5.7619e-02, 1.4731e-01, 3.0131e-01, 7.7446e-01, 3.5694e-01],\n",
              "         [6.5592e-01, 2.4309e-01, 7.7232e-01, 2.8554e-01, 1.3608e-01,\n",
              "          8.5615e-01, 4.6355e-01, 8.8648e-02, 1.1888e-01, 8.4891e-01],\n",
              "         [2.5359e-02, 8.3550e-01, 4.0304e-01, 6.9983e-01, 7.2890e-01,\n",
              "          5.6003e-01, 3.2716e-01, 6.0668e-02, 4.7900e-01, 4.1134e-01],\n",
              "         [5.0730e-02, 7.3942e-01, 3.1767e-01, 8.8224e-02, 3.9101e-01,\n",
              "          9.0986e-01, 9.0237e-01, 2.6299e-01, 4.0723e-01, 5.4218e-01],\n",
              "         [2.5784e-01, 7.1935e-01, 3.8444e-01, 9.5625e-01, 4.6606e-01,\n",
              "          7.6939e-02, 2.9965e-01, 6.6010e-01, 2.6212e-01, 6.8509e-01]],\n",
              "\n",
              "        [[1.7647e-01, 9.2042e-01, 8.8691e-01, 5.7921e-03, 6.6203e-01,\n",
              "          6.0129e-01, 7.1955e-01, 3.5654e-02, 7.0024e-01, 1.2250e-01],\n",
              "         [4.7270e-01, 6.3957e-01, 4.8964e-01, 7.3763e-01, 3.5063e-01,\n",
              "          7.2702e-02, 9.5046e-01, 2.4962e-01, 7.0728e-02, 9.2657e-01],\n",
              "         [2.6805e-01, 6.3002e-01, 4.6059e-01, 3.3228e-01, 6.4513e-01,\n",
              "          6.2257e-01, 7.9104e-02, 8.5867e-01, 5.3409e-01, 7.2763e-01],\n",
              "         [3.2823e-01, 9.7214e-01, 1.7317e-01, 3.1246e-02, 8.9681e-04,\n",
              "          9.7722e-01, 5.3608e-01, 3.5666e-01, 1.2866e-02, 2.1576e-01],\n",
              "         [3.1353e-02, 2.2078e-02, 3.5565e-01, 2.1551e-01, 6.4750e-01,\n",
              "          4.0049e-01, 2.8267e-01, 4.6076e-01, 7.0689e-01, 6.2144e-01],\n",
              "         [1.3441e-01, 9.4317e-01, 9.7497e-01, 6.1775e-01, 9.9996e-02,\n",
              "          6.4145e-01, 5.7653e-01, 8.0147e-01, 1.0799e-01, 7.9168e-01],\n",
              "         [8.5229e-01, 9.0829e-01, 1.7693e-01, 3.3719e-02, 7.9659e-01,\n",
              "          2.5364e-01, 8.3051e-01, 3.8386e-01, 3.4507e-01, 4.1087e-01],\n",
              "         [5.7250e-01, 5.6808e-01, 4.8057e-01, 9.0424e-01, 4.5312e-01,\n",
              "          4.2827e-01, 6.1604e-01, 8.9480e-01, 4.6423e-02, 9.3449e-01],\n",
              "         [5.5072e-01, 6.0299e-01, 6.5993e-01, 7.8341e-02, 6.6776e-02,\n",
              "          4.7895e-02, 5.6261e-02, 3.6275e-01, 8.7291e-01, 9.7705e-01],\n",
              "         [9.0936e-01, 2.3492e-01, 3.0860e-01, 3.5562e-02, 6.3037e-01,\n",
              "          2.4009e-01, 1.2976e-02, 3.8493e-01, 9.2552e-02, 7.6724e-02]],\n",
              "\n",
              "        [[2.1007e-01, 2.6021e-01, 9.2785e-01, 9.1660e-02, 4.8293e-01,\n",
              "          7.9282e-01, 2.0508e-01, 3.5321e-01, 4.0043e-02, 6.7704e-01],\n",
              "         [2.5552e-01, 3.6377e-02, 6.2234e-01, 8.9569e-01, 7.9381e-02,\n",
              "          3.4170e-01, 2.9616e-01, 3.9797e-02, 8.4452e-01, 5.6633e-01],\n",
              "         [8.8450e-01, 5.8697e-01, 4.1200e-01, 5.2271e-01, 7.5769e-01,\n",
              "          7.2403e-01, 1.3447e-01, 1.6762e-01, 6.3147e-01, 7.5217e-01],\n",
              "         [1.7448e-01, 5.7804e-02, 3.2511e-01, 1.3546e-01, 5.3607e-01,\n",
              "          7.7660e-01, 6.7175e-01, 6.5345e-01, 3.1349e-01, 4.4820e-02],\n",
              "         [3.8595e-01, 6.9258e-01, 5.7592e-01, 4.0602e-01, 2.4368e-01,\n",
              "          7.4225e-01, 2.4487e-01, 4.1030e-01, 6.1724e-01, 7.1903e-02],\n",
              "         [7.6807e-01, 8.0847e-01, 4.6821e-01, 7.1912e-01, 7.2763e-02,\n",
              "          2.2084e-01, 8.7442e-01, 3.7879e-01, 6.4931e-01, 4.2859e-03],\n",
              "         [9.2561e-02, 6.9729e-01, 1.6603e-02, 9.9348e-01, 6.4088e-01,\n",
              "          7.5868e-02, 4.4433e-01, 7.5109e-01, 4.6603e-01, 6.8577e-01],\n",
              "         [5.4886e-01, 1.4355e-02, 5.5795e-02, 1.4084e-01, 9.1071e-01,\n",
              "          2.7270e-01, 6.6136e-01, 1.2327e-01, 5.9774e-01, 8.9870e-01],\n",
              "         [6.9805e-01, 7.8937e-01, 4.8018e-01, 6.5401e-01, 7.2940e-01,\n",
              "          6.6540e-01, 5.7815e-01, 5.8462e-01, 8.7402e-01, 4.0963e-01],\n",
              "         [1.6562e-01, 8.1757e-01, 6.7159e-01, 8.4711e-01, 7.6148e-01,\n",
              "          7.7050e-01, 4.6557e-01, 4.0218e-01, 9.3213e-01, 2.8844e-02]],\n",
              "\n",
              "        [[5.1534e-02, 6.8686e-01, 9.4150e-01, 6.0308e-01, 3.1190e-01,\n",
              "          3.6401e-01, 3.1369e-01, 9.8516e-01, 6.9666e-04, 6.5729e-01],\n",
              "         [7.6721e-01, 7.6223e-01, 7.1200e-01, 1.2270e-01, 5.0322e-01,\n",
              "          2.4215e-01, 2.0315e-01, 1.3469e-01, 7.7523e-01, 8.4105e-01],\n",
              "         [6.6776e-01, 1.4400e-02, 7.9150e-01, 5.8139e-01, 7.9944e-01,\n",
              "          4.2540e-01, 1.3538e-01, 7.8068e-01, 5.3103e-01, 2.6050e-01],\n",
              "         [6.7203e-01, 8.4145e-01, 9.0900e-01, 6.3458e-01, 9.7297e-01,\n",
              "          7.3558e-01, 6.9307e-01, 2.8604e-01, 1.0068e-01, 2.7701e-01],\n",
              "         [7.7860e-01, 1.7897e-01, 1.3188e-01, 1.2475e-01, 6.8466e-01,\n",
              "          8.7308e-01, 7.5096e-01, 6.4412e-02, 5.0933e-01, 7.8318e-01],\n",
              "         [9.7981e-01, 2.1364e-01, 4.9357e-01, 6.7901e-01, 4.4022e-01,\n",
              "          9.4746e-02, 7.6209e-01, 6.0502e-02, 2.3920e-01, 5.8958e-01],\n",
              "         [2.0871e-01, 1.1176e-02, 4.8587e-01, 5.9931e-01, 8.9039e-01,\n",
              "          8.1830e-02, 4.6125e-01, 8.4779e-01, 4.5322e-01, 7.7736e-02],\n",
              "         [8.1567e-01, 1.1606e-01, 4.6463e-02, 8.6667e-01, 5.6145e-01,\n",
              "          6.2323e-01, 7.2367e-01, 8.0299e-01, 6.5261e-01, 6.6527e-01],\n",
              "         [6.0387e-01, 3.9737e-01, 1.5578e-01, 2.0495e-01, 3.1680e-01,\n",
              "          6.5137e-01, 9.4698e-01, 1.2047e-01, 7.8416e-01, 1.2273e-01],\n",
              "         [2.0592e-01, 6.9981e-01, 4.6138e-01, 3.8260e-01, 3.0934e-01,\n",
              "          3.4687e-01, 4.0488e-01, 2.3511e-02, 4.5248e-01, 2.5398e-02]],\n",
              "\n",
              "        [[7.1084e-02, 8.5759e-01, 4.3822e-02, 8.3346e-01, 8.9749e-01,\n",
              "          2.7887e-01, 8.7004e-01, 6.3430e-01, 2.1456e-01, 4.7697e-01],\n",
              "         [5.8371e-01, 9.0332e-01, 3.2986e-01, 4.4699e-01, 1.4893e-01,\n",
              "          5.2773e-01, 8.4058e-01, 4.5475e-01, 4.8811e-01, 3.1753e-01],\n",
              "         [3.3612e-02, 9.4060e-01, 8.1160e-01, 6.5564e-01, 5.1642e-01,\n",
              "          7.1246e-01, 4.2501e-01, 7.8440e-01, 1.6975e-01, 1.7388e-01],\n",
              "         [8.5726e-01, 6.6867e-01, 6.9627e-01, 6.9792e-01, 2.0848e-01,\n",
              "          1.2566e-01, 3.2430e-01, 3.2534e-02, 3.9675e-02, 7.6786e-01],\n",
              "         [6.8171e-01, 9.9610e-01, 4.3918e-01, 3.1562e-01, 6.4990e-01,\n",
              "          8.2006e-01, 1.7406e-01, 7.1426e-01, 1.8906e-01, 2.5081e-01],\n",
              "         [5.9335e-01, 4.0145e-01, 1.6160e-01, 3.9890e-01, 3.2682e-01,\n",
              "          9.6881e-01, 4.4223e-01, 5.7856e-01, 9.9192e-01, 3.3039e-01],\n",
              "         [9.3457e-01, 1.6912e-01, 4.3083e-02, 5.2366e-01, 1.5921e-02,\n",
              "          2.9686e-01, 6.3457e-01, 4.5793e-01, 6.5756e-01, 7.7286e-01],\n",
              "         [5.9192e-01, 7.8257e-01, 3.8497e-01, 2.2239e-01, 2.2412e-01,\n",
              "          6.3640e-01, 7.8077e-01, 9.5142e-01, 3.5251e-01, 6.5634e-03],\n",
              "         [2.6172e-01, 6.3320e-01, 6.9117e-01, 4.8648e-01, 8.8280e-01,\n",
              "          3.4937e-02, 7.8842e-01, 4.8960e-01, 7.4065e-01, 6.4451e-01],\n",
              "         [4.5360e-01, 9.2317e-01, 9.8760e-01, 4.3680e-01, 6.5002e-01,\n",
              "          3.4964e-01, 9.8812e-01, 3.2243e-01, 7.2369e-01, 2.7499e-01]],\n",
              "\n",
              "        [[9.0569e-01, 2.1610e-01, 6.2767e-02, 7.7057e-01, 5.0817e-01,\n",
              "          9.7294e-01, 8.5413e-01, 6.1984e-01, 2.2723e-01, 4.9176e-01],\n",
              "         [9.3162e-01, 7.3686e-01, 7.3661e-01, 8.0296e-01, 8.6046e-01,\n",
              "          6.8079e-02, 8.5958e-01, 9.4908e-01, 2.0694e-02, 6.1846e-01],\n",
              "         [3.9342e-01, 1.5515e-01, 8.2489e-01, 8.4636e-01, 9.4956e-01,\n",
              "          5.2469e-01, 9.5370e-01, 3.2337e-01, 6.3259e-01, 7.5673e-01],\n",
              "         [1.6661e-01, 5.2180e-01, 7.2751e-01, 6.5662e-01, 4.9674e-01,\n",
              "          7.9434e-01, 4.8550e-01, 7.2306e-01, 7.1503e-01, 4.2063e-01],\n",
              "         [5.0905e-01, 9.0920e-01, 8.2252e-01, 7.2912e-01, 6.9143e-01,\n",
              "          7.5794e-01, 8.3077e-02, 7.0885e-01, 3.8596e-01, 5.0057e-01],\n",
              "         [8.2047e-01, 9.4122e-01, 7.7508e-02, 9.5303e-01, 7.6435e-01,\n",
              "          3.1310e-01, 2.7552e-01, 8.5698e-01, 5.9805e-01, 3.7662e-01],\n",
              "         [2.6109e-01, 1.7653e-01, 9.5600e-01, 5.0299e-01, 1.9419e-01,\n",
              "          8.9175e-01, 9.2555e-01, 9.0368e-01, 5.6391e-01, 4.2760e-01],\n",
              "         [4.3524e-01, 4.3527e-01, 3.3576e-01, 2.0518e-01, 6.1755e-01,\n",
              "          5.8222e-01, 4.7265e-02, 7.4330e-01, 5.5741e-01, 3.4160e-01],\n",
              "         [7.4423e-01, 5.9775e-01, 2.6888e-01, 3.4615e-01, 4.4417e-01,\n",
              "          4.0772e-01, 9.6267e-01, 3.5778e-01, 5.2362e-01, 7.1627e-01],\n",
              "         [9.6340e-01, 6.1319e-01, 2.0389e-01, 8.9412e-01, 7.1915e-01,\n",
              "          3.9241e-01, 9.7286e-01, 6.1847e-01, 2.7420e-01, 7.5491e-01]],\n",
              "\n",
              "        [[6.2102e-02, 1.1260e-01, 7.2484e-01, 1.3342e-01, 2.1347e-01,\n",
              "          1.0361e-01, 9.2498e-01, 6.7659e-01, 2.2082e-01, 6.8614e-01],\n",
              "         [8.0520e-01, 7.9128e-01, 3.3421e-01, 2.1350e-01, 6.0877e-01,\n",
              "          4.2055e-01, 5.8068e-01, 3.5287e-01, 2.9344e-01, 2.9263e-01],\n",
              "         [8.0452e-03, 2.1245e-01, 2.1675e-01, 7.7122e-01, 1.9486e-01,\n",
              "          2.2843e-01, 9.3918e-01, 1.2552e-01, 5.0029e-02, 1.2736e-01],\n",
              "         [8.3002e-01, 1.9769e-01, 4.3406e-01, 4.1520e-01, 7.5935e-01,\n",
              "          6.4047e-01, 6.1458e-01, 4.6451e-01, 4.0765e-01, 2.5061e-01],\n",
              "         [3.8077e-01, 7.4431e-01, 3.7003e-01, 5.0258e-01, 8.9344e-01,\n",
              "          9.3258e-01, 5.4036e-01, 1.0412e-01, 3.7079e-01, 1.9963e-01],\n",
              "         [2.0951e-01, 5.8847e-01, 1.4446e-01, 6.9178e-01, 4.7373e-01,\n",
              "          6.5584e-01, 4.0045e-01, 6.3094e-01, 9.1708e-01, 7.2425e-01],\n",
              "         [6.2268e-02, 3.2156e-01, 8.6790e-01, 8.5635e-01, 8.3593e-01,\n",
              "          4.8983e-01, 5.0695e-01, 5.7068e-02, 9.1268e-01, 7.8583e-01],\n",
              "         [5.7091e-01, 8.3520e-01, 7.9887e-02, 6.9230e-01, 1.0799e-01,\n",
              "          3.9037e-02, 3.1290e-01, 8.0892e-01, 6.9441e-01, 2.1337e-01],\n",
              "         [2.1035e-01, 1.0332e-01, 8.2141e-01, 9.3360e-01, 7.1798e-01,\n",
              "          1.8819e-01, 6.9023e-01, 8.4785e-01, 4.7372e-01, 8.0518e-02],\n",
              "         [9.8724e-01, 9.3292e-01, 1.6245e-01, 3.9773e-01, 4.8543e-01,\n",
              "          8.4651e-01, 7.4854e-01, 3.8920e-01, 1.5425e-01, 4.8930e-01]],\n",
              "\n",
              "        [[9.6279e-01, 3.9397e-01, 8.8034e-01, 5.1596e-02, 6.2819e-01,\n",
              "          9.8899e-01, 2.0070e-01, 2.5747e-01, 4.1279e-02, 1.4061e-01],\n",
              "         [8.9334e-01, 5.5858e-01, 5.6763e-03, 9.3982e-01, 1.7216e-01,\n",
              "          6.6558e-01, 3.0861e-01, 6.8563e-01, 1.2068e-01, 2.1288e-02],\n",
              "         [6.2152e-01, 6.5244e-01, 4.4337e-01, 7.6340e-01, 3.8636e-01,\n",
              "          5.3417e-03, 2.0236e-01, 5.3069e-02, 5.2068e-01, 3.5013e-01],\n",
              "         [1.8555e-02, 6.2652e-01, 6.7112e-01, 7.8586e-01, 8.1792e-01,\n",
              "          2.8772e-01, 1.6397e-01, 7.6711e-01, 3.9570e-01, 8.1949e-01],\n",
              "         [4.7394e-01, 4.2896e-01, 8.8143e-01, 9.7967e-01, 3.8059e-01,\n",
              "          1.8520e-01, 9.0289e-01, 8.1535e-01, 9.6782e-01, 8.3562e-01],\n",
              "         [7.3405e-02, 4.2245e-01, 4.2948e-01, 5.0936e-01, 6.9126e-01,\n",
              "          5.6072e-01, 3.8484e-01, 9.2007e-01, 6.7427e-03, 4.3933e-01],\n",
              "         [3.8755e-01, 8.8594e-01, 6.5597e-01, 3.9427e-02, 6.0954e-01,\n",
              "          9.0159e-01, 7.0738e-01, 4.6461e-01, 8.1064e-01, 7.7415e-01],\n",
              "         [4.4352e-01, 6.0664e-01, 6.9891e-01, 4.5792e-01, 1.5012e-01,\n",
              "          3.5546e-01, 3.8189e-01, 1.3174e-01, 4.0805e-01, 7.1068e-01],\n",
              "         [5.8527e-01, 2.1393e-01, 3.8483e-01, 3.2673e-01, 1.7070e-01,\n",
              "          2.0465e-01, 8.7648e-01, 5.8870e-02, 4.1154e-01, 5.4564e-01],\n",
              "         [3.7252e-01, 4.1031e-01, 1.4701e-01, 7.7243e-01, 3.1040e-01,\n",
              "          5.4143e-01, 1.6817e-01, 9.2873e-01, 7.2953e-01, 7.6599e-01]],\n",
              "\n",
              "        [[5.2129e-01, 9.4412e-01, 1.3819e-01, 4.6519e-01, 2.8934e-02,\n",
              "          1.9493e-01, 7.2575e-02, 3.1109e-01, 7.6227e-01, 6.5354e-01],\n",
              "         [3.4462e-01, 1.6598e-02, 3.3089e-01, 9.2986e-03, 2.6353e-01,\n",
              "          2.1261e-01, 1.6478e-01, 9.9324e-01, 2.7941e-01, 7.2407e-01],\n",
              "         [8.2969e-01, 3.3245e-01, 3.6036e-01, 4.5234e-01, 1.7573e-01,\n",
              "          9.5866e-01, 7.2882e-01, 8.3475e-02, 1.6130e-01, 1.8561e-01],\n",
              "         [7.6335e-01, 4.7510e-01, 5.8231e-01, 4.2742e-01, 2.6413e-01,\n",
              "          8.2954e-01, 1.0980e-01, 7.2372e-01, 3.4128e-01, 8.3918e-01],\n",
              "         [5.3755e-01, 8.5332e-01, 5.2398e-01, 8.2862e-01, 9.3187e-01,\n",
              "          4.5395e-01, 4.7967e-01, 7.1585e-01, 4.5744e-01, 6.5480e-01],\n",
              "         [2.7120e-01, 2.0962e-02, 1.7962e-01, 6.4784e-01, 1.2124e-01,\n",
              "          2.2985e-01, 9.9285e-01, 5.4664e-01, 1.3639e-01, 6.5175e-01],\n",
              "         [5.9511e-01, 4.3869e-01, 1.4510e-01, 8.6251e-01, 8.7655e-01,\n",
              "          1.2975e-01, 7.0453e-01, 7.5309e-01, 3.5786e-01, 7.1951e-01],\n",
              "         [6.8683e-01, 3.2156e-01, 8.6519e-01, 5.1804e-01, 3.8519e-01,\n",
              "          9.7174e-01, 7.8798e-01, 9.6434e-02, 1.3612e-01, 8.0361e-01],\n",
              "         [7.2074e-02, 4.0255e-01, 4.7941e-01, 8.1115e-01, 7.0984e-01,\n",
              "          9.3296e-01, 7.0397e-01, 3.2617e-02, 9.8720e-01, 8.6074e-01],\n",
              "         [6.9613e-02, 3.5395e-01, 8.6808e-01, 7.1619e-01, 9.4737e-01,\n",
              "          6.1336e-01, 7.8250e-01, 5.3444e-01, 2.4632e-01, 8.6315e-01]],\n",
              "\n",
              "        [[3.4882e-01, 2.9182e-01, 1.9600e-02, 1.0567e-01, 7.5535e-01,\n",
              "          1.2635e-02, 8.9950e-01, 4.0822e-01, 7.6156e-01, 1.6304e-01],\n",
              "         [1.7423e-01, 2.7934e-01, 7.1679e-02, 7.8248e-01, 5.1631e-01,\n",
              "          5.9033e-01, 3.0700e-01, 6.8313e-01, 3.9792e-01, 8.9205e-02],\n",
              "         [5.6548e-02, 9.1615e-01, 8.4294e-01, 4.5165e-01, 1.5158e-01,\n",
              "          1.6051e-01, 8.4679e-01, 6.3524e-01, 1.9125e-01, 1.0625e-01],\n",
              "         [2.0727e-01, 6.2727e-01, 1.4749e-01, 7.9919e-01, 8.5778e-01,\n",
              "          1.4882e-01, 9.7932e-01, 2.4039e-01, 1.6676e-01, 7.9273e-01],\n",
              "         [5.2650e-01, 8.5817e-01, 5.6641e-01, 8.6336e-01, 9.5405e-02,\n",
              "          2.2716e-01, 3.6228e-01, 1.0683e-01, 9.2516e-01, 6.4982e-01],\n",
              "         [2.3570e-01, 7.4513e-01, 2.8710e-02, 8.5464e-01, 3.8221e-01,\n",
              "          8.3466e-01, 6.4800e-02, 8.5446e-02, 5.5988e-01, 3.4511e-01],\n",
              "         [7.8565e-01, 1.4984e-01, 4.9236e-01, 5.1174e-01, 7.2094e-02,\n",
              "          3.4180e-01, 4.8565e-01, 9.3387e-01, 9.0657e-02, 7.7590e-01],\n",
              "         [9.8788e-01, 9.9505e-01, 5.6033e-01, 9.8633e-01, 9.4579e-01,\n",
              "          9.3118e-01, 8.3701e-01, 3.4865e-01, 8.6000e-01, 6.4383e-01],\n",
              "         [4.0678e-01, 9.2216e-02, 8.0174e-02, 5.7016e-01, 2.1316e-01,\n",
              "          9.3039e-01, 1.2778e-01, 9.1862e-02, 8.7306e-02, 3.1423e-01],\n",
              "         [5.5278e-01, 9.3707e-01, 1.0187e-01, 1.6297e-01, 8.0033e-01,\n",
              "          7.2807e-01, 9.8351e-01, 5.7532e-01, 2.2095e-01, 1.9381e-01]]])"
            ]
          },
          "metadata": {},
          "execution_count": 25
        }
      ]
    },
    {
      "cell_type": "code",
      "source": [
        "random_tensor.ndim"
      ],
      "metadata": {
        "colab": {
          "base_uri": "https://localhost:8080/"
        },
        "id": "A-LEI0iZttL7",
        "outputId": "2e1f476c-5ffd-45c8-928c-f109ee13d476"
      },
      "execution_count": 26,
      "outputs": [
        {
          "output_type": "execute_result",
          "data": {
            "text/plain": [
              "3"
            ]
          },
          "metadata": {},
          "execution_count": 26
        }
      ]
    },
    {
      "cell_type": "code",
      "source": [
        "random_tensor.shape"
      ],
      "metadata": {
        "colab": {
          "base_uri": "https://localhost:8080/"
        },
        "id": "8XutpiYRtu7_",
        "outputId": "a4b3b851-f910-4702-8746-4301dd4dfb5e"
      },
      "execution_count": 27,
      "outputs": [
        {
          "output_type": "execute_result",
          "data": {
            "text/plain": [
              "torch.Size([10, 10, 10])"
            ]
          },
          "metadata": {},
          "execution_count": 27
        }
      ]
    },
    {
      "cell_type": "code",
      "source": [
        "# Create a random tensor with similar shape to an image tensor\n",
        "random_image_size_tensor = torch.rand(size=(224,224,3)) # height, width, color channels (R, G, B)"
      ],
      "metadata": {
        "id": "3HqELiD4tzVc"
      },
      "execution_count": 28,
      "outputs": []
    },
    {
      "cell_type": "code",
      "source": [
        "random_image_size_tensor"
      ],
      "metadata": {
        "colab": {
          "base_uri": "https://localhost:8080/"
        },
        "id": "KX9DKfo1uM2Q",
        "outputId": "006a946a-8091-4ad3-c235-9e3dfd4d5db0"
      },
      "execution_count": 29,
      "outputs": [
        {
          "output_type": "execute_result",
          "data": {
            "text/plain": [
              "tensor([[[0.0518, 0.9358, 0.0950],\n",
              "         [0.0827, 0.3391, 0.3726],\n",
              "         [0.8090, 0.2977, 0.5468],\n",
              "         ...,\n",
              "         [0.4122, 0.7597, 0.5498],\n",
              "         [0.2100, 0.0215, 0.4515],\n",
              "         [0.9673, 0.8055, 0.0391]],\n",
              "\n",
              "        [[0.8014, 0.2304, 0.7505],\n",
              "         [0.5940, 0.5786, 0.1634],\n",
              "         [0.8307, 0.6110, 0.7990],\n",
              "         ...,\n",
              "         [0.5836, 0.3214, 0.8199],\n",
              "         [0.7267, 0.1941, 0.8030],\n",
              "         [0.2228, 0.8720, 0.3567]],\n",
              "\n",
              "        [[0.7878, 0.4917, 0.5503],\n",
              "         [0.7653, 0.8104, 0.3531],\n",
              "         [0.0772, 0.8445, 0.4644],\n",
              "         ...,\n",
              "         [0.0877, 0.3519, 0.3476],\n",
              "         [0.3447, 0.4857, 0.8405],\n",
              "         [0.0947, 0.9755, 0.6949]],\n",
              "\n",
              "        ...,\n",
              "\n",
              "        [[0.5297, 0.3973, 0.7325],\n",
              "         [0.3755, 0.3322, 0.6006],\n",
              "         [0.2357, 0.4908, 0.3181],\n",
              "         ...,\n",
              "         [0.1097, 0.6872, 0.0794],\n",
              "         [0.6976, 0.7279, 0.2378],\n",
              "         [0.6599, 0.4009, 0.4250]],\n",
              "\n",
              "        [[0.5528, 0.2252, 0.9946],\n",
              "         [0.7858, 0.1228, 0.2704],\n",
              "         [0.3416, 0.9038, 0.0906],\n",
              "         ...,\n",
              "         [0.9116, 0.2494, 0.9223],\n",
              "         [0.0762, 0.1785, 0.0192],\n",
              "         [0.6096, 0.1373, 0.8332]],\n",
              "\n",
              "        [[0.1326, 0.2929, 0.2104],\n",
              "         [0.6059, 0.1145, 0.6879],\n",
              "         [0.7710, 0.5104, 0.7517],\n",
              "         ...,\n",
              "         [0.1852, 0.3922, 0.2546],\n",
              "         [0.1761, 0.0437, 0.9453],\n",
              "         [0.2575, 0.3624, 0.3009]]])"
            ]
          },
          "metadata": {},
          "execution_count": 29
        }
      ]
    },
    {
      "cell_type": "code",
      "source": [
        "random_image_size_tensor.shape, random_image_size_tensor.ndim"
      ],
      "metadata": {
        "colab": {
          "base_uri": "https://localhost:8080/"
        },
        "id": "atcV6AL7uQ2O",
        "outputId": "e4d19d5a-663b-4875-a81d-e829fd2be1ef"
      },
      "execution_count": 30,
      "outputs": [
        {
          "output_type": "execute_result",
          "data": {
            "text/plain": [
              "(torch.Size([224, 224, 3]), 3)"
            ]
          },
          "metadata": {},
          "execution_count": 30
        }
      ]
    },
    {
      "cell_type": "code",
      "source": [
        "# Create a random tensor with similar shape to one second of video at 30fps tensor\n",
        "random_video_size_tensor = torch.rand(size=(224,224,3,30)) # height, width, color channels (R, G, B), frame"
      ],
      "metadata": {
        "id": "T-DJpKiTuaUW"
      },
      "execution_count": 31,
      "outputs": []
    },
    {
      "cell_type": "code",
      "source": [
        "random_video_size_tensor.shape, random_image_size_tensor.ndim\n"
      ],
      "metadata": {
        "colab": {
          "base_uri": "https://localhost:8080/"
        },
        "id": "449IX1dZvBPI",
        "outputId": "02f6543d-d916-4c1d-f34c-b62c010ce417"
      },
      "execution_count": 32,
      "outputs": [
        {
          "output_type": "execute_result",
          "data": {
            "text/plain": [
              "(torch.Size([224, 224, 3, 30]), 3)"
            ]
          },
          "metadata": {},
          "execution_count": 32
        }
      ]
    },
    {
      "cell_type": "markdown",
      "source": [
        "### Zeros and ones"
      ],
      "metadata": {
        "id": "H8Ig9qGUvJsm"
      }
    },
    {
      "cell_type": "code",
      "source": [
        "# Create a tensor of all zeros\n",
        "zeros = torch.zeros(size=(3,4))\n",
        "zeros"
      ],
      "metadata": {
        "colab": {
          "base_uri": "https://localhost:8080/"
        },
        "id": "McWS9zoyvbHB",
        "outputId": "6e9b0d34-1600-4701-84eb-75094ebfa9c8"
      },
      "execution_count": 33,
      "outputs": [
        {
          "output_type": "execute_result",
          "data": {
            "text/plain": [
              "tensor([[0., 0., 0., 0.],\n",
              "        [0., 0., 0., 0.],\n",
              "        [0., 0., 0., 0.]])"
            ]
          },
          "metadata": {},
          "execution_count": 33
        }
      ]
    },
    {
      "cell_type": "code",
      "source": [
        "random_tensor= torch.rand(3,4)\n",
        "random_tensor"
      ],
      "metadata": {
        "colab": {
          "base_uri": "https://localhost:8080/"
        },
        "id": "Dcl7FpuRvjCL",
        "outputId": "0f359784-ae82-451a-b7e2-864ef213106c"
      },
      "execution_count": 34,
      "outputs": [
        {
          "output_type": "execute_result",
          "data": {
            "text/plain": [
              "tensor([[0.2937, 0.9310, 0.8111, 0.7615],\n",
              "        [0.8279, 0.9590, 0.5291, 0.7029],\n",
              "        [0.3876, 0.4402, 0.1717, 0.3303]])"
            ]
          },
          "metadata": {},
          "execution_count": 34
        }
      ]
    },
    {
      "cell_type": "code",
      "source": [
        "zeros*random_tensor"
      ],
      "metadata": {
        "colab": {
          "base_uri": "https://localhost:8080/"
        },
        "id": "PvY4FwLdvonu",
        "outputId": "e71396b8-3106-4740-ce8d-91a8a2be46db"
      },
      "execution_count": 35,
      "outputs": [
        {
          "output_type": "execute_result",
          "data": {
            "text/plain": [
              "tensor([[0., 0., 0., 0.],\n",
              "        [0., 0., 0., 0.],\n",
              "        [0., 0., 0., 0.]])"
            ]
          },
          "metadata": {},
          "execution_count": 35
        }
      ]
    },
    {
      "cell_type": "code",
      "source": [
        "# Create a tensor of all ones\n",
        "ones = torch.ones(size=(3,4))\n",
        "ones"
      ],
      "metadata": {
        "colab": {
          "base_uri": "https://localhost:8080/"
        },
        "id": "nDkjS6i_v8wh",
        "outputId": "5b80582d-4141-4e7a-fa80-5acccb723799"
      },
      "execution_count": 36,
      "outputs": [
        {
          "output_type": "execute_result",
          "data": {
            "text/plain": [
              "tensor([[1., 1., 1., 1.],\n",
              "        [1., 1., 1., 1.],\n",
              "        [1., 1., 1., 1.]])"
            ]
          },
          "metadata": {},
          "execution_count": 36
        }
      ]
    },
    {
      "cell_type": "code",
      "source": [
        "ones.dtype"
      ],
      "metadata": {
        "colab": {
          "base_uri": "https://localhost:8080/"
        },
        "id": "S_2ph5RNwP0O",
        "outputId": "09ddb695-68b0-4d77-8611-869e39e6880d"
      },
      "execution_count": 37,
      "outputs": [
        {
          "output_type": "execute_result",
          "data": {
            "text/plain": [
              "torch.float32"
            ]
          },
          "metadata": {},
          "execution_count": 37
        }
      ]
    },
    {
      "cell_type": "code",
      "source": [
        "random_tensor.dtype"
      ],
      "metadata": {
        "colab": {
          "base_uri": "https://localhost:8080/"
        },
        "id": "JtstdZF_wVno",
        "outputId": "4d4cbe2b-7092-4d6c-8db1-2e49f61fd265"
      },
      "execution_count": 38,
      "outputs": [
        {
          "output_type": "execute_result",
          "data": {
            "text/plain": [
              "torch.float32"
            ]
          },
          "metadata": {},
          "execution_count": 38
        }
      ]
    },
    {
      "cell_type": "markdown",
      "source": [
        "### Creating a range of tensors and tensors-like\n",
        "\n",
        "range is deprecated use arange in future - https://pytorch.org/docs/stable/generated/torch.arange.html"
      ],
      "metadata": {
        "id": "LkkaeNTmwYvZ"
      }
    },
    {
      "cell_type": "code",
      "source": [
        "# Use torch.range() \n",
        "# torch.range() is deprecated going forward so don't use it\n",
        "torch.range(0,10)"
      ],
      "metadata": {
        "colab": {
          "base_uri": "https://localhost:8080/"
        },
        "id": "2vKEcY2Owopx",
        "outputId": "82e3037f-3a65-4b43-c55c-14e29322ee9b"
      },
      "execution_count": 39,
      "outputs": [
        {
          "output_type": "stream",
          "name": "stderr",
          "text": [
            "/usr/local/lib/python3.7/dist-packages/ipykernel_launcher.py:3: UserWarning: torch.range is deprecated and will be removed in a future release because its behavior is inconsistent with Python's range builtin. Instead, use torch.arange, which produces values in [start, end).\n",
            "  This is separate from the ipykernel package so we can avoid doing imports until\n"
          ]
        },
        {
          "output_type": "execute_result",
          "data": {
            "text/plain": [
              "tensor([ 0.,  1.,  2.,  3.,  4.,  5.,  6.,  7.,  8.,  9., 10.])"
            ]
          },
          "metadata": {},
          "execution_count": 39
        }
      ]
    },
    {
      "cell_type": "code",
      "source": [
        "one_to_ten = torch.arange(1, 11)\n",
        "one_to_ten"
      ],
      "metadata": {
        "colab": {
          "base_uri": "https://localhost:8080/"
        },
        "id": "sbDiW_kdwtde",
        "outputId": "c37186b8-10c7-4ab1-95e3-1b96bf78e5ce"
      },
      "execution_count": 40,
      "outputs": [
        {
          "output_type": "execute_result",
          "data": {
            "text/plain": [
              "tensor([ 1,  2,  3,  4,  5,  6,  7,  8,  9, 10])"
            ]
          },
          "metadata": {},
          "execution_count": 40
        }
      ]
    },
    {
      "cell_type": "code",
      "source": [
        " one_to_something = torch.arange(start=1, end=1000, step=77)\n",
        " one_to_something"
      ],
      "metadata": {
        "colab": {
          "base_uri": "https://localhost:8080/"
        },
        "id": "K-ejQqzWwxHo",
        "outputId": "f53bfeac-8b69-43b9-cf45-94c2c8631902"
      },
      "execution_count": 41,
      "outputs": [
        {
          "output_type": "execute_result",
          "data": {
            "text/plain": [
              "tensor([  1,  78, 155, 232, 309, 386, 463, 540, 617, 694, 771, 848, 925])"
            ]
          },
          "metadata": {},
          "execution_count": 41
        }
      ]
    },
    {
      "cell_type": "code",
      "source": [
        "one_to_ten2 = torch.arange(start=1, end=11, step=1)\n",
        "one_to_ten2"
      ],
      "metadata": {
        "colab": {
          "base_uri": "https://localhost:8080/"
        },
        "id": "HjKEdx-yxK5k",
        "outputId": "ad382083-ac56-41fe-9063-61458813547b"
      },
      "execution_count": 42,
      "outputs": [
        {
          "output_type": "execute_result",
          "data": {
            "text/plain": [
              "tensor([ 1,  2,  3,  4,  5,  6,  7,  8,  9, 10])"
            ]
          },
          "metadata": {},
          "execution_count": 42
        }
      ]
    },
    {
      "cell_type": "code",
      "source": [
        "# Creating tensors like\n",
        "one_to_ten.shape"
      ],
      "metadata": {
        "colab": {
          "base_uri": "https://localhost:8080/"
        },
        "id": "kEeWrRiixYlC",
        "outputId": "f67a4b91-fe1e-4a93-e76c-29a78bceb15c"
      },
      "execution_count": 43,
      "outputs": [
        {
          "output_type": "execute_result",
          "data": {
            "text/plain": [
              "torch.Size([10])"
            ]
          },
          "metadata": {},
          "execution_count": 43
        }
      ]
    },
    {
      "cell_type": "code",
      "source": [
        "ten_zeros = torch.zeros_like(input=one_to_ten)\n",
        "ten_zeros"
      ],
      "metadata": {
        "colab": {
          "base_uri": "https://localhost:8080/"
        },
        "id": "eI-XuPI_xrEg",
        "outputId": "cf8f02a0-30f4-45e9-83ae-7fa251f7e798"
      },
      "execution_count": 44,
      "outputs": [
        {
          "output_type": "execute_result",
          "data": {
            "text/plain": [
              "tensor([0, 0, 0, 0, 0, 0, 0, 0, 0, 0])"
            ]
          },
          "metadata": {},
          "execution_count": 44
        }
      ]
    },
    {
      "cell_type": "markdown",
      "source": [
        "### Tensor datatypes\n",
        "\n",
        "**Note:** Tensor datatypes is one of the 3 big errors you'll run into with PyTorch & deep learning:\n",
        "1. Tensors not right datatype\n",
        "2. Tensors not right shape\n",
        "3. Tensors not on the right device"
      ],
      "metadata": {
        "id": "n7j6uanNxzQK"
      }
    },
    {
      "cell_type": "code",
      "source": [
        "# Float 32 tensor\n",
        "float_32_tensor = torch.tensor([3.0, 6.0, 9.0],\n",
        "                               dtype=None, # What datatype is the tensor (e.g. float32 or float16 etc)\n",
        "                               device=None, # What device is your tensor on? by default this is CPU or cuda for example\n",
        "                               requires_grad=False # Whether or not to track gradients with this tensors operations\n",
        "                               )\n",
        "float_32_tensor"
      ],
      "metadata": {
        "colab": {
          "base_uri": "https://localhost:8080/"
        },
        "id": "tefbqsk-yeX1",
        "outputId": "1945d2a9-ca78-401a-ab01-ff17abb6f280"
      },
      "execution_count": 45,
      "outputs": [
        {
          "output_type": "execute_result",
          "data": {
            "text/plain": [
              "tensor([3., 6., 9.])"
            ]
          },
          "metadata": {},
          "execution_count": 45
        }
      ]
    },
    {
      "cell_type": "code",
      "source": [
        "float_32_tensor.dtype"
      ],
      "metadata": {
        "colab": {
          "base_uri": "https://localhost:8080/"
        },
        "id": "drYFOMGxykla",
        "outputId": "9822afd3-ef5b-480d-f1e2-ab4c6a482fbb"
      },
      "execution_count": 46,
      "outputs": [
        {
          "output_type": "execute_result",
          "data": {
            "text/plain": [
              "torch.float32"
            ]
          },
          "metadata": {},
          "execution_count": 46
        }
      ]
    },
    {
      "cell_type": "code",
      "source": [
        "float_16_tensor = float_32_tensor.type(torch.float16) # Can also be torch.half"
      ],
      "metadata": {
        "id": "xd158PIe2sas"
      },
      "execution_count": 47,
      "outputs": []
    },
    {
      "cell_type": "code",
      "source": [
        "float_16_tensor.dtype"
      ],
      "metadata": {
        "colab": {
          "base_uri": "https://localhost:8080/"
        },
        "id": "yeDS8Uql22Ss",
        "outputId": "b69c7618-dea0-4124-81f0-fd9b36cba728"
      },
      "execution_count": 48,
      "outputs": [
        {
          "output_type": "execute_result",
          "data": {
            "text/plain": [
              "torch.float16"
            ]
          },
          "metadata": {},
          "execution_count": 48
        }
      ]
    },
    {
      "cell_type": "code",
      "source": [
        "float_16_tensor"
      ],
      "metadata": {
        "colab": {
          "base_uri": "https://localhost:8080/"
        },
        "id": "7NwmMXDs245a",
        "outputId": "ec8cb39f-de38-4200-a851-29f98afe78d3"
      },
      "execution_count": 49,
      "outputs": [
        {
          "output_type": "execute_result",
          "data": {
            "text/plain": [
              "tensor([3., 6., 9.], dtype=torch.float16)"
            ]
          },
          "metadata": {},
          "execution_count": 49
        }
      ]
    },
    {
      "cell_type": "code",
      "source": [
        "float_16_tensor * float_32_tensor # Intuitively this shouldn't work because of different datatypes but it does work"
      ],
      "metadata": {
        "colab": {
          "base_uri": "https://localhost:8080/"
        },
        "id": "lLo3_jLr2-NH",
        "outputId": "bb2998db-829f-4a3e-bbe8-3c1180f80680"
      },
      "execution_count": 50,
      "outputs": [
        {
          "output_type": "execute_result",
          "data": {
            "text/plain": [
              "tensor([ 9., 36., 81.])"
            ]
          },
          "metadata": {},
          "execution_count": 50
        }
      ]
    },
    {
      "cell_type": "code",
      "source": [
        "int_32_tensor = torch.tensor([3, 6, 9], dtype=torch.int32)"
      ],
      "metadata": {
        "id": "SzaF_cMw3UTr"
      },
      "execution_count": 51,
      "outputs": []
    },
    {
      "cell_type": "code",
      "source": [
        "float_32_tensor * int_32_tensor # Also shouldn't work intuitively but it does"
      ],
      "metadata": {
        "colab": {
          "base_uri": "https://localhost:8080/"
        },
        "id": "ySCq7XOS3goq",
        "outputId": "aa852b7a-a961-4f5e-f535-353326ad143b"
      },
      "execution_count": 52,
      "outputs": [
        {
          "output_type": "execute_result",
          "data": {
            "text/plain": [
              "tensor([ 9., 36., 81.])"
            ]
          },
          "metadata": {},
          "execution_count": 52
        }
      ]
    },
    {
      "cell_type": "code",
      "source": [
        "int_32_tensor = torch.tensor([3, 6, 9], dtype=torch.long)"
      ],
      "metadata": {
        "id": "edDxdwan3wNl"
      },
      "execution_count": 53,
      "outputs": []
    },
    {
      "cell_type": "code",
      "source": [
        "float_32_tensor * int_32_tensor # Same thing!"
      ],
      "metadata": {
        "colab": {
          "base_uri": "https://localhost:8080/"
        },
        "id": "BkPRCcuW4BWO",
        "outputId": "28a54489-2ed6-4fb1-d0fb-aa0681d940ed"
      },
      "execution_count": 54,
      "outputs": [
        {
          "output_type": "execute_result",
          "data": {
            "text/plain": [
              "tensor([ 9., 36., 81.])"
            ]
          },
          "metadata": {},
          "execution_count": 54
        }
      ]
    },
    {
      "cell_type": "markdown",
      "source": [
        "### Getting information from tensors\n",
        "\n",
        "1. Tensors not right datatype - to do get datatype from a tensor, and use `tensor.dtype`\n",
        "2. Tensors not the right shape - to get shape from a tensor, can use `tensor.shape`\n",
        "3. Tensors not on the right device - to get device from a tensor, can use `tensor.device`"
      ],
      "metadata": {
        "id": "AqT2HM5R4F1t"
      }
    },
    {
      "cell_type": "code",
      "source": [
        "# Create a tensor\n",
        "some_tensor = torch.rand([3,4])\n",
        "some_tensor"
      ],
      "metadata": {
        "colab": {
          "base_uri": "https://localhost:8080/"
        },
        "id": "pjv0fINj4gV4",
        "outputId": "e65c4747-1f4c-49e8-8a8e-fd93f3fad79f"
      },
      "execution_count": 55,
      "outputs": [
        {
          "output_type": "execute_result",
          "data": {
            "text/plain": [
              "tensor([[0.5534, 0.3061, 0.1716, 0.5225],\n",
              "        [0.7268, 0.7806, 0.4382, 0.1656],\n",
              "        [0.9373, 0.4924, 0.0200, 0.4968]])"
            ]
          },
          "metadata": {},
          "execution_count": 55
        }
      ]
    },
    {
      "cell_type": "code",
      "source": [
        "# Find out details about some tensor\n",
        "print(some_tensor)\n",
        "print(f\"Datatype of tensor: {some_tensor.dtype}\")\n",
        "print(f\"Shape of tensor: {some_tensor.shape}\") # Can also be some_tensor.size() which is function\n",
        "print(f\"Device tensor is on: {some_tensor.device}\") # CPU is the default tensor"
      ],
      "metadata": {
        "colab": {
          "base_uri": "https://localhost:8080/"
        },
        "id": "5dLGP_rX4l0a",
        "outputId": "dbbcb80e-2286-4dde-cad9-79997be8d06b"
      },
      "execution_count": 56,
      "outputs": [
        {
          "output_type": "stream",
          "name": "stdout",
          "text": [
            "tensor([[0.5534, 0.3061, 0.1716, 0.5225],\n",
            "        [0.7268, 0.7806, 0.4382, 0.1656],\n",
            "        [0.9373, 0.4924, 0.0200, 0.4968]])\n",
            "Datatype of tensor: torch.float32\n",
            "Shape of tensor: torch.Size([3, 4])\n",
            "Device tensor is on: cpu\n"
          ]
        }
      ]
    },
    {
      "cell_type": "markdown",
      "source": [
        "### Manipulating Tensors (tensor operations)\n",
        "\n",
        "Tensor operations include:\n",
        "* Addition\n",
        "* Subtraction\n",
        "* Multiplication (element-wise)\n",
        "* Division\n",
        "* Matrix Multiplication"
      ],
      "metadata": {
        "id": "1eJQYfLq5D_p"
      }
    },
    {
      "cell_type": "code",
      "source": [
        "# Create a tensor\n",
        "\n",
        "tensor = torch.tensor([1,2,3])\n",
        "tensor + 10"
      ],
      "metadata": {
        "colab": {
          "base_uri": "https://localhost:8080/"
        },
        "id": "KeVOIdxVGguO",
        "outputId": "054dca52-4238-41a1-f9a9-21da91d289b5"
      },
      "execution_count": 57,
      "outputs": [
        {
          "output_type": "execute_result",
          "data": {
            "text/plain": [
              "tensor([11, 12, 13])"
            ]
          },
          "metadata": {},
          "execution_count": 57
        }
      ]
    },
    {
      "cell_type": "code",
      "source": [
        "tensor + 100"
      ],
      "metadata": {
        "colab": {
          "base_uri": "https://localhost:8080/"
        },
        "id": "K-RESjTdGpRq",
        "outputId": "46c1c30b-238f-4991-f063-188f80229721"
      },
      "execution_count": 58,
      "outputs": [
        {
          "output_type": "execute_result",
          "data": {
            "text/plain": [
              "tensor([101, 102, 103])"
            ]
          },
          "metadata": {},
          "execution_count": 58
        }
      ]
    },
    {
      "cell_type": "code",
      "source": [
        "# Multiply a tensor by 10\n",
        "tensor * 10\n"
      ],
      "metadata": {
        "colab": {
          "base_uri": "https://localhost:8080/"
        },
        "id": "BOvQsXl9GrB2",
        "outputId": "5deabad8-67df-4996-d21e-94025c2f50c9"
      },
      "execution_count": 59,
      "outputs": [
        {
          "output_type": "execute_result",
          "data": {
            "text/plain": [
              "tensor([10, 20, 30])"
            ]
          },
          "metadata": {},
          "execution_count": 59
        }
      ]
    },
    {
      "cell_type": "code",
      "source": [
        "tensor"
      ],
      "metadata": {
        "colab": {
          "base_uri": "https://localhost:8080/"
        },
        "id": "ajrhzmYDGwAq",
        "outputId": "8a156165-3eff-4bda-8273-ceee045d8375"
      },
      "execution_count": 60,
      "outputs": [
        {
          "output_type": "execute_result",
          "data": {
            "text/plain": [
              "tensor([1, 2, 3])"
            ]
          },
          "metadata": {},
          "execution_count": 60
        }
      ]
    },
    {
      "cell_type": "code",
      "source": [
        "# Subtract 10\n",
        "tensor - 10"
      ],
      "metadata": {
        "colab": {
          "base_uri": "https://localhost:8080/"
        },
        "id": "SFAa0HoAGyji",
        "outputId": "992980e3-4172-4ed6-c082-9d2c8513628f"
      },
      "execution_count": 61,
      "outputs": [
        {
          "output_type": "execute_result",
          "data": {
            "text/plain": [
              "tensor([-9, -8, -7])"
            ]
          },
          "metadata": {},
          "execution_count": 61
        }
      ]
    },
    {
      "cell_type": "code",
      "source": [
        "# Tryout PyTorch in-built functions\n",
        "# But generally use the python in builts because why not???\n",
        "torch.mul(tensor, 10)"
      ],
      "metadata": {
        "colab": {
          "base_uri": "https://localhost:8080/"
        },
        "id": "tu0YmOQqG6Fp",
        "outputId": "73e3d1d5-793e-4678-bfdd-c380e2e79cfc"
      },
      "execution_count": 62,
      "outputs": [
        {
          "output_type": "execute_result",
          "data": {
            "text/plain": [
              "tensor([10, 20, 30])"
            ]
          },
          "metadata": {},
          "execution_count": 62
        }
      ]
    },
    {
      "cell_type": "code",
      "source": [
        "torch.add(tensor, 10)"
      ],
      "metadata": {
        "colab": {
          "base_uri": "https://localhost:8080/"
        },
        "id": "eFBNHmbYHNRU",
        "outputId": "171a726c-9080-4118-f820-4aa3eaedbcb3"
      },
      "execution_count": 63,
      "outputs": [
        {
          "output_type": "execute_result",
          "data": {
            "text/plain": [
              "tensor([11, 12, 13])"
            ]
          },
          "metadata": {},
          "execution_count": 63
        }
      ]
    },
    {
      "cell_type": "markdown",
      "source": [
        "### Matrix multiplication\n",
        "\n",
        "Two main ways of performing muliplication in neural networks and deep learning:\n",
        "\n",
        "1. Element-wise multiplication\n",
        "2. Matrix multiplication (dot product)\n",
        "\n",
        "More information on multiplying matrices - https://www.mathsisfun.com/algebra/matrix-multiplying.html\n"
      ],
      "metadata": {
        "id": "DEJenxGiIYFK"
      }
    },
    {
      "cell_type": "code",
      "source": [
        "# Element wise multiplication\n",
        "print(tensor, \"*\", tensor)\n",
        "print(f\"Equals: {tensor*tensor}\")"
      ],
      "metadata": {
        "colab": {
          "base_uri": "https://localhost:8080/"
        },
        "id": "PZFp9g8dJDxh",
        "outputId": "a64a7cb4-4be8-4631-a774-5c95182ae5c7"
      },
      "execution_count": 65,
      "outputs": [
        {
          "output_type": "stream",
          "name": "stdout",
          "text": [
            "tensor([1, 2, 3]) * tensor([1, 2, 3])\n",
            "Equals: tensor([1, 4, 9])\n"
          ]
        }
      ]
    },
    {
      "cell_type": "code",
      "source": [
        "# Matrix multiplication\n",
        "torch.matmul(tensor, tensor)"
      ],
      "metadata": {
        "colab": {
          "base_uri": "https://localhost:8080/"
        },
        "id": "BpVby1EXJIEJ",
        "outputId": "db598eea-a225-406e-ed2f-d41c6f58f871"
      },
      "execution_count": 66,
      "outputs": [
        {
          "output_type": "execute_result",
          "data": {
            "text/plain": [
              "tensor(14)"
            ]
          },
          "metadata": {},
          "execution_count": 66
        }
      ]
    },
    {
      "cell_type": "code",
      "source": [
        "# Matrix multiplication by hand\n",
        "\n",
        "1*1 + 2*2 + 3*3"
      ],
      "metadata": {
        "colab": {
          "base_uri": "https://localhost:8080/"
        },
        "id": "zYmcfZmAJbvp",
        "outputId": "d0ca9ae5-fd4d-444d-bedf-502f2b93d3aa"
      },
      "execution_count": 67,
      "outputs": [
        {
          "output_type": "execute_result",
          "data": {
            "text/plain": [
              "14"
            ]
          },
          "metadata": {},
          "execution_count": 67
        }
      ]
    },
    {
      "cell_type": "code",
      "source": [
        "%%time\n",
        "value = 0\n",
        "for i in range(len(tensor)):\n",
        "  value += tensor[i] * tensor[i]\n",
        "print(value)"
      ],
      "metadata": {
        "colab": {
          "base_uri": "https://localhost:8080/"
        },
        "id": "B3v4hkSDJrJc",
        "outputId": "22fde916-4813-4668-c46f-cc981435fe48"
      },
      "execution_count": 71,
      "outputs": [
        {
          "output_type": "stream",
          "name": "stdout",
          "text": [
            "tensor(14)\n",
            "CPU times: user 406 µs, sys: 40 µs, total: 446 µs\n",
            "Wall time: 463 µs\n"
          ]
        }
      ]
    },
    {
      "cell_type": "code",
      "source": [
        "%%time\n",
        "torch.matmul(tensor,tensor)"
      ],
      "metadata": {
        "colab": {
          "base_uri": "https://localhost:8080/"
        },
        "id": "ZhKI8CJ5J8S3",
        "outputId": "b602b37a-4265-49bf-82e7-f311ba25c7e7"
      },
      "execution_count": 72,
      "outputs": [
        {
          "output_type": "stream",
          "name": "stdout",
          "text": [
            "CPU times: user 895 µs, sys: 0 ns, total: 895 µs\n",
            "Wall time: 902 µs\n"
          ]
        },
        {
          "output_type": "execute_result",
          "data": {
            "text/plain": [
              "tensor(14)"
            ]
          },
          "metadata": {},
          "execution_count": 72
        }
      ]
    },
    {
      "cell_type": "code",
      "source": [],
      "metadata": {
        "id": "v0rKqyv1KEPH"
      },
      "execution_count": null,
      "outputs": []
    }
  ]
}