{
  "nbformat": 4,
  "nbformat_minor": 0,
  "metadata": {
    "colab": {
      "provenance": [],
      "authorship_tag": "ABX9TyOX0M4SC7BiXrE953+7A5MY",
      "include_colab_link": true
    },
    "kernelspec": {
      "name": "python3",
      "display_name": "Python 3"
    },
    "language_info": {
      "name": "python"
    },
    "gpuClass": "standard"
  },
  "cells": [
    {
      "cell_type": "markdown",
      "metadata": {
        "id": "view-in-github",
        "colab_type": "text"
      },
      "source": [
        "<a href=\"https://colab.research.google.com/github/chriswilson2020/PyTorchCoLab/blob/main/00_PyTorch_Fundamentals_Video.ipynb\" target=\"_parent\"><img src=\"https://colab.research.google.com/assets/colab-badge.svg\" alt=\"Open In Colab\"/></a>"
      ]
    },
    {
      "cell_type": "markdown",
      "source": [
        "00_. PyTorch Fundamentals\n",
        "Resource notebook: https:www.learnpytorch.io/00_pytorch_fundamentals/\n",
        "If you have a question: https://githubcom/mrdbourke/pytorch-deep-learning/discussions\n"
      ],
      "metadata": {
        "id": "fl1aNBXAf-IX"
      }
    },
    {
      "cell_type": "code",
      "source": [
        "import torch\n",
        "import numpy as np\n",
        "import pandas as pd\n",
        "import matplotlib.pyplot as plt\n",
        "print(torch.__version__)"
      ],
      "metadata": {
        "colab": {
          "base_uri": "https://localhost:8080/"
        },
        "id": "sIU1AfSBexgh",
        "outputId": "973f376c-5a30-4501-ae64-c1e2bcf00733"
      },
      "execution_count": 4,
      "outputs": [
        {
          "output_type": "stream",
          "name": "stdout",
          "text": [
            "1.12.1+cu113\n"
          ]
        }
      ]
    },
    {
      "cell_type": "markdown",
      "source": [
        "## Introduction to Tensors\n",
        "\n",
        "### Creating tensors\n",
        "\n",
        "PyTorch tensors are created using ` torch.Tensor()`= https://pytorch.org/docs/stable/tensors.html\n",
        "\n",
        "\n",
        "![ScalarvectorMatrixTensor.png](data:image/png;base64,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)\n"
      ],
      "metadata": {
        "id": "Vlt4ZvFslIH2"
      }
    },
    {
      "cell_type": "code",
      "source": [
        "# scalar\n",
        "scalar = torch.tensor(7)\n",
        "scalar"
      ],
      "metadata": {
        "colab": {
          "base_uri": "https://localhost:8080/"
        },
        "id": "eum_MlDsldaJ",
        "outputId": "9d215009-d666-4390-92aa-c5eae6f97077"
      },
      "execution_count": 5,
      "outputs": [
        {
          "output_type": "execute_result",
          "data": {
            "text/plain": [
              "tensor(7)"
            ]
          },
          "metadata": {},
          "execution_count": 5
        }
      ]
    },
    {
      "cell_type": "code",
      "source": [
        "scalar.ndim"
      ],
      "metadata": {
        "colab": {
          "base_uri": "https://localhost:8080/"
        },
        "id": "rNEPoT_tmPsr",
        "outputId": "daf2f248-88c0-4ba8-dc60-2d3c64288852"
      },
      "execution_count": 6,
      "outputs": [
        {
          "output_type": "execute_result",
          "data": {
            "text/plain": [
              "0"
            ]
          },
          "metadata": {},
          "execution_count": 6
        }
      ]
    },
    {
      "cell_type": "code",
      "source": [
        "# Get tensor back as Python int\n",
        "scalar.item()"
      ],
      "metadata": {
        "colab": {
          "base_uri": "https://localhost:8080/"
        },
        "id": "QCKoRQsNmxtj",
        "outputId": "6324fffe-cbf2-4e3a-c92c-c2148948e2b3"
      },
      "execution_count": 8,
      "outputs": [
        {
          "output_type": "execute_result",
          "data": {
            "text/plain": [
              "7"
            ]
          },
          "metadata": {},
          "execution_count": 8
        }
      ]
    },
    {
      "cell_type": "code",
      "source": [
        "# Vector\n",
        "vector = torch.tensor([7, 7])"
      ],
      "metadata": {
        "id": "B3vroJvhnBS4"
      },
      "execution_count": 9,
      "outputs": []
    },
    {
      "cell_type": "code",
      "source": [
        "vector.ndim"
      ],
      "metadata": {
        "colab": {
          "base_uri": "https://localhost:8080/"
        },
        "id": "jbrf73DunJAo",
        "outputId": "fe8e018f-a50e-4b86-9a7d-4abbcf23ab16"
      },
      "execution_count": 10,
      "outputs": [
        {
          "output_type": "execute_result",
          "data": {
            "text/plain": [
              "1"
            ]
          },
          "metadata": {},
          "execution_count": 10
        }
      ]
    },
    {
      "cell_type": "code",
      "source": [
        "vector.shape"
      ],
      "metadata": {
        "colab": {
          "base_uri": "https://localhost:8080/"
        },
        "id": "fkNta7RonRf-",
        "outputId": "ae797e00-c660-45e1-ab54-c2a251275fae"
      },
      "execution_count": 11,
      "outputs": [
        {
          "output_type": "execute_result",
          "data": {
            "text/plain": [
              "torch.Size([2])"
            ]
          },
          "metadata": {},
          "execution_count": 11
        }
      ]
    },
    {
      "cell_type": "code",
      "source": [
        "# MATRIX\n",
        "MATRIX = torch.tensor([[7, 8],\n",
        "                       [9, 10]])\n",
        "MATRIX"
      ],
      "metadata": {
        "colab": {
          "base_uri": "https://localhost:8080/"
        },
        "id": "td8f2g4RnrZ6",
        "outputId": "ebfc4229-7091-4aac-9a62-0dd312db3f4e"
      },
      "execution_count": 14,
      "outputs": [
        {
          "output_type": "execute_result",
          "data": {
            "text/plain": [
              "tensor([[ 7,  8],\n",
              "        [ 9, 10]])"
            ]
          },
          "metadata": {},
          "execution_count": 14
        }
      ]
    },
    {
      "cell_type": "code",
      "source": [
        "MATRIX.ndim"
      ],
      "metadata": {
        "colab": {
          "base_uri": "https://localhost:8080/"
        },
        "id": "qD3_1mrRn9uX",
        "outputId": "22ee597f-45e2-4d11-85cf-0aed039ba874"
      },
      "execution_count": 15,
      "outputs": [
        {
          "output_type": "execute_result",
          "data": {
            "text/plain": [
              "2"
            ]
          },
          "metadata": {},
          "execution_count": 15
        }
      ]
    },
    {
      "cell_type": "code",
      "source": [
        "MATRIX[0]"
      ],
      "metadata": {
        "colab": {
          "base_uri": "https://localhost:8080/"
        },
        "id": "dVYy51yQoLMk",
        "outputId": "9c60c608-fbbe-4e0f-89c5-e3524870ce82"
      },
      "execution_count": 16,
      "outputs": [
        {
          "output_type": "execute_result",
          "data": {
            "text/plain": [
              "tensor([7, 8])"
            ]
          },
          "metadata": {},
          "execution_count": 16
        }
      ]
    },
    {
      "cell_type": "code",
      "source": [
        "MATRIX[1]"
      ],
      "metadata": {
        "colab": {
          "base_uri": "https://localhost:8080/"
        },
        "id": "F2eNt6_loNa_",
        "outputId": "5aec79bc-feb2-44c3-e14a-2343ff7bf4e5"
      },
      "execution_count": 17,
      "outputs": [
        {
          "output_type": "execute_result",
          "data": {
            "text/plain": [
              "tensor([ 9, 10])"
            ]
          },
          "metadata": {},
          "execution_count": 17
        }
      ]
    },
    {
      "cell_type": "code",
      "source": [
        "MATRIX.shape"
      ],
      "metadata": {
        "colab": {
          "base_uri": "https://localhost:8080/"
        },
        "id": "W1GodcWooQYN",
        "outputId": "658e22df-6613-4459-eb3f-cba438bac750"
      },
      "execution_count": 18,
      "outputs": [
        {
          "output_type": "execute_result",
          "data": {
            "text/plain": [
              "torch.Size([2, 2])"
            ]
          },
          "metadata": {},
          "execution_count": 18
        }
      ]
    },
    {
      "cell_type": "code",
      "source": [
        "# TENSOR\n",
        "TENSOR = torch.tensor([[[1,2,3],\n",
        "                        [3,6,9],\n",
        "                        [2,4,5]]])\n",
        "TENSOR"
      ],
      "metadata": {
        "colab": {
          "base_uri": "https://localhost:8080/"
        },
        "id": "HFzBsxGXoSDy",
        "outputId": "bdde1a0f-ecc5-4ae6-f576-c2d232057388"
      },
      "execution_count": 19,
      "outputs": [
        {
          "output_type": "execute_result",
          "data": {
            "text/plain": [
              "tensor([[[1, 2, 3],\n",
              "         [3, 6, 9],\n",
              "         [2, 4, 5]]])"
            ]
          },
          "metadata": {},
          "execution_count": 19
        }
      ]
    },
    {
      "cell_type": "code",
      "source": [
        "TENSOR.ndim"
      ],
      "metadata": {
        "colab": {
          "base_uri": "https://localhost:8080/"
        },
        "id": "M_IJbjxQonx3",
        "outputId": "5ef86b89-c241-4f15-a436-06c698f20379"
      },
      "execution_count": 20,
      "outputs": [
        {
          "output_type": "execute_result",
          "data": {
            "text/plain": [
              "3"
            ]
          },
          "metadata": {},
          "execution_count": 20
        }
      ]
    },
    {
      "cell_type": "code",
      "source": [
        "TENSOR.shape"
      ],
      "metadata": {
        "colab": {
          "base_uri": "https://localhost:8080/"
        },
        "id": "TBEukkPhoqau",
        "outputId": "0fc73436-91f0-48bc-becf-671acecc0036"
      },
      "execution_count": 21,
      "outputs": [
        {
          "output_type": "execute_result",
          "data": {
            "text/plain": [
              "torch.Size([1, 3, 3])"
            ]
          },
          "metadata": {},
          "execution_count": 21
        }
      ]
    },
    {
      "cell_type": "code",
      "source": [
        "TENSOR[0]"
      ],
      "metadata": {
        "colab": {
          "base_uri": "https://localhost:8080/"
        },
        "id": "oyLPvssNorcf",
        "outputId": "2204d50a-241d-4034-b307-705c46d5d443"
      },
      "execution_count": 22,
      "outputs": [
        {
          "output_type": "execute_result",
          "data": {
            "text/plain": [
              "tensor([[1, 2, 3],\n",
              "        [3, 6, 9],\n",
              "        [2, 4, 5]])"
            ]
          },
          "metadata": {},
          "execution_count": 22
        }
      ]
    },
    {
      "cell_type": "code",
      "source": [
        "# myTENSOR\n",
        "\n",
        "myTENSOR = torch.tensor([[[[1,3,4,5],\n",
        "                           [2,6,7,8],\n",
        "                           [3,9,10,11]]]])\n",
        "myTENSOR"
      ],
      "metadata": {
        "colab": {
          "base_uri": "https://localhost:8080/"
        },
        "id": "f1Oii9Ugoz_p",
        "outputId": "b4bd3391-21a8-4208-e8f7-75e2d2d768ae"
      },
      "execution_count": 31,
      "outputs": [
        {
          "output_type": "execute_result",
          "data": {
            "text/plain": [
              "tensor([[[[ 1,  3,  4,  5],\n",
              "          [ 2,  6,  7,  8],\n",
              "          [ 3,  9, 10, 11]]]])"
            ]
          },
          "metadata": {},
          "execution_count": 31
        }
      ]
    },
    {
      "cell_type": "code",
      "source": [
        "myTENSOR.ndim"
      ],
      "metadata": {
        "colab": {
          "base_uri": "https://localhost:8080/"
        },
        "id": "TY5qim-WrGrY",
        "outputId": "b9bfdb2a-ab94-4078-9939-ae22d6943d8b"
      },
      "execution_count": 32,
      "outputs": [
        {
          "output_type": "execute_result",
          "data": {
            "text/plain": [
              "4"
            ]
          },
          "metadata": {},
          "execution_count": 32
        }
      ]
    },
    {
      "cell_type": "code",
      "source": [
        "myTENSOR.shape"
      ],
      "metadata": {
        "colab": {
          "base_uri": "https://localhost:8080/"
        },
        "id": "Dc1dRNKHrfPl",
        "outputId": "2f606629-bda4-4ecd-d187-63ed52f3f4ec"
      },
      "execution_count": 33,
      "outputs": [
        {
          "output_type": "execute_result",
          "data": {
            "text/plain": [
              "torch.Size([1, 1, 3, 4])"
            ]
          },
          "metadata": {},
          "execution_count": 33
        }
      ]
    },
    {
      "cell_type": "markdown",
      "source": [
        "### Random tensors\n",
        "\n",
        "Why random tensors?\n",
        "\n",
        "Random tensors are important because the way many neural networks learn is that they start with tensors full of random numbers and then adjust those randome numbers to better represent the data.\n",
        "\n",
        "`Start with random numbers -> look at data -> update random numbers -> look at data -> update random numbers`\n",
        "\n",
        "Torch random tensors - https://pytorch.org/docs/stable/generated/torch.rand.html\n"
      ],
      "metadata": {
        "id": "sjJLa5GYrido"
      }
    },
    {
      "cell_type": "code",
      "source": [
        "# Create a random tensor of size (3, 4)\n",
        "random_tensor = torch.rand(3, 4)\n",
        "\n",
        "random_tensor"
      ],
      "metadata": {
        "colab": {
          "base_uri": "https://localhost:8080/"
        },
        "id": "ELdUqMk6sS6f",
        "outputId": "c47247f8-c29a-44fa-a4af-dd7bc302ba6d"
      },
      "execution_count": 36,
      "outputs": [
        {
          "output_type": "execute_result",
          "data": {
            "text/plain": [
              "tensor([[0.3558, 0.1415, 0.3503, 0.7815],\n",
              "        [0.0970, 0.1294, 0.4321, 0.8410],\n",
              "        [0.9808, 0.2363, 0.8496, 0.5264]])"
            ]
          },
          "metadata": {},
          "execution_count": 36
        }
      ]
    },
    {
      "cell_type": "code",
      "source": [
        "random_tensor.ndim"
      ],
      "metadata": {
        "colab": {
          "base_uri": "https://localhost:8080/"
        },
        "id": "rflCCKyrs-1m",
        "outputId": "847d7b45-4706-4cf7-dca1-81a6be2f67f3"
      },
      "execution_count": 37,
      "outputs": [
        {
          "output_type": "execute_result",
          "data": {
            "text/plain": [
              "2"
            ]
          },
          "metadata": {},
          "execution_count": 37
        }
      ]
    },
    {
      "cell_type": "code",
      "source": [
        "random_tensor = torch.rand(1, 10, 10)\n",
        "\n",
        "random_tensor"
      ],
      "metadata": {
        "colab": {
          "base_uri": "https://localhost:8080/"
        },
        "id": "dopoBaM6tR6i",
        "outputId": "a7ebd5f5-f9b9-428c-9ff9-9e1188ff5378"
      },
      "execution_count": 38,
      "outputs": [
        {
          "output_type": "execute_result",
          "data": {
            "text/plain": [
              "tensor([[[0.9520, 0.5811, 0.3704, 0.4784, 0.0665, 0.2591, 0.5463, 0.2318,\n",
              "          0.9860, 0.2070],\n",
              "         [0.8088, 0.1442, 0.2549, 0.8309, 0.1029, 0.0867, 0.2931, 0.9200,\n",
              "          0.8127, 0.0871],\n",
              "         [0.8539, 0.6650, 0.0035, 0.8631, 0.9482, 0.2727, 0.1800, 0.3422,\n",
              "          0.1702, 0.0186],\n",
              "         [0.1373, 0.6533, 0.8194, 0.8683, 0.9344, 0.6826, 0.1615, 0.8133,\n",
              "          0.0215, 0.1962],\n",
              "         [0.0250, 0.4930, 0.4606, 0.2685, 0.1182, 0.0377, 0.2400, 0.4014,\n",
              "          0.9031, 0.5271],\n",
              "         [0.8390, 0.8093, 0.6379, 0.1975, 0.1066, 0.5152, 0.5311, 0.2741,\n",
              "          0.5429, 0.8017],\n",
              "         [0.2899, 0.3214, 0.5640, 0.9969, 0.3666, 0.5734, 0.4177, 0.6556,\n",
              "          0.3234, 0.3111],\n",
              "         [0.9148, 0.0222, 0.0440, 0.6673, 0.9201, 0.4714, 0.4820, 0.9226,\n",
              "          0.0427, 0.2789],\n",
              "         [0.0566, 0.9542, 0.7669, 0.4669, 0.8739, 0.2832, 0.1835, 0.2054,\n",
              "          0.5179, 0.0208],\n",
              "         [0.7811, 0.0956, 0.1198, 0.4399, 0.2965, 0.6890, 0.0632, 0.5206,\n",
              "          0.7372, 0.5148]]])"
            ]
          },
          "metadata": {},
          "execution_count": 38
        }
      ]
    },
    {
      "cell_type": "code",
      "source": [
        "random_tensor.ndim"
      ],
      "metadata": {
        "colab": {
          "base_uri": "https://localhost:8080/"
        },
        "id": "XtMxyXOJtZjw",
        "outputId": "a71dba1b-31c7-424d-9bcc-2065c48052e4"
      },
      "execution_count": 42,
      "outputs": [
        {
          "output_type": "execute_result",
          "data": {
            "text/plain": [
              "3"
            ]
          },
          "metadata": {},
          "execution_count": 42
        }
      ]
    },
    {
      "cell_type": "code",
      "source": [
        "random_tensor.shape"
      ],
      "metadata": {
        "colab": {
          "base_uri": "https://localhost:8080/"
        },
        "id": "0dmZYEzstdqi",
        "outputId": "94a5fd88-7789-45b0-8952-c9c217853da4"
      },
      "execution_count": 43,
      "outputs": [
        {
          "output_type": "execute_result",
          "data": {
            "text/plain": [
              "torch.Size([1, 10, 10])"
            ]
          },
          "metadata": {},
          "execution_count": 43
        }
      ]
    },
    {
      "cell_type": "code",
      "source": [
        "random_tensor = torch.rand(10,10,10)\n",
        "random_tensor"
      ],
      "metadata": {
        "colab": {
          "base_uri": "https://localhost:8080/"
        },
        "id": "7p17GMadtmJX",
        "outputId": "e55cddf2-2f37-4932-b318-5102b2c19af5"
      },
      "execution_count": 48,
      "outputs": [
        {
          "output_type": "execute_result",
          "data": {
            "text/plain": [
              "tensor([[[7.5507e-01, 1.8709e-01, 8.0515e-02, 1.0615e-01, 4.4216e-01,\n",
              "          7.5538e-03, 3.6133e-01, 1.6119e-01, 7.4556e-01, 8.5029e-01],\n",
              "         [9.9124e-01, 8.1474e-01, 8.8429e-01, 8.3812e-01, 5.6326e-01,\n",
              "          3.9181e-01, 9.0947e-01, 1.8748e-01, 1.5476e-01, 6.8364e-01],\n",
              "         [8.9705e-01, 1.9448e-01, 7.9850e-02, 2.4180e-01, 6.0661e-01,\n",
              "          7.0814e-01, 7.4759e-01, 4.8449e-01, 8.0030e-01, 1.9614e-01],\n",
              "         [9.9160e-01, 6.6610e-01, 4.8265e-01, 7.7671e-01, 3.5715e-01,\n",
              "          7.2879e-01, 4.7203e-01, 3.6606e-01, 6.4029e-02, 9.2437e-01],\n",
              "         [1.4018e-02, 7.8945e-01, 1.4474e-02, 9.7217e-01, 3.4824e-01,\n",
              "          1.6972e-01, 9.0490e-02, 7.7074e-01, 4.0486e-01, 7.8785e-01],\n",
              "         [2.1799e-01, 9.4560e-02, 8.3832e-01, 9.7719e-01, 4.7411e-01,\n",
              "          2.7787e-01, 4.3609e-01, 4.8566e-01, 4.2807e-01, 6.4790e-01],\n",
              "         [6.6898e-01, 2.7541e-02, 1.1279e-01, 6.9656e-01, 9.0401e-01,\n",
              "          4.3039e-01, 9.6087e-01, 4.3879e-01, 7.6880e-01, 3.3457e-01],\n",
              "         [6.5030e-01, 6.9752e-01, 8.2686e-01, 2.8222e-01, 2.1540e-01,\n",
              "          7.6263e-01, 8.4593e-02, 4.3282e-02, 1.8234e-01, 1.9530e-01],\n",
              "         [6.1020e-01, 5.1090e-01, 5.5258e-01, 6.9945e-01, 5.5705e-01,\n",
              "          9.4594e-01, 4.8061e-01, 6.9371e-01, 1.8328e-01, 6.4360e-02],\n",
              "         [5.3314e-01, 4.1902e-01, 6.6808e-01, 6.8236e-01, 3.3123e-01,\n",
              "          6.2994e-01, 7.7260e-02, 5.9616e-01, 8.3021e-01, 5.4953e-01]],\n",
              "\n",
              "        [[1.7634e-01, 6.1193e-01, 5.0781e-01, 6.9199e-01, 1.2045e-01,\n",
              "          5.3797e-01, 4.0728e-01, 6.0599e-01, 5.3920e-01, 3.2219e-02],\n",
              "         [3.8106e-01, 7.9753e-01, 5.3957e-01, 8.9314e-01, 6.2606e-01,\n",
              "          3.5117e-01, 3.4557e-01, 6.9330e-01, 5.1093e-01, 5.1465e-01],\n",
              "         [3.4797e-01, 7.0325e-03, 7.2614e-01, 7.3407e-01, 6.3863e-01,\n",
              "          8.7056e-01, 8.2440e-01, 2.5244e-01, 9.4476e-01, 1.8162e-03],\n",
              "         [8.6460e-01, 3.0764e-01, 9.6741e-01, 2.6419e-01, 5.8319e-01,\n",
              "          9.7160e-01, 7.9171e-01, 5.4925e-01, 7.1441e-01, 1.2640e-01],\n",
              "         [2.4592e-01, 5.7175e-01, 9.8110e-01, 3.1543e-01, 5.8573e-01,\n",
              "          4.4690e-01, 5.0068e-01, 8.3391e-01, 3.9881e-01, 6.3493e-02],\n",
              "         [2.4749e-01, 1.0136e-01, 1.8222e-01, 6.0530e-01, 2.5124e-01,\n",
              "          9.4714e-01, 9.0982e-01, 5.2432e-01, 2.2720e-01, 8.2064e-01],\n",
              "         [3.5580e-01, 8.7806e-02, 5.2474e-02, 7.0918e-01, 8.5107e-01,\n",
              "          9.6737e-01, 6.5409e-01, 3.9291e-01, 7.5235e-01, 3.9720e-01],\n",
              "         [1.2647e-02, 6.7643e-01, 1.0607e-01, 4.2954e-01, 6.6294e-01,\n",
              "          6.7223e-01, 7.2423e-01, 8.1354e-01, 4.7248e-01, 7.2829e-01],\n",
              "         [8.8675e-01, 2.3622e-01, 8.2689e-01, 8.1454e-01, 3.5754e-01,\n",
              "          3.4488e-01, 6.8325e-01, 1.2205e-01, 5.8423e-01, 1.8740e-01],\n",
              "         [3.0208e-01, 8.3995e-01, 6.0756e-01, 6.0691e-01, 3.1063e-01,\n",
              "          9.3343e-01, 4.3110e-01, 2.1549e-02, 4.6692e-01, 2.4949e-01]],\n",
              "\n",
              "        [[7.1931e-01, 4.6399e-01, 3.1571e-01, 5.9995e-02, 2.3586e-01,\n",
              "          3.8922e-01, 1.5321e-01, 9.2043e-01, 4.1102e-01, 8.5308e-01],\n",
              "         [9.2631e-01, 7.9566e-01, 1.3389e-01, 7.6145e-01, 3.0330e-01,\n",
              "          4.2746e-01, 9.8847e-01, 8.9283e-01, 9.1631e-01, 7.8003e-01],\n",
              "         [5.3898e-01, 8.2549e-01, 5.0916e-01, 9.4876e-02, 8.1470e-01,\n",
              "          6.5768e-03, 3.1490e-01, 3.9865e-01, 6.8505e-01, 9.2785e-01],\n",
              "         [8.7929e-01, 4.6976e-01, 7.3309e-02, 3.5293e-01, 2.1707e-01,\n",
              "          3.3163e-01, 5.9414e-01, 1.1429e-01, 5.7612e-01, 7.4214e-01],\n",
              "         [1.2880e-01, 1.5993e-01, 8.6038e-02, 3.7004e-01, 4.4307e-01,\n",
              "          2.3606e-01, 2.0313e-01, 8.7228e-01, 8.8489e-01, 3.7522e-01],\n",
              "         [2.8897e-01, 4.3885e-01, 4.0292e-01, 6.3627e-01, 2.8246e-01,\n",
              "          6.4503e-01, 4.0207e-01, 3.7426e-01, 1.5468e-01, 7.8415e-01],\n",
              "         [6.1246e-02, 4.6019e-01, 8.4910e-01, 8.4115e-01, 1.7180e-01,\n",
              "          4.3642e-01, 7.6627e-01, 9.4443e-01, 9.0649e-02, 6.8481e-01],\n",
              "         [1.9180e-01, 2.6257e-01, 5.5082e-01, 4.4339e-01, 9.2460e-01,\n",
              "          8.5249e-01, 9.3696e-01, 7.6564e-01, 7.3278e-01, 8.0812e-02],\n",
              "         [1.1023e-01, 2.7216e-01, 3.1158e-01, 8.1172e-01, 3.5722e-01,\n",
              "          1.3729e-01, 7.8701e-01, 4.2602e-01, 1.5865e-01, 5.6879e-01],\n",
              "         [1.9303e-01, 3.6509e-01, 8.6994e-01, 5.8732e-01, 9.7490e-01,\n",
              "          5.7898e-01, 4.6578e-01, 7.1350e-01, 7.4885e-01, 8.5460e-02]],\n",
              "\n",
              "        [[3.7960e-02, 9.2925e-01, 2.2419e-01, 4.9123e-01, 2.1177e-02,\n",
              "          6.1756e-01, 7.1477e-01, 5.4158e-01, 9.6728e-01, 2.9014e-01],\n",
              "         [2.2253e-01, 6.7883e-01, 4.4747e-01, 6.7611e-01, 8.5450e-02,\n",
              "          9.1594e-01, 4.5101e-01, 6.8379e-01, 7.8829e-01, 3.7744e-01],\n",
              "         [1.6851e-01, 9.5967e-01, 6.6970e-01, 2.6399e-01, 9.5992e-01,\n",
              "          7.9200e-01, 2.8956e-01, 4.1061e-02, 8.2179e-01, 9.9978e-01],\n",
              "         [7.6501e-01, 5.9213e-01, 2.4201e-01, 9.6282e-01, 2.1233e-01,\n",
              "          7.7586e-01, 4.7919e-01, 4.3259e-01, 9.8066e-02, 8.5660e-01],\n",
              "         [4.9498e-02, 8.2307e-01, 6.0156e-01, 4.4261e-01, 5.8062e-01,\n",
              "          7.9942e-01, 2.3237e-01, 9.3718e-01, 4.4680e-01, 3.7607e-01],\n",
              "         [5.2171e-01, 4.9886e-01, 4.5649e-01, 3.8232e-01, 4.6029e-01,\n",
              "          4.1586e-01, 5.7564e-02, 2.5680e-01, 2.1602e-01, 4.8134e-01],\n",
              "         [4.2598e-01, 4.4630e-01, 6.1649e-01, 4.6986e-01, 9.0737e-01,\n",
              "          4.4282e-01, 4.3163e-02, 5.7441e-01, 6.6886e-01, 3.9818e-01],\n",
              "         [8.9485e-01, 9.5516e-01, 5.0616e-01, 1.6735e-01, 6.3706e-01,\n",
              "          6.3143e-01, 6.2287e-01, 8.1790e-01, 7.7713e-01, 6.9936e-01],\n",
              "         [4.9662e-01, 5.1478e-01, 1.3569e-02, 2.7624e-01, 5.5397e-01,\n",
              "          1.1708e-01, 1.7025e-01, 8.6773e-01, 7.3338e-01, 6.7592e-01],\n",
              "         [1.8305e-01, 9.5814e-01, 3.4558e-01, 1.7216e-02, 2.7850e-01,\n",
              "          2.1444e-01, 8.9086e-01, 2.9276e-01, 6.5625e-01, 8.4673e-02]],\n",
              "\n",
              "        [[3.6080e-02, 2.2662e-01, 4.6308e-01, 7.6774e-01, 6.2810e-01,\n",
              "          3.9235e-01, 3.0064e-01, 5.3999e-01, 1.4241e-01, 9.2368e-01],\n",
              "         [8.8035e-01, 6.1046e-01, 5.8802e-02, 3.4785e-01, 4.1205e-01,\n",
              "          2.9389e-01, 4.9199e-01, 4.7503e-01, 1.7236e-02, 4.0393e-01],\n",
              "         [6.5916e-01, 4.1674e-01, 5.7019e-01, 1.6718e-01, 7.6847e-01,\n",
              "          6.2141e-01, 1.5231e-01, 6.4717e-01, 2.8374e-01, 4.6005e-01],\n",
              "         [1.3871e-01, 9.1956e-01, 7.6718e-01, 4.2237e-01, 2.2713e-01,\n",
              "          9.7068e-01, 6.8357e-01, 5.4100e-01, 3.4171e-02, 4.7282e-03],\n",
              "         [8.5235e-01, 5.6960e-01, 4.7330e-01, 4.1692e-01, 9.8437e-01,\n",
              "          4.0788e-01, 7.0073e-01, 3.9096e-01, 8.6384e-01, 4.2819e-01],\n",
              "         [7.2416e-02, 2.3538e-01, 5.0212e-01, 6.4543e-01, 5.6496e-01,\n",
              "          1.0628e-01, 7.7350e-01, 2.0602e-01, 5.4460e-01, 9.8079e-01],\n",
              "         [7.1493e-02, 3.0647e-01, 2.6388e-01, 8.3396e-01, 8.6310e-01,\n",
              "          9.0549e-01, 9.3491e-01, 7.7751e-01, 4.4926e-01, 6.8520e-01],\n",
              "         [4.4547e-01, 6.4527e-01, 2.8871e-02, 3.3400e-01, 5.9457e-01,\n",
              "          8.4126e-01, 4.8205e-01, 7.5433e-01, 6.7363e-01, 6.1856e-01],\n",
              "         [5.9334e-01, 6.5436e-01, 9.0037e-01, 6.2024e-01, 9.1674e-01,\n",
              "          3.2945e-01, 5.0156e-01, 2.7828e-01, 2.6635e-01, 1.1362e-01],\n",
              "         [3.2339e-01, 7.0416e-01, 3.8088e-01, 6.3641e-01, 7.8026e-01,\n",
              "          1.1783e-02, 6.1998e-01, 7.3076e-01, 5.5509e-01, 1.3408e-01]],\n",
              "\n",
              "        [[8.3048e-01, 8.5474e-01, 1.4041e-01, 5.8655e-01, 2.7491e-03,\n",
              "          3.6553e-01, 7.5093e-01, 3.5302e-01, 2.3056e-01, 8.5005e-01],\n",
              "         [1.6885e-01, 9.6298e-01, 8.5245e-01, 3.0679e-01, 6.6646e-01,\n",
              "          7.9630e-01, 2.8850e-01, 9.6278e-01, 2.6868e-01, 4.9515e-01],\n",
              "         [2.5510e-01, 2.1108e-01, 1.4633e-01, 5.7148e-01, 4.4327e-01,\n",
              "          8.2639e-01, 8.8802e-01, 5.2616e-01, 8.2262e-01, 3.7744e-01],\n",
              "         [8.3003e-01, 8.3741e-01, 9.5297e-01, 8.9031e-01, 2.9327e-01,\n",
              "          8.4710e-01, 5.1431e-01, 4.8231e-01, 9.5746e-01, 9.1412e-01],\n",
              "         [4.0599e-01, 8.2569e-01, 2.3804e-01, 7.8525e-01, 4.0152e-01,\n",
              "          1.2749e-01, 8.7842e-01, 6.1682e-01, 5.8146e-01, 1.7623e-01],\n",
              "         [9.8301e-02, 7.7509e-01, 3.1572e-01, 5.9195e-01, 4.8641e-01,\n",
              "          6.3098e-01, 9.4082e-01, 5.8456e-01, 9.4744e-01, 2.8056e-01],\n",
              "         [9.9880e-01, 4.8262e-01, 9.2005e-01, 1.8043e-01, 3.4962e-01,\n",
              "          1.9709e-01, 6.0536e-01, 5.7854e-01, 7.6851e-01, 1.4348e-02],\n",
              "         [6.6833e-02, 9.5546e-01, 3.2017e-01, 2.7853e-01, 1.4829e-01,\n",
              "          7.4907e-01, 5.3960e-02, 6.5832e-01, 1.3158e-02, 9.9513e-01],\n",
              "         [8.4491e-01, 2.9220e-01, 5.9261e-02, 2.8329e-01, 6.3492e-01,\n",
              "          7.1447e-01, 5.2868e-01, 6.2058e-01, 6.6598e-01, 8.0503e-01],\n",
              "         [4.5501e-01, 9.8369e-01, 3.9038e-02, 3.6839e-01, 6.8893e-01,\n",
              "          2.7682e-01, 9.2567e-01, 9.9023e-01, 1.2877e-01, 9.9891e-01]],\n",
              "\n",
              "        [[3.9531e-01, 7.6311e-01, 8.2180e-01, 4.3510e-01, 1.4327e-01,\n",
              "          8.4385e-01, 7.9950e-01, 1.4853e-01, 2.4053e-01, 3.0508e-01],\n",
              "         [6.6322e-01, 1.3160e-02, 9.3306e-01, 9.7612e-01, 7.4014e-01,\n",
              "          6.2182e-01, 7.7864e-01, 5.0193e-01, 6.7795e-01, 6.5934e-01],\n",
              "         [6.3277e-01, 1.5583e-01, 5.1797e-01, 7.3480e-02, 8.9562e-01,\n",
              "          3.8803e-01, 6.5359e-01, 9.1927e-01, 3.0115e-01, 6.2099e-01],\n",
              "         [5.6841e-03, 6.7008e-01, 4.3232e-01, 6.7771e-01, 9.8053e-01,\n",
              "          8.6094e-01, 7.2631e-01, 4.2154e-01, 5.2755e-01, 3.0818e-01],\n",
              "         [8.0954e-01, 7.0970e-03, 6.1804e-01, 4.5610e-01, 6.8174e-02,\n",
              "          1.4104e-01, 9.8605e-01, 1.8135e-01, 9.8640e-01, 4.4352e-01],\n",
              "         [6.7289e-02, 1.0168e-01, 6.9801e-01, 1.8043e-02, 5.5057e-03,\n",
              "          7.3109e-01, 7.7440e-01, 1.1006e-01, 5.7495e-01, 8.5491e-01],\n",
              "         [1.5998e-01, 9.0950e-01, 3.5296e-01, 7.9448e-01, 4.7107e-01,\n",
              "          2.9255e-01, 6.3291e-01, 3.3139e-02, 5.2794e-01, 5.4063e-01],\n",
              "         [7.1366e-02, 9.1016e-01, 7.1029e-01, 8.3757e-01, 5.1692e-01,\n",
              "          3.5522e-01, 5.0426e-02, 3.4469e-01, 8.4681e-01, 3.9459e-02],\n",
              "         [2.5111e-01, 1.9555e-01, 5.3144e-01, 1.8671e-01, 6.5819e-01,\n",
              "          4.5397e-01, 6.8206e-01, 1.4414e-01, 1.9635e-01, 4.8904e-01],\n",
              "         [6.8338e-01, 4.2939e-01, 3.8838e-01, 4.5636e-01, 6.2682e-01,\n",
              "          3.1929e-01, 4.7136e-01, 2.2952e-01, 6.4629e-01, 2.5727e-01]],\n",
              "\n",
              "        [[5.2250e-01, 4.8830e-01, 7.6190e-01, 2.3886e-01, 5.3426e-01,\n",
              "          2.5924e-01, 4.1552e-02, 7.2824e-01, 1.6073e-01, 7.4687e-01],\n",
              "         [5.3454e-01, 9.3468e-01, 4.2725e-01, 7.6224e-01, 2.9381e-01,\n",
              "          8.8553e-01, 8.1444e-01, 3.9029e-01, 2.6505e-01, 5.3183e-02],\n",
              "         [1.1879e-01, 3.6783e-01, 3.5723e-01, 2.9285e-01, 2.2050e-01,\n",
              "          2.6244e-01, 9.3285e-02, 3.3042e-01, 1.0557e-01, 6.7806e-01],\n",
              "         [8.9716e-01, 4.4075e-02, 7.9673e-01, 4.5230e-01, 7.6567e-01,\n",
              "          1.8592e-01, 4.6709e-01, 5.9439e-02, 4.2339e-01, 7.7930e-01],\n",
              "         [2.1975e-01, 2.2007e-01, 7.3753e-01, 7.9465e-01, 2.7269e-02,\n",
              "          4.2763e-01, 8.9104e-01, 2.5942e-01, 4.5281e-01, 8.5076e-01],\n",
              "         [1.7473e-01, 8.1661e-01, 5.5192e-01, 4.4316e-01, 7.0433e-01,\n",
              "          7.2392e-01, 8.9875e-01, 4.4645e-01, 7.5396e-01, 1.2241e-01],\n",
              "         [8.7020e-01, 1.8747e-01, 3.5605e-01, 7.6239e-01, 8.0914e-01,\n",
              "          9.6160e-02, 4.9764e-01, 2.9083e-01, 3.8384e-01, 8.6651e-01],\n",
              "         [6.3978e-01, 8.9292e-01, 1.0688e-01, 9.4788e-01, 1.3061e-01,\n",
              "          1.1912e-01, 2.9349e-01, 7.6193e-02, 5.2997e-01, 9.3441e-01],\n",
              "         [5.1150e-01, 9.1009e-01, 5.7446e-01, 7.2650e-01, 1.3903e-01,\n",
              "          4.9612e-01, 9.4792e-02, 9.0109e-01, 8.0305e-01, 5.7179e-01],\n",
              "         [1.9124e-01, 7.8505e-01, 1.4097e-01, 5.8765e-01, 6.8662e-01,\n",
              "          7.7052e-01, 9.4496e-03, 6.1938e-01, 3.7034e-02, 8.7400e-01]],\n",
              "\n",
              "        [[6.5024e-01, 7.6090e-01, 3.5877e-01, 9.4694e-01, 4.3247e-01,\n",
              "          6.2489e-01, 2.4219e-01, 5.5541e-01, 5.8017e-01, 4.6276e-01],\n",
              "         [2.5925e-01, 8.2058e-01, 2.7836e-01, 6.1075e-01, 7.9784e-01,\n",
              "          3.9995e-05, 7.3293e-01, 1.4045e-01, 1.6507e-01, 4.2483e-01],\n",
              "         [9.7646e-01, 6.2860e-02, 2.7567e-01, 4.6099e-01, 6.3232e-01,\n",
              "          7.7205e-01, 1.5285e-02, 1.8022e-01, 4.7088e-01, 8.3964e-01],\n",
              "         [6.3623e-01, 6.2577e-01, 5.4438e-01, 9.5866e-01, 6.7895e-01,\n",
              "          2.5763e-02, 4.4222e-01, 4.9126e-01, 6.4170e-01, 4.1759e-02],\n",
              "         [4.9623e-02, 3.8262e-01, 9.9839e-01, 2.3361e-01, 1.7640e-02,\n",
              "          8.4997e-01, 7.5059e-01, 1.1330e-02, 3.8266e-02, 4.2930e-02],\n",
              "         [4.0081e-01, 5.6629e-01, 9.6152e-03, 4.0084e-01, 4.7822e-01,\n",
              "          6.2788e-01, 1.6446e-01, 2.4878e-01, 6.8069e-01, 1.5558e-01],\n",
              "         [7.3504e-01, 8.6545e-01, 6.0760e-01, 5.3692e-01, 5.7079e-01,\n",
              "          3.3157e-01, 4.5615e-02, 6.6947e-01, 5.4870e-01, 4.0729e-01],\n",
              "         [8.5203e-01, 2.4507e-02, 1.4538e-01, 6.6737e-01, 2.1198e-01,\n",
              "          3.1135e-01, 1.7034e-01, 7.1828e-01, 4.2903e-01, 9.0978e-01],\n",
              "         [8.6055e-01, 8.6480e-01, 8.9177e-03, 5.5066e-01, 4.5981e-01,\n",
              "          7.4564e-01, 6.4821e-01, 1.9696e-01, 1.9275e-01, 6.3911e-01],\n",
              "         [8.5882e-01, 1.4616e-01, 7.2259e-01, 6.4780e-01, 4.9306e-01,\n",
              "          7.2987e-01, 7.4210e-01, 5.5356e-01, 5.4606e-01, 8.8279e-01]],\n",
              "\n",
              "        [[7.1235e-01, 7.3147e-01, 8.3126e-01, 6.4466e-01, 9.6068e-02,\n",
              "          1.7598e-01, 2.5588e-01, 2.2935e-01, 1.7272e-01, 6.4679e-01],\n",
              "         [4.9264e-01, 6.2387e-01, 3.6913e-01, 6.7404e-01, 5.8317e-01,\n",
              "          4.8797e-02, 8.7002e-01, 5.8828e-01, 1.1893e-01, 9.8426e-01],\n",
              "         [3.8018e-01, 6.2838e-01, 8.8844e-01, 7.0247e-01, 1.0602e-02,\n",
              "          8.7044e-01, 5.7428e-01, 8.0760e-01, 2.8150e-01, 2.1048e-01],\n",
              "         [4.8921e-01, 1.4855e-01, 5.7826e-01, 7.0102e-01, 9.8191e-01,\n",
              "          6.9482e-01, 2.6359e-01, 2.5702e-02, 7.6070e-01, 1.6729e-01],\n",
              "         [3.5064e-01, 1.9060e-01, 3.6777e-01, 8.4894e-01, 8.6883e-01,\n",
              "          7.5695e-01, 7.7822e-01, 2.1661e-01, 3.5268e-01, 7.5804e-01],\n",
              "         [8.7269e-01, 5.4057e-01, 3.5483e-02, 6.2663e-01, 9.9726e-01,\n",
              "          3.6274e-01, 5.1247e-01, 9.7765e-01, 6.6386e-01, 7.1074e-01],\n",
              "         [7.0098e-02, 1.0863e-01, 2.9475e-01, 9.3295e-01, 4.4963e-01,\n",
              "          9.4481e-01, 1.6164e-01, 7.3068e-01, 9.2915e-01, 4.8426e-01],\n",
              "         [7.4034e-01, 5.3326e-01, 9.8383e-01, 6.5799e-01, 5.8319e-01,\n",
              "          7.8442e-01, 5.2634e-01, 1.9009e-01, 1.7635e-01, 8.5509e-01],\n",
              "         [5.1861e-01, 9.4320e-01, 9.4579e-01, 2.0840e-01, 3.8389e-01,\n",
              "          1.5407e-01, 7.5599e-01, 1.3698e-03, 5.3197e-01, 1.8071e-01],\n",
              "         [5.0443e-01, 8.4183e-01, 4.5488e-01, 2.2463e-01, 4.7634e-01,\n",
              "          8.3494e-01, 1.4192e-01, 2.6968e-01, 8.8842e-01, 6.2819e-01]]])"
            ]
          },
          "metadata": {},
          "execution_count": 48
        }
      ]
    },
    {
      "cell_type": "code",
      "source": [
        "random_tensor.ndim"
      ],
      "metadata": {
        "colab": {
          "base_uri": "https://localhost:8080/"
        },
        "id": "A-LEI0iZttL7",
        "outputId": "47d609f1-e44f-4aaf-8aaf-3afec836ca45"
      },
      "execution_count": 46,
      "outputs": [
        {
          "output_type": "execute_result",
          "data": {
            "text/plain": [
              "3"
            ]
          },
          "metadata": {},
          "execution_count": 46
        }
      ]
    },
    {
      "cell_type": "code",
      "source": [
        "random_tensor.shape"
      ],
      "metadata": {
        "colab": {
          "base_uri": "https://localhost:8080/"
        },
        "id": "8XutpiYRtu7_",
        "outputId": "3c708111-e239-41b9-acc2-396672aada79"
      },
      "execution_count": 47,
      "outputs": [
        {
          "output_type": "execute_result",
          "data": {
            "text/plain": [
              "torch.Size([10, 10, 10])"
            ]
          },
          "metadata": {},
          "execution_count": 47
        }
      ]
    },
    {
      "cell_type": "code",
      "source": [
        "# Create a random tensor with similar shape to an image tensor\n",
        "random_image_size_tensor = torch.rand(size=(224,224,3)) # height, width, color channels (R, G, B)"
      ],
      "metadata": {
        "id": "3HqELiD4tzVc"
      },
      "execution_count": 49,
      "outputs": []
    },
    {
      "cell_type": "code",
      "source": [
        "random_image_size_tensor"
      ],
      "metadata": {
        "colab": {
          "base_uri": "https://localhost:8080/"
        },
        "id": "KX9DKfo1uM2Q",
        "outputId": "693c2ce7-01a9-476e-fa93-91eba6cecb01"
      },
      "execution_count": 50,
      "outputs": [
        {
          "output_type": "execute_result",
          "data": {
            "text/plain": [
              "tensor([[[0.5717, 0.3887, 0.9326],\n",
              "         [0.6052, 0.0766, 0.2806],\n",
              "         [0.2529, 0.0124, 0.9207],\n",
              "         ...,\n",
              "         [0.8578, 0.8017, 0.3016],\n",
              "         [0.2645, 0.9783, 0.3389],\n",
              "         [0.8228, 0.1450, 0.5215]],\n",
              "\n",
              "        [[0.5081, 0.2562, 0.2820],\n",
              "         [0.8990, 0.0523, 0.0542],\n",
              "         [0.6854, 0.2283, 0.7878],\n",
              "         ...,\n",
              "         [0.9785, 0.2813, 0.1326],\n",
              "         [0.5224, 0.4162, 0.9189],\n",
              "         [0.0110, 0.3151, 0.1294]],\n",
              "\n",
              "        [[0.3464, 0.5384, 0.3180],\n",
              "         [0.2489, 0.2376, 0.2514],\n",
              "         [0.7948, 0.7699, 0.6951],\n",
              "         ...,\n",
              "         [0.1565, 0.7367, 0.9797],\n",
              "         [0.4166, 0.7852, 0.4963],\n",
              "         [0.8762, 0.5331, 0.0882]],\n",
              "\n",
              "        ...,\n",
              "\n",
              "        [[0.8385, 0.5870, 0.4544],\n",
              "         [0.2420, 0.1296, 0.7483],\n",
              "         [0.1941, 0.5205, 0.1087],\n",
              "         ...,\n",
              "         [0.3518, 0.6014, 0.2861],\n",
              "         [0.3933, 0.2821, 0.0558],\n",
              "         [0.5891, 0.8882, 0.5321]],\n",
              "\n",
              "        [[0.7532, 0.6688, 0.0853],\n",
              "         [0.2512, 0.4822, 0.4294],\n",
              "         [0.6368, 0.7296, 0.6387],\n",
              "         ...,\n",
              "         [0.9573, 0.5200, 0.8522],\n",
              "         [0.1883, 0.9588, 0.3888],\n",
              "         [0.0816, 0.3599, 0.6440]],\n",
              "\n",
              "        [[0.5876, 0.1920, 0.5491],\n",
              "         [0.6349, 0.4178, 0.3443],\n",
              "         [0.5309, 0.5030, 0.2272],\n",
              "         ...,\n",
              "         [0.5136, 0.8304, 0.7108],\n",
              "         [0.9147, 0.8934, 0.5836],\n",
              "         [0.7776, 0.1111, 0.0289]]])"
            ]
          },
          "metadata": {},
          "execution_count": 50
        }
      ]
    },
    {
      "cell_type": "code",
      "source": [
        "random_image_size_tensor.shape, random_image_size_tensor.ndim"
      ],
      "metadata": {
        "colab": {
          "base_uri": "https://localhost:8080/"
        },
        "id": "atcV6AL7uQ2O",
        "outputId": "64fa39ce-8f26-4ffb-f4a4-5a0e339e400e"
      },
      "execution_count": 51,
      "outputs": [
        {
          "output_type": "execute_result",
          "data": {
            "text/plain": [
              "(torch.Size([224, 224, 3]), 3)"
            ]
          },
          "metadata": {},
          "execution_count": 51
        }
      ]
    },
    {
      "cell_type": "code",
      "source": [],
      "metadata": {
        "id": "T-DJpKiTuaUW"
      },
      "execution_count": null,
      "outputs": []
    }
  ]
}