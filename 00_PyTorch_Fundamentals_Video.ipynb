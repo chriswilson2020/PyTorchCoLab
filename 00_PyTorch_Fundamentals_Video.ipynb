{
  "nbformat": 4,
  "nbformat_minor": 0,
  "metadata": {
    "colab": {
      "provenance": [],
      "authorship_tag": "ABX9TyMCJtrvRzDdDjLm6wEE1MKB",
      "include_colab_link": true
    },
    "kernelspec": {
      "name": "python3",
      "display_name": "Python 3"
    },
    "language_info": {
      "name": "python"
    },
    "gpuClass": "standard"
  },
  "cells": [
    {
      "cell_type": "markdown",
      "metadata": {
        "id": "view-in-github",
        "colab_type": "text"
      },
      "source": [
        "<a href=\"https://colab.research.google.com/github/chriswilson2020/PyTorchCoLab/blob/main/00_PyTorch_Fundamentals_Video.ipynb\" target=\"_parent\"><img src=\"https://colab.research.google.com/assets/colab-badge.svg\" alt=\"Open In Colab\"/></a>"
      ]
    },
    {
      "cell_type": "markdown",
      "source": [
        "00_. PyTorch Fundamentals\n",
        "Resource notebook: https:www.learnpytorch.io/00_pytorch_fundamentals/\n",
        "If you have a question: https://githubcom/mrdbourke/pytorch-deep-learning/discussions\n"
      ],
      "metadata": {
        "id": "fl1aNBXAf-IX"
      }
    },
    {
      "cell_type": "code",
      "source": [
        "import torch\n",
        "import numpy as np\n",
        "import pandas as pd\n",
        "import matplotlib.pyplot as plt\n",
        "print(torch.__version__)"
      ],
      "metadata": {
        "colab": {
          "base_uri": "https://localhost:8080/"
        },
        "id": "sIU1AfSBexgh",
        "outputId": "ff59a5e6-e382-45d3-98e4-a2d17a21bd39"
      },
      "execution_count": 56,
      "outputs": [
        {
          "output_type": "stream",
          "name": "stdout",
          "text": [
            "1.12.1+cu113\n"
          ]
        }
      ]
    },
    {
      "cell_type": "markdown",
      "source": [
        "## Introduction to Tensors\n",
        "\n",
        "### Creating tensors\n",
        "\n",
        "PyTorch tensors are created using ` torch.Tensor()`= https://pytorch.org/docs/stable/tensors.html\n",
        "\n",
        "\n",
        "![ScalarvectorMatrixTensor.png](data:image/png;base64,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)\n"
      ],
      "metadata": {
        "id": "Vlt4ZvFslIH2"
      }
    },
    {
      "cell_type": "code",
      "source": [
        "# scalar\n",
        "scalar = torch.tensor(7)\n",
        "scalar"
      ],
      "metadata": {
        "colab": {
          "base_uri": "https://localhost:8080/"
        },
        "id": "eum_MlDsldaJ",
        "outputId": "258876e0-f6d1-4ed3-cb27-3f23c732282c"
      },
      "execution_count": 57,
      "outputs": [
        {
          "output_type": "execute_result",
          "data": {
            "text/plain": [
              "tensor(7)"
            ]
          },
          "metadata": {},
          "execution_count": 57
        }
      ]
    },
    {
      "cell_type": "code",
      "source": [
        "scalar.ndim"
      ],
      "metadata": {
        "colab": {
          "base_uri": "https://localhost:8080/"
        },
        "id": "rNEPoT_tmPsr",
        "outputId": "dc372554-aaac-445e-f2ab-a8706b1eb49e"
      },
      "execution_count": 58,
      "outputs": [
        {
          "output_type": "execute_result",
          "data": {
            "text/plain": [
              "0"
            ]
          },
          "metadata": {},
          "execution_count": 58
        }
      ]
    },
    {
      "cell_type": "code",
      "source": [
        "# Get tensor back as Python int\n",
        "scalar.item()"
      ],
      "metadata": {
        "colab": {
          "base_uri": "https://localhost:8080/"
        },
        "id": "QCKoRQsNmxtj",
        "outputId": "0c09e85c-07fc-4b47-872c-9791ece44bb7"
      },
      "execution_count": 59,
      "outputs": [
        {
          "output_type": "execute_result",
          "data": {
            "text/plain": [
              "7"
            ]
          },
          "metadata": {},
          "execution_count": 59
        }
      ]
    },
    {
      "cell_type": "code",
      "source": [
        "# Vector\n",
        "vector = torch.tensor([7, 7])"
      ],
      "metadata": {
        "id": "B3vroJvhnBS4"
      },
      "execution_count": 60,
      "outputs": []
    },
    {
      "cell_type": "code",
      "source": [
        "vector.ndim"
      ],
      "metadata": {
        "colab": {
          "base_uri": "https://localhost:8080/"
        },
        "id": "jbrf73DunJAo",
        "outputId": "bb477f8f-258a-45a1-c482-97c8e4975fd0"
      },
      "execution_count": 61,
      "outputs": [
        {
          "output_type": "execute_result",
          "data": {
            "text/plain": [
              "1"
            ]
          },
          "metadata": {},
          "execution_count": 61
        }
      ]
    },
    {
      "cell_type": "code",
      "source": [
        "vector.shape"
      ],
      "metadata": {
        "colab": {
          "base_uri": "https://localhost:8080/"
        },
        "id": "fkNta7RonRf-",
        "outputId": "af27b885-6d57-4716-c803-6f2a43839c8e"
      },
      "execution_count": 62,
      "outputs": [
        {
          "output_type": "execute_result",
          "data": {
            "text/plain": [
              "torch.Size([2])"
            ]
          },
          "metadata": {},
          "execution_count": 62
        }
      ]
    },
    {
      "cell_type": "code",
      "source": [
        "# MATRIX\n",
        "MATRIX = torch.tensor([[7, 8],\n",
        "                       [9, 10]])\n",
        "MATRIX"
      ],
      "metadata": {
        "colab": {
          "base_uri": "https://localhost:8080/"
        },
        "id": "td8f2g4RnrZ6",
        "outputId": "bb6a2075-d154-43a1-e474-8998d05de7b8"
      },
      "execution_count": 63,
      "outputs": [
        {
          "output_type": "execute_result",
          "data": {
            "text/plain": [
              "tensor([[ 7,  8],\n",
              "        [ 9, 10]])"
            ]
          },
          "metadata": {},
          "execution_count": 63
        }
      ]
    },
    {
      "cell_type": "code",
      "source": [
        "MATRIX.ndim"
      ],
      "metadata": {
        "colab": {
          "base_uri": "https://localhost:8080/"
        },
        "id": "qD3_1mrRn9uX",
        "outputId": "69a1b65e-a9cc-47ab-d798-04640e64ad44"
      },
      "execution_count": 64,
      "outputs": [
        {
          "output_type": "execute_result",
          "data": {
            "text/plain": [
              "2"
            ]
          },
          "metadata": {},
          "execution_count": 64
        }
      ]
    },
    {
      "cell_type": "code",
      "source": [
        "MATRIX[0]"
      ],
      "metadata": {
        "colab": {
          "base_uri": "https://localhost:8080/"
        },
        "id": "dVYy51yQoLMk",
        "outputId": "e05178e8-5df3-4619-bc0d-efa17ef5d0fd"
      },
      "execution_count": 65,
      "outputs": [
        {
          "output_type": "execute_result",
          "data": {
            "text/plain": [
              "tensor([7, 8])"
            ]
          },
          "metadata": {},
          "execution_count": 65
        }
      ]
    },
    {
      "cell_type": "code",
      "source": [
        "MATRIX[1]"
      ],
      "metadata": {
        "colab": {
          "base_uri": "https://localhost:8080/"
        },
        "id": "F2eNt6_loNa_",
        "outputId": "905fe057-83c0-4fb8-e085-b9f7c466ef3a"
      },
      "execution_count": 66,
      "outputs": [
        {
          "output_type": "execute_result",
          "data": {
            "text/plain": [
              "tensor([ 9, 10])"
            ]
          },
          "metadata": {},
          "execution_count": 66
        }
      ]
    },
    {
      "cell_type": "code",
      "source": [
        "MATRIX.shape"
      ],
      "metadata": {
        "colab": {
          "base_uri": "https://localhost:8080/"
        },
        "id": "W1GodcWooQYN",
        "outputId": "8aaa4c25-8cb3-4d73-df2f-4dce842d89a6"
      },
      "execution_count": 67,
      "outputs": [
        {
          "output_type": "execute_result",
          "data": {
            "text/plain": [
              "torch.Size([2, 2])"
            ]
          },
          "metadata": {},
          "execution_count": 67
        }
      ]
    },
    {
      "cell_type": "code",
      "source": [
        "# TENSOR\n",
        "TENSOR = torch.tensor([[[1,2,3],\n",
        "                        [3,6,9],\n",
        "                        [2,4,5]]])\n",
        "TENSOR"
      ],
      "metadata": {
        "colab": {
          "base_uri": "https://localhost:8080/"
        },
        "id": "HFzBsxGXoSDy",
        "outputId": "d49b1210-8c18-47d9-f7cd-c9c48714e8e8"
      },
      "execution_count": 68,
      "outputs": [
        {
          "output_type": "execute_result",
          "data": {
            "text/plain": [
              "tensor([[[1, 2, 3],\n",
              "         [3, 6, 9],\n",
              "         [2, 4, 5]]])"
            ]
          },
          "metadata": {},
          "execution_count": 68
        }
      ]
    },
    {
      "cell_type": "code",
      "source": [
        "TENSOR.ndim"
      ],
      "metadata": {
        "colab": {
          "base_uri": "https://localhost:8080/"
        },
        "id": "M_IJbjxQonx3",
        "outputId": "2fd22315-f54c-4dc6-e4e7-0052123f0f0d"
      },
      "execution_count": 69,
      "outputs": [
        {
          "output_type": "execute_result",
          "data": {
            "text/plain": [
              "3"
            ]
          },
          "metadata": {},
          "execution_count": 69
        }
      ]
    },
    {
      "cell_type": "code",
      "source": [
        "TENSOR.shape"
      ],
      "metadata": {
        "colab": {
          "base_uri": "https://localhost:8080/"
        },
        "id": "TBEukkPhoqau",
        "outputId": "7e231415-50ce-45a1-e12d-288d65805f1f"
      },
      "execution_count": 70,
      "outputs": [
        {
          "output_type": "execute_result",
          "data": {
            "text/plain": [
              "torch.Size([1, 3, 3])"
            ]
          },
          "metadata": {},
          "execution_count": 70
        }
      ]
    },
    {
      "cell_type": "code",
      "source": [
        "TENSOR[0]"
      ],
      "metadata": {
        "colab": {
          "base_uri": "https://localhost:8080/"
        },
        "id": "oyLPvssNorcf",
        "outputId": "c31e2a0b-0602-4ee1-bfbd-cbfa5659484c"
      },
      "execution_count": 71,
      "outputs": [
        {
          "output_type": "execute_result",
          "data": {
            "text/plain": [
              "tensor([[1, 2, 3],\n",
              "        [3, 6, 9],\n",
              "        [2, 4, 5]])"
            ]
          },
          "metadata": {},
          "execution_count": 71
        }
      ]
    },
    {
      "cell_type": "code",
      "source": [
        "# myTENSOR\n",
        "\n",
        "myTENSOR = torch.tensor([[[[1,3,4,5],\n",
        "                           [2,6,7,8],\n",
        "                           [3,9,10,11]]]])\n",
        "myTENSOR"
      ],
      "metadata": {
        "colab": {
          "base_uri": "https://localhost:8080/"
        },
        "id": "f1Oii9Ugoz_p",
        "outputId": "4271cdb6-727d-4725-a73e-69826aee62fd"
      },
      "execution_count": 72,
      "outputs": [
        {
          "output_type": "execute_result",
          "data": {
            "text/plain": [
              "tensor([[[[ 1,  3,  4,  5],\n",
              "          [ 2,  6,  7,  8],\n",
              "          [ 3,  9, 10, 11]]]])"
            ]
          },
          "metadata": {},
          "execution_count": 72
        }
      ]
    },
    {
      "cell_type": "code",
      "source": [
        "myTENSOR.ndim"
      ],
      "metadata": {
        "colab": {
          "base_uri": "https://localhost:8080/"
        },
        "id": "TY5qim-WrGrY",
        "outputId": "d20adfd3-9de9-4c5f-8967-d7d9a86dcdd7"
      },
      "execution_count": 73,
      "outputs": [
        {
          "output_type": "execute_result",
          "data": {
            "text/plain": [
              "4"
            ]
          },
          "metadata": {},
          "execution_count": 73
        }
      ]
    },
    {
      "cell_type": "code",
      "source": [
        "myTENSOR.shape"
      ],
      "metadata": {
        "colab": {
          "base_uri": "https://localhost:8080/"
        },
        "id": "Dc1dRNKHrfPl",
        "outputId": "49f23d7d-7d20-48c6-e142-85a054ed7df5"
      },
      "execution_count": 74,
      "outputs": [
        {
          "output_type": "execute_result",
          "data": {
            "text/plain": [
              "torch.Size([1, 1, 3, 4])"
            ]
          },
          "metadata": {},
          "execution_count": 74
        }
      ]
    },
    {
      "cell_type": "markdown",
      "source": [
        "### Random tensors\n",
        "\n",
        "Why random tensors?\n",
        "\n",
        "Random tensors are important because the way many neural networks learn is that they start with tensors full of random numbers and then adjust those randome numbers to better represent the data.\n",
        "\n",
        "`Start with random numbers -> look at data -> update random numbers -> look at data -> update random numbers`\n",
        "\n",
        "Torch random tensors - https://pytorch.org/docs/stable/generated/torch.rand.html\n"
      ],
      "metadata": {
        "id": "sjJLa5GYrido"
      }
    },
    {
      "cell_type": "code",
      "source": [
        "# Create a random tensor of size (3, 4)\n",
        "random_tensor = torch.rand(3, 4)\n",
        "\n",
        "random_tensor"
      ],
      "metadata": {
        "colab": {
          "base_uri": "https://localhost:8080/"
        },
        "id": "ELdUqMk6sS6f",
        "outputId": "0e79ca23-52a7-451a-92d1-9bdc09b35ba1"
      },
      "execution_count": 75,
      "outputs": [
        {
          "output_type": "execute_result",
          "data": {
            "text/plain": [
              "tensor([[0.5379, 0.9825, 0.3122, 0.5406],\n",
              "        [0.7530, 0.9715, 0.8255, 0.8707],\n",
              "        [0.0204, 0.8152, 0.0553, 0.5758]])"
            ]
          },
          "metadata": {},
          "execution_count": 75
        }
      ]
    },
    {
      "cell_type": "code",
      "source": [
        "random_tensor.ndim"
      ],
      "metadata": {
        "colab": {
          "base_uri": "https://localhost:8080/"
        },
        "id": "rflCCKyrs-1m",
        "outputId": "ed060e9e-df8f-415b-d5b1-08051e887342"
      },
      "execution_count": 76,
      "outputs": [
        {
          "output_type": "execute_result",
          "data": {
            "text/plain": [
              "2"
            ]
          },
          "metadata": {},
          "execution_count": 76
        }
      ]
    },
    {
      "cell_type": "code",
      "source": [
        "random_tensor = torch.rand(1, 10, 10)\n",
        "\n",
        "random_tensor"
      ],
      "metadata": {
        "colab": {
          "base_uri": "https://localhost:8080/"
        },
        "id": "dopoBaM6tR6i",
        "outputId": "26a76a3c-6e67-4c8c-9344-cf7e7e1be5f9"
      },
      "execution_count": 77,
      "outputs": [
        {
          "output_type": "execute_result",
          "data": {
            "text/plain": [
              "tensor([[[0.4541, 0.6633, 0.7950, 0.4537, 0.5067, 0.2237, 0.7464, 0.2643,\n",
              "          0.4592, 0.8108],\n",
              "         [0.2415, 0.1846, 0.4957, 0.5474, 0.3225, 0.2118, 0.8167, 0.7488,\n",
              "          0.2118, 0.8058],\n",
              "         [0.7288, 0.0665, 0.1100, 0.7138, 0.0583, 0.3089, 0.5114, 0.1270,\n",
              "          0.6035, 0.9398],\n",
              "         [0.6242, 0.0805, 0.4725, 0.2744, 0.7023, 0.8688, 0.2716, 0.2625,\n",
              "          0.0925, 0.1891],\n",
              "         [0.8735, 0.1790, 0.9039, 0.8942, 0.9907, 0.3127, 0.4026, 0.5600,\n",
              "          0.6205, 0.7269],\n",
              "         [0.0496, 0.7723, 0.4618, 0.6564, 0.1950, 0.9476, 0.9310, 0.3311,\n",
              "          0.9725, 0.1435],\n",
              "         [0.1047, 0.0774, 0.4668, 0.3837, 0.1430, 0.1731, 0.8525, 0.6638,\n",
              "          0.7411, 0.0126],\n",
              "         [0.0865, 0.1144, 0.3385, 0.4287, 0.1161, 0.7801, 0.1506, 0.9258,\n",
              "          0.2729, 0.4605],\n",
              "         [0.2195, 0.1912, 0.1462, 0.4550, 0.1178, 0.7424, 0.2002, 0.5643,\n",
              "          0.5253, 0.4938],\n",
              "         [0.9667, 0.4757, 0.1370, 0.5172, 0.9935, 0.6230, 0.3241, 0.5152,\n",
              "          0.5180, 0.2211]]])"
            ]
          },
          "metadata": {},
          "execution_count": 77
        }
      ]
    },
    {
      "cell_type": "code",
      "source": [
        "random_tensor.ndim"
      ],
      "metadata": {
        "colab": {
          "base_uri": "https://localhost:8080/"
        },
        "id": "XtMxyXOJtZjw",
        "outputId": "6e02b89d-0e30-4925-98f7-7681de51a059"
      },
      "execution_count": 78,
      "outputs": [
        {
          "output_type": "execute_result",
          "data": {
            "text/plain": [
              "3"
            ]
          },
          "metadata": {},
          "execution_count": 78
        }
      ]
    },
    {
      "cell_type": "code",
      "source": [
        "random_tensor.shape"
      ],
      "metadata": {
        "colab": {
          "base_uri": "https://localhost:8080/"
        },
        "id": "0dmZYEzstdqi",
        "outputId": "ec005891-413e-42cc-daf4-853fe5f0e7e2"
      },
      "execution_count": 79,
      "outputs": [
        {
          "output_type": "execute_result",
          "data": {
            "text/plain": [
              "torch.Size([1, 10, 10])"
            ]
          },
          "metadata": {},
          "execution_count": 79
        }
      ]
    },
    {
      "cell_type": "code",
      "source": [
        "random_tensor = torch.rand(10,10,10)\n",
        "random_tensor"
      ],
      "metadata": {
        "colab": {
          "base_uri": "https://localhost:8080/"
        },
        "id": "7p17GMadtmJX",
        "outputId": "a87a5f2c-6a38-473a-b0c4-f8b976f896fa"
      },
      "execution_count": 80,
      "outputs": [
        {
          "output_type": "execute_result",
          "data": {
            "text/plain": [
              "tensor([[[9.6832e-01, 7.3481e-01, 1.8596e-01, 4.7868e-01, 5.4856e-01,\n",
              "          6.1322e-01, 9.9153e-01, 2.9581e-01, 3.3106e-01, 9.1722e-01],\n",
              "         [4.1976e-01, 3.8746e-01, 5.3932e-01, 4.6127e-01, 5.7893e-02,\n",
              "          3.2542e-01, 8.4039e-01, 2.2282e-01, 4.0732e-01, 8.6887e-02],\n",
              "         [7.9789e-01, 9.9239e-01, 3.8656e-02, 9.8743e-01, 3.9994e-01,\n",
              "          6.2794e-02, 9.1206e-01, 5.3270e-01, 8.2094e-01, 5.0003e-01],\n",
              "         [5.0308e-01, 6.8845e-01, 1.4798e-01, 4.7253e-01, 5.3748e-01,\n",
              "          3.1237e-01, 1.0543e-01, 7.1869e-01, 1.0627e-01, 4.4718e-01],\n",
              "         [6.3323e-01, 5.6856e-01, 8.6464e-01, 6.1330e-01, 6.9968e-01,\n",
              "          3.5292e-01, 6.3666e-01, 6.2058e-01, 3.4004e-01, 8.5351e-01],\n",
              "         [2.5834e-01, 3.7249e-01, 9.3323e-01, 5.8563e-01, 8.5759e-02,\n",
              "          2.4207e-01, 3.8168e-01, 4.8294e-01, 8.9399e-01, 8.5075e-01],\n",
              "         [7.4619e-02, 2.0889e-01, 5.7456e-01, 5.2166e-01, 7.8676e-01,\n",
              "          6.5049e-01, 6.7224e-01, 9.5663e-01, 3.9145e-01, 8.0111e-01],\n",
              "         [2.5304e-01, 2.8120e-01, 8.3359e-01, 8.2871e-02, 8.8152e-01,\n",
              "          3.1503e-01, 2.2479e-01, 8.5633e-01, 1.5086e-01, 5.3853e-01],\n",
              "         [2.1228e-01, 2.7857e-01, 5.5034e-01, 4.0960e-01, 1.6755e-01,\n",
              "          6.1134e-01, 2.2852e-01, 1.8612e-01, 5.9330e-01, 5.7241e-01],\n",
              "         [2.7172e-01, 6.0532e-01, 7.3238e-01, 8.0147e-01, 6.2368e-02,\n",
              "          1.0808e-02, 3.0265e-01, 5.4232e-01, 1.4873e-01, 4.6849e-01]],\n",
              "\n",
              "        [[5.3380e-01, 5.6439e-01, 5.6841e-01, 5.0499e-01, 7.8880e-01,\n",
              "          8.2937e-01, 3.9803e-01, 6.5635e-01, 7.8368e-01, 6.3443e-02],\n",
              "         [7.1982e-01, 1.1990e-01, 4.4550e-01, 7.2527e-01, 3.6602e-01,\n",
              "          3.7215e-01, 3.4274e-01, 1.3068e-01, 5.0512e-01, 8.9364e-01],\n",
              "         [5.6878e-01, 2.0433e-01, 7.6704e-01, 9.5680e-01, 2.0683e-01,\n",
              "          2.2902e-02, 4.2027e-01, 9.9787e-01, 8.9967e-01, 1.1341e-01],\n",
              "         [9.4078e-01, 4.4600e-03, 6.2994e-01, 4.7343e-01, 2.2211e-01,\n",
              "          5.5726e-01, 8.1242e-01, 5.7251e-01, 4.3099e-01, 8.1097e-01],\n",
              "         [7.0813e-01, 2.2101e-01, 8.5026e-04, 8.9846e-01, 4.8122e-02,\n",
              "          9.7224e-01, 5.3408e-01, 5.2176e-01, 6.2201e-01, 2.2383e-01],\n",
              "         [4.0053e-01, 1.5268e-01, 5.0392e-01, 1.7512e-01, 8.4010e-01,\n",
              "          9.3429e-01, 2.9335e-01, 7.1790e-03, 3.9135e-01, 2.8245e-01],\n",
              "         [2.3544e-01, 5.0257e-01, 5.3100e-01, 5.3369e-01, 2.8005e-01,\n",
              "          8.3779e-01, 1.8437e-01, 6.7826e-02, 4.4650e-01, 4.3326e-01],\n",
              "         [1.4371e-01, 9.8491e-01, 1.8972e-01, 1.5132e-02, 9.1184e-01,\n",
              "          7.4307e-03, 8.7503e-01, 8.5177e-01, 3.4436e-01, 8.1955e-01],\n",
              "         [7.3285e-01, 9.4573e-01, 2.3470e-01, 6.4873e-01, 2.1176e-01,\n",
              "          7.0367e-01, 4.8760e-01, 6.7811e-01, 3.1752e-01, 2.3090e-01],\n",
              "         [6.1394e-01, 7.8372e-01, 6.4651e-03, 9.0493e-01, 3.5051e-01,\n",
              "          1.7190e-01, 3.9321e-01, 5.0417e-01, 7.5515e-01, 6.5545e-02]],\n",
              "\n",
              "        [[3.1081e-01, 8.4502e-01, 9.4536e-01, 7.1412e-01, 3.7267e-01,\n",
              "          2.1401e-01, 9.4286e-01, 6.0056e-01, 7.3718e-01, 7.5020e-01],\n",
              "         [3.2057e-01, 9.7865e-01, 6.8485e-01, 1.5998e-01, 1.0450e-01,\n",
              "          9.3280e-02, 2.4587e-01, 1.0655e-01, 4.0071e-01, 5.0355e-01],\n",
              "         [3.8084e-01, 9.8749e-01, 3.0625e-01, 2.9487e-01, 1.5113e-01,\n",
              "          7.3959e-01, 4.3190e-01, 3.5332e-01, 7.3194e-01, 2.9045e-01],\n",
              "         [8.0480e-01, 8.9269e-01, 9.1694e-01, 7.4495e-01, 8.3703e-01,\n",
              "          7.2946e-02, 1.0748e-01, 3.2567e-02, 9.2840e-01, 3.4496e-01],\n",
              "         [9.7588e-01, 2.8719e-01, 4.6789e-01, 7.5338e-01, 4.7076e-01,\n",
              "          2.3734e-02, 5.7243e-01, 2.1914e-01, 3.5418e-01, 6.9355e-01],\n",
              "         [8.2110e-01, 7.1201e-01, 4.4136e-01, 3.0373e-02, 8.9932e-01,\n",
              "          6.4268e-01, 2.6421e-01, 1.9810e-01, 3.9303e-01, 2.7647e-01],\n",
              "         [8.2618e-01, 4.8654e-01, 5.8639e-01, 8.3665e-01, 9.2169e-01,\n",
              "          1.4522e-01, 1.2979e-01, 6.3734e-01, 2.0532e-01, 2.1696e-02],\n",
              "         [9.5376e-01, 1.9946e-01, 4.9876e-01, 2.4314e-01, 4.8062e-01,\n",
              "          3.2578e-01, 5.9380e-01, 7.8852e-01, 9.7687e-01, 7.5329e-01],\n",
              "         [1.9310e-01, 3.1247e-01, 2.7835e-01, 4.6692e-01, 7.9681e-01,\n",
              "          6.0935e-01, 5.1097e-01, 9.1961e-01, 8.9331e-01, 2.5643e-01],\n",
              "         [3.7379e-01, 6.6173e-01, 7.3259e-01, 8.1284e-01, 3.5764e-01,\n",
              "          4.9900e-01, 6.8348e-01, 3.9976e-01, 6.4191e-02, 9.5693e-01]],\n",
              "\n",
              "        [[5.8179e-01, 6.6652e-01, 7.0681e-01, 4.4197e-01, 5.7419e-01,\n",
              "          5.8357e-01, 3.2296e-01, 1.5906e-02, 4.3947e-01, 3.2181e-01],\n",
              "         [9.7162e-01, 8.7823e-01, 6.8069e-01, 8.6563e-01, 3.5160e-01,\n",
              "          5.0127e-01, 9.2716e-01, 8.6648e-01, 4.4692e-02, 2.5825e-01],\n",
              "         [7.1956e-01, 8.0385e-01, 2.5511e-01, 1.6374e-01, 1.0019e-01,\n",
              "          4.2481e-01, 2.2016e-02, 6.3454e-01, 1.0870e-01, 5.7721e-01],\n",
              "         [1.4545e-01, 3.7773e-01, 2.6053e-03, 5.3695e-01, 5.7111e-01,\n",
              "          8.0053e-01, 4.1419e-01, 7.3601e-01, 7.3296e-01, 3.9475e-01],\n",
              "         [6.3574e-02, 7.2228e-01, 5.2972e-01, 5.0478e-02, 4.2196e-01,\n",
              "          3.4190e-01, 5.7658e-01, 2.0178e-01, 3.1070e-01, 6.3897e-01],\n",
              "         [5.5175e-01, 7.3884e-02, 6.0641e-01, 8.8246e-01, 9.3362e-01,\n",
              "          3.2141e-01, 8.8887e-01, 8.5115e-01, 3.4670e-01, 2.0908e-01],\n",
              "         [8.4929e-01, 4.1567e-01, 3.9971e-01, 5.0465e-01, 5.0375e-01,\n",
              "          3.8860e-01, 9.5674e-01, 5.9479e-01, 7.2046e-01, 9.2141e-01],\n",
              "         [1.3836e-01, 7.4262e-02, 9.3742e-01, 2.3243e-01, 7.0836e-01,\n",
              "          1.7390e-01, 5.2863e-01, 9.8930e-01, 8.2935e-01, 4.7411e-01],\n",
              "         [7.5652e-01, 7.5583e-01, 2.2571e-01, 1.9165e-01, 3.9781e-01,\n",
              "          1.6926e-01, 6.8437e-01, 9.0992e-02, 1.8407e-01, 7.8654e-01],\n",
              "         [8.1490e-01, 5.1236e-01, 3.8049e-01, 7.8068e-01, 1.0317e-01,\n",
              "          6.6753e-01, 8.2294e-01, 3.5293e-01, 9.8040e-01, 2.3549e-01]],\n",
              "\n",
              "        [[9.3232e-01, 9.1790e-01, 2.2263e-01, 1.0334e-01, 1.7180e-01,\n",
              "          5.4945e-01, 4.5469e-01, 6.9941e-01, 6.9294e-01, 1.8985e-01],\n",
              "         [7.3545e-01, 2.1300e-01, 9.9915e-01, 6.3442e-01, 4.3254e-03,\n",
              "          6.0783e-01, 8.3875e-01, 6.9423e-01, 2.0720e-01, 7.9759e-01],\n",
              "         [5.8644e-01, 4.1497e-01, 4.9031e-01, 4.3327e-01, 6.6937e-01,\n",
              "          4.7954e-01, 9.7576e-01, 4.2726e-01, 8.4554e-01, 2.3611e-01],\n",
              "         [7.9447e-01, 3.3547e-01, 7.9365e-01, 1.9831e-01, 6.4622e-02,\n",
              "          8.8371e-01, 3.3975e-01, 7.6015e-01, 9.4141e-01, 1.6246e-02],\n",
              "         [7.6670e-01, 7.4757e-01, 4.2060e-01, 3.0205e-01, 3.0328e-01,\n",
              "          8.5917e-01, 8.8148e-01, 8.4129e-01, 3.1019e-01, 2.0560e-01],\n",
              "         [1.3273e-01, 7.3517e-01, 8.3066e-01, 8.0876e-02, 9.9414e-01,\n",
              "          9.8958e-01, 4.2173e-03, 4.1134e-01, 6.0581e-02, 3.5581e-01],\n",
              "         [9.3159e-01, 4.9223e-01, 2.1337e-01, 4.3723e-01, 3.8867e-01,\n",
              "          2.5855e-01, 2.9333e-01, 9.5894e-01, 4.6170e-02, 1.0804e-01],\n",
              "         [2.3989e-01, 4.9531e-01, 1.6445e-01, 9.0963e-01, 7.2044e-01,\n",
              "          5.3194e-01, 4.8911e-01, 7.0292e-01, 7.5529e-01, 1.2972e-02],\n",
              "         [5.3333e-01, 8.8762e-01, 8.0057e-02, 1.4599e-01, 8.6773e-01,\n",
              "          4.8954e-02, 4.1111e-01, 2.0279e-01, 8.3995e-03, 9.6943e-01],\n",
              "         [4.9195e-01, 8.4401e-01, 4.0734e-01, 4.8117e-02, 6.5895e-01,\n",
              "          6.2635e-01, 9.5443e-01, 5.3660e-01, 5.7230e-01, 8.3541e-01]],\n",
              "\n",
              "        [[4.9378e-01, 4.9726e-01, 7.8389e-01, 5.5302e-01, 4.3052e-01,\n",
              "          2.8011e-01, 3.6994e-01, 3.0953e-01, 7.5946e-01, 9.3982e-01],\n",
              "         [7.3957e-01, 2.6434e-03, 8.6264e-01, 9.9209e-01, 2.8110e-01,\n",
              "          3.7034e-01, 2.7878e-01, 5.5714e-01, 4.7994e-01, 7.8814e-01],\n",
              "         [6.0126e-01, 7.5159e-01, 8.2803e-01, 2.0891e-01, 6.5728e-01,\n",
              "          5.6389e-01, 4.6793e-01, 4.7954e-01, 3.0465e-01, 6.9861e-01],\n",
              "         [9.7298e-01, 9.4215e-01, 1.1640e-01, 8.5802e-01, 5.2960e-01,\n",
              "          9.7162e-01, 5.0950e-01, 4.7975e-01, 9.5327e-01, 7.8752e-01],\n",
              "         [2.8623e-03, 6.2663e-01, 5.0741e-01, 9.2392e-01, 7.3421e-01,\n",
              "          5.6902e-01, 4.4895e-01, 6.3767e-01, 6.8831e-02, 1.2064e-01],\n",
              "         [7.5056e-01, 6.5635e-01, 1.3717e-01, 6.0667e-01, 7.1225e-01,\n",
              "          9.6522e-01, 4.0060e-01, 7.2268e-01, 2.6546e-01, 4.9620e-01],\n",
              "         [9.4338e-01, 5.0458e-01, 6.7525e-02, 7.2733e-01, 9.2512e-01,\n",
              "          4.5956e-01, 6.8308e-01, 1.8013e-01, 4.1565e-01, 1.9560e-01],\n",
              "         [3.8633e-01, 4.2642e-02, 3.8567e-01, 6.0052e-01, 2.5448e-01,\n",
              "          3.7473e-01, 3.9860e-01, 9.6826e-01, 8.5759e-01, 3.1521e-01],\n",
              "         [9.2618e-01, 1.1211e-02, 2.5485e-01, 9.8409e-01, 9.1624e-01,\n",
              "          1.4034e-01, 7.6137e-01, 5.2273e-01, 5.3571e-01, 9.1608e-01],\n",
              "         [8.6013e-01, 9.1683e-01, 5.1370e-01, 8.6374e-01, 1.7664e-01,\n",
              "          6.6571e-01, 5.0970e-01, 3.3305e-01, 3.0542e-01, 1.3011e-01]],\n",
              "\n",
              "        [[4.9471e-01, 8.7097e-01, 4.9060e-01, 2.1507e-01, 5.3487e-01,\n",
              "          1.0975e-01, 7.4424e-01, 4.1033e-01, 3.1877e-01, 1.8534e-01],\n",
              "         [2.5177e-01, 7.5617e-01, 2.5683e-01, 2.6104e-01, 6.9713e-01,\n",
              "          9.1224e-01, 4.3299e-01, 8.6604e-01, 2.0677e-01, 5.6191e-01],\n",
              "         [5.8755e-01, 5.0607e-01, 7.3838e-01, 9.2011e-01, 1.8330e-01,\n",
              "          2.6621e-01, 9.1365e-01, 2.0083e-01, 5.8508e-01, 3.4276e-01],\n",
              "         [5.7023e-01, 2.8369e-01, 2.7074e-01, 1.2972e-02, 2.3935e-02,\n",
              "          3.6011e-01, 2.0191e-01, 5.5394e-02, 3.2125e-01, 6.6787e-01],\n",
              "         [4.5865e-01, 6.6879e-01, 3.3573e-01, 7.3754e-01, 7.7448e-01,\n",
              "          3.8188e-01, 2.6655e-01, 5.0128e-01, 7.1314e-01, 4.7476e-01],\n",
              "         [5.6377e-01, 8.7275e-01, 7.8903e-01, 5.7961e-01, 9.5164e-02,\n",
              "          5.7661e-01, 6.5138e-01, 9.0613e-01, 8.3155e-01, 7.8085e-01],\n",
              "         [9.5832e-01, 4.8946e-01, 8.2492e-01, 3.2078e-01, 9.2901e-02,\n",
              "          1.3786e-01, 9.9718e-01, 3.6727e-01, 7.9496e-01, 7.8235e-01],\n",
              "         [2.7137e-01, 1.2934e-01, 7.1984e-01, 4.0511e-01, 8.9457e-01,\n",
              "          8.3807e-02, 4.3804e-01, 5.6969e-02, 5.7785e-01, 5.6293e-01],\n",
              "         [8.3239e-02, 8.9362e-01, 4.6016e-01, 9.6401e-01, 3.7125e-01,\n",
              "          9.5837e-01, 6.7618e-01, 3.4000e-01, 9.7507e-01, 1.1416e-01],\n",
              "         [6.0344e-01, 4.7597e-01, 8.4713e-01, 2.9016e-01, 6.8065e-01,\n",
              "          1.1314e-01, 1.9147e-01, 8.4758e-01, 8.3116e-01, 3.1393e-01]],\n",
              "\n",
              "        [[4.2492e-01, 1.1091e-01, 1.1738e-01, 4.9396e-01, 6.0766e-01,\n",
              "          1.8972e-03, 9.9193e-01, 9.5890e-01, 4.8112e-01, 2.4797e-01],\n",
              "         [4.4875e-01, 3.4450e-01, 5.5338e-01, 6.5293e-01, 3.6242e-01,\n",
              "          7.9676e-01, 4.0518e-01, 5.7243e-01, 2.5087e-01, 5.8499e-01],\n",
              "         [8.3949e-01, 3.3904e-01, 2.5804e-01, 1.6887e-01, 4.6367e-01,\n",
              "          5.1599e-01, 6.0324e-01, 2.4501e-01, 4.1830e-01, 5.0119e-01],\n",
              "         [9.6200e-01, 9.5539e-01, 2.9757e-01, 6.8850e-01, 7.1572e-01,\n",
              "          1.4822e-01, 5.0561e-01, 3.5673e-01, 5.8240e-01, 8.3916e-01],\n",
              "         [3.9263e-01, 8.0679e-01, 2.1292e-01, 2.8267e-01, 3.4245e-01,\n",
              "          9.7570e-01, 9.8633e-01, 9.8036e-01, 9.3401e-01, 5.5244e-01],\n",
              "         [5.4168e-01, 7.1111e-01, 9.9954e-01, 5.3229e-01, 1.0177e-01,\n",
              "          4.0506e-01, 6.9050e-01, 4.0408e-01, 9.3590e-01, 4.7257e-01],\n",
              "         [5.4315e-01, 8.6282e-01, 7.0454e-01, 1.1066e-01, 6.3000e-01,\n",
              "          3.1352e-01, 5.2717e-01, 5.2445e-01, 8.7394e-01, 2.3936e-01],\n",
              "         [1.7478e-01, 7.6758e-01, 2.7760e-01, 2.9827e-01, 2.2565e-01,\n",
              "          5.3310e-02, 2.5497e-01, 1.7427e-01, 6.9342e-01, 3.4321e-01],\n",
              "         [1.1222e-01, 8.7822e-01, 9.7569e-01, 8.0459e-01, 1.7861e-01,\n",
              "          4.6702e-01, 3.9624e-01, 5.2222e-01, 1.1924e-01, 1.1714e-02],\n",
              "         [3.3661e-01, 1.7338e-01, 3.4018e-01, 6.6570e-01, 1.2305e-01,\n",
              "          8.9171e-01, 4.4123e-01, 4.2060e-01, 8.1869e-01, 9.2714e-01]],\n",
              "\n",
              "        [[7.0885e-01, 2.1968e-01, 2.6335e-02, 7.7768e-01, 4.9990e-02,\n",
              "          3.5443e-01, 4.1696e-01, 4.0671e-01, 9.5978e-01, 2.4319e-01],\n",
              "         [3.9648e-01, 6.1371e-01, 6.1626e-01, 1.0573e-01, 2.2821e-01,\n",
              "          4.6841e-01, 5.9697e-01, 1.7818e-02, 9.1087e-01, 6.5962e-01],\n",
              "         [3.1447e-01, 6.1492e-01, 5.2586e-01, 7.5425e-01, 4.0974e-01,\n",
              "          7.8718e-02, 8.2652e-01, 5.1914e-01, 3.0175e-02, 8.1503e-01],\n",
              "         [2.3057e-02, 6.2771e-01, 5.3129e-01, 4.9181e-01, 1.7765e-01,\n",
              "          8.0816e-01, 4.2398e-01, 9.3372e-01, 2.0903e-01, 7.9605e-01],\n",
              "         [6.5489e-01, 6.7432e-01, 8.2530e-01, 5.7097e-01, 8.4634e-01,\n",
              "          6.2318e-01, 2.5593e-01, 1.7276e-02, 2.4859e-01, 5.8148e-01],\n",
              "         [8.4108e-01, 7.7480e-01, 6.4580e-02, 4.6984e-01, 2.7416e-01,\n",
              "          8.5111e-01, 5.4505e-02, 8.9305e-01, 2.2277e-01, 6.4285e-01],\n",
              "         [1.8246e-01, 1.4747e-01, 6.7417e-01, 7.9910e-02, 2.8824e-01,\n",
              "          8.4182e-01, 4.0088e-01, 7.6870e-01, 1.9982e-01, 5.9713e-01],\n",
              "         [7.1765e-03, 5.9731e-01, 3.7446e-01, 1.9342e-02, 9.2707e-03,\n",
              "          4.9646e-01, 2.4491e-01, 9.7640e-01, 9.6947e-02, 2.1997e-01],\n",
              "         [6.5659e-01, 4.5999e-01, 4.7361e-02, 1.9529e-01, 2.0713e-01,\n",
              "          9.5358e-01, 8.3036e-01, 2.0151e-01, 4.4368e-01, 1.5639e-01],\n",
              "         [5.7952e-02, 1.2411e-01, 5.0645e-01, 8.1817e-01, 8.0197e-01,\n",
              "          5.2621e-01, 1.6121e-01, 8.1268e-01, 6.7478e-01, 2.5587e-01]],\n",
              "\n",
              "        [[5.0306e-01, 9.8063e-01, 2.5943e-01, 4.4943e-01, 9.2351e-01,\n",
              "          5.4929e-02, 9.8288e-01, 4.4086e-01, 6.6377e-01, 9.1580e-01],\n",
              "         [7.6874e-01, 3.1304e-01, 4.4204e-01, 8.9739e-01, 5.0807e-01,\n",
              "          6.0229e-01, 1.4022e-01, 8.3725e-01, 7.1057e-01, 6.8362e-01],\n",
              "         [7.8719e-01, 8.6289e-01, 2.9802e-02, 8.9654e-02, 4.5148e-01,\n",
              "          8.8240e-01, 7.0004e-01, 1.1770e-01, 6.5563e-01, 7.7161e-01],\n",
              "         [2.5344e-01, 6.3119e-01, 7.9513e-01, 2.4225e-01, 5.8777e-01,\n",
              "          7.4540e-01, 5.5401e-01, 7.6422e-01, 5.9048e-01, 3.6626e-01],\n",
              "         [8.8717e-03, 3.0100e-01, 9.4245e-01, 4.0171e-02, 1.1069e-01,\n",
              "          8.3041e-02, 5.1849e-01, 1.1242e-01, 1.2482e-01, 1.3808e-01],\n",
              "         [3.9895e-01, 3.0545e-01, 7.1183e-01, 5.2895e-01, 3.6509e-01,\n",
              "          5.2405e-01, 6.6097e-01, 8.2020e-01, 2.2149e-02, 1.9684e-01],\n",
              "         [2.9822e-01, 1.1703e-01, 3.8369e-01, 1.6867e-01, 4.2185e-01,\n",
              "          7.6189e-01, 6.3839e-01, 6.0709e-01, 3.0600e-01, 3.4151e-01],\n",
              "         [5.7555e-01, 2.4190e-01, 1.1217e-01, 8.9277e-01, 9.0666e-01,\n",
              "          9.7658e-01, 4.6548e-01, 4.0728e-01, 2.9203e-01, 6.3636e-01],\n",
              "         [2.9024e-01, 6.9109e-01, 2.0750e-01, 3.7706e-01, 9.0066e-01,\n",
              "          1.7100e-01, 2.7759e-01, 1.5780e-01, 1.7256e-01, 2.6809e-01],\n",
              "         [1.5071e-01, 7.8563e-01, 9.5803e-01, 2.5859e-01, 6.5387e-02,\n",
              "          3.3682e-01, 1.5007e-01, 3.1055e-01, 7.0756e-01, 4.7896e-02]]])"
            ]
          },
          "metadata": {},
          "execution_count": 80
        }
      ]
    },
    {
      "cell_type": "code",
      "source": [
        "random_tensor.ndim"
      ],
      "metadata": {
        "colab": {
          "base_uri": "https://localhost:8080/"
        },
        "id": "A-LEI0iZttL7",
        "outputId": "946cfb6d-ad41-4bba-8be5-b85dcb7e4f1f"
      },
      "execution_count": 81,
      "outputs": [
        {
          "output_type": "execute_result",
          "data": {
            "text/plain": [
              "3"
            ]
          },
          "metadata": {},
          "execution_count": 81
        }
      ]
    },
    {
      "cell_type": "code",
      "source": [
        "random_tensor.shape"
      ],
      "metadata": {
        "colab": {
          "base_uri": "https://localhost:8080/"
        },
        "id": "8XutpiYRtu7_",
        "outputId": "d42a43db-5878-49ba-e80c-14f874d579e9"
      },
      "execution_count": 82,
      "outputs": [
        {
          "output_type": "execute_result",
          "data": {
            "text/plain": [
              "torch.Size([10, 10, 10])"
            ]
          },
          "metadata": {},
          "execution_count": 82
        }
      ]
    },
    {
      "cell_type": "code",
      "source": [
        "# Create a random tensor with similar shape to an image tensor\n",
        "random_image_size_tensor = torch.rand(size=(224,224,3)) # height, width, color channels (R, G, B)"
      ],
      "metadata": {
        "id": "3HqELiD4tzVc"
      },
      "execution_count": 83,
      "outputs": []
    },
    {
      "cell_type": "code",
      "source": [
        "random_image_size_tensor"
      ],
      "metadata": {
        "colab": {
          "base_uri": "https://localhost:8080/"
        },
        "id": "KX9DKfo1uM2Q",
        "outputId": "5ac88ae1-676c-466e-87fc-ce4c927632c6"
      },
      "execution_count": 84,
      "outputs": [
        {
          "output_type": "execute_result",
          "data": {
            "text/plain": [
              "tensor([[[0.0238, 0.1801, 0.2332],\n",
              "         [0.1459, 0.9461, 0.3826],\n",
              "         [0.8575, 0.1317, 0.4164],\n",
              "         ...,\n",
              "         [0.4132, 0.2455, 0.7715],\n",
              "         [0.7304, 0.5979, 0.8806],\n",
              "         [0.8584, 0.1722, 0.3948]],\n",
              "\n",
              "        [[0.3438, 0.6024, 0.7743],\n",
              "         [0.6898, 0.7484, 0.3295],\n",
              "         [0.7128, 0.5332, 0.9078],\n",
              "         ...,\n",
              "         [0.4017, 0.9579, 0.9098],\n",
              "         [0.2691, 0.6140, 0.3770],\n",
              "         [0.5375, 0.7627, 0.1749]],\n",
              "\n",
              "        [[0.5141, 0.5456, 0.9157],\n",
              "         [0.1726, 0.3567, 0.9771],\n",
              "         [0.5833, 0.0056, 0.2775],\n",
              "         ...,\n",
              "         [0.2091, 0.1745, 0.1018],\n",
              "         [0.2098, 0.6237, 0.2265],\n",
              "         [0.4492, 0.2315, 0.9024]],\n",
              "\n",
              "        ...,\n",
              "\n",
              "        [[0.7620, 0.5087, 0.3844],\n",
              "         [0.1198, 0.3350, 0.8101],\n",
              "         [0.8972, 0.3828, 0.3916],\n",
              "         ...,\n",
              "         [0.9906, 0.3830, 0.2742],\n",
              "         [0.1198, 0.9870, 0.6701],\n",
              "         [0.2971, 0.4976, 0.3503]],\n",
              "\n",
              "        [[0.4290, 0.5338, 0.4193],\n",
              "         [0.1406, 0.4085, 0.5954],\n",
              "         [0.1942, 0.7404, 0.5050],\n",
              "         ...,\n",
              "         [0.2463, 0.7326, 0.2697],\n",
              "         [0.6341, 0.9574, 0.3336],\n",
              "         [0.6781, 0.3816, 0.9517]],\n",
              "\n",
              "        [[0.2820, 0.9520, 0.5250],\n",
              "         [0.6253, 0.3898, 0.4099],\n",
              "         [0.8388, 0.7749, 0.5502],\n",
              "         ...,\n",
              "         [0.8970, 0.7401, 0.0542],\n",
              "         [0.4768, 0.3665, 0.9086],\n",
              "         [0.9593, 0.7534, 0.9978]]])"
            ]
          },
          "metadata": {},
          "execution_count": 84
        }
      ]
    },
    {
      "cell_type": "code",
      "source": [
        "random_image_size_tensor.shape, random_image_size_tensor.ndim"
      ],
      "metadata": {
        "colab": {
          "base_uri": "https://localhost:8080/"
        },
        "id": "atcV6AL7uQ2O",
        "outputId": "9d19d80f-f6ae-442e-8ff9-7036fcfa310a"
      },
      "execution_count": 85,
      "outputs": [
        {
          "output_type": "execute_result",
          "data": {
            "text/plain": [
              "(torch.Size([224, 224, 3]), 3)"
            ]
          },
          "metadata": {},
          "execution_count": 85
        }
      ]
    },
    {
      "cell_type": "code",
      "source": [
        "# Create a random tensor with similar shape to one second of video at 30fps tensor\n",
        "random_video_size_tensor = torch.rand(size=(224,224,3,30)) # height, width, color channels (R, G, B), frame"
      ],
      "metadata": {
        "id": "T-DJpKiTuaUW"
      },
      "execution_count": 86,
      "outputs": []
    },
    {
      "cell_type": "code",
      "source": [
        "random_video_size_tensor.shape, random_image_size_tensor.ndim\n"
      ],
      "metadata": {
        "colab": {
          "base_uri": "https://localhost:8080/"
        },
        "id": "449IX1dZvBPI",
        "outputId": "3108503c-90b6-468e-fe71-c6b8775711f8"
      },
      "execution_count": 87,
      "outputs": [
        {
          "output_type": "execute_result",
          "data": {
            "text/plain": [
              "(torch.Size([224, 224, 3, 30]), 3)"
            ]
          },
          "metadata": {},
          "execution_count": 87
        }
      ]
    },
    {
      "cell_type": "code",
      "source": [],
      "metadata": {
        "id": "H8Ig9qGUvJsm"
      },
      "execution_count": 87,
      "outputs": []
    }
  ]
}