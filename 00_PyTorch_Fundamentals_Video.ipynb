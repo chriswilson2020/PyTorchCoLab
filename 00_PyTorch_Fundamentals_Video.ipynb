{
  "nbformat": 4,
  "nbformat_minor": 0,
  "metadata": {
    "colab": {
      "provenance": [],
      "authorship_tag": "ABX9TyNJaTxKsf5vxny2LEAhS3X+",
      "include_colab_link": true
    },
    "kernelspec": {
      "name": "python3",
      "display_name": "Python 3"
    },
    "language_info": {
      "name": "python"
    },
    "gpuClass": "standard"
  },
  "cells": [
    {
      "cell_type": "markdown",
      "metadata": {
        "id": "view-in-github",
        "colab_type": "text"
      },
      "source": [
        "<a href=\"https://colab.research.google.com/github/chriswilson2020/PyTorchCoLab/blob/main/00_PyTorch_Fundamentals_Video.ipynb\" target=\"_parent\"><img src=\"https://colab.research.google.com/assets/colab-badge.svg\" alt=\"Open In Colab\"/></a>"
      ]
    },
    {
      "cell_type": "markdown",
      "source": [
        "00_. PyTorch Fundamentals\n",
        "Resource notebook: https:www.learnpytorch.io/00_pytorch_fundamentals/\n",
        "If you have a question: https://githubcom/mrdbourke/pytorch-deep-learning/discussions\n"
      ],
      "metadata": {
        "id": "fl1aNBXAf-IX"
      }
    },
    {
      "cell_type": "code",
      "source": [
        "import torch\n",
        "import numpy as np\n",
        "import pandas as pd\n",
        "import matplotlib.pyplot as plt\n",
        "print(torch.__version__)"
      ],
      "metadata": {
        "colab": {
          "base_uri": "https://localhost:8080/"
        },
        "id": "sIU1AfSBexgh",
        "outputId": "973c9786-01d8-46e0-8151-6c1e80a338a5"
      },
      "execution_count": 1,
      "outputs": [
        {
          "output_type": "stream",
          "name": "stdout",
          "text": [
            "1.12.1+cu113\n"
          ]
        }
      ]
    },
    {
      "cell_type": "markdown",
      "source": [
        "## Introduction to Tensors\n",
        "\n",
        "### Creating tensors\n",
        "\n",
        "PyTorch tensors are created using ` torch.Tensor()`= https://pytorch.org/docs/stable/tensors.html\n",
        "\n",
        "\n",
        "![ScalarvectorMatrixTensor.png](data:image/png;base64,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)\n"
      ],
      "metadata": {
        "id": "Vlt4ZvFslIH2"
      }
    },
    {
      "cell_type": "code",
      "source": [
        "# scalar\n",
        "scalar = torch.tensor(7)\n",
        "scalar"
      ],
      "metadata": {
        "colab": {
          "base_uri": "https://localhost:8080/"
        },
        "id": "eum_MlDsldaJ",
        "outputId": "12f1965b-7a4c-4d87-9512-34275025a55e"
      },
      "execution_count": 2,
      "outputs": [
        {
          "output_type": "execute_result",
          "data": {
            "text/plain": [
              "tensor(7)"
            ]
          },
          "metadata": {},
          "execution_count": 2
        }
      ]
    },
    {
      "cell_type": "code",
      "source": [
        "scalar.ndim"
      ],
      "metadata": {
        "colab": {
          "base_uri": "https://localhost:8080/"
        },
        "id": "rNEPoT_tmPsr",
        "outputId": "717f8a61-bf04-4059-dab5-2810efa64bad"
      },
      "execution_count": 3,
      "outputs": [
        {
          "output_type": "execute_result",
          "data": {
            "text/plain": [
              "0"
            ]
          },
          "metadata": {},
          "execution_count": 3
        }
      ]
    },
    {
      "cell_type": "code",
      "source": [
        "# Get tensor back as Python int\n",
        "scalar.item()"
      ],
      "metadata": {
        "colab": {
          "base_uri": "https://localhost:8080/"
        },
        "id": "QCKoRQsNmxtj",
        "outputId": "a3a853e7-5869-4497-ee44-07cf30364c34"
      },
      "execution_count": 4,
      "outputs": [
        {
          "output_type": "execute_result",
          "data": {
            "text/plain": [
              "7"
            ]
          },
          "metadata": {},
          "execution_count": 4
        }
      ]
    },
    {
      "cell_type": "code",
      "source": [
        "# Vector\n",
        "vector = torch.tensor([7, 7])"
      ],
      "metadata": {
        "id": "B3vroJvhnBS4"
      },
      "execution_count": 5,
      "outputs": []
    },
    {
      "cell_type": "code",
      "source": [
        "vector.ndim"
      ],
      "metadata": {
        "colab": {
          "base_uri": "https://localhost:8080/"
        },
        "id": "jbrf73DunJAo",
        "outputId": "fa981485-5b2d-4abf-ea69-35e597a45cf0"
      },
      "execution_count": 6,
      "outputs": [
        {
          "output_type": "execute_result",
          "data": {
            "text/plain": [
              "1"
            ]
          },
          "metadata": {},
          "execution_count": 6
        }
      ]
    },
    {
      "cell_type": "code",
      "source": [
        "vector.shape"
      ],
      "metadata": {
        "colab": {
          "base_uri": "https://localhost:8080/"
        },
        "id": "fkNta7RonRf-",
        "outputId": "59eecb34-8039-4265-dd17-ec21c15b7de3"
      },
      "execution_count": 7,
      "outputs": [
        {
          "output_type": "execute_result",
          "data": {
            "text/plain": [
              "torch.Size([2])"
            ]
          },
          "metadata": {},
          "execution_count": 7
        }
      ]
    },
    {
      "cell_type": "code",
      "source": [
        "# MATRIX\n",
        "MATRIX = torch.tensor([[7, 8],\n",
        "                       [9, 10]])\n",
        "MATRIX"
      ],
      "metadata": {
        "colab": {
          "base_uri": "https://localhost:8080/"
        },
        "id": "td8f2g4RnrZ6",
        "outputId": "a27c1773-bff2-44f3-ad4d-c3d75932e82d"
      },
      "execution_count": 8,
      "outputs": [
        {
          "output_type": "execute_result",
          "data": {
            "text/plain": [
              "tensor([[ 7,  8],\n",
              "        [ 9, 10]])"
            ]
          },
          "metadata": {},
          "execution_count": 8
        }
      ]
    },
    {
      "cell_type": "code",
      "source": [
        "MATRIX.ndim"
      ],
      "metadata": {
        "colab": {
          "base_uri": "https://localhost:8080/"
        },
        "id": "qD3_1mrRn9uX",
        "outputId": "24b85d97-318f-4bc6-d2cc-35386382021b"
      },
      "execution_count": 9,
      "outputs": [
        {
          "output_type": "execute_result",
          "data": {
            "text/plain": [
              "2"
            ]
          },
          "metadata": {},
          "execution_count": 9
        }
      ]
    },
    {
      "cell_type": "code",
      "source": [
        "MATRIX[0]"
      ],
      "metadata": {
        "colab": {
          "base_uri": "https://localhost:8080/"
        },
        "id": "dVYy51yQoLMk",
        "outputId": "c93ff2da-413c-40be-aab2-4ee47ca71ce7"
      },
      "execution_count": 10,
      "outputs": [
        {
          "output_type": "execute_result",
          "data": {
            "text/plain": [
              "tensor([7, 8])"
            ]
          },
          "metadata": {},
          "execution_count": 10
        }
      ]
    },
    {
      "cell_type": "code",
      "source": [
        "MATRIX[1]"
      ],
      "metadata": {
        "colab": {
          "base_uri": "https://localhost:8080/"
        },
        "id": "F2eNt6_loNa_",
        "outputId": "8b3c17bb-ca8e-45d4-8777-700b64741b09"
      },
      "execution_count": 11,
      "outputs": [
        {
          "output_type": "execute_result",
          "data": {
            "text/plain": [
              "tensor([ 9, 10])"
            ]
          },
          "metadata": {},
          "execution_count": 11
        }
      ]
    },
    {
      "cell_type": "code",
      "source": [
        "MATRIX.shape"
      ],
      "metadata": {
        "colab": {
          "base_uri": "https://localhost:8080/"
        },
        "id": "W1GodcWooQYN",
        "outputId": "edf429d1-e2c1-4c3b-9eaf-c042cb601d2d"
      },
      "execution_count": 12,
      "outputs": [
        {
          "output_type": "execute_result",
          "data": {
            "text/plain": [
              "torch.Size([2, 2])"
            ]
          },
          "metadata": {},
          "execution_count": 12
        }
      ]
    },
    {
      "cell_type": "code",
      "source": [
        "# TENSOR\n",
        "TENSOR = torch.tensor([[[1,2,3],\n",
        "                        [3,6,9],\n",
        "                        [2,4,5]]])\n",
        "TENSOR"
      ],
      "metadata": {
        "colab": {
          "base_uri": "https://localhost:8080/"
        },
        "id": "HFzBsxGXoSDy",
        "outputId": "4ba91c80-7b78-477f-991e-8d693cd0f747"
      },
      "execution_count": 13,
      "outputs": [
        {
          "output_type": "execute_result",
          "data": {
            "text/plain": [
              "tensor([[[1, 2, 3],\n",
              "         [3, 6, 9],\n",
              "         [2, 4, 5]]])"
            ]
          },
          "metadata": {},
          "execution_count": 13
        }
      ]
    },
    {
      "cell_type": "code",
      "source": [
        "TENSOR.ndim"
      ],
      "metadata": {
        "colab": {
          "base_uri": "https://localhost:8080/"
        },
        "id": "M_IJbjxQonx3",
        "outputId": "32509273-0320-48ec-d887-43cb0d56c3f2"
      },
      "execution_count": 14,
      "outputs": [
        {
          "output_type": "execute_result",
          "data": {
            "text/plain": [
              "3"
            ]
          },
          "metadata": {},
          "execution_count": 14
        }
      ]
    },
    {
      "cell_type": "code",
      "source": [
        "TENSOR.shape"
      ],
      "metadata": {
        "colab": {
          "base_uri": "https://localhost:8080/"
        },
        "id": "TBEukkPhoqau",
        "outputId": "bf239acd-22ea-4c30-d8d3-75c25afd10b2"
      },
      "execution_count": 15,
      "outputs": [
        {
          "output_type": "execute_result",
          "data": {
            "text/plain": [
              "torch.Size([1, 3, 3])"
            ]
          },
          "metadata": {},
          "execution_count": 15
        }
      ]
    },
    {
      "cell_type": "code",
      "source": [
        "TENSOR[0]"
      ],
      "metadata": {
        "colab": {
          "base_uri": "https://localhost:8080/"
        },
        "id": "oyLPvssNorcf",
        "outputId": "1b2a876f-a151-4c9a-f2b8-4bd98f388157"
      },
      "execution_count": 16,
      "outputs": [
        {
          "output_type": "execute_result",
          "data": {
            "text/plain": [
              "tensor([[1, 2, 3],\n",
              "        [3, 6, 9],\n",
              "        [2, 4, 5]])"
            ]
          },
          "metadata": {},
          "execution_count": 16
        }
      ]
    },
    {
      "cell_type": "code",
      "source": [
        "# myTENSOR\n",
        "\n",
        "myTENSOR = torch.tensor([[[[1,3,4,5],\n",
        "                           [2,6,7,8],\n",
        "                           [3,9,10,11]]]])\n",
        "myTENSOR"
      ],
      "metadata": {
        "colab": {
          "base_uri": "https://localhost:8080/"
        },
        "id": "f1Oii9Ugoz_p",
        "outputId": "b1f885c7-aa59-4a3e-b2c3-cb87be72b902"
      },
      "execution_count": 17,
      "outputs": [
        {
          "output_type": "execute_result",
          "data": {
            "text/plain": [
              "tensor([[[[ 1,  3,  4,  5],\n",
              "          [ 2,  6,  7,  8],\n",
              "          [ 3,  9, 10, 11]]]])"
            ]
          },
          "metadata": {},
          "execution_count": 17
        }
      ]
    },
    {
      "cell_type": "code",
      "source": [
        "myTENSOR.ndim"
      ],
      "metadata": {
        "colab": {
          "base_uri": "https://localhost:8080/"
        },
        "id": "TY5qim-WrGrY",
        "outputId": "5d1be0a3-5f92-451c-ac69-ee0721b0581c"
      },
      "execution_count": 18,
      "outputs": [
        {
          "output_type": "execute_result",
          "data": {
            "text/plain": [
              "4"
            ]
          },
          "metadata": {},
          "execution_count": 18
        }
      ]
    },
    {
      "cell_type": "code",
      "source": [
        "myTENSOR.shape"
      ],
      "metadata": {
        "colab": {
          "base_uri": "https://localhost:8080/"
        },
        "id": "Dc1dRNKHrfPl",
        "outputId": "818baef4-b5d3-4ef9-a1cf-3288c2f7b2be"
      },
      "execution_count": 19,
      "outputs": [
        {
          "output_type": "execute_result",
          "data": {
            "text/plain": [
              "torch.Size([1, 1, 3, 4])"
            ]
          },
          "metadata": {},
          "execution_count": 19
        }
      ]
    },
    {
      "cell_type": "markdown",
      "source": [
        "### Random tensors\n",
        "\n",
        "Why random tensors?\n",
        "\n",
        "Random tensors are important because the way many neural networks learn is that they start with tensors full of random numbers and then adjust those randome numbers to better represent the data.\n",
        "\n",
        "`Start with random numbers -> look at data -> update random numbers -> look at data -> update random numbers`\n",
        "\n",
        "Torch random tensors - https://pytorch.org/docs/stable/generated/torch.rand.html\n"
      ],
      "metadata": {
        "id": "sjJLa5GYrido"
      }
    },
    {
      "cell_type": "code",
      "source": [
        "# Create a random tensor of size (3, 4)\n",
        "random_tensor = torch.rand(3, 4)\n",
        "\n",
        "random_tensor"
      ],
      "metadata": {
        "colab": {
          "base_uri": "https://localhost:8080/"
        },
        "id": "ELdUqMk6sS6f",
        "outputId": "eee02fbe-dd31-4310-9cc2-5dbc8a1c1b29"
      },
      "execution_count": 20,
      "outputs": [
        {
          "output_type": "execute_result",
          "data": {
            "text/plain": [
              "tensor([[0.8223, 0.0555, 0.6806, 0.3858],\n",
              "        [0.3857, 0.2473, 0.8922, 0.0734],\n",
              "        [0.1905, 0.2147, 0.4315, 0.7732]])"
            ]
          },
          "metadata": {},
          "execution_count": 20
        }
      ]
    },
    {
      "cell_type": "code",
      "source": [
        "random_tensor.ndim"
      ],
      "metadata": {
        "colab": {
          "base_uri": "https://localhost:8080/"
        },
        "id": "rflCCKyrs-1m",
        "outputId": "148cdda8-bd67-4256-9c0b-beb387f8c8af"
      },
      "execution_count": 21,
      "outputs": [
        {
          "output_type": "execute_result",
          "data": {
            "text/plain": [
              "2"
            ]
          },
          "metadata": {},
          "execution_count": 21
        }
      ]
    },
    {
      "cell_type": "code",
      "source": [
        "random_tensor = torch.rand(1, 10, 10)\n",
        "\n",
        "random_tensor"
      ],
      "metadata": {
        "colab": {
          "base_uri": "https://localhost:8080/"
        },
        "id": "dopoBaM6tR6i",
        "outputId": "dd144ecf-0c14-43a8-8d51-dd2e03b9a7b7"
      },
      "execution_count": 22,
      "outputs": [
        {
          "output_type": "execute_result",
          "data": {
            "text/plain": [
              "tensor([[[0.3967, 0.4280, 0.7174, 0.0651, 0.7549, 0.6717, 0.8170, 0.7300,\n",
              "          0.9010, 0.5182],\n",
              "         [0.1398, 0.5605, 0.2769, 0.2153, 0.5660, 0.6876, 0.2737, 0.6978,\n",
              "          0.5010, 0.8570],\n",
              "         [0.9839, 0.4912, 0.5220, 0.7063, 0.6882, 0.8800, 0.7108, 0.7955,\n",
              "          0.9172, 0.8561],\n",
              "         [0.9540, 0.2935, 0.9498, 0.2233, 0.7346, 0.4551, 0.3014, 0.1499,\n",
              "          0.1837, 0.3277],\n",
              "         [0.6823, 0.5009, 0.0871, 0.0330, 0.1593, 0.1464, 0.4288, 0.8330,\n",
              "          0.1874, 0.7569],\n",
              "         [0.9836, 0.7603, 0.8724, 0.3878, 0.4300, 0.4289, 0.8504, 0.5189,\n",
              "          0.0714, 0.4627],\n",
              "         [0.7066, 0.6028, 0.1761, 0.2527, 0.0485, 0.1666, 0.1453, 0.4048,\n",
              "          0.7930, 0.2458],\n",
              "         [0.4245, 0.1232, 0.7782, 0.0630, 0.4014, 0.3812, 0.5942, 0.4989,\n",
              "          0.2621, 0.2521],\n",
              "         [0.4399, 0.6905, 0.6771, 0.0056, 0.3610, 0.3733, 0.8553, 0.5134,\n",
              "          0.4171, 0.1433],\n",
              "         [0.5547, 0.7640, 0.0032, 0.3614, 0.3140, 0.7695, 0.3139, 0.0106,\n",
              "          0.2126, 0.5417]]])"
            ]
          },
          "metadata": {},
          "execution_count": 22
        }
      ]
    },
    {
      "cell_type": "code",
      "source": [
        "random_tensor.ndim"
      ],
      "metadata": {
        "colab": {
          "base_uri": "https://localhost:8080/"
        },
        "id": "XtMxyXOJtZjw",
        "outputId": "47abe603-e1ae-49e0-d6f3-b5d037840606"
      },
      "execution_count": 23,
      "outputs": [
        {
          "output_type": "execute_result",
          "data": {
            "text/plain": [
              "3"
            ]
          },
          "metadata": {},
          "execution_count": 23
        }
      ]
    },
    {
      "cell_type": "code",
      "source": [
        "random_tensor.shape"
      ],
      "metadata": {
        "colab": {
          "base_uri": "https://localhost:8080/"
        },
        "id": "0dmZYEzstdqi",
        "outputId": "4a972ccd-72dc-4879-8091-93d34d4bca58"
      },
      "execution_count": 24,
      "outputs": [
        {
          "output_type": "execute_result",
          "data": {
            "text/plain": [
              "torch.Size([1, 10, 10])"
            ]
          },
          "metadata": {},
          "execution_count": 24
        }
      ]
    },
    {
      "cell_type": "code",
      "source": [
        "random_tensor = torch.rand(10,10,10)\n",
        "random_tensor"
      ],
      "metadata": {
        "colab": {
          "base_uri": "https://localhost:8080/"
        },
        "id": "7p17GMadtmJX",
        "outputId": "757b3e84-4850-488d-831b-79db870d0bb1"
      },
      "execution_count": 25,
      "outputs": [
        {
          "output_type": "execute_result",
          "data": {
            "text/plain": [
              "tensor([[[8.6495e-01, 7.7955e-01, 5.4710e-01, 9.6380e-01, 4.8384e-01,\n",
              "          6.3650e-01, 4.6219e-01, 6.7762e-01, 7.3213e-02, 7.0131e-01],\n",
              "         [5.4430e-01, 5.9579e-01, 8.7602e-01, 8.6890e-01, 8.8502e-01,\n",
              "          6.4165e-01, 7.5254e-01, 8.2638e-01, 8.1239e-01, 4.5988e-01],\n",
              "         [4.4724e-01, 4.1398e-01, 4.5283e-01, 4.2561e-01, 4.9099e-01,\n",
              "          7.0760e-01, 7.2998e-01, 6.3670e-01, 2.9648e-01, 7.9804e-01],\n",
              "         [4.6370e-02, 8.2175e-01, 8.9120e-01, 5.3095e-01, 6.3017e-01,\n",
              "          2.7161e-01, 1.7512e-01, 1.8805e-01, 8.7072e-01, 9.3949e-01],\n",
              "         [9.7916e-01, 1.8214e-01, 2.7093e-01, 1.9207e-01, 4.6889e-01,\n",
              "          9.9507e-01, 7.1696e-01, 3.2162e-01, 7.8876e-01, 9.2222e-01],\n",
              "         [7.7088e-01, 5.8767e-02, 1.6831e-01, 5.7210e-01, 9.3852e-02,\n",
              "          5.7619e-02, 1.4731e-01, 3.0131e-01, 7.7446e-01, 3.5694e-01],\n",
              "         [6.5592e-01, 2.4309e-01, 7.7232e-01, 2.8554e-01, 1.3608e-01,\n",
              "          8.5615e-01, 4.6355e-01, 8.8648e-02, 1.1888e-01, 8.4891e-01],\n",
              "         [2.5359e-02, 8.3550e-01, 4.0304e-01, 6.9983e-01, 7.2890e-01,\n",
              "          5.6003e-01, 3.2716e-01, 6.0668e-02, 4.7900e-01, 4.1134e-01],\n",
              "         [5.0730e-02, 7.3942e-01, 3.1767e-01, 8.8224e-02, 3.9101e-01,\n",
              "          9.0986e-01, 9.0237e-01, 2.6299e-01, 4.0723e-01, 5.4218e-01],\n",
              "         [2.5784e-01, 7.1935e-01, 3.8444e-01, 9.5625e-01, 4.6606e-01,\n",
              "          7.6939e-02, 2.9965e-01, 6.6010e-01, 2.6212e-01, 6.8509e-01]],\n",
              "\n",
              "        [[1.7647e-01, 9.2042e-01, 8.8691e-01, 5.7921e-03, 6.6203e-01,\n",
              "          6.0129e-01, 7.1955e-01, 3.5654e-02, 7.0024e-01, 1.2250e-01],\n",
              "         [4.7270e-01, 6.3957e-01, 4.8964e-01, 7.3763e-01, 3.5063e-01,\n",
              "          7.2702e-02, 9.5046e-01, 2.4962e-01, 7.0728e-02, 9.2657e-01],\n",
              "         [2.6805e-01, 6.3002e-01, 4.6059e-01, 3.3228e-01, 6.4513e-01,\n",
              "          6.2257e-01, 7.9104e-02, 8.5867e-01, 5.3409e-01, 7.2763e-01],\n",
              "         [3.2823e-01, 9.7214e-01, 1.7317e-01, 3.1246e-02, 8.9681e-04,\n",
              "          9.7722e-01, 5.3608e-01, 3.5666e-01, 1.2866e-02, 2.1576e-01],\n",
              "         [3.1353e-02, 2.2078e-02, 3.5565e-01, 2.1551e-01, 6.4750e-01,\n",
              "          4.0049e-01, 2.8267e-01, 4.6076e-01, 7.0689e-01, 6.2144e-01],\n",
              "         [1.3441e-01, 9.4317e-01, 9.7497e-01, 6.1775e-01, 9.9996e-02,\n",
              "          6.4145e-01, 5.7653e-01, 8.0147e-01, 1.0799e-01, 7.9168e-01],\n",
              "         [8.5229e-01, 9.0829e-01, 1.7693e-01, 3.3719e-02, 7.9659e-01,\n",
              "          2.5364e-01, 8.3051e-01, 3.8386e-01, 3.4507e-01, 4.1087e-01],\n",
              "         [5.7250e-01, 5.6808e-01, 4.8057e-01, 9.0424e-01, 4.5312e-01,\n",
              "          4.2827e-01, 6.1604e-01, 8.9480e-01, 4.6423e-02, 9.3449e-01],\n",
              "         [5.5072e-01, 6.0299e-01, 6.5993e-01, 7.8341e-02, 6.6776e-02,\n",
              "          4.7895e-02, 5.6261e-02, 3.6275e-01, 8.7291e-01, 9.7705e-01],\n",
              "         [9.0936e-01, 2.3492e-01, 3.0860e-01, 3.5562e-02, 6.3037e-01,\n",
              "          2.4009e-01, 1.2976e-02, 3.8493e-01, 9.2552e-02, 7.6724e-02]],\n",
              "\n",
              "        [[2.1007e-01, 2.6021e-01, 9.2785e-01, 9.1660e-02, 4.8293e-01,\n",
              "          7.9282e-01, 2.0508e-01, 3.5321e-01, 4.0043e-02, 6.7704e-01],\n",
              "         [2.5552e-01, 3.6377e-02, 6.2234e-01, 8.9569e-01, 7.9381e-02,\n",
              "          3.4170e-01, 2.9616e-01, 3.9797e-02, 8.4452e-01, 5.6633e-01],\n",
              "         [8.8450e-01, 5.8697e-01, 4.1200e-01, 5.2271e-01, 7.5769e-01,\n",
              "          7.2403e-01, 1.3447e-01, 1.6762e-01, 6.3147e-01, 7.5217e-01],\n",
              "         [1.7448e-01, 5.7804e-02, 3.2511e-01, 1.3546e-01, 5.3607e-01,\n",
              "          7.7660e-01, 6.7175e-01, 6.5345e-01, 3.1349e-01, 4.4820e-02],\n",
              "         [3.8595e-01, 6.9258e-01, 5.7592e-01, 4.0602e-01, 2.4368e-01,\n",
              "          7.4225e-01, 2.4487e-01, 4.1030e-01, 6.1724e-01, 7.1903e-02],\n",
              "         [7.6807e-01, 8.0847e-01, 4.6821e-01, 7.1912e-01, 7.2763e-02,\n",
              "          2.2084e-01, 8.7442e-01, 3.7879e-01, 6.4931e-01, 4.2859e-03],\n",
              "         [9.2561e-02, 6.9729e-01, 1.6603e-02, 9.9348e-01, 6.4088e-01,\n",
              "          7.5868e-02, 4.4433e-01, 7.5109e-01, 4.6603e-01, 6.8577e-01],\n",
              "         [5.4886e-01, 1.4355e-02, 5.5795e-02, 1.4084e-01, 9.1071e-01,\n",
              "          2.7270e-01, 6.6136e-01, 1.2327e-01, 5.9774e-01, 8.9870e-01],\n",
              "         [6.9805e-01, 7.8937e-01, 4.8018e-01, 6.5401e-01, 7.2940e-01,\n",
              "          6.6540e-01, 5.7815e-01, 5.8462e-01, 8.7402e-01, 4.0963e-01],\n",
              "         [1.6562e-01, 8.1757e-01, 6.7159e-01, 8.4711e-01, 7.6148e-01,\n",
              "          7.7050e-01, 4.6557e-01, 4.0218e-01, 9.3213e-01, 2.8844e-02]],\n",
              "\n",
              "        [[5.1534e-02, 6.8686e-01, 9.4150e-01, 6.0308e-01, 3.1190e-01,\n",
              "          3.6401e-01, 3.1369e-01, 9.8516e-01, 6.9666e-04, 6.5729e-01],\n",
              "         [7.6721e-01, 7.6223e-01, 7.1200e-01, 1.2270e-01, 5.0322e-01,\n",
              "          2.4215e-01, 2.0315e-01, 1.3469e-01, 7.7523e-01, 8.4105e-01],\n",
              "         [6.6776e-01, 1.4400e-02, 7.9150e-01, 5.8139e-01, 7.9944e-01,\n",
              "          4.2540e-01, 1.3538e-01, 7.8068e-01, 5.3103e-01, 2.6050e-01],\n",
              "         [6.7203e-01, 8.4145e-01, 9.0900e-01, 6.3458e-01, 9.7297e-01,\n",
              "          7.3558e-01, 6.9307e-01, 2.8604e-01, 1.0068e-01, 2.7701e-01],\n",
              "         [7.7860e-01, 1.7897e-01, 1.3188e-01, 1.2475e-01, 6.8466e-01,\n",
              "          8.7308e-01, 7.5096e-01, 6.4412e-02, 5.0933e-01, 7.8318e-01],\n",
              "         [9.7981e-01, 2.1364e-01, 4.9357e-01, 6.7901e-01, 4.4022e-01,\n",
              "          9.4746e-02, 7.6209e-01, 6.0502e-02, 2.3920e-01, 5.8958e-01],\n",
              "         [2.0871e-01, 1.1176e-02, 4.8587e-01, 5.9931e-01, 8.9039e-01,\n",
              "          8.1830e-02, 4.6125e-01, 8.4779e-01, 4.5322e-01, 7.7736e-02],\n",
              "         [8.1567e-01, 1.1606e-01, 4.6463e-02, 8.6667e-01, 5.6145e-01,\n",
              "          6.2323e-01, 7.2367e-01, 8.0299e-01, 6.5261e-01, 6.6527e-01],\n",
              "         [6.0387e-01, 3.9737e-01, 1.5578e-01, 2.0495e-01, 3.1680e-01,\n",
              "          6.5137e-01, 9.4698e-01, 1.2047e-01, 7.8416e-01, 1.2273e-01],\n",
              "         [2.0592e-01, 6.9981e-01, 4.6138e-01, 3.8260e-01, 3.0934e-01,\n",
              "          3.4687e-01, 4.0488e-01, 2.3511e-02, 4.5248e-01, 2.5398e-02]],\n",
              "\n",
              "        [[7.1084e-02, 8.5759e-01, 4.3822e-02, 8.3346e-01, 8.9749e-01,\n",
              "          2.7887e-01, 8.7004e-01, 6.3430e-01, 2.1456e-01, 4.7697e-01],\n",
              "         [5.8371e-01, 9.0332e-01, 3.2986e-01, 4.4699e-01, 1.4893e-01,\n",
              "          5.2773e-01, 8.4058e-01, 4.5475e-01, 4.8811e-01, 3.1753e-01],\n",
              "         [3.3612e-02, 9.4060e-01, 8.1160e-01, 6.5564e-01, 5.1642e-01,\n",
              "          7.1246e-01, 4.2501e-01, 7.8440e-01, 1.6975e-01, 1.7388e-01],\n",
              "         [8.5726e-01, 6.6867e-01, 6.9627e-01, 6.9792e-01, 2.0848e-01,\n",
              "          1.2566e-01, 3.2430e-01, 3.2534e-02, 3.9675e-02, 7.6786e-01],\n",
              "         [6.8171e-01, 9.9610e-01, 4.3918e-01, 3.1562e-01, 6.4990e-01,\n",
              "          8.2006e-01, 1.7406e-01, 7.1426e-01, 1.8906e-01, 2.5081e-01],\n",
              "         [5.9335e-01, 4.0145e-01, 1.6160e-01, 3.9890e-01, 3.2682e-01,\n",
              "          9.6881e-01, 4.4223e-01, 5.7856e-01, 9.9192e-01, 3.3039e-01],\n",
              "         [9.3457e-01, 1.6912e-01, 4.3083e-02, 5.2366e-01, 1.5921e-02,\n",
              "          2.9686e-01, 6.3457e-01, 4.5793e-01, 6.5756e-01, 7.7286e-01],\n",
              "         [5.9192e-01, 7.8257e-01, 3.8497e-01, 2.2239e-01, 2.2412e-01,\n",
              "          6.3640e-01, 7.8077e-01, 9.5142e-01, 3.5251e-01, 6.5634e-03],\n",
              "         [2.6172e-01, 6.3320e-01, 6.9117e-01, 4.8648e-01, 8.8280e-01,\n",
              "          3.4937e-02, 7.8842e-01, 4.8960e-01, 7.4065e-01, 6.4451e-01],\n",
              "         [4.5360e-01, 9.2317e-01, 9.8760e-01, 4.3680e-01, 6.5002e-01,\n",
              "          3.4964e-01, 9.8812e-01, 3.2243e-01, 7.2369e-01, 2.7499e-01]],\n",
              "\n",
              "        [[9.0569e-01, 2.1610e-01, 6.2767e-02, 7.7057e-01, 5.0817e-01,\n",
              "          9.7294e-01, 8.5413e-01, 6.1984e-01, 2.2723e-01, 4.9176e-01],\n",
              "         [9.3162e-01, 7.3686e-01, 7.3661e-01, 8.0296e-01, 8.6046e-01,\n",
              "          6.8079e-02, 8.5958e-01, 9.4908e-01, 2.0694e-02, 6.1846e-01],\n",
              "         [3.9342e-01, 1.5515e-01, 8.2489e-01, 8.4636e-01, 9.4956e-01,\n",
              "          5.2469e-01, 9.5370e-01, 3.2337e-01, 6.3259e-01, 7.5673e-01],\n",
              "         [1.6661e-01, 5.2180e-01, 7.2751e-01, 6.5662e-01, 4.9674e-01,\n",
              "          7.9434e-01, 4.8550e-01, 7.2306e-01, 7.1503e-01, 4.2063e-01],\n",
              "         [5.0905e-01, 9.0920e-01, 8.2252e-01, 7.2912e-01, 6.9143e-01,\n",
              "          7.5794e-01, 8.3077e-02, 7.0885e-01, 3.8596e-01, 5.0057e-01],\n",
              "         [8.2047e-01, 9.4122e-01, 7.7508e-02, 9.5303e-01, 7.6435e-01,\n",
              "          3.1310e-01, 2.7552e-01, 8.5698e-01, 5.9805e-01, 3.7662e-01],\n",
              "         [2.6109e-01, 1.7653e-01, 9.5600e-01, 5.0299e-01, 1.9419e-01,\n",
              "          8.9175e-01, 9.2555e-01, 9.0368e-01, 5.6391e-01, 4.2760e-01],\n",
              "         [4.3524e-01, 4.3527e-01, 3.3576e-01, 2.0518e-01, 6.1755e-01,\n",
              "          5.8222e-01, 4.7265e-02, 7.4330e-01, 5.5741e-01, 3.4160e-01],\n",
              "         [7.4423e-01, 5.9775e-01, 2.6888e-01, 3.4615e-01, 4.4417e-01,\n",
              "          4.0772e-01, 9.6267e-01, 3.5778e-01, 5.2362e-01, 7.1627e-01],\n",
              "         [9.6340e-01, 6.1319e-01, 2.0389e-01, 8.9412e-01, 7.1915e-01,\n",
              "          3.9241e-01, 9.7286e-01, 6.1847e-01, 2.7420e-01, 7.5491e-01]],\n",
              "\n",
              "        [[6.2102e-02, 1.1260e-01, 7.2484e-01, 1.3342e-01, 2.1347e-01,\n",
              "          1.0361e-01, 9.2498e-01, 6.7659e-01, 2.2082e-01, 6.8614e-01],\n",
              "         [8.0520e-01, 7.9128e-01, 3.3421e-01, 2.1350e-01, 6.0877e-01,\n",
              "          4.2055e-01, 5.8068e-01, 3.5287e-01, 2.9344e-01, 2.9263e-01],\n",
              "         [8.0452e-03, 2.1245e-01, 2.1675e-01, 7.7122e-01, 1.9486e-01,\n",
              "          2.2843e-01, 9.3918e-01, 1.2552e-01, 5.0029e-02, 1.2736e-01],\n",
              "         [8.3002e-01, 1.9769e-01, 4.3406e-01, 4.1520e-01, 7.5935e-01,\n",
              "          6.4047e-01, 6.1458e-01, 4.6451e-01, 4.0765e-01, 2.5061e-01],\n",
              "         [3.8077e-01, 7.4431e-01, 3.7003e-01, 5.0258e-01, 8.9344e-01,\n",
              "          9.3258e-01, 5.4036e-01, 1.0412e-01, 3.7079e-01, 1.9963e-01],\n",
              "         [2.0951e-01, 5.8847e-01, 1.4446e-01, 6.9178e-01, 4.7373e-01,\n",
              "          6.5584e-01, 4.0045e-01, 6.3094e-01, 9.1708e-01, 7.2425e-01],\n",
              "         [6.2268e-02, 3.2156e-01, 8.6790e-01, 8.5635e-01, 8.3593e-01,\n",
              "          4.8983e-01, 5.0695e-01, 5.7068e-02, 9.1268e-01, 7.8583e-01],\n",
              "         [5.7091e-01, 8.3520e-01, 7.9887e-02, 6.9230e-01, 1.0799e-01,\n",
              "          3.9037e-02, 3.1290e-01, 8.0892e-01, 6.9441e-01, 2.1337e-01],\n",
              "         [2.1035e-01, 1.0332e-01, 8.2141e-01, 9.3360e-01, 7.1798e-01,\n",
              "          1.8819e-01, 6.9023e-01, 8.4785e-01, 4.7372e-01, 8.0518e-02],\n",
              "         [9.8724e-01, 9.3292e-01, 1.6245e-01, 3.9773e-01, 4.8543e-01,\n",
              "          8.4651e-01, 7.4854e-01, 3.8920e-01, 1.5425e-01, 4.8930e-01]],\n",
              "\n",
              "        [[9.6279e-01, 3.9397e-01, 8.8034e-01, 5.1596e-02, 6.2819e-01,\n",
              "          9.8899e-01, 2.0070e-01, 2.5747e-01, 4.1279e-02, 1.4061e-01],\n",
              "         [8.9334e-01, 5.5858e-01, 5.6763e-03, 9.3982e-01, 1.7216e-01,\n",
              "          6.6558e-01, 3.0861e-01, 6.8563e-01, 1.2068e-01, 2.1288e-02],\n",
              "         [6.2152e-01, 6.5244e-01, 4.4337e-01, 7.6340e-01, 3.8636e-01,\n",
              "          5.3417e-03, 2.0236e-01, 5.3069e-02, 5.2068e-01, 3.5013e-01],\n",
              "         [1.8555e-02, 6.2652e-01, 6.7112e-01, 7.8586e-01, 8.1792e-01,\n",
              "          2.8772e-01, 1.6397e-01, 7.6711e-01, 3.9570e-01, 8.1949e-01],\n",
              "         [4.7394e-01, 4.2896e-01, 8.8143e-01, 9.7967e-01, 3.8059e-01,\n",
              "          1.8520e-01, 9.0289e-01, 8.1535e-01, 9.6782e-01, 8.3562e-01],\n",
              "         [7.3405e-02, 4.2245e-01, 4.2948e-01, 5.0936e-01, 6.9126e-01,\n",
              "          5.6072e-01, 3.8484e-01, 9.2007e-01, 6.7427e-03, 4.3933e-01],\n",
              "         [3.8755e-01, 8.8594e-01, 6.5597e-01, 3.9427e-02, 6.0954e-01,\n",
              "          9.0159e-01, 7.0738e-01, 4.6461e-01, 8.1064e-01, 7.7415e-01],\n",
              "         [4.4352e-01, 6.0664e-01, 6.9891e-01, 4.5792e-01, 1.5012e-01,\n",
              "          3.5546e-01, 3.8189e-01, 1.3174e-01, 4.0805e-01, 7.1068e-01],\n",
              "         [5.8527e-01, 2.1393e-01, 3.8483e-01, 3.2673e-01, 1.7070e-01,\n",
              "          2.0465e-01, 8.7648e-01, 5.8870e-02, 4.1154e-01, 5.4564e-01],\n",
              "         [3.7252e-01, 4.1031e-01, 1.4701e-01, 7.7243e-01, 3.1040e-01,\n",
              "          5.4143e-01, 1.6817e-01, 9.2873e-01, 7.2953e-01, 7.6599e-01]],\n",
              "\n",
              "        [[5.2129e-01, 9.4412e-01, 1.3819e-01, 4.6519e-01, 2.8934e-02,\n",
              "          1.9493e-01, 7.2575e-02, 3.1109e-01, 7.6227e-01, 6.5354e-01],\n",
              "         [3.4462e-01, 1.6598e-02, 3.3089e-01, 9.2986e-03, 2.6353e-01,\n",
              "          2.1261e-01, 1.6478e-01, 9.9324e-01, 2.7941e-01, 7.2407e-01],\n",
              "         [8.2969e-01, 3.3245e-01, 3.6036e-01, 4.5234e-01, 1.7573e-01,\n",
              "          9.5866e-01, 7.2882e-01, 8.3475e-02, 1.6130e-01, 1.8561e-01],\n",
              "         [7.6335e-01, 4.7510e-01, 5.8231e-01, 4.2742e-01, 2.6413e-01,\n",
              "          8.2954e-01, 1.0980e-01, 7.2372e-01, 3.4128e-01, 8.3918e-01],\n",
              "         [5.3755e-01, 8.5332e-01, 5.2398e-01, 8.2862e-01, 9.3187e-01,\n",
              "          4.5395e-01, 4.7967e-01, 7.1585e-01, 4.5744e-01, 6.5480e-01],\n",
              "         [2.7120e-01, 2.0962e-02, 1.7962e-01, 6.4784e-01, 1.2124e-01,\n",
              "          2.2985e-01, 9.9285e-01, 5.4664e-01, 1.3639e-01, 6.5175e-01],\n",
              "         [5.9511e-01, 4.3869e-01, 1.4510e-01, 8.6251e-01, 8.7655e-01,\n",
              "          1.2975e-01, 7.0453e-01, 7.5309e-01, 3.5786e-01, 7.1951e-01],\n",
              "         [6.8683e-01, 3.2156e-01, 8.6519e-01, 5.1804e-01, 3.8519e-01,\n",
              "          9.7174e-01, 7.8798e-01, 9.6434e-02, 1.3612e-01, 8.0361e-01],\n",
              "         [7.2074e-02, 4.0255e-01, 4.7941e-01, 8.1115e-01, 7.0984e-01,\n",
              "          9.3296e-01, 7.0397e-01, 3.2617e-02, 9.8720e-01, 8.6074e-01],\n",
              "         [6.9613e-02, 3.5395e-01, 8.6808e-01, 7.1619e-01, 9.4737e-01,\n",
              "          6.1336e-01, 7.8250e-01, 5.3444e-01, 2.4632e-01, 8.6315e-01]],\n",
              "\n",
              "        [[3.4882e-01, 2.9182e-01, 1.9600e-02, 1.0567e-01, 7.5535e-01,\n",
              "          1.2635e-02, 8.9950e-01, 4.0822e-01, 7.6156e-01, 1.6304e-01],\n",
              "         [1.7423e-01, 2.7934e-01, 7.1679e-02, 7.8248e-01, 5.1631e-01,\n",
              "          5.9033e-01, 3.0700e-01, 6.8313e-01, 3.9792e-01, 8.9205e-02],\n",
              "         [5.6548e-02, 9.1615e-01, 8.4294e-01, 4.5165e-01, 1.5158e-01,\n",
              "          1.6051e-01, 8.4679e-01, 6.3524e-01, 1.9125e-01, 1.0625e-01],\n",
              "         [2.0727e-01, 6.2727e-01, 1.4749e-01, 7.9919e-01, 8.5778e-01,\n",
              "          1.4882e-01, 9.7932e-01, 2.4039e-01, 1.6676e-01, 7.9273e-01],\n",
              "         [5.2650e-01, 8.5817e-01, 5.6641e-01, 8.6336e-01, 9.5405e-02,\n",
              "          2.2716e-01, 3.6228e-01, 1.0683e-01, 9.2516e-01, 6.4982e-01],\n",
              "         [2.3570e-01, 7.4513e-01, 2.8710e-02, 8.5464e-01, 3.8221e-01,\n",
              "          8.3466e-01, 6.4800e-02, 8.5446e-02, 5.5988e-01, 3.4511e-01],\n",
              "         [7.8565e-01, 1.4984e-01, 4.9236e-01, 5.1174e-01, 7.2094e-02,\n",
              "          3.4180e-01, 4.8565e-01, 9.3387e-01, 9.0657e-02, 7.7590e-01],\n",
              "         [9.8788e-01, 9.9505e-01, 5.6033e-01, 9.8633e-01, 9.4579e-01,\n",
              "          9.3118e-01, 8.3701e-01, 3.4865e-01, 8.6000e-01, 6.4383e-01],\n",
              "         [4.0678e-01, 9.2216e-02, 8.0174e-02, 5.7016e-01, 2.1316e-01,\n",
              "          9.3039e-01, 1.2778e-01, 9.1862e-02, 8.7306e-02, 3.1423e-01],\n",
              "         [5.5278e-01, 9.3707e-01, 1.0187e-01, 1.6297e-01, 8.0033e-01,\n",
              "          7.2807e-01, 9.8351e-01, 5.7532e-01, 2.2095e-01, 1.9381e-01]]])"
            ]
          },
          "metadata": {},
          "execution_count": 25
        }
      ]
    },
    {
      "cell_type": "code",
      "source": [
        "random_tensor.ndim"
      ],
      "metadata": {
        "colab": {
          "base_uri": "https://localhost:8080/"
        },
        "id": "A-LEI0iZttL7",
        "outputId": "2e1f476c-5ffd-45c8-928c-f109ee13d476"
      },
      "execution_count": 26,
      "outputs": [
        {
          "output_type": "execute_result",
          "data": {
            "text/plain": [
              "3"
            ]
          },
          "metadata": {},
          "execution_count": 26
        }
      ]
    },
    {
      "cell_type": "code",
      "source": [
        "random_tensor.shape"
      ],
      "metadata": {
        "colab": {
          "base_uri": "https://localhost:8080/"
        },
        "id": "8XutpiYRtu7_",
        "outputId": "a4b3b851-f910-4702-8746-4301dd4dfb5e"
      },
      "execution_count": 27,
      "outputs": [
        {
          "output_type": "execute_result",
          "data": {
            "text/plain": [
              "torch.Size([10, 10, 10])"
            ]
          },
          "metadata": {},
          "execution_count": 27
        }
      ]
    },
    {
      "cell_type": "code",
      "source": [
        "# Create a random tensor with similar shape to an image tensor\n",
        "random_image_size_tensor = torch.rand(size=(224,224,3)) # height, width, color channels (R, G, B)"
      ],
      "metadata": {
        "id": "3HqELiD4tzVc"
      },
      "execution_count": 28,
      "outputs": []
    },
    {
      "cell_type": "code",
      "source": [
        "random_image_size_tensor"
      ],
      "metadata": {
        "colab": {
          "base_uri": "https://localhost:8080/"
        },
        "id": "KX9DKfo1uM2Q",
        "outputId": "006a946a-8091-4ad3-c235-9e3dfd4d5db0"
      },
      "execution_count": 29,
      "outputs": [
        {
          "output_type": "execute_result",
          "data": {
            "text/plain": [
              "tensor([[[0.0518, 0.9358, 0.0950],\n",
              "         [0.0827, 0.3391, 0.3726],\n",
              "         [0.8090, 0.2977, 0.5468],\n",
              "         ...,\n",
              "         [0.4122, 0.7597, 0.5498],\n",
              "         [0.2100, 0.0215, 0.4515],\n",
              "         [0.9673, 0.8055, 0.0391]],\n",
              "\n",
              "        [[0.8014, 0.2304, 0.7505],\n",
              "         [0.5940, 0.5786, 0.1634],\n",
              "         [0.8307, 0.6110, 0.7990],\n",
              "         ...,\n",
              "         [0.5836, 0.3214, 0.8199],\n",
              "         [0.7267, 0.1941, 0.8030],\n",
              "         [0.2228, 0.8720, 0.3567]],\n",
              "\n",
              "        [[0.7878, 0.4917, 0.5503],\n",
              "         [0.7653, 0.8104, 0.3531],\n",
              "         [0.0772, 0.8445, 0.4644],\n",
              "         ...,\n",
              "         [0.0877, 0.3519, 0.3476],\n",
              "         [0.3447, 0.4857, 0.8405],\n",
              "         [0.0947, 0.9755, 0.6949]],\n",
              "\n",
              "        ...,\n",
              "\n",
              "        [[0.5297, 0.3973, 0.7325],\n",
              "         [0.3755, 0.3322, 0.6006],\n",
              "         [0.2357, 0.4908, 0.3181],\n",
              "         ...,\n",
              "         [0.1097, 0.6872, 0.0794],\n",
              "         [0.6976, 0.7279, 0.2378],\n",
              "         [0.6599, 0.4009, 0.4250]],\n",
              "\n",
              "        [[0.5528, 0.2252, 0.9946],\n",
              "         [0.7858, 0.1228, 0.2704],\n",
              "         [0.3416, 0.9038, 0.0906],\n",
              "         ...,\n",
              "         [0.9116, 0.2494, 0.9223],\n",
              "         [0.0762, 0.1785, 0.0192],\n",
              "         [0.6096, 0.1373, 0.8332]],\n",
              "\n",
              "        [[0.1326, 0.2929, 0.2104],\n",
              "         [0.6059, 0.1145, 0.6879],\n",
              "         [0.7710, 0.5104, 0.7517],\n",
              "         ...,\n",
              "         [0.1852, 0.3922, 0.2546],\n",
              "         [0.1761, 0.0437, 0.9453],\n",
              "         [0.2575, 0.3624, 0.3009]]])"
            ]
          },
          "metadata": {},
          "execution_count": 29
        }
      ]
    },
    {
      "cell_type": "code",
      "source": [
        "random_image_size_tensor.shape, random_image_size_tensor.ndim"
      ],
      "metadata": {
        "colab": {
          "base_uri": "https://localhost:8080/"
        },
        "id": "atcV6AL7uQ2O",
        "outputId": "e4d19d5a-663b-4875-a81d-e829fd2be1ef"
      },
      "execution_count": 30,
      "outputs": [
        {
          "output_type": "execute_result",
          "data": {
            "text/plain": [
              "(torch.Size([224, 224, 3]), 3)"
            ]
          },
          "metadata": {},
          "execution_count": 30
        }
      ]
    },
    {
      "cell_type": "code",
      "source": [
        "# Create a random tensor with similar shape to one second of video at 30fps tensor\n",
        "random_video_size_tensor = torch.rand(size=(224,224,3,30)) # height, width, color channels (R, G, B), frame"
      ],
      "metadata": {
        "id": "T-DJpKiTuaUW"
      },
      "execution_count": 31,
      "outputs": []
    },
    {
      "cell_type": "code",
      "source": [
        "random_video_size_tensor.shape, random_image_size_tensor.ndim\n"
      ],
      "metadata": {
        "colab": {
          "base_uri": "https://localhost:8080/"
        },
        "id": "449IX1dZvBPI",
        "outputId": "02f6543d-d916-4c1d-f34c-b62c010ce417"
      },
      "execution_count": 32,
      "outputs": [
        {
          "output_type": "execute_result",
          "data": {
            "text/plain": [
              "(torch.Size([224, 224, 3, 30]), 3)"
            ]
          },
          "metadata": {},
          "execution_count": 32
        }
      ]
    },
    {
      "cell_type": "markdown",
      "source": [
        "### Zeros and ones"
      ],
      "metadata": {
        "id": "H8Ig9qGUvJsm"
      }
    },
    {
      "cell_type": "code",
      "source": [
        "# Create a tensor of all zeros\n",
        "zeros = torch.zeros(size=(3,4))\n",
        "zeros"
      ],
      "metadata": {
        "colab": {
          "base_uri": "https://localhost:8080/"
        },
        "id": "McWS9zoyvbHB",
        "outputId": "6e9b0d34-1600-4701-84eb-75094ebfa9c8"
      },
      "execution_count": 33,
      "outputs": [
        {
          "output_type": "execute_result",
          "data": {
            "text/plain": [
              "tensor([[0., 0., 0., 0.],\n",
              "        [0., 0., 0., 0.],\n",
              "        [0., 0., 0., 0.]])"
            ]
          },
          "metadata": {},
          "execution_count": 33
        }
      ]
    },
    {
      "cell_type": "code",
      "source": [
        "random_tensor= torch.rand(3,4)\n",
        "random_tensor"
      ],
      "metadata": {
        "colab": {
          "base_uri": "https://localhost:8080/"
        },
        "id": "Dcl7FpuRvjCL",
        "outputId": "0f359784-ae82-451a-b7e2-864ef213106c"
      },
      "execution_count": 34,
      "outputs": [
        {
          "output_type": "execute_result",
          "data": {
            "text/plain": [
              "tensor([[0.2937, 0.9310, 0.8111, 0.7615],\n",
              "        [0.8279, 0.9590, 0.5291, 0.7029],\n",
              "        [0.3876, 0.4402, 0.1717, 0.3303]])"
            ]
          },
          "metadata": {},
          "execution_count": 34
        }
      ]
    },
    {
      "cell_type": "code",
      "source": [
        "zeros*random_tensor"
      ],
      "metadata": {
        "colab": {
          "base_uri": "https://localhost:8080/"
        },
        "id": "PvY4FwLdvonu",
        "outputId": "e71396b8-3106-4740-ce8d-91a8a2be46db"
      },
      "execution_count": 35,
      "outputs": [
        {
          "output_type": "execute_result",
          "data": {
            "text/plain": [
              "tensor([[0., 0., 0., 0.],\n",
              "        [0., 0., 0., 0.],\n",
              "        [0., 0., 0., 0.]])"
            ]
          },
          "metadata": {},
          "execution_count": 35
        }
      ]
    },
    {
      "cell_type": "code",
      "source": [
        "# Create a tensor of all ones\n",
        "ones = torch.ones(size=(3,4))\n",
        "ones"
      ],
      "metadata": {
        "colab": {
          "base_uri": "https://localhost:8080/"
        },
        "id": "nDkjS6i_v8wh",
        "outputId": "5b80582d-4141-4e7a-fa80-5acccb723799"
      },
      "execution_count": 36,
      "outputs": [
        {
          "output_type": "execute_result",
          "data": {
            "text/plain": [
              "tensor([[1., 1., 1., 1.],\n",
              "        [1., 1., 1., 1.],\n",
              "        [1., 1., 1., 1.]])"
            ]
          },
          "metadata": {},
          "execution_count": 36
        }
      ]
    },
    {
      "cell_type": "code",
      "source": [
        "ones.dtype"
      ],
      "metadata": {
        "colab": {
          "base_uri": "https://localhost:8080/"
        },
        "id": "S_2ph5RNwP0O",
        "outputId": "09ddb695-68b0-4d77-8611-869e39e6880d"
      },
      "execution_count": 37,
      "outputs": [
        {
          "output_type": "execute_result",
          "data": {
            "text/plain": [
              "torch.float32"
            ]
          },
          "metadata": {},
          "execution_count": 37
        }
      ]
    },
    {
      "cell_type": "code",
      "source": [
        "random_tensor.dtype"
      ],
      "metadata": {
        "colab": {
          "base_uri": "https://localhost:8080/"
        },
        "id": "JtstdZF_wVno",
        "outputId": "4d4cbe2b-7092-4d6c-8db1-2e49f61fd265"
      },
      "execution_count": 38,
      "outputs": [
        {
          "output_type": "execute_result",
          "data": {
            "text/plain": [
              "torch.float32"
            ]
          },
          "metadata": {},
          "execution_count": 38
        }
      ]
    },
    {
      "cell_type": "markdown",
      "source": [
        "### Creating a range of tensors and tensors-like\n",
        "\n",
        "range is deprecated use arange in future - https://pytorch.org/docs/stable/generated/torch.arange.html"
      ],
      "metadata": {
        "id": "LkkaeNTmwYvZ"
      }
    },
    {
      "cell_type": "code",
      "source": [
        "# Use torch.range() \n",
        "# torch.range() is deprecated going forward so don't use it\n",
        "torch.range(0,10)"
      ],
      "metadata": {
        "colab": {
          "base_uri": "https://localhost:8080/"
        },
        "id": "2vKEcY2Owopx",
        "outputId": "82e3037f-3a65-4b43-c55c-14e29322ee9b"
      },
      "execution_count": 39,
      "outputs": [
        {
          "output_type": "stream",
          "name": "stderr",
          "text": [
            "/usr/local/lib/python3.7/dist-packages/ipykernel_launcher.py:3: UserWarning: torch.range is deprecated and will be removed in a future release because its behavior is inconsistent with Python's range builtin. Instead, use torch.arange, which produces values in [start, end).\n",
            "  This is separate from the ipykernel package so we can avoid doing imports until\n"
          ]
        },
        {
          "output_type": "execute_result",
          "data": {
            "text/plain": [
              "tensor([ 0.,  1.,  2.,  3.,  4.,  5.,  6.,  7.,  8.,  9., 10.])"
            ]
          },
          "metadata": {},
          "execution_count": 39
        }
      ]
    },
    {
      "cell_type": "code",
      "source": [
        "one_to_ten = torch.arange(1, 11)\n",
        "one_to_ten"
      ],
      "metadata": {
        "colab": {
          "base_uri": "https://localhost:8080/"
        },
        "id": "sbDiW_kdwtde",
        "outputId": "c37186b8-10c7-4ab1-95e3-1b96bf78e5ce"
      },
      "execution_count": 40,
      "outputs": [
        {
          "output_type": "execute_result",
          "data": {
            "text/plain": [
              "tensor([ 1,  2,  3,  4,  5,  6,  7,  8,  9, 10])"
            ]
          },
          "metadata": {},
          "execution_count": 40
        }
      ]
    },
    {
      "cell_type": "code",
      "source": [
        " one_to_something = torch.arange(start=1, end=1000, step=77)\n",
        " one_to_something"
      ],
      "metadata": {
        "colab": {
          "base_uri": "https://localhost:8080/"
        },
        "id": "K-ejQqzWwxHo",
        "outputId": "f53bfeac-8b69-43b9-cf45-94c2c8631902"
      },
      "execution_count": 41,
      "outputs": [
        {
          "output_type": "execute_result",
          "data": {
            "text/plain": [
              "tensor([  1,  78, 155, 232, 309, 386, 463, 540, 617, 694, 771, 848, 925])"
            ]
          },
          "metadata": {},
          "execution_count": 41
        }
      ]
    },
    {
      "cell_type": "code",
      "source": [
        "one_to_ten2 = torch.arange(start=1, end=11, step=1)\n",
        "one_to_ten2"
      ],
      "metadata": {
        "colab": {
          "base_uri": "https://localhost:8080/"
        },
        "id": "HjKEdx-yxK5k",
        "outputId": "ad382083-ac56-41fe-9063-61458813547b"
      },
      "execution_count": 42,
      "outputs": [
        {
          "output_type": "execute_result",
          "data": {
            "text/plain": [
              "tensor([ 1,  2,  3,  4,  5,  6,  7,  8,  9, 10])"
            ]
          },
          "metadata": {},
          "execution_count": 42
        }
      ]
    },
    {
      "cell_type": "code",
      "source": [
        "# Creating tensors like\n",
        "one_to_ten.shape"
      ],
      "metadata": {
        "colab": {
          "base_uri": "https://localhost:8080/"
        },
        "id": "kEeWrRiixYlC",
        "outputId": "f67a4b91-fe1e-4a93-e76c-29a78bceb15c"
      },
      "execution_count": 43,
      "outputs": [
        {
          "output_type": "execute_result",
          "data": {
            "text/plain": [
              "torch.Size([10])"
            ]
          },
          "metadata": {},
          "execution_count": 43
        }
      ]
    },
    {
      "cell_type": "code",
      "source": [
        "ten_zeros = torch.zeros_like(input=one_to_ten)\n",
        "ten_zeros"
      ],
      "metadata": {
        "colab": {
          "base_uri": "https://localhost:8080/"
        },
        "id": "eI-XuPI_xrEg",
        "outputId": "cf8f02a0-30f4-45e9-83ae-7fa251f7e798"
      },
      "execution_count": 44,
      "outputs": [
        {
          "output_type": "execute_result",
          "data": {
            "text/plain": [
              "tensor([0, 0, 0, 0, 0, 0, 0, 0, 0, 0])"
            ]
          },
          "metadata": {},
          "execution_count": 44
        }
      ]
    },
    {
      "cell_type": "markdown",
      "source": [
        "### Tensor datatypes\n",
        "\n",
        "**Note:** Tensor datatypes is one of the 3 big errors you'll run into with PyTorch & deep learning:\n",
        "1. Tensors not right datatype\n",
        "2. Tensors not right shape\n",
        "3. Tensors not on the right device"
      ],
      "metadata": {
        "id": "n7j6uanNxzQK"
      }
    },
    {
      "cell_type": "code",
      "source": [
        "# Float 32 tensor\n",
        "float_32_tensor = torch.tensor([3.0, 6.0, 9.0],\n",
        "                               dtype=None, # What datatype is the tensor (e.g. float32 or float16 etc)\n",
        "                               device=None, # What device is your tensor on? by default this is CPU or cuda for example\n",
        "                               requires_grad=False # Whether or not to track gradients with this tensors operations\n",
        "                               )\n",
        "float_32_tensor"
      ],
      "metadata": {
        "colab": {
          "base_uri": "https://localhost:8080/"
        },
        "id": "tefbqsk-yeX1",
        "outputId": "1945d2a9-ca78-401a-ab01-ff17abb6f280"
      },
      "execution_count": 45,
      "outputs": [
        {
          "output_type": "execute_result",
          "data": {
            "text/plain": [
              "tensor([3., 6., 9.])"
            ]
          },
          "metadata": {},
          "execution_count": 45
        }
      ]
    },
    {
      "cell_type": "code",
      "source": [
        "float_32_tensor.dtype"
      ],
      "metadata": {
        "colab": {
          "base_uri": "https://localhost:8080/"
        },
        "id": "drYFOMGxykla",
        "outputId": "9822afd3-ef5b-480d-f1e2-ab4c6a482fbb"
      },
      "execution_count": 46,
      "outputs": [
        {
          "output_type": "execute_result",
          "data": {
            "text/plain": [
              "torch.float32"
            ]
          },
          "metadata": {},
          "execution_count": 46
        }
      ]
    },
    {
      "cell_type": "code",
      "source": [
        "float_16_tensor = float_32_tensor.type(torch.float16) # Can also be torch.half"
      ],
      "metadata": {
        "id": "xd158PIe2sas"
      },
      "execution_count": 47,
      "outputs": []
    },
    {
      "cell_type": "code",
      "source": [
        "float_16_tensor.dtype"
      ],
      "metadata": {
        "colab": {
          "base_uri": "https://localhost:8080/"
        },
        "id": "yeDS8Uql22Ss",
        "outputId": "b69c7618-dea0-4124-81f0-fd9b36cba728"
      },
      "execution_count": 48,
      "outputs": [
        {
          "output_type": "execute_result",
          "data": {
            "text/plain": [
              "torch.float16"
            ]
          },
          "metadata": {},
          "execution_count": 48
        }
      ]
    },
    {
      "cell_type": "code",
      "source": [
        "float_16_tensor"
      ],
      "metadata": {
        "colab": {
          "base_uri": "https://localhost:8080/"
        },
        "id": "7NwmMXDs245a",
        "outputId": "ec8cb39f-de38-4200-a851-29f98afe78d3"
      },
      "execution_count": 49,
      "outputs": [
        {
          "output_type": "execute_result",
          "data": {
            "text/plain": [
              "tensor([3., 6., 9.], dtype=torch.float16)"
            ]
          },
          "metadata": {},
          "execution_count": 49
        }
      ]
    },
    {
      "cell_type": "code",
      "source": [
        "float_16_tensor * float_32_tensor # Intuitively this shouldn't work because of different datatypes but it does work"
      ],
      "metadata": {
        "colab": {
          "base_uri": "https://localhost:8080/"
        },
        "id": "lLo3_jLr2-NH",
        "outputId": "bb2998db-829f-4a3e-bbe8-3c1180f80680"
      },
      "execution_count": 50,
      "outputs": [
        {
          "output_type": "execute_result",
          "data": {
            "text/plain": [
              "tensor([ 9., 36., 81.])"
            ]
          },
          "metadata": {},
          "execution_count": 50
        }
      ]
    },
    {
      "cell_type": "code",
      "source": [
        "int_32_tensor = torch.tensor([3, 6, 9], dtype=torch.int32)"
      ],
      "metadata": {
        "id": "SzaF_cMw3UTr"
      },
      "execution_count": 51,
      "outputs": []
    },
    {
      "cell_type": "code",
      "source": [
        "float_32_tensor * int_32_tensor # Also shouldn't work intuitively but it does"
      ],
      "metadata": {
        "colab": {
          "base_uri": "https://localhost:8080/"
        },
        "id": "ySCq7XOS3goq",
        "outputId": "aa852b7a-a961-4f5e-f535-353326ad143b"
      },
      "execution_count": 52,
      "outputs": [
        {
          "output_type": "execute_result",
          "data": {
            "text/plain": [
              "tensor([ 9., 36., 81.])"
            ]
          },
          "metadata": {},
          "execution_count": 52
        }
      ]
    },
    {
      "cell_type": "code",
      "source": [
        "int_32_tensor = torch.tensor([3, 6, 9], dtype=torch.long)"
      ],
      "metadata": {
        "id": "edDxdwan3wNl"
      },
      "execution_count": 53,
      "outputs": []
    },
    {
      "cell_type": "code",
      "source": [
        "float_32_tensor * int_32_tensor # Same thing!"
      ],
      "metadata": {
        "colab": {
          "base_uri": "https://localhost:8080/"
        },
        "id": "BkPRCcuW4BWO",
        "outputId": "28a54489-2ed6-4fb1-d0fb-aa0681d940ed"
      },
      "execution_count": 54,
      "outputs": [
        {
          "output_type": "execute_result",
          "data": {
            "text/plain": [
              "tensor([ 9., 36., 81.])"
            ]
          },
          "metadata": {},
          "execution_count": 54
        }
      ]
    },
    {
      "cell_type": "markdown",
      "source": [
        "### Getting information from tensors\n",
        "\n",
        "1. Tensors not right datatype - to do get datatype from a tensor, and use `tensor.dtype`\n",
        "2. Tensors not the right shape - to get shape from a tensor, can use `tensor.shape`\n",
        "3. Tensors not on the right device - to get device from a tensor, can use `tensor.device`"
      ],
      "metadata": {
        "id": "AqT2HM5R4F1t"
      }
    },
    {
      "cell_type": "code",
      "source": [
        "# Create a tensor\n",
        "some_tensor = torch.rand([3,4])\n",
        "some_tensor"
      ],
      "metadata": {
        "colab": {
          "base_uri": "https://localhost:8080/"
        },
        "id": "pjv0fINj4gV4",
        "outputId": "e65c4747-1f4c-49e8-8a8e-fd93f3fad79f"
      },
      "execution_count": 55,
      "outputs": [
        {
          "output_type": "execute_result",
          "data": {
            "text/plain": [
              "tensor([[0.5534, 0.3061, 0.1716, 0.5225],\n",
              "        [0.7268, 0.7806, 0.4382, 0.1656],\n",
              "        [0.9373, 0.4924, 0.0200, 0.4968]])"
            ]
          },
          "metadata": {},
          "execution_count": 55
        }
      ]
    },
    {
      "cell_type": "code",
      "source": [
        "# Find out details about some tensor\n",
        "print(some_tensor)\n",
        "print(f\"Datatype of tensor: {some_tensor.dtype}\")\n",
        "print(f\"Shape of tensor: {some_tensor.shape}\") # Can also be some_tensor.size() which is function\n",
        "print(f\"Device tensor is on: {some_tensor.device}\") # CPU is the default tensor"
      ],
      "metadata": {
        "colab": {
          "base_uri": "https://localhost:8080/"
        },
        "id": "5dLGP_rX4l0a",
        "outputId": "dbbcb80e-2286-4dde-cad9-79997be8d06b"
      },
      "execution_count": 56,
      "outputs": [
        {
          "output_type": "stream",
          "name": "stdout",
          "text": [
            "tensor([[0.5534, 0.3061, 0.1716, 0.5225],\n",
            "        [0.7268, 0.7806, 0.4382, 0.1656],\n",
            "        [0.9373, 0.4924, 0.0200, 0.4968]])\n",
            "Datatype of tensor: torch.float32\n",
            "Shape of tensor: torch.Size([3, 4])\n",
            "Device tensor is on: cpu\n"
          ]
        }
      ]
    },
    {
      "cell_type": "markdown",
      "source": [
        "### Manipulating Tensors (tensor operations)\n",
        "\n",
        "Tensor operations include:\n",
        "* Addition\n",
        "* Subtraction\n",
        "* Multiplication (element-wise)\n",
        "* Division\n",
        "* Matrix Multiplication"
      ],
      "metadata": {
        "id": "1eJQYfLq5D_p"
      }
    },
    {
      "cell_type": "code",
      "source": [
        "# Create a tensor\n",
        "\n",
        "tensor = torch.tensor([1,2,3])\n",
        "tensor + 10"
      ],
      "metadata": {
        "colab": {
          "base_uri": "https://localhost:8080/"
        },
        "id": "KeVOIdxVGguO",
        "outputId": "054dca52-4238-41a1-f9a9-21da91d289b5"
      },
      "execution_count": 57,
      "outputs": [
        {
          "output_type": "execute_result",
          "data": {
            "text/plain": [
              "tensor([11, 12, 13])"
            ]
          },
          "metadata": {},
          "execution_count": 57
        }
      ]
    },
    {
      "cell_type": "code",
      "source": [
        "tensor + 100"
      ],
      "metadata": {
        "colab": {
          "base_uri": "https://localhost:8080/"
        },
        "id": "K-RESjTdGpRq",
        "outputId": "46c1c30b-238f-4991-f063-188f80229721"
      },
      "execution_count": 58,
      "outputs": [
        {
          "output_type": "execute_result",
          "data": {
            "text/plain": [
              "tensor([101, 102, 103])"
            ]
          },
          "metadata": {},
          "execution_count": 58
        }
      ]
    },
    {
      "cell_type": "code",
      "source": [
        "# Multiply a tensor by 10\n",
        "tensor * 10\n"
      ],
      "metadata": {
        "colab": {
          "base_uri": "https://localhost:8080/"
        },
        "id": "BOvQsXl9GrB2",
        "outputId": "5deabad8-67df-4996-d21e-94025c2f50c9"
      },
      "execution_count": 59,
      "outputs": [
        {
          "output_type": "execute_result",
          "data": {
            "text/plain": [
              "tensor([10, 20, 30])"
            ]
          },
          "metadata": {},
          "execution_count": 59
        }
      ]
    },
    {
      "cell_type": "code",
      "source": [
        "tensor"
      ],
      "metadata": {
        "colab": {
          "base_uri": "https://localhost:8080/"
        },
        "id": "ajrhzmYDGwAq",
        "outputId": "8a156165-3eff-4bda-8273-ceee045d8375"
      },
      "execution_count": 60,
      "outputs": [
        {
          "output_type": "execute_result",
          "data": {
            "text/plain": [
              "tensor([1, 2, 3])"
            ]
          },
          "metadata": {},
          "execution_count": 60
        }
      ]
    },
    {
      "cell_type": "code",
      "source": [
        "# Subtract 10\n",
        "tensor - 10"
      ],
      "metadata": {
        "colab": {
          "base_uri": "https://localhost:8080/"
        },
        "id": "SFAa0HoAGyji",
        "outputId": "992980e3-4172-4ed6-c082-9d2c8513628f"
      },
      "execution_count": 61,
      "outputs": [
        {
          "output_type": "execute_result",
          "data": {
            "text/plain": [
              "tensor([-9, -8, -7])"
            ]
          },
          "metadata": {},
          "execution_count": 61
        }
      ]
    },
    {
      "cell_type": "code",
      "source": [
        "# Tryout PyTorch in-built functions\n",
        "# But generally use the python in builts because why not???\n",
        "torch.mul(tensor, 10)"
      ],
      "metadata": {
        "colab": {
          "base_uri": "https://localhost:8080/"
        },
        "id": "tu0YmOQqG6Fp",
        "outputId": "73e3d1d5-793e-4678-bfdd-c380e2e79cfc"
      },
      "execution_count": 62,
      "outputs": [
        {
          "output_type": "execute_result",
          "data": {
            "text/plain": [
              "tensor([10, 20, 30])"
            ]
          },
          "metadata": {},
          "execution_count": 62
        }
      ]
    },
    {
      "cell_type": "code",
      "source": [
        "torch.add(tensor, 10)"
      ],
      "metadata": {
        "colab": {
          "base_uri": "https://localhost:8080/"
        },
        "id": "eFBNHmbYHNRU",
        "outputId": "171a726c-9080-4118-f820-4aa3eaedbcb3"
      },
      "execution_count": 63,
      "outputs": [
        {
          "output_type": "execute_result",
          "data": {
            "text/plain": [
              "tensor([11, 12, 13])"
            ]
          },
          "metadata": {},
          "execution_count": 63
        }
      ]
    },
    {
      "cell_type": "markdown",
      "source": [
        "### Matrix multiplication\n",
        "\n",
        "Two main ways of performing muliplication in neural networks and deep learning:\n",
        "\n",
        "1. Element-wise multiplication\n",
        "2. Matrix multiplication (dot product)\n",
        "\n",
        "More information on multiplying matrices - https://www.mathsisfun.com/algebra/matrix-multiplying.html & http://www.matrixmultiplication.xyz\n",
        "\n",
        "There are two main rules that performing matrix multiplication needs to satisfy:\n",
        "\n",
        "1. The **inner dimensions** must match:\n",
        "* `(3,2) @ (3,2)` won't work\n",
        "* `(2,3) @ (3,2)` will work\n",
        "* `(3,2) @ (2,3)` will work\n",
        "\n",
        "2, The resulting matrix has the shape of the **outer dimensions**:\n",
        "* `(2,3) @ (3,2)` -> `(2,2)`\n",
        "* `(3,2) @ (2,3)` -> `(3,3)`\n",
        "\n",
        "![slide_1.jpg](data:image/jpeg;base64,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)\n"
      ],
      "metadata": {
        "id": "DEJenxGiIYFK"
      }
    },
    {
      "cell_type": "code",
      "source": [
        "# Illustrative example \n",
        "torch.matmul(torch.rand(3,2), torch.rand(3,2))"
      ],
      "metadata": {
        "colab": {
          "base_uri": "https://localhost:8080/",
          "height": 182
        },
        "id": "gCdg2K71LPRf",
        "outputId": "9b4d1290-51fd-4151-afd9-84d41b5806ba"
      },
      "execution_count": 73,
      "outputs": [
        {
          "output_type": "error",
          "ename": "RuntimeError",
          "evalue": "ignored",
          "traceback": [
            "\u001b[0;31m---------------------------------------------------------------------------\u001b[0m",
            "\u001b[0;31mRuntimeError\u001b[0m                              Traceback (most recent call last)",
            "\u001b[0;32m<ipython-input-73-fb624bd1d2f8>\u001b[0m in \u001b[0;36m<module>\u001b[0;34m\u001b[0m\n\u001b[1;32m      1\u001b[0m \u001b[0;31m# Illustrative example\u001b[0m\u001b[0;34m\u001b[0m\u001b[0;34m\u001b[0m\u001b[0;34m\u001b[0m\u001b[0m\n\u001b[0;32m----> 2\u001b[0;31m \u001b[0mtorch\u001b[0m\u001b[0;34m.\u001b[0m\u001b[0mmatmul\u001b[0m\u001b[0;34m(\u001b[0m\u001b[0mtorch\u001b[0m\u001b[0;34m.\u001b[0m\u001b[0mrand\u001b[0m\u001b[0;34m(\u001b[0m\u001b[0;36m3\u001b[0m\u001b[0;34m,\u001b[0m\u001b[0;36m2\u001b[0m\u001b[0;34m)\u001b[0m\u001b[0;34m,\u001b[0m \u001b[0mtorch\u001b[0m\u001b[0;34m.\u001b[0m\u001b[0mrand\u001b[0m\u001b[0;34m(\u001b[0m\u001b[0;36m3\u001b[0m\u001b[0;34m,\u001b[0m\u001b[0;36m2\u001b[0m\u001b[0;34m)\u001b[0m\u001b[0;34m)\u001b[0m\u001b[0;34m\u001b[0m\u001b[0;34m\u001b[0m\u001b[0m\n\u001b[0m",
            "\u001b[0;31mRuntimeError\u001b[0m: mat1 and mat2 shapes cannot be multiplied (3x2 and 3x2)"
          ]
        }
      ]
    },
    {
      "cell_type": "code",
      "source": [
        "# The inner dimensions don't match i.e. 2 elements multiplied by 3 elements"
      ],
      "metadata": {
        "id": "YFfpjEgjLbAD"
      },
      "execution_count": 74,
      "outputs": []
    },
    {
      "cell_type": "code",
      "source": [
        "# See an example where it works!\n",
        "torch.matmul(torch.rand(2,3), torch.rand(3,2))"
      ],
      "metadata": {
        "colab": {
          "base_uri": "https://localhost:8080/"
        },
        "id": "Fwq11CK3LqjL",
        "outputId": "e062e753-8c70-426d-f8df-21cfd2d0bfbc"
      },
      "execution_count": 75,
      "outputs": [
        {
          "output_type": "execute_result",
          "data": {
            "text/plain": [
              "tensor([[1.0830, 0.2832],\n",
              "        [0.8516, 0.2885]])"
            ]
          },
          "metadata": {},
          "execution_count": 75
        }
      ]
    },
    {
      "cell_type": "code",
      "source": [
        "# Element wise multiplication\n",
        "print(tensor, \"*\", tensor)\n",
        "print(f\"Equals: {tensor*tensor}\")"
      ],
      "metadata": {
        "colab": {
          "base_uri": "https://localhost:8080/"
        },
        "id": "PZFp9g8dJDxh",
        "outputId": "a64a7cb4-4be8-4631-a774-5c95182ae5c7"
      },
      "execution_count": 65,
      "outputs": [
        {
          "output_type": "stream",
          "name": "stdout",
          "text": [
            "tensor([1, 2, 3]) * tensor([1, 2, 3])\n",
            "Equals: tensor([1, 4, 9])\n"
          ]
        }
      ]
    },
    {
      "cell_type": "code",
      "source": [
        "# Matrix multiplication\n",
        "torch.matmul(tensor, tensor)"
      ],
      "metadata": {
        "colab": {
          "base_uri": "https://localhost:8080/"
        },
        "id": "BpVby1EXJIEJ",
        "outputId": "db598eea-a225-406e-ed2f-d41c6f58f871"
      },
      "execution_count": 66,
      "outputs": [
        {
          "output_type": "execute_result",
          "data": {
            "text/plain": [
              "tensor(14)"
            ]
          },
          "metadata": {},
          "execution_count": 66
        }
      ]
    },
    {
      "cell_type": "code",
      "source": [
        "# Matrix multiplication by hand\n",
        "\n",
        "1*1 + 2*2 + 3*3"
      ],
      "metadata": {
        "colab": {
          "base_uri": "https://localhost:8080/"
        },
        "id": "zYmcfZmAJbvp",
        "outputId": "d0ca9ae5-fd4d-444d-bedf-502f2b93d3aa"
      },
      "execution_count": 67,
      "outputs": [
        {
          "output_type": "execute_result",
          "data": {
            "text/plain": [
              "14"
            ]
          },
          "metadata": {},
          "execution_count": 67
        }
      ]
    },
    {
      "cell_type": "code",
      "source": [
        "%%time\n",
        "value = 0\n",
        "for i in range(len(tensor)):\n",
        "  value += tensor[i] * tensor[i]\n",
        "print(value)"
      ],
      "metadata": {
        "colab": {
          "base_uri": "https://localhost:8080/"
        },
        "id": "B3v4hkSDJrJc",
        "outputId": "22fde916-4813-4668-c46f-cc981435fe48"
      },
      "execution_count": 71,
      "outputs": [
        {
          "output_type": "stream",
          "name": "stdout",
          "text": [
            "tensor(14)\n",
            "CPU times: user 406 µs, sys: 40 µs, total: 446 µs\n",
            "Wall time: 463 µs\n"
          ]
        }
      ]
    },
    {
      "cell_type": "code",
      "source": [
        "%%time\n",
        "torch.matmul(tensor,tensor)"
      ],
      "metadata": {
        "colab": {
          "base_uri": "https://localhost:8080/"
        },
        "id": "ZhKI8CJ5J8S3",
        "outputId": "b602b37a-4265-49bf-82e7-f311ba25c7e7"
      },
      "execution_count": 72,
      "outputs": [
        {
          "output_type": "stream",
          "name": "stdout",
          "text": [
            "CPU times: user 895 µs, sys: 0 ns, total: 895 µs\n",
            "Wall time: 902 µs\n"
          ]
        },
        {
          "output_type": "execute_result",
          "data": {
            "text/plain": [
              "tensor(14)"
            ]
          },
          "metadata": {},
          "execution_count": 72
        }
      ]
    },
    {
      "cell_type": "markdown",
      "source": [
        "### One of the most common errors in deep learning: shape errors"
      ],
      "metadata": {
        "id": "v0rKqyv1KEPH"
      }
    },
    {
      "cell_type": "code",
      "source": [
        "# Shapes for matrix multiplication\n",
        "tensor_A = torch.tensor([[1,2],\n",
        "                         [3,4],\n",
        "                         [5,6]])\n",
        "\n",
        "tensor_B = torch.tensor ([[7,10],\n",
        "                          [8, 11],\n",
        "                          [9, 12]])\n",
        "\n",
        "# torch.mm is the same as torch.matmul (it's an alias for matrix multiplication)\n",
        "torch.mm(tensor_A, tensor_B)"
      ],
      "metadata": {
        "colab": {
          "base_uri": "https://localhost:8080/",
          "height": 217
        },
        "id": "fdWPKcFnM6p_",
        "outputId": "c403e65b-fd84-46ff-94bd-cd7ef1134833"
      },
      "execution_count": 79,
      "outputs": [
        {
          "output_type": "error",
          "ename": "RuntimeError",
          "evalue": "ignored",
          "traceback": [
            "\u001b[0;31m---------------------------------------------------------------------------\u001b[0m",
            "\u001b[0;31mRuntimeError\u001b[0m                              Traceback (most recent call last)",
            "\u001b[0;32m<ipython-input-79-bcfc3dd742a8>\u001b[0m in \u001b[0;36m<module>\u001b[0;34m\u001b[0m\n\u001b[1;32m      9\u001b[0m \u001b[0;34m\u001b[0m\u001b[0m\n\u001b[1;32m     10\u001b[0m \u001b[0;31m# torch.mm is the same as torch.matmul (it's an alias for matrix multiplication)\u001b[0m\u001b[0;34m\u001b[0m\u001b[0;34m\u001b[0m\u001b[0;34m\u001b[0m\u001b[0m\n\u001b[0;32m---> 11\u001b[0;31m \u001b[0mtorch\u001b[0m\u001b[0;34m.\u001b[0m\u001b[0mmm\u001b[0m\u001b[0;34m(\u001b[0m\u001b[0mtensor_A\u001b[0m\u001b[0;34m,\u001b[0m \u001b[0mtensor_B\u001b[0m\u001b[0;34m)\u001b[0m\u001b[0;34m\u001b[0m\u001b[0;34m\u001b[0m\u001b[0m\n\u001b[0m",
            "\u001b[0;31mRuntimeError\u001b[0m: mat1 and mat2 shapes cannot be multiplied (3x2 and 3x2)"
          ]
        }
      ]
    },
    {
      "cell_type": "code",
      "source": [
        "tensor_A.shape, tensor_B.shape"
      ],
      "metadata": {
        "colab": {
          "base_uri": "https://localhost:8080/"
        },
        "id": "p4_OEc4xNs7e",
        "outputId": "930f32d6-87f9-4162-fe38-b79ef6b2ad79"
      },
      "execution_count": 80,
      "outputs": [
        {
          "output_type": "execute_result",
          "data": {
            "text/plain": [
              "(torch.Size([3, 2]), torch.Size([3, 2]))"
            ]
          },
          "metadata": {},
          "execution_count": 80
        }
      ]
    },
    {
      "cell_type": "markdown",
      "source": [
        "To fix our tensor shape issues, we can manipulate the shape of one of our tensors using a transpose\n",
        "\n",
        "A **transpose** switches the axes or dimensions of a given tensor."
      ],
      "metadata": {
        "id": "II34ftyJOBal"
      }
    },
    {
      "cell_type": "code",
      "source": [
        "tensor_B, tensor_B.shape"
      ],
      "metadata": {
        "colab": {
          "base_uri": "https://localhost:8080/"
        },
        "id": "exYfVX9gOOxq",
        "outputId": "c96bfd68-e4c8-4063-eae0-7db88d0616b0"
      },
      "execution_count": 84,
      "outputs": [
        {
          "output_type": "execute_result",
          "data": {
            "text/plain": [
              "(tensor([[ 7, 10],\n",
              "         [ 8, 11],\n",
              "         [ 9, 12]]), torch.Size([3, 2]))"
            ]
          },
          "metadata": {},
          "execution_count": 84
        }
      ]
    },
    {
      "cell_type": "code",
      "source": [
        "tensor_B.T, tensor_B.T.shape"
      ],
      "metadata": {
        "colab": {
          "base_uri": "https://localhost:8080/"
        },
        "id": "EIm86OPSOSEk",
        "outputId": "420f29be-2586-401e-ed9b-9765c1f8c606"
      },
      "execution_count": 83,
      "outputs": [
        {
          "output_type": "execute_result",
          "data": {
            "text/plain": [
              "(tensor([[ 7,  8,  9],\n",
              "         [10, 11, 12]]), torch.Size([2, 3]))"
            ]
          },
          "metadata": {},
          "execution_count": 83
        }
      ]
    },
    {
      "cell_type": "code",
      "source": [
        "# The matrix multiplication operation works when tensor_B is transposed\n",
        "print(f\"Original shapes: tensor_A = {tensor_A.shape}, tensor_B = {tensor_B.shape}\")\n",
        "print(f\"New shapes: tensor_A = {tensor_A.shape} (same shape as above), tensor_B.T = {tensor_B.T.shape}\")\n",
        "print(f\"Multiplying: {tensor_A.shape} @ {tensor_B.T.shape} <- inner fimensions must match\")\n",
        "print(\"Output:\\n\")\n",
        "\n",
        "output = torch.matmul(tensor_A, tensor_B.T)\n",
        "print(output)\n",
        "print(f\"\\nOutput shape: {output.shape}\")"
      ],
      "metadata": {
        "colab": {
          "base_uri": "https://localhost:8080/"
        },
        "id": "BToPmz56OThm",
        "outputId": "4cbbb104-074e-4a94-9841-c33b53db9fd2"
      },
      "execution_count": 90,
      "outputs": [
        {
          "output_type": "stream",
          "name": "stdout",
          "text": [
            "Original shapes: tensor_A = torch.Size([3, 2]), tensor_B = torch.Size([3, 2])\n",
            "New shapes: tensor_A = torch.Size([3, 2]) (same shape as above), tensor_B.T = torch.Size([2, 3])\n",
            "Multiplying: torch.Size([3, 2]) @ torch.Size([2, 3]) <- inner fimensions must match\n",
            "Output:\n",
            "\n",
            "tensor([[ 27,  30,  33],\n",
            "        [ 61,  68,  75],\n",
            "        [ 95, 106, 117]])\n",
            "\n",
            "Output shape: torch.Size([3, 3])\n"
          ]
        }
      ]
    },
    {
      "cell_type": "code",
      "source": [
        " "
      ],
      "metadata": {
        "id": "BU5gt03vOkyW"
      },
      "execution_count": null,
      "outputs": []
    }
  ]
}