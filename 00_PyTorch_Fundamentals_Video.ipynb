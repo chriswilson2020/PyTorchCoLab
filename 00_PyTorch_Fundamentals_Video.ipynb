{
  "nbformat": 4,
  "nbformat_minor": 0,
  "metadata": {
    "colab": {
      "provenance": [],
      "authorship_tag": "ABX9TyNtyUD+xyO+zh1DFs6OO7o0",
      "include_colab_link": true
    },
    "kernelspec": {
      "name": "python3",
      "display_name": "Python 3"
    },
    "language_info": {
      "name": "python"
    },
    "gpuClass": "standard"
  },
  "cells": [
    {
      "cell_type": "markdown",
      "metadata": {
        "id": "view-in-github",
        "colab_type": "text"
      },
      "source": [
        "<a href=\"https://colab.research.google.com/github/chriswilson2020/PyTorchCoLab/blob/main/00_PyTorch_Fundamentals_Video.ipynb\" target=\"_parent\"><img src=\"https://colab.research.google.com/assets/colab-badge.svg\" alt=\"Open In Colab\"/></a>"
      ]
    },
    {
      "cell_type": "markdown",
      "source": [
        "00_. PyTorch Fundamentals\n",
        "Resource notebook: https:www.learnpytorch.io/00_pytorch_fundamentals/\n",
        "If you have a question: https://githubcom/mrdbourke/pytorch-deep-learning/discussions\n"
      ],
      "metadata": {
        "id": "fl1aNBXAf-IX"
      }
    },
    {
      "cell_type": "code",
      "source": [
        "import torch\n",
        "import numpy as np\n",
        "import pandas as pd\n",
        "import matplotlib.pyplot as plt\n",
        "print(torch.__version__)"
      ],
      "metadata": {
        "colab": {
          "base_uri": "https://localhost:8080/"
        },
        "id": "sIU1AfSBexgh",
        "outputId": "e6dcbe49-ecc5-4103-97ed-6943656d635c"
      },
      "execution_count": 1,
      "outputs": [
        {
          "output_type": "stream",
          "name": "stdout",
          "text": [
            "1.12.1+cu113\n"
          ]
        }
      ]
    },
    {
      "cell_type": "markdown",
      "source": [
        "## Introduction to Tensors\n",
        "\n",
        "### Creating tensors\n",
        "\n",
        "PyTorch tensors are created using ` torch.Tensor()`= https://pytorch.org/docs/stable/tensors.html\n",
        "\n",
        "\n",
        "![ScalarvectorMatrixTensor.png](data:image/png;base64,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)\n"
      ],
      "metadata": {
        "id": "Vlt4ZvFslIH2"
      }
    },
    {
      "cell_type": "code",
      "source": [
        "# scalar\n",
        "scalar = torch.tensor(7)\n",
        "scalar"
      ],
      "metadata": {
        "colab": {
          "base_uri": "https://localhost:8080/"
        },
        "id": "eum_MlDsldaJ",
        "outputId": "76a3880c-6c66-43a1-f321-fa8dd7c74888"
      },
      "execution_count": 2,
      "outputs": [
        {
          "output_type": "execute_result",
          "data": {
            "text/plain": [
              "tensor(7)"
            ]
          },
          "metadata": {},
          "execution_count": 2
        }
      ]
    },
    {
      "cell_type": "code",
      "source": [
        "scalar.ndim"
      ],
      "metadata": {
        "colab": {
          "base_uri": "https://localhost:8080/"
        },
        "id": "rNEPoT_tmPsr",
        "outputId": "c6393d9b-554f-4f43-d2c6-6518d7959143"
      },
      "execution_count": 3,
      "outputs": [
        {
          "output_type": "execute_result",
          "data": {
            "text/plain": [
              "0"
            ]
          },
          "metadata": {},
          "execution_count": 3
        }
      ]
    },
    {
      "cell_type": "code",
      "source": [
        "# Get tensor back as Python int\n",
        "scalar.item()"
      ],
      "metadata": {
        "colab": {
          "base_uri": "https://localhost:8080/"
        },
        "id": "QCKoRQsNmxtj",
        "outputId": "94fa57b9-1e9e-49d8-b987-8f3ef2bfcf84"
      },
      "execution_count": 4,
      "outputs": [
        {
          "output_type": "execute_result",
          "data": {
            "text/plain": [
              "7"
            ]
          },
          "metadata": {},
          "execution_count": 4
        }
      ]
    },
    {
      "cell_type": "code",
      "source": [
        "# Vector\n",
        "vector = torch.tensor([7, 7])"
      ],
      "metadata": {
        "id": "B3vroJvhnBS4"
      },
      "execution_count": 5,
      "outputs": []
    },
    {
      "cell_type": "code",
      "source": [
        "vector.ndim"
      ],
      "metadata": {
        "colab": {
          "base_uri": "https://localhost:8080/"
        },
        "id": "jbrf73DunJAo",
        "outputId": "c894f4a6-b321-48fe-9aa8-674350f2ca0c"
      },
      "execution_count": 6,
      "outputs": [
        {
          "output_type": "execute_result",
          "data": {
            "text/plain": [
              "1"
            ]
          },
          "metadata": {},
          "execution_count": 6
        }
      ]
    },
    {
      "cell_type": "code",
      "source": [
        "vector.shape"
      ],
      "metadata": {
        "colab": {
          "base_uri": "https://localhost:8080/"
        },
        "id": "fkNta7RonRf-",
        "outputId": "9b744ea0-bf73-4f99-f001-1380c873e7ce"
      },
      "execution_count": 7,
      "outputs": [
        {
          "output_type": "execute_result",
          "data": {
            "text/plain": [
              "torch.Size([2])"
            ]
          },
          "metadata": {},
          "execution_count": 7
        }
      ]
    },
    {
      "cell_type": "code",
      "source": [
        "# MATRIX\n",
        "MATRIX = torch.tensor([[7, 8],\n",
        "                       [9, 10]])\n",
        "MATRIX"
      ],
      "metadata": {
        "colab": {
          "base_uri": "https://localhost:8080/"
        },
        "id": "td8f2g4RnrZ6",
        "outputId": "dc81ec51-e653-462b-98c2-5e0da61089d1"
      },
      "execution_count": 8,
      "outputs": [
        {
          "output_type": "execute_result",
          "data": {
            "text/plain": [
              "tensor([[ 7,  8],\n",
              "        [ 9, 10]])"
            ]
          },
          "metadata": {},
          "execution_count": 8
        }
      ]
    },
    {
      "cell_type": "code",
      "source": [
        "MATRIX.ndim"
      ],
      "metadata": {
        "colab": {
          "base_uri": "https://localhost:8080/"
        },
        "id": "qD3_1mrRn9uX",
        "outputId": "82b7ccd0-0cbf-4d86-fa49-b70b98d97058"
      },
      "execution_count": 9,
      "outputs": [
        {
          "output_type": "execute_result",
          "data": {
            "text/plain": [
              "2"
            ]
          },
          "metadata": {},
          "execution_count": 9
        }
      ]
    },
    {
      "cell_type": "code",
      "source": [
        "MATRIX[0]"
      ],
      "metadata": {
        "colab": {
          "base_uri": "https://localhost:8080/"
        },
        "id": "dVYy51yQoLMk",
        "outputId": "a3fb6cde-bc5a-4b5e-8ccc-1a3aa31bde5a"
      },
      "execution_count": 10,
      "outputs": [
        {
          "output_type": "execute_result",
          "data": {
            "text/plain": [
              "tensor([7, 8])"
            ]
          },
          "metadata": {},
          "execution_count": 10
        }
      ]
    },
    {
      "cell_type": "code",
      "source": [
        "MATRIX[1]"
      ],
      "metadata": {
        "colab": {
          "base_uri": "https://localhost:8080/"
        },
        "id": "F2eNt6_loNa_",
        "outputId": "8759047e-a168-44e9-9da0-1c80c055b590"
      },
      "execution_count": 11,
      "outputs": [
        {
          "output_type": "execute_result",
          "data": {
            "text/plain": [
              "tensor([ 9, 10])"
            ]
          },
          "metadata": {},
          "execution_count": 11
        }
      ]
    },
    {
      "cell_type": "code",
      "source": [
        "MATRIX.shape"
      ],
      "metadata": {
        "colab": {
          "base_uri": "https://localhost:8080/"
        },
        "id": "W1GodcWooQYN",
        "outputId": "14f0a1a3-b07f-417e-bfed-ed7bbb6c59ca"
      },
      "execution_count": 12,
      "outputs": [
        {
          "output_type": "execute_result",
          "data": {
            "text/plain": [
              "torch.Size([2, 2])"
            ]
          },
          "metadata": {},
          "execution_count": 12
        }
      ]
    },
    {
      "cell_type": "code",
      "source": [
        "# TENSOR\n",
        "TENSOR = torch.tensor([[[1,2,3],\n",
        "                        [3,6,9],\n",
        "                        [2,4,5]]])\n",
        "TENSOR"
      ],
      "metadata": {
        "colab": {
          "base_uri": "https://localhost:8080/"
        },
        "id": "HFzBsxGXoSDy",
        "outputId": "d0b5760d-2c60-4264-a5e2-3d98bae9019c"
      },
      "execution_count": 13,
      "outputs": [
        {
          "output_type": "execute_result",
          "data": {
            "text/plain": [
              "tensor([[[1, 2, 3],\n",
              "         [3, 6, 9],\n",
              "         [2, 4, 5]]])"
            ]
          },
          "metadata": {},
          "execution_count": 13
        }
      ]
    },
    {
      "cell_type": "code",
      "source": [
        "TENSOR.ndim"
      ],
      "metadata": {
        "colab": {
          "base_uri": "https://localhost:8080/"
        },
        "id": "M_IJbjxQonx3",
        "outputId": "fa9eb9c9-5a5f-47de-d2b8-625a29f6ccd9"
      },
      "execution_count": 14,
      "outputs": [
        {
          "output_type": "execute_result",
          "data": {
            "text/plain": [
              "3"
            ]
          },
          "metadata": {},
          "execution_count": 14
        }
      ]
    },
    {
      "cell_type": "code",
      "source": [
        "TENSOR.shape"
      ],
      "metadata": {
        "colab": {
          "base_uri": "https://localhost:8080/"
        },
        "id": "TBEukkPhoqau",
        "outputId": "15625b8d-ab5f-4855-f898-09ab496e72ba"
      },
      "execution_count": 15,
      "outputs": [
        {
          "output_type": "execute_result",
          "data": {
            "text/plain": [
              "torch.Size([1, 3, 3])"
            ]
          },
          "metadata": {},
          "execution_count": 15
        }
      ]
    },
    {
      "cell_type": "code",
      "source": [
        "TENSOR[0]"
      ],
      "metadata": {
        "colab": {
          "base_uri": "https://localhost:8080/"
        },
        "id": "oyLPvssNorcf",
        "outputId": "b5bb5da9-4358-48b6-b2a6-55b3ff0fb942"
      },
      "execution_count": 16,
      "outputs": [
        {
          "output_type": "execute_result",
          "data": {
            "text/plain": [
              "tensor([[1, 2, 3],\n",
              "        [3, 6, 9],\n",
              "        [2, 4, 5]])"
            ]
          },
          "metadata": {},
          "execution_count": 16
        }
      ]
    },
    {
      "cell_type": "code",
      "source": [
        "# myTENSOR\n",
        "\n",
        "myTENSOR = torch.tensor([[[[1,3,4,5],\n",
        "                           [2,6,7,8],\n",
        "                           [3,9,10,11]]]])\n",
        "myTENSOR"
      ],
      "metadata": {
        "colab": {
          "base_uri": "https://localhost:8080/"
        },
        "id": "f1Oii9Ugoz_p",
        "outputId": "16ec546e-f0c4-4be8-9cae-0c398af44850"
      },
      "execution_count": 17,
      "outputs": [
        {
          "output_type": "execute_result",
          "data": {
            "text/plain": [
              "tensor([[[[ 1,  3,  4,  5],\n",
              "          [ 2,  6,  7,  8],\n",
              "          [ 3,  9, 10, 11]]]])"
            ]
          },
          "metadata": {},
          "execution_count": 17
        }
      ]
    },
    {
      "cell_type": "code",
      "source": [
        "myTENSOR.ndim"
      ],
      "metadata": {
        "colab": {
          "base_uri": "https://localhost:8080/"
        },
        "id": "TY5qim-WrGrY",
        "outputId": "1e42c873-ebe1-461a-b4f4-d57bf1b36bb0"
      },
      "execution_count": 18,
      "outputs": [
        {
          "output_type": "execute_result",
          "data": {
            "text/plain": [
              "4"
            ]
          },
          "metadata": {},
          "execution_count": 18
        }
      ]
    },
    {
      "cell_type": "code",
      "source": [
        "myTENSOR.shape"
      ],
      "metadata": {
        "colab": {
          "base_uri": "https://localhost:8080/"
        },
        "id": "Dc1dRNKHrfPl",
        "outputId": "bcf64ce0-9fd8-41b5-c398-0c03e3026080"
      },
      "execution_count": 19,
      "outputs": [
        {
          "output_type": "execute_result",
          "data": {
            "text/plain": [
              "torch.Size([1, 1, 3, 4])"
            ]
          },
          "metadata": {},
          "execution_count": 19
        }
      ]
    },
    {
      "cell_type": "markdown",
      "source": [
        "### Random tensors\n",
        "\n",
        "Why random tensors?\n",
        "\n",
        "Random tensors are important because the way many neural networks learn is that they start with tensors full of random numbers and then adjust those randome numbers to better represent the data.\n",
        "\n",
        "`Start with random numbers -> look at data -> update random numbers -> look at data -> update random numbers`\n",
        "\n",
        "Torch random tensors - https://pytorch.org/docs/stable/generated/torch.rand.html\n"
      ],
      "metadata": {
        "id": "sjJLa5GYrido"
      }
    },
    {
      "cell_type": "code",
      "source": [
        "# Create a random tensor of size (3, 4)\n",
        "random_tensor = torch.rand(3, 4)\n",
        "\n",
        "random_tensor"
      ],
      "metadata": {
        "colab": {
          "base_uri": "https://localhost:8080/"
        },
        "id": "ELdUqMk6sS6f",
        "outputId": "5d7a9946-a278-4ba2-9529-0a251c2456ca"
      },
      "execution_count": 20,
      "outputs": [
        {
          "output_type": "execute_result",
          "data": {
            "text/plain": [
              "tensor([[0.7909, 0.3668, 0.5229, 0.2610],\n",
              "        [0.6462, 0.5071, 0.6701, 0.4501],\n",
              "        [0.2754, 0.4384, 0.5437, 0.8413]])"
            ]
          },
          "metadata": {},
          "execution_count": 20
        }
      ]
    },
    {
      "cell_type": "code",
      "source": [
        "random_tensor.ndim"
      ],
      "metadata": {
        "colab": {
          "base_uri": "https://localhost:8080/"
        },
        "id": "rflCCKyrs-1m",
        "outputId": "e6f7d627-b9f5-4b77-acfc-cf460338fe38"
      },
      "execution_count": 21,
      "outputs": [
        {
          "output_type": "execute_result",
          "data": {
            "text/plain": [
              "2"
            ]
          },
          "metadata": {},
          "execution_count": 21
        }
      ]
    },
    {
      "cell_type": "code",
      "source": [
        "random_tensor = torch.rand(1, 10, 10)\n",
        "\n",
        "random_tensor"
      ],
      "metadata": {
        "colab": {
          "base_uri": "https://localhost:8080/"
        },
        "id": "dopoBaM6tR6i",
        "outputId": "4f62ae56-d21f-4338-ba92-cd0038b0aa39"
      },
      "execution_count": 22,
      "outputs": [
        {
          "output_type": "execute_result",
          "data": {
            "text/plain": [
              "tensor([[[0.4963, 0.2479, 0.9393, 0.7602, 0.8639, 0.7721, 0.6279, 0.4561,\n",
              "          0.7173, 0.5254],\n",
              "         [0.3085, 0.6441, 0.3621, 0.0820, 0.5942, 0.4607, 0.2484, 0.4714,\n",
              "          0.1959, 0.7056],\n",
              "         [0.8368, 0.1617, 0.2316, 0.2793, 0.1197, 0.7204, 0.5599, 0.5290,\n",
              "          0.5686, 0.2855],\n",
              "         [0.0882, 0.1768, 0.4391, 0.3100, 0.9732, 0.8352, 0.1152, 0.3295,\n",
              "          0.6859, 0.0145],\n",
              "         [0.8673, 0.5902, 0.0761, 0.2656, 0.9297, 0.5672, 0.9851, 0.2719,\n",
              "          0.2376, 0.1935],\n",
              "         [0.9491, 0.2862, 0.1722, 0.0519, 0.0264, 0.4214, 0.1052, 0.0917,\n",
              "          0.4366, 0.5272],\n",
              "         [0.5098, 0.0199, 0.2986, 0.3334, 0.1753, 0.7735, 0.4030, 0.8448,\n",
              "          0.9728, 0.4971],\n",
              "         [0.4656, 0.1756, 0.3956, 0.3826, 0.6237, 0.8746, 0.8949, 0.7801,\n",
              "          0.5446, 0.4313],\n",
              "         [0.4205, 0.6123, 0.5433, 0.3894, 0.0751, 0.3677, 0.7031, 0.9966,\n",
              "          0.1648, 0.7173],\n",
              "         [0.4594, 0.9901, 0.5603, 0.2376, 0.0661, 0.2152, 0.0884, 0.5089,\n",
              "          0.6048, 0.9258]]])"
            ]
          },
          "metadata": {},
          "execution_count": 22
        }
      ]
    },
    {
      "cell_type": "code",
      "source": [
        "random_tensor.ndim"
      ],
      "metadata": {
        "colab": {
          "base_uri": "https://localhost:8080/"
        },
        "id": "XtMxyXOJtZjw",
        "outputId": "a34bcfb3-f647-4155-c49d-e2476cd7ea65"
      },
      "execution_count": 23,
      "outputs": [
        {
          "output_type": "execute_result",
          "data": {
            "text/plain": [
              "3"
            ]
          },
          "metadata": {},
          "execution_count": 23
        }
      ]
    },
    {
      "cell_type": "code",
      "source": [
        "random_tensor.shape"
      ],
      "metadata": {
        "colab": {
          "base_uri": "https://localhost:8080/"
        },
        "id": "0dmZYEzstdqi",
        "outputId": "757a83e3-24c6-4e1f-f3b2-8ae074ef8df5"
      },
      "execution_count": 24,
      "outputs": [
        {
          "output_type": "execute_result",
          "data": {
            "text/plain": [
              "torch.Size([1, 10, 10])"
            ]
          },
          "metadata": {},
          "execution_count": 24
        }
      ]
    },
    {
      "cell_type": "code",
      "source": [
        "random_tensor = torch.rand(10,10,10)\n",
        "random_tensor"
      ],
      "metadata": {
        "colab": {
          "base_uri": "https://localhost:8080/"
        },
        "id": "7p17GMadtmJX",
        "outputId": "2c2433b5-181d-4a7c-905e-6eeaae22cc73"
      },
      "execution_count": 25,
      "outputs": [
        {
          "output_type": "execute_result",
          "data": {
            "text/plain": [
              "tensor([[[0.8273, 0.0614, 0.1527, 0.0596, 0.1024, 0.9409, 0.9528, 0.7672,\n",
              "          0.7554, 0.9414],\n",
              "         [0.6374, 0.4917, 0.6292, 0.4052, 0.2058, 0.6603, 0.1668, 0.8299,\n",
              "          0.5970, 0.7485],\n",
              "         [0.4717, 0.0902, 0.7228, 0.6421, 0.7653, 0.4796, 0.8815, 0.4519,\n",
              "          0.0567, 0.9943],\n",
              "         [0.1744, 0.9373, 0.1154, 0.8160, 0.2837, 0.9788, 0.4475, 0.6481,\n",
              "          0.4701, 0.0149],\n",
              "         [0.1734, 0.7572, 0.1073, 0.8547, 0.6197, 0.0305, 0.3171, 0.0779,\n",
              "          0.1632, 0.3633],\n",
              "         [0.7752, 0.7873, 0.5696, 0.5349, 0.7425, 0.2647, 0.7974, 0.0124,\n",
              "          0.2230, 0.0250],\n",
              "         [0.6716, 0.1709, 0.3083, 0.4255, 0.4266, 0.0750, 0.5630, 0.6087,\n",
              "          0.0041, 0.6192],\n",
              "         [0.0072, 0.5743, 0.4696, 0.5291, 0.1862, 0.5135, 0.7437, 0.8846,\n",
              "          0.9190, 0.4379],\n",
              "         [0.2343, 0.3280, 0.6091, 0.9321, 0.5392, 0.9321, 0.5405, 0.7517,\n",
              "          0.7756, 0.4613],\n",
              "         [0.4981, 0.7937, 0.6066, 0.9990, 0.9554, 0.3153, 0.9409, 0.1472,\n",
              "          0.9415, 0.7612]],\n",
              "\n",
              "        [[0.8125, 0.0608, 0.8270, 0.3213, 0.6901, 0.7534, 0.8845, 0.5373,\n",
              "          0.4316, 0.8513],\n",
              "         [0.7550, 0.7919, 0.6920, 0.5462, 0.3905, 0.3497, 0.4071, 0.6021,\n",
              "          0.4795, 0.2947],\n",
              "         [0.8777, 0.1215, 0.2846, 0.2032, 0.6368, 0.0308, 0.0616, 0.5406,\n",
              "          0.4775, 0.2773],\n",
              "         [0.5506, 0.1780, 0.0550, 0.8063, 0.3870, 0.3456, 0.2316, 0.0191,\n",
              "          0.5151, 0.5645],\n",
              "         [0.5931, 0.9501, 0.6951, 0.9775, 0.4804, 0.0063, 0.0061, 0.8374,\n",
              "          0.0958, 0.2994],\n",
              "         [0.0147, 0.3447, 0.6954, 0.8643, 0.3195, 0.4635, 0.3849, 0.0610,\n",
              "          0.4212, 0.2146],\n",
              "         [0.2858, 0.7659, 0.3058, 0.0233, 0.9697, 0.8236, 0.8823, 0.6863,\n",
              "          0.6405, 0.2526],\n",
              "         [0.2709, 0.4343, 0.4053, 0.7944, 0.7975, 0.9041, 0.4874, 0.8660,\n",
              "          0.5298, 0.3706],\n",
              "         [0.4569, 0.3720, 0.7341, 0.6865, 0.2209, 0.8486, 0.8804, 0.3388,\n",
              "          0.3310, 0.5010],\n",
              "         [0.8244, 0.9079, 0.1129, 0.9596, 0.6015, 0.1399, 0.7710, 0.7305,\n",
              "          0.7110, 0.6580]],\n",
              "\n",
              "        [[0.7966, 0.4549, 0.8102, 0.7470, 0.2457, 0.0040, 0.8512, 0.5202,\n",
              "          0.9173, 0.2643],\n",
              "         [0.4277, 0.9015, 0.2393, 0.6573, 0.5241, 0.5660, 0.6738, 0.8913,\n",
              "          0.2833, 0.3915],\n",
              "         [0.5008, 0.2562, 0.4308, 0.2664, 0.2778, 0.3398, 0.0058, 0.1651,\n",
              "          0.6144, 0.6170],\n",
              "         [0.5593, 0.3571, 0.2210, 0.2970, 0.2592, 0.3785, 0.5695, 0.9178,\n",
              "          0.2860, 0.1815],\n",
              "         [0.7106, 0.7343, 0.1407, 0.9794, 0.4753, 0.7581, 0.1047, 0.3972,\n",
              "          0.2559, 0.7756],\n",
              "         [0.8742, 0.2630, 0.4351, 0.1085, 0.9010, 0.3565, 0.4366, 0.0611,\n",
              "          0.9435, 0.6314],\n",
              "         [0.4807, 0.2514, 0.6152, 0.2563, 0.1693, 0.7483, 0.7163, 0.8116,\n",
              "          0.5076, 0.3696],\n",
              "         [0.4979, 0.6340, 0.5424, 0.4636, 0.0080, 0.8451, 0.6705, 0.1430,\n",
              "          0.5867, 0.2086],\n",
              "         [0.3483, 0.7890, 0.5464, 0.7062, 0.3323, 0.5197, 0.0256, 0.4762,\n",
              "          0.2932, 0.2776],\n",
              "         [0.0997, 0.6983, 0.1537, 0.4757, 0.2601, 0.1208, 0.2373, 0.3612,\n",
              "          0.6581, 0.3661]],\n",
              "\n",
              "        [[0.6109, 0.8688, 0.3572, 0.4021, 0.6389, 0.1418, 0.6700, 0.2290,\n",
              "          0.5500, 0.2058],\n",
              "         [0.8690, 0.7120, 0.2123, 0.0228, 0.5464, 0.4810, 0.2140, 0.8808,\n",
              "          0.4015, 0.9091],\n",
              "         [0.9412, 0.4984, 0.5434, 0.0829, 0.3541, 0.1753, 0.5505, 0.8625,\n",
              "          0.8992, 0.8639],\n",
              "         [0.2691, 0.2356, 0.8467, 0.4523, 0.9076, 0.0312, 0.3882, 0.8704,\n",
              "          0.5661, 0.9552],\n",
              "         [0.5814, 0.0685, 0.4917, 0.2559, 0.2931, 0.3459, 0.4662, 0.6466,\n",
              "          0.3527, 0.0353],\n",
              "         [0.5363, 0.9947, 0.7719, 0.1412, 0.5806, 0.0994, 0.9523, 0.9563,\n",
              "          0.4991, 0.1782],\n",
              "         [0.1241, 0.6086, 0.2469, 0.6026, 0.8930, 0.4612, 0.2536, 0.0220,\n",
              "          0.8923, 0.8357],\n",
              "         [0.3391, 0.1219, 0.5298, 0.4719, 0.1954, 0.7330, 0.8920, 0.5476,\n",
              "          0.9526, 0.3921],\n",
              "         [0.2538, 0.2402, 0.9025, 0.5035, 0.0966, 0.1697, 0.9185, 0.8743,\n",
              "          0.3671, 0.6750],\n",
              "         [0.7240, 0.2735, 0.2502, 0.1238, 0.2744, 0.0100, 0.8505, 0.9111,\n",
              "          0.7148, 0.1397]],\n",
              "\n",
              "        [[0.2241, 0.7320, 0.0640, 0.5640, 0.4244, 0.3673, 0.7659, 0.0550,\n",
              "          0.5633, 0.9774],\n",
              "         [0.7458, 0.1956, 0.6525, 0.3051, 0.3021, 0.7898, 0.7842, 0.2023,\n",
              "          0.2791, 0.6979],\n",
              "         [0.7229, 0.2824, 0.5273, 0.4162, 0.7039, 0.9697, 0.1627, 0.6765,\n",
              "          0.6075, 0.2827],\n",
              "         [0.6532, 0.9912, 0.6000, 0.7980, 0.0377, 0.2562, 0.2303, 0.3051,\n",
              "          0.6637, 0.7788],\n",
              "         [0.3535, 0.5846, 0.9709, 0.7401, 0.3562, 0.2410, 0.2857, 0.8051,\n",
              "          0.6054, 0.2927],\n",
              "         [0.8528, 0.5068, 0.0156, 0.1825, 0.4208, 0.7457, 0.9874, 0.2198,\n",
              "          0.7774, 0.5289],\n",
              "         [0.5487, 0.4908, 0.5847, 0.5101, 0.3894, 0.4316, 0.1526, 0.4109,\n",
              "          0.4302, 0.4248],\n",
              "         [0.3252, 0.1239, 0.6974, 0.4980, 0.4805, 0.3447, 0.2914, 0.5791,\n",
              "          0.6023, 0.6987],\n",
              "         [0.8602, 0.0300, 0.0033, 0.8323, 0.1212, 0.9560, 0.7379, 0.7912,\n",
              "          0.8045, 0.3823],\n",
              "         [0.0688, 0.9609, 0.1885, 0.7855, 0.9694, 0.9281, 0.8693, 0.3951,\n",
              "          0.1679, 0.5668]],\n",
              "\n",
              "        [[0.7824, 0.3487, 0.3086, 0.8385, 0.4424, 0.5839, 0.7633, 0.3686,\n",
              "          0.0538, 0.6783],\n",
              "         [0.1045, 0.9256, 0.8459, 0.9245, 0.5967, 0.8939, 0.3270, 0.4775,\n",
              "          0.6130, 0.7463],\n",
              "         [0.3626, 0.6888, 0.8382, 0.3148, 0.4541, 0.2746, 0.3874, 0.5160,\n",
              "          0.3398, 0.8961],\n",
              "         [0.0653, 0.7393, 0.6831, 0.0400, 0.0613, 0.5560, 0.9767, 0.0159,\n",
              "          0.5490, 0.0189],\n",
              "         [0.5730, 0.9491, 0.4328, 0.9647, 0.4128, 0.2174, 0.8697, 0.4242,\n",
              "          0.6336, 0.9758],\n",
              "         [0.7867, 0.1859, 0.2390, 0.3902, 0.8112, 0.7859, 0.7133, 0.9203,\n",
              "          0.3278, 0.3841],\n",
              "         [0.2260, 0.0496, 0.4127, 0.6139, 0.6650, 0.1950, 0.0887, 0.3096,\n",
              "          0.6316, 0.5566],\n",
              "         [0.5324, 0.2671, 0.4177, 0.4084, 0.8962, 0.4723, 0.8607, 0.0043,\n",
              "          0.2526, 0.1453],\n",
              "         [0.3495, 0.7889, 0.9845, 0.6328, 0.7466, 0.4171, 0.7443, 0.3117,\n",
              "          0.1049, 0.6764],\n",
              "         [0.5616, 0.9494, 0.7481, 0.5784, 0.9275, 0.6045, 0.8207, 0.9832,\n",
              "          0.0456, 0.7552]],\n",
              "\n",
              "        [[0.4254, 0.4114, 0.5126, 0.4844, 0.0430, 0.0260, 0.8881, 0.8375,\n",
              "          0.8702, 0.9605],\n",
              "         [0.5447, 0.2402, 0.2930, 0.2288, 0.2263, 0.0376, 0.8713, 0.8497,\n",
              "          0.6518, 0.4095],\n",
              "         [0.0459, 0.0973, 0.9112, 0.8263, 0.4328, 0.6567, 0.8494, 0.6635,\n",
              "          0.3039, 0.7170],\n",
              "         [0.1505, 0.7539, 0.2598, 0.4410, 0.2414, 0.1888, 0.5362, 0.9416,\n",
              "          0.3726, 0.4903],\n",
              "         [0.3212, 0.5934, 0.9769, 0.7475, 0.3976, 0.3099, 0.3357, 0.9619,\n",
              "          0.2628, 0.8781],\n",
              "         [0.0033, 0.1551, 0.4921, 0.7490, 0.7747, 0.1445, 0.0164, 0.1264,\n",
              "          0.4660, 0.3509],\n",
              "         [0.0854, 0.9979, 0.2785, 0.2927, 0.7956, 0.5734, 0.6800, 0.8831,\n",
              "          0.7774, 0.2667],\n",
              "         [0.4696, 0.2877, 0.6049, 0.4836, 0.8331, 0.9740, 0.4848, 0.0204,\n",
              "          0.3110, 0.2108],\n",
              "         [0.4484, 0.9659, 0.2734, 0.8778, 0.7964, 0.5970, 0.7490, 0.6254,\n",
              "          0.7046, 0.7609],\n",
              "         [0.9664, 0.3340, 0.3924, 0.3886, 0.9084, 0.6437, 0.4226, 0.2199,\n",
              "          0.3291, 0.7468]],\n",
              "\n",
              "        [[0.6750, 0.7922, 0.1684, 0.1990, 0.1073, 0.3015, 0.3912, 0.6781,\n",
              "          0.5784, 0.8015],\n",
              "         [0.5952, 0.2714, 0.2026, 0.4161, 0.4321, 0.1289, 0.9677, 0.0596,\n",
              "          0.1444, 0.7986],\n",
              "         [0.3588, 0.1417, 0.0373, 0.3314, 0.4811, 0.3684, 0.3239, 0.0989,\n",
              "          0.0775, 0.0651],\n",
              "         [0.8022, 0.7685, 0.8903, 0.1297, 0.9032, 0.5240, 0.4635, 0.0762,\n",
              "          0.1109, 0.4749],\n",
              "         [0.5070, 0.6708, 0.5574, 0.7188, 0.2320, 0.0819, 0.5975, 0.6946,\n",
              "          0.1184, 0.5621],\n",
              "         [0.3968, 0.9250, 0.1425, 0.0978, 0.6475, 0.1514, 0.4960, 0.5532,\n",
              "          0.6501, 0.1141],\n",
              "         [0.0062, 0.6446, 0.1659, 0.8876, 0.9346, 0.8316, 0.0681, 0.1393,\n",
              "          0.0416, 0.3997],\n",
              "         [0.4172, 0.1380, 0.6590, 0.0245, 0.8558, 0.8353, 0.1911, 0.2355,\n",
              "          0.3588, 0.5507],\n",
              "         [0.0916, 0.0200, 0.5887, 0.6926, 0.9918, 0.9118, 0.1255, 0.9606,\n",
              "          0.1982, 0.4579],\n",
              "         [0.2956, 0.0368, 0.5390, 0.7724, 0.0186, 0.4666, 0.4452, 0.9505,\n",
              "          0.7179, 0.2601]],\n",
              "\n",
              "        [[0.3215, 0.6669, 0.8140, 0.0835, 0.4700, 0.0458, 0.3605, 0.0760,\n",
              "          0.1927, 0.9425],\n",
              "         [0.0557, 0.5908, 0.7575, 0.2076, 0.2347, 0.5399, 0.3106, 0.4915,\n",
              "          0.0243, 0.6626],\n",
              "         [0.3397, 0.6130, 0.1807, 0.3826, 0.8424, 0.5510, 0.4294, 0.3401,\n",
              "          0.0926, 0.7663],\n",
              "         [0.3283, 0.0964, 0.6729, 0.2863, 0.5202, 0.1625, 0.0112, 0.8022,\n",
              "          0.4777, 0.1776],\n",
              "         [0.2954, 0.3129, 0.3803, 0.7509, 0.6297, 0.5011, 0.8576, 0.4184,\n",
              "          0.9550, 0.5804],\n",
              "         [0.9031, 0.7841, 0.2173, 0.4983, 0.2376, 0.8417, 0.2992, 0.1548,\n",
              "          0.0178, 0.0245],\n",
              "         [0.3094, 0.7913, 0.1735, 0.7975, 0.5866, 0.2416, 0.5915, 0.4982,\n",
              "          0.5300, 0.3052],\n",
              "         [0.7149, 0.0904, 0.7500, 0.8666, 0.7741, 0.6952, 0.6541, 0.4930,\n",
              "          0.4420, 0.6841],\n",
              "         [0.8097, 0.1707, 0.8968, 0.8771, 0.8086, 0.5407, 0.6997, 0.2997,\n",
              "          0.7840, 0.5245],\n",
              "         [0.8013, 0.9206, 0.3038, 0.2638, 0.6688, 0.6939, 0.4521, 0.9528,\n",
              "          0.9354, 0.8586]],\n",
              "\n",
              "        [[0.7326, 0.8302, 0.2175, 0.9038, 0.0926, 0.4179, 0.5642, 0.6556,\n",
              "          0.6569, 0.4233],\n",
              "         [0.3329, 0.1187, 0.2527, 0.3905, 0.3067, 0.8300, 0.3221, 0.1648,\n",
              "          0.9249, 0.0793],\n",
              "         [0.8524, 0.1284, 0.2661, 0.8558, 0.6610, 0.8855, 0.1549, 0.6240,\n",
              "          0.9312, 0.1923],\n",
              "         [0.8759, 0.1172, 0.9968, 0.8706, 0.3374, 0.3496, 0.2685, 0.2241,\n",
              "          0.7737, 0.6901],\n",
              "         [0.1572, 0.5009, 0.8639, 0.3206, 0.2883, 0.6446, 0.8185, 0.9626,\n",
              "          0.9087, 0.1628],\n",
              "         [0.5401, 0.5118, 0.2597, 0.8768, 0.3798, 0.4908, 0.4770, 0.7360,\n",
              "          0.7461, 0.0623],\n",
              "         [0.2201, 0.4941, 0.2003, 0.7294, 0.6818, 0.9163, 0.5212, 0.2570,\n",
              "          0.1986, 0.9415],\n",
              "         [0.9165, 0.4921, 0.0395, 0.5151, 0.0771, 0.8479, 0.6861, 0.8019,\n",
              "          0.1309, 0.4469],\n",
              "         [0.9994, 0.6463, 0.8652, 0.5138, 0.0336, 0.2096, 0.6251, 0.4058,\n",
              "          0.5996, 0.4278],\n",
              "         [0.3339, 0.1599, 0.5647, 0.5019, 0.3120, 0.7263, 0.1722, 0.9522,\n",
              "          0.7016, 0.2896]]])"
            ]
          },
          "metadata": {},
          "execution_count": 25
        }
      ]
    },
    {
      "cell_type": "code",
      "source": [
        "random_tensor.ndim"
      ],
      "metadata": {
        "colab": {
          "base_uri": "https://localhost:8080/"
        },
        "id": "A-LEI0iZttL7",
        "outputId": "2cf4b697-1e9a-4651-bb5f-92418c970047"
      },
      "execution_count": 26,
      "outputs": [
        {
          "output_type": "execute_result",
          "data": {
            "text/plain": [
              "3"
            ]
          },
          "metadata": {},
          "execution_count": 26
        }
      ]
    },
    {
      "cell_type": "code",
      "source": [
        "random_tensor.shape"
      ],
      "metadata": {
        "colab": {
          "base_uri": "https://localhost:8080/"
        },
        "id": "8XutpiYRtu7_",
        "outputId": "4f2cf84c-57a1-47e6-c647-bcd19226c318"
      },
      "execution_count": 27,
      "outputs": [
        {
          "output_type": "execute_result",
          "data": {
            "text/plain": [
              "torch.Size([10, 10, 10])"
            ]
          },
          "metadata": {},
          "execution_count": 27
        }
      ]
    },
    {
      "cell_type": "code",
      "source": [
        "# Create a random tensor with similar shape to an image tensor\n",
        "random_image_size_tensor = torch.rand(size=(224,224,3)) # height, width, color channels (R, G, B)"
      ],
      "metadata": {
        "id": "3HqELiD4tzVc"
      },
      "execution_count": 28,
      "outputs": []
    },
    {
      "cell_type": "code",
      "source": [
        "random_image_size_tensor"
      ],
      "metadata": {
        "colab": {
          "base_uri": "https://localhost:8080/"
        },
        "id": "KX9DKfo1uM2Q",
        "outputId": "5ec0be41-29d8-4a76-e7cb-c44f1cd7c66a"
      },
      "execution_count": 29,
      "outputs": [
        {
          "output_type": "execute_result",
          "data": {
            "text/plain": [
              "tensor([[[0.5967, 0.1171, 0.5471],\n",
              "         [0.6213, 0.3875, 0.1596],\n",
              "         [0.8671, 0.7964, 0.3578],\n",
              "         ...,\n",
              "         [0.3834, 0.2301, 0.6544],\n",
              "         [0.9190, 0.6113, 0.7278],\n",
              "         [0.9693, 0.3700, 0.6507]],\n",
              "\n",
              "        [[0.9920, 0.7975, 0.7128],\n",
              "         [0.4446, 0.5685, 0.2540],\n",
              "         [0.5336, 0.2937, 0.2265],\n",
              "         ...,\n",
              "         [0.3959, 0.3610, 0.6091],\n",
              "         [0.1051, 0.1337, 0.9745],\n",
              "         [0.1005, 0.4817, 0.0152]],\n",
              "\n",
              "        [[0.5831, 0.3511, 0.3228],\n",
              "         [0.7338, 0.2663, 0.3437],\n",
              "         [0.6259, 0.3645, 0.3803],\n",
              "         ...,\n",
              "         [0.7774, 0.5386, 0.8474],\n",
              "         [0.5797, 0.0634, 0.5038],\n",
              "         [0.6597, 0.3729, 0.0716]],\n",
              "\n",
              "        ...,\n",
              "\n",
              "        [[0.5199, 0.0998, 0.3979],\n",
              "         [0.5243, 0.5276, 0.7999],\n",
              "         [0.3023, 0.1962, 0.9720],\n",
              "         ...,\n",
              "         [0.0115, 0.5309, 0.8023],\n",
              "         [0.9110, 0.4346, 0.9762],\n",
              "         [0.2573, 0.2722, 0.4580]],\n",
              "\n",
              "        [[0.6493, 0.5183, 0.2538],\n",
              "         [0.6565, 0.6580, 0.6830],\n",
              "         [0.9635, 0.8067, 0.4062],\n",
              "         ...,\n",
              "         [0.9526, 0.2413, 0.0729],\n",
              "         [0.7803, 0.4325, 0.2558],\n",
              "         [0.2929, 0.5248, 0.5975]],\n",
              "\n",
              "        [[0.6355, 0.8044, 0.7128],\n",
              "         [0.2910, 0.2414, 0.6889],\n",
              "         [0.3005, 0.0589, 0.1833],\n",
              "         ...,\n",
              "         [0.5539, 0.7923, 0.1911],\n",
              "         [0.1198, 0.6091, 0.1037],\n",
              "         [0.8668, 0.2293, 0.9074]]])"
            ]
          },
          "metadata": {},
          "execution_count": 29
        }
      ]
    },
    {
      "cell_type": "code",
      "source": [
        "random_image_size_tensor.shape, random_image_size_tensor.ndim"
      ],
      "metadata": {
        "colab": {
          "base_uri": "https://localhost:8080/"
        },
        "id": "atcV6AL7uQ2O",
        "outputId": "09d5a176-b1b5-411e-a67a-d07790918c67"
      },
      "execution_count": 30,
      "outputs": [
        {
          "output_type": "execute_result",
          "data": {
            "text/plain": [
              "(torch.Size([224, 224, 3]), 3)"
            ]
          },
          "metadata": {},
          "execution_count": 30
        }
      ]
    },
    {
      "cell_type": "code",
      "source": [
        "# Create a random tensor with similar shape to one second of video at 30fps tensor\n",
        "random_video_size_tensor = torch.rand(size=(224,224,3,30)) # height, width, color channels (R, G, B), frame"
      ],
      "metadata": {
        "id": "T-DJpKiTuaUW"
      },
      "execution_count": 31,
      "outputs": []
    },
    {
      "cell_type": "code",
      "source": [
        "random_video_size_tensor.shape, random_image_size_tensor.ndim\n"
      ],
      "metadata": {
        "colab": {
          "base_uri": "https://localhost:8080/"
        },
        "id": "449IX1dZvBPI",
        "outputId": "dad30dd2-344a-4444-dcf0-3c90005e7bff"
      },
      "execution_count": 32,
      "outputs": [
        {
          "output_type": "execute_result",
          "data": {
            "text/plain": [
              "(torch.Size([224, 224, 3, 30]), 3)"
            ]
          },
          "metadata": {},
          "execution_count": 32
        }
      ]
    },
    {
      "cell_type": "markdown",
      "source": [
        "### Zeros and ones"
      ],
      "metadata": {
        "id": "H8Ig9qGUvJsm"
      }
    },
    {
      "cell_type": "code",
      "source": [
        "# Create a tensor of all zeros\n",
        "zeros = torch.zeros(size=(3,4))\n",
        "zeros"
      ],
      "metadata": {
        "colab": {
          "base_uri": "https://localhost:8080/"
        },
        "id": "McWS9zoyvbHB",
        "outputId": "48d293a5-cb6d-42e0-bf97-6eacc2d5552e"
      },
      "execution_count": 33,
      "outputs": [
        {
          "output_type": "execute_result",
          "data": {
            "text/plain": [
              "tensor([[0., 0., 0., 0.],\n",
              "        [0., 0., 0., 0.],\n",
              "        [0., 0., 0., 0.]])"
            ]
          },
          "metadata": {},
          "execution_count": 33
        }
      ]
    },
    {
      "cell_type": "code",
      "source": [
        "random_tensor= torch.rand(3,4)\n",
        "random_tensor"
      ],
      "metadata": {
        "colab": {
          "base_uri": "https://localhost:8080/"
        },
        "id": "Dcl7FpuRvjCL",
        "outputId": "acd9125f-6507-4cd2-a807-2a9563668808"
      },
      "execution_count": 34,
      "outputs": [
        {
          "output_type": "execute_result",
          "data": {
            "text/plain": [
              "tensor([[0.0525, 0.5143, 0.9767, 0.9823],\n",
              "        [0.3064, 0.9466, 0.6731, 0.8412],\n",
              "        [0.2611, 0.3208, 0.7180, 0.8502]])"
            ]
          },
          "metadata": {},
          "execution_count": 34
        }
      ]
    },
    {
      "cell_type": "code",
      "source": [
        "zeros*random_tensor"
      ],
      "metadata": {
        "colab": {
          "base_uri": "https://localhost:8080/"
        },
        "id": "PvY4FwLdvonu",
        "outputId": "53e42702-32b7-40e7-a8df-8d6e394f519a"
      },
      "execution_count": 35,
      "outputs": [
        {
          "output_type": "execute_result",
          "data": {
            "text/plain": [
              "tensor([[0., 0., 0., 0.],\n",
              "        [0., 0., 0., 0.],\n",
              "        [0., 0., 0., 0.]])"
            ]
          },
          "metadata": {},
          "execution_count": 35
        }
      ]
    },
    {
      "cell_type": "code",
      "source": [
        "# Create a tensor of all ones\n",
        "ones = torch.ones(size=(3,4))\n",
        "ones"
      ],
      "metadata": {
        "colab": {
          "base_uri": "https://localhost:8080/"
        },
        "id": "nDkjS6i_v8wh",
        "outputId": "8261e15b-8d12-4ce2-d1d7-a5af3accbde1"
      },
      "execution_count": 36,
      "outputs": [
        {
          "output_type": "execute_result",
          "data": {
            "text/plain": [
              "tensor([[1., 1., 1., 1.],\n",
              "        [1., 1., 1., 1.],\n",
              "        [1., 1., 1., 1.]])"
            ]
          },
          "metadata": {},
          "execution_count": 36
        }
      ]
    },
    {
      "cell_type": "code",
      "source": [
        "ones.dtype"
      ],
      "metadata": {
        "colab": {
          "base_uri": "https://localhost:8080/"
        },
        "id": "S_2ph5RNwP0O",
        "outputId": "d8ce1f4c-529c-4d63-ba13-3b717e133427"
      },
      "execution_count": 37,
      "outputs": [
        {
          "output_type": "execute_result",
          "data": {
            "text/plain": [
              "torch.float32"
            ]
          },
          "metadata": {},
          "execution_count": 37
        }
      ]
    },
    {
      "cell_type": "code",
      "source": [
        "random_tensor.dtype"
      ],
      "metadata": {
        "colab": {
          "base_uri": "https://localhost:8080/"
        },
        "id": "JtstdZF_wVno",
        "outputId": "51771874-d2b7-420a-8c69-5d7b454070a4"
      },
      "execution_count": 38,
      "outputs": [
        {
          "output_type": "execute_result",
          "data": {
            "text/plain": [
              "torch.float32"
            ]
          },
          "metadata": {},
          "execution_count": 38
        }
      ]
    },
    {
      "cell_type": "markdown",
      "source": [
        "### Creating a range of tensors and tensors-like\n",
        "\n",
        "range is deprecated use arange in future - https://pytorch.org/docs/stable/generated/torch.arange.html"
      ],
      "metadata": {
        "id": "LkkaeNTmwYvZ"
      }
    },
    {
      "cell_type": "code",
      "source": [
        "# Use torch.range() \n",
        "# torch.range() is deprecated going forward so don't use it\n",
        "torch.range(0,10)"
      ],
      "metadata": {
        "colab": {
          "base_uri": "https://localhost:8080/"
        },
        "id": "2vKEcY2Owopx",
        "outputId": "0e9e219e-e0a0-437b-b507-effdf9152a8a"
      },
      "execution_count": 39,
      "outputs": [
        {
          "output_type": "stream",
          "name": "stderr",
          "text": [
            "/usr/local/lib/python3.7/dist-packages/ipykernel_launcher.py:3: UserWarning: torch.range is deprecated and will be removed in a future release because its behavior is inconsistent with Python's range builtin. Instead, use torch.arange, which produces values in [start, end).\n",
            "  This is separate from the ipykernel package so we can avoid doing imports until\n"
          ]
        },
        {
          "output_type": "execute_result",
          "data": {
            "text/plain": [
              "tensor([ 0.,  1.,  2.,  3.,  4.,  5.,  6.,  7.,  8.,  9., 10.])"
            ]
          },
          "metadata": {},
          "execution_count": 39
        }
      ]
    },
    {
      "cell_type": "code",
      "source": [
        "one_to_ten = torch.arange(1, 11)\n",
        "one_to_ten"
      ],
      "metadata": {
        "colab": {
          "base_uri": "https://localhost:8080/"
        },
        "id": "sbDiW_kdwtde",
        "outputId": "f859f16d-405d-4890-f5ef-8ee0ad21df51"
      },
      "execution_count": 40,
      "outputs": [
        {
          "output_type": "execute_result",
          "data": {
            "text/plain": [
              "tensor([ 1,  2,  3,  4,  5,  6,  7,  8,  9, 10])"
            ]
          },
          "metadata": {},
          "execution_count": 40
        }
      ]
    },
    {
      "cell_type": "code",
      "source": [
        " one_to_something = torch.arange(start=1, end=1000, step=77)\n",
        " one_to_something"
      ],
      "metadata": {
        "colab": {
          "base_uri": "https://localhost:8080/"
        },
        "id": "K-ejQqzWwxHo",
        "outputId": "2f50b3a5-dc8f-46a7-9e55-78864b33edf6"
      },
      "execution_count": 41,
      "outputs": [
        {
          "output_type": "execute_result",
          "data": {
            "text/plain": [
              "tensor([  1,  78, 155, 232, 309, 386, 463, 540, 617, 694, 771, 848, 925])"
            ]
          },
          "metadata": {},
          "execution_count": 41
        }
      ]
    },
    {
      "cell_type": "code",
      "source": [
        "one_to_ten2 = torch.arange(start=1, end=11, step=1)\n",
        "one_to_ten2"
      ],
      "metadata": {
        "colab": {
          "base_uri": "https://localhost:8080/"
        },
        "id": "HjKEdx-yxK5k",
        "outputId": "69815a8f-d75d-4030-cd69-5bcc569f172a"
      },
      "execution_count": 42,
      "outputs": [
        {
          "output_type": "execute_result",
          "data": {
            "text/plain": [
              "tensor([ 1,  2,  3,  4,  5,  6,  7,  8,  9, 10])"
            ]
          },
          "metadata": {},
          "execution_count": 42
        }
      ]
    },
    {
      "cell_type": "code",
      "source": [
        "# Creating tensors like\n",
        "one_to_ten.shape"
      ],
      "metadata": {
        "colab": {
          "base_uri": "https://localhost:8080/"
        },
        "id": "kEeWrRiixYlC",
        "outputId": "3bd1cb6c-bb3b-4324-cc14-0ebabee13c03"
      },
      "execution_count": 43,
      "outputs": [
        {
          "output_type": "execute_result",
          "data": {
            "text/plain": [
              "torch.Size([10])"
            ]
          },
          "metadata": {},
          "execution_count": 43
        }
      ]
    },
    {
      "cell_type": "code",
      "source": [
        "ten_zeros = torch.zeros_like(input=one_to_ten)\n",
        "ten_zeros"
      ],
      "metadata": {
        "colab": {
          "base_uri": "https://localhost:8080/"
        },
        "id": "eI-XuPI_xrEg",
        "outputId": "6a39aebc-bfc4-47b0-9b77-4d9ccc08f3bb"
      },
      "execution_count": 44,
      "outputs": [
        {
          "output_type": "execute_result",
          "data": {
            "text/plain": [
              "tensor([0, 0, 0, 0, 0, 0, 0, 0, 0, 0])"
            ]
          },
          "metadata": {},
          "execution_count": 44
        }
      ]
    },
    {
      "cell_type": "markdown",
      "source": [
        "### Tensor datatypes\n",
        "\n",
        "**Note:** Tensor datatypes is one of the 3 big errors you'll run into with PyTorch & deep learning:\n",
        "1. Tensors not right datatype\n",
        "2. Tensors not right shape\n",
        "3. Tensors not on the right device"
      ],
      "metadata": {
        "id": "n7j6uanNxzQK"
      }
    },
    {
      "cell_type": "code",
      "source": [
        "# Float 32 tensor\n",
        "float_32_tensor = torch.tensor([3.0, 6.0, 9.0],\n",
        "                               dtype=None, # What datatype is the tensor (e.g. float32 or float16 etc)\n",
        "                               device=None, # What device is your tensor on? by default this is CPU or cuda for example\n",
        "                               requires_grad=False # Whether or not to track gradients with this tensors operations\n",
        "                               )\n",
        "float_32_tensor"
      ],
      "metadata": {
        "colab": {
          "base_uri": "https://localhost:8080/"
        },
        "id": "tefbqsk-yeX1",
        "outputId": "4d3bb023-93f7-48a4-b4fe-1c66035f1f81"
      },
      "execution_count": 53,
      "outputs": [
        {
          "output_type": "execute_result",
          "data": {
            "text/plain": [
              "tensor([3., 6., 9.])"
            ]
          },
          "metadata": {},
          "execution_count": 53
        }
      ]
    },
    {
      "cell_type": "code",
      "source": [
        "float_32_tensor.dtype"
      ],
      "metadata": {
        "colab": {
          "base_uri": "https://localhost:8080/"
        },
        "id": "drYFOMGxykla",
        "outputId": "bca495f9-71f7-4d33-ed08-c649c0c46117"
      },
      "execution_count": 54,
      "outputs": [
        {
          "output_type": "execute_result",
          "data": {
            "text/plain": [
              "torch.float32"
            ]
          },
          "metadata": {},
          "execution_count": 54
        }
      ]
    },
    {
      "cell_type": "code",
      "source": [
        "float_16_tensor = float_32_tensor.type(torch.float16) # Can also be torch.half"
      ],
      "metadata": {
        "id": "xd158PIe2sas"
      },
      "execution_count": 55,
      "outputs": []
    },
    {
      "cell_type": "code",
      "source": [
        "float_16_tensor.dtype"
      ],
      "metadata": {
        "colab": {
          "base_uri": "https://localhost:8080/"
        },
        "id": "yeDS8Uql22Ss",
        "outputId": "33288e47-782e-4551-f9da-faccdb181285"
      },
      "execution_count": 56,
      "outputs": [
        {
          "output_type": "execute_result",
          "data": {
            "text/plain": [
              "torch.float16"
            ]
          },
          "metadata": {},
          "execution_count": 56
        }
      ]
    },
    {
      "cell_type": "code",
      "source": [
        "float_16_tensor"
      ],
      "metadata": {
        "colab": {
          "base_uri": "https://localhost:8080/"
        },
        "id": "7NwmMXDs245a",
        "outputId": "af73a1bd-0cf1-4a33-bc60-9bcb7cb6b758"
      },
      "execution_count": 57,
      "outputs": [
        {
          "output_type": "execute_result",
          "data": {
            "text/plain": [
              "tensor([3., 6., 9.], dtype=torch.float16)"
            ]
          },
          "metadata": {},
          "execution_count": 57
        }
      ]
    },
    {
      "cell_type": "code",
      "source": [],
      "metadata": {
        "id": "lLo3_jLr2-NH"
      },
      "execution_count": null,
      "outputs": []
    }
  ]
}