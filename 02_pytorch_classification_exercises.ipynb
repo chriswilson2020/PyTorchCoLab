{
  "nbformat": 4,
  "nbformat_minor": 0,
  "metadata": {
    "colab": {
      "provenance": [],
      "include_colab_link": true
    },
    "kernelspec": {
      "name": "python3",
      "display_name": "Python 3"
    },
    "language_info": {
      "name": "python"
    },
    "accelerator": "GPU"
  },
  "cells": [
    {
      "cell_type": "markdown",
      "metadata": {
        "id": "view-in-github",
        "colab_type": "text"
      },
      "source": [
        "<a href=\"https://colab.research.google.com/github/chriswilson2020/PyTorchCoLab/blob/main/02_pytorch_classification_exercises.ipynb\" target=\"_parent\"><img src=\"https://colab.research.google.com/assets/colab-badge.svg\" alt=\"Open In Colab\"/></a>"
      ]
    },
    {
      "cell_type": "markdown",
      "source": [
        "# 02. PyTorch Classification Exercises\n",
        "\n",
        "The following is a template for 02. PyTorch Classification exercises.\n",
        "\n",
        "It's only starter code and it's your job to fill in the blanks.\n",
        "\n",
        "Because of the flexibility of PyTorch, there may be more than one way to answer the question.\n",
        "\n",
        "Don't worry about trying to be *right* just try writing code that suffices the question.\n",
        "\n",
        "## Resources\n",
        "* These exercises are based on [notebook 02 of the learn PyTorch course](https://www.learnpytorch.io/02_pytorch_classification/).\n",
        "* You can see one form of [solutions on GitHub](https://github.com/mrdbourke/pytorch-deep-learning/tree/main/extras/solutions) (but try the exercises below yourself first!)."
      ],
      "metadata": {
        "id": "ZKJFt7YxH8yl"
      }
    },
    {
      "cell_type": "code",
      "source": [
        "# Import torch\n",
        "import torch\n",
        "\n",
        "# Setup device agnostic code\n",
        "device = \"cuda\" if torch.cuda.is_available() else \"cpu\"\n",
        "device\n",
        "\n",
        "# Setup random seed\n",
        "RANDOM_SEED = 42"
      ],
      "metadata": {
        "id": "CSrUPgapO0tf"
      },
      "execution_count": 1,
      "outputs": []
    },
    {
      "cell_type": "markdown",
      "source": [
        "## 1. Make a binary classification dataset with Scikit-Learn's [`make_moons()`](https://scikit-learn.org/stable/modules/generated/sklearn.datasets.make_moons.html) function.\n",
        "  * For consistency, the dataset should have 1000 samples and a `random_state=42`.\n",
        "  * Turn the data into PyTorch tensors. \n",
        "  * Split the data into training and test sets using `train_test_split` with 80% training and 20% testing."
      ],
      "metadata": {
        "id": "pH7jIZ2SPFee"
      }
    },
    {
      "cell_type": "code",
      "source": [
        "# Create a dataset with Scikit-Learn's make_moons()\n",
        "from sklearn.datasets import make_moons\n",
        "SAMPLES = 1000\n",
        "SHUFFLE=True\n",
        "NOISE=0.07\n",
        "RANDOM_STATE=RANDOM_SEED\n",
        "\n",
        "X, y = make_moons(n_samples=SAMPLES,\n",
        "                  shuffle=SHUFFLE,\n",
        "                  noise=NOISE,\n",
        "                  random_state=RANDOM_STATE)"
      ],
      "metadata": {
        "id": "5t4VhPV1PX1X"
      },
      "execution_count": 2,
      "outputs": []
    },
    {
      "cell_type": "code",
      "source": [
        "# Turn data into a DataFrame\n",
        "import pandas as pd\n",
        "moons = pd.DataFrame({\"X1\": X[:,0],\n",
        "                      \"X2\": X[:,1],\n",
        "                      \"label\": y})\n",
        "moons.head(10)"
      ],
      "metadata": {
        "id": "SUeHZ3-3P9C7",
        "colab": {
          "base_uri": "https://localhost:8080/",
          "height": 363
        },
        "outputId": "0e2aa5a9-3f00-493a-d161-dd9abe3bd16d"
      },
      "execution_count": 3,
      "outputs": [
        {
          "output_type": "execute_result",
          "data": {
            "text/plain": [
              "         X1        X2  label\n",
              "0 -0.033411  0.421391      1\n",
              "1  0.998827 -0.442890      1\n",
              "2  0.889592 -0.327843      1\n",
              "3  0.341958 -0.417690      1\n",
              "4 -0.838531  0.532375      0\n",
              "5  0.599064 -0.289773      1\n",
              "6  0.290090 -0.204688      1\n",
              "7 -0.038269  0.459429      1\n",
              "8  1.613771 -0.293970      1\n",
              "9  0.693337  0.827819      0"
            ],
            "text/html": [
              "\n",
              "  <div id=\"df-6ed72b5d-a05c-4822-a5fe-7b4a013d1ca6\">\n",
              "    <div class=\"colab-df-container\">\n",
              "      <div>\n",
              "<style scoped>\n",
              "    .dataframe tbody tr th:only-of-type {\n",
              "        vertical-align: middle;\n",
              "    }\n",
              "\n",
              "    .dataframe tbody tr th {\n",
              "        vertical-align: top;\n",
              "    }\n",
              "\n",
              "    .dataframe thead th {\n",
              "        text-align: right;\n",
              "    }\n",
              "</style>\n",
              "<table border=\"1\" class=\"dataframe\">\n",
              "  <thead>\n",
              "    <tr style=\"text-align: right;\">\n",
              "      <th></th>\n",
              "      <th>X1</th>\n",
              "      <th>X2</th>\n",
              "      <th>label</th>\n",
              "    </tr>\n",
              "  </thead>\n",
              "  <tbody>\n",
              "    <tr>\n",
              "      <th>0</th>\n",
              "      <td>-0.033411</td>\n",
              "      <td>0.421391</td>\n",
              "      <td>1</td>\n",
              "    </tr>\n",
              "    <tr>\n",
              "      <th>1</th>\n",
              "      <td>0.998827</td>\n",
              "      <td>-0.442890</td>\n",
              "      <td>1</td>\n",
              "    </tr>\n",
              "    <tr>\n",
              "      <th>2</th>\n",
              "      <td>0.889592</td>\n",
              "      <td>-0.327843</td>\n",
              "      <td>1</td>\n",
              "    </tr>\n",
              "    <tr>\n",
              "      <th>3</th>\n",
              "      <td>0.341958</td>\n",
              "      <td>-0.417690</td>\n",
              "      <td>1</td>\n",
              "    </tr>\n",
              "    <tr>\n",
              "      <th>4</th>\n",
              "      <td>-0.838531</td>\n",
              "      <td>0.532375</td>\n",
              "      <td>0</td>\n",
              "    </tr>\n",
              "    <tr>\n",
              "      <th>5</th>\n",
              "      <td>0.599064</td>\n",
              "      <td>-0.289773</td>\n",
              "      <td>1</td>\n",
              "    </tr>\n",
              "    <tr>\n",
              "      <th>6</th>\n",
              "      <td>0.290090</td>\n",
              "      <td>-0.204688</td>\n",
              "      <td>1</td>\n",
              "    </tr>\n",
              "    <tr>\n",
              "      <th>7</th>\n",
              "      <td>-0.038269</td>\n",
              "      <td>0.459429</td>\n",
              "      <td>1</td>\n",
              "    </tr>\n",
              "    <tr>\n",
              "      <th>8</th>\n",
              "      <td>1.613771</td>\n",
              "      <td>-0.293970</td>\n",
              "      <td>1</td>\n",
              "    </tr>\n",
              "    <tr>\n",
              "      <th>9</th>\n",
              "      <td>0.693337</td>\n",
              "      <td>0.827819</td>\n",
              "      <td>0</td>\n",
              "    </tr>\n",
              "  </tbody>\n",
              "</table>\n",
              "</div>\n",
              "      <button class=\"colab-df-convert\" onclick=\"convertToInteractive('df-6ed72b5d-a05c-4822-a5fe-7b4a013d1ca6')\"\n",
              "              title=\"Convert this dataframe to an interactive table.\"\n",
              "              style=\"display:none;\">\n",
              "        \n",
              "  <svg xmlns=\"http://www.w3.org/2000/svg\" height=\"24px\"viewBox=\"0 0 24 24\"\n",
              "       width=\"24px\">\n",
              "    <path d=\"M0 0h24v24H0V0z\" fill=\"none\"/>\n",
              "    <path d=\"M18.56 5.44l.94 2.06.94-2.06 2.06-.94-2.06-.94-.94-2.06-.94 2.06-2.06.94zm-11 1L8.5 8.5l.94-2.06 2.06-.94-2.06-.94L8.5 2.5l-.94 2.06-2.06.94zm10 10l.94 2.06.94-2.06 2.06-.94-2.06-.94-.94-2.06-.94 2.06-2.06.94z\"/><path d=\"M17.41 7.96l-1.37-1.37c-.4-.4-.92-.59-1.43-.59-.52 0-1.04.2-1.43.59L10.3 9.45l-7.72 7.72c-.78.78-.78 2.05 0 2.83L4 21.41c.39.39.9.59 1.41.59.51 0 1.02-.2 1.41-.59l7.78-7.78 2.81-2.81c.8-.78.8-2.07 0-2.86zM5.41 20L4 18.59l7.72-7.72 1.47 1.35L5.41 20z\"/>\n",
              "  </svg>\n",
              "      </button>\n",
              "      \n",
              "  <style>\n",
              "    .colab-df-container {\n",
              "      display:flex;\n",
              "      flex-wrap:wrap;\n",
              "      gap: 12px;\n",
              "    }\n",
              "\n",
              "    .colab-df-convert {\n",
              "      background-color: #E8F0FE;\n",
              "      border: none;\n",
              "      border-radius: 50%;\n",
              "      cursor: pointer;\n",
              "      display: none;\n",
              "      fill: #1967D2;\n",
              "      height: 32px;\n",
              "      padding: 0 0 0 0;\n",
              "      width: 32px;\n",
              "    }\n",
              "\n",
              "    .colab-df-convert:hover {\n",
              "      background-color: #E2EBFA;\n",
              "      box-shadow: 0px 1px 2px rgba(60, 64, 67, 0.3), 0px 1px 3px 1px rgba(60, 64, 67, 0.15);\n",
              "      fill: #174EA6;\n",
              "    }\n",
              "\n",
              "    [theme=dark] .colab-df-convert {\n",
              "      background-color: #3B4455;\n",
              "      fill: #D2E3FC;\n",
              "    }\n",
              "\n",
              "    [theme=dark] .colab-df-convert:hover {\n",
              "      background-color: #434B5C;\n",
              "      box-shadow: 0px 1px 3px 1px rgba(0, 0, 0, 0.15);\n",
              "      filter: drop-shadow(0px 1px 2px rgba(0, 0, 0, 0.3));\n",
              "      fill: #FFFFFF;\n",
              "    }\n",
              "  </style>\n",
              "\n",
              "      <script>\n",
              "        const buttonEl =\n",
              "          document.querySelector('#df-6ed72b5d-a05c-4822-a5fe-7b4a013d1ca6 button.colab-df-convert');\n",
              "        buttonEl.style.display =\n",
              "          google.colab.kernel.accessAllowed ? 'block' : 'none';\n",
              "\n",
              "        async function convertToInteractive(key) {\n",
              "          const element = document.querySelector('#df-6ed72b5d-a05c-4822-a5fe-7b4a013d1ca6');\n",
              "          const dataTable =\n",
              "            await google.colab.kernel.invokeFunction('convertToInteractive',\n",
              "                                                     [key], {});\n",
              "          if (!dataTable) return;\n",
              "\n",
              "          const docLinkHtml = 'Like what you see? Visit the ' +\n",
              "            '<a target=\"_blank\" href=https://colab.research.google.com/notebooks/data_table.ipynb>data table notebook</a>'\n",
              "            + ' to learn more about interactive tables.';\n",
              "          element.innerHTML = '';\n",
              "          dataTable['output_type'] = 'display_data';\n",
              "          await google.colab.output.renderOutput(dataTable, element);\n",
              "          const docLink = document.createElement('div');\n",
              "          docLink.innerHTML = docLinkHtml;\n",
              "          element.appendChild(docLink);\n",
              "        }\n",
              "      </script>\n",
              "    </div>\n",
              "  </div>\n",
              "  "
            ]
          },
          "metadata": {},
          "execution_count": 3
        }
      ]
    },
    {
      "cell_type": "code",
      "source": [
        "# Visualize the data on a scatter plot\n",
        "import matplotlib.pyplot as plt\n",
        "plt.scatter(x=X[:,0],\n",
        "            y=X[:,1],\n",
        "            c=y,\n",
        "            cmap=plt.cm.RdYlBu);"
      ],
      "metadata": {
        "id": "owrkPSFvQPFI",
        "colab": {
          "base_uri": "https://localhost:8080/",
          "height": 265
        },
        "outputId": "f0f9eaee-6642-458b-9d69-8db905b0ea38"
      },
      "execution_count": 4,
      "outputs": [
        {
          "output_type": "display_data",
          "data": {
            "text/plain": [
              "<Figure size 432x288 with 1 Axes>"
            ],
            "image/png": "[encoded data removed]"
          },
          "metadata": {
            "needs_background": "light"
          }
        }
      ]
    },
    {
      "cell_type": "code",
      "source": [
        "# Turn data into tensors of dtype float\n",
        "X = torch.from_numpy(X).type(torch.float)\n",
        "y = torch.from_numpy(y).type(torch.float)\n",
        "\n",
        "print(f\"First five samples of X tensor: {X[:5]}\\n\")\n",
        "print(f\"First five samples of y tensor {y[:5]}\")\n",
        "\n",
        "# Split the data into train and test sets (80% train, 20% test)\n",
        "from sklearn.model_selection import train_test_split\n",
        "X_train, X_test, y_train, y_test = train_test_split(X,\n",
        "                                                    y,\n",
        "                                                    test_size=0.2,\n",
        "                                                    random_state=RANDOM_STATE)"
      ],
      "metadata": {
        "id": "bDhyHn9fR4dq",
        "colab": {
          "base_uri": "https://localhost:8080/"
        },
        "outputId": "09e525a3-7921-4ebf-a42a-30ba332840ce"
      },
      "execution_count": 5,
      "outputs": [
        {
          "output_type": "stream",
          "name": "stdout",
          "text": [
            "First five samples of X tensor: tensor([[-0.0334,  0.4214],\n",
            "        [ 0.9988, -0.4429],\n",
            "        [ 0.8896, -0.3278],\n",
            "        [ 0.3420, -0.4177],\n",
            "        [-0.8385,  0.5324]])\n",
            "\n",
            "First five samples of y tensor tensor([1., 1., 1., 1., 0.])\n"
          ]
        }
      ]
    },
    {
      "cell_type": "markdown",
      "source": [
        "## 2. Build a model by subclassing `nn.Module` that incorporates non-linear activation functions and is capable of fitting the data you created in 1.\n",
        "  * Feel free to use any combination of PyTorch layers (linear and non-linear) you want."
      ],
      "metadata": {
        "id": "cMIjxZdzQfPz"
      }
    },
    {
      "cell_type": "code",
      "source": [
        "import torch\n",
        "from torch import nn\n",
        "\n",
        "# Inherit from nn.Module to make a model capable of fitting the mooon data\n",
        "class MoonModelV0(nn.Module):\n",
        "    ## Your code here ##\n",
        "    def __init__(self, input, output, hidden=8 ):\n",
        "     super().__init__()\n",
        "\n",
        "     self.layer_1 = nn.Linear(in_features = input, out_features = hidden)\n",
        "     self.layer_2 = nn.Linear(in_features=hidden, out_features=hidden)\n",
        "     self.layer_3 = nn.Linear(in_features=hidden, out_features=output)\n",
        "     self.relu = nn.ReLU()\n",
        "    def forward(self, x):\n",
        "        ## Your code here ##\n",
        "        return self.layer_3(self.relu(self.layer_2(self.relu(self.layer_1(x)))))\n",
        "\n",
        "# Instantiate the model\n",
        "## Your code here ##\n",
        "model_0 = MoonModelV0(input=2,\n",
        "        output=1,\n",
        "        hidden=8).to(device)"
      ],
      "metadata": {
        "id": "hwtyvm34Ri6Q"
      },
      "execution_count": 6,
      "outputs": []
    },
    {
      "cell_type": "markdown",
      "source": [
        "## 3. Setup a binary classification compatible loss function and optimizer to use when training the model built in 2."
      ],
      "metadata": {
        "id": "DSj97RwyVeFE"
      }
    },
    {
      "cell_type": "code",
      "source": [
        "# Setup loss function\n",
        "loss_fn = nn.BCEWithLogitsLoss()\n",
        "\n",
        "# Setup optimizer to optimize model's parameters\n",
        "optimizer = torch.optim.SGD(params=model_0.parameters(),\n",
        "                            lr=0.1)"
      ],
      "metadata": {
        "id": "whSGw5qgVvxU"
      },
      "execution_count": 7,
      "outputs": []
    },
    {
      "cell_type": "markdown",
      "source": [
        "## 4. Create a training and testing loop to fit the model you created in 2 to the data you created in 1.\n",
        "  * Do a forward pass of the model to see what's coming out in the form of logits, prediction probabilities and labels.\n",
        "  * To measure model accuray, you can create your own accuracy function or use the accuracy function in [TorchMetrics](https://torchmetrics.readthedocs.io/en/latest/).\n",
        "  * Train the model for long enough for it to reach over 96% accuracy.\n",
        "  * The training loop should output progress every 10 epochs of the model's training and test set loss and accuracy."
      ],
      "metadata": {
        "id": "nvk4PfNTWUAt"
      }
    },
    {
      "cell_type": "code",
      "source": [
        "# What's coming out of our model?\n",
        "model_0.eval()\n",
        "with torch.inference_mode():\n",
        "  # logits (raw outputs of model)\n",
        "  print(\"Logits:\")\n",
        "  ## Your code here ##\n",
        "  print(model_0(X_train.to(device)[:10]).squeeze(), \"\\n\")\n",
        "  # Prediction probabilities\n",
        "  print(\"Pred probs:\")\n",
        "  ## Your code here ##\n",
        "  print(torch.sigmoid(model_0(X_train.to(device)[:10]).squeeze()), \"\\n\")\n",
        "  # Prediction probabilities\n",
        "  print(\"Pred labels:\")\n",
        "  ## Your code here ##\n",
        "  print(torch.round(torch.sigmoid(model_0(X_train.to(device)[:10]).squeeze())))\n"
      ],
      "metadata": {
        "colab": {
          "base_uri": "https://localhost:8080/"
        },
        "id": "AgnFdlamd2-D",
        "outputId": "3bb6a592-a31a-4c40-e779-2d194d0b494e"
      },
      "execution_count": 8,
      "outputs": [
        {
          "output_type": "stream",
          "name": "stdout",
          "text": [
            "Logits:\n",
            "tensor([-0.3720, -0.2868, -0.2949, -0.2958, -0.3124, -0.2949, -0.3158, -0.3070,\n",
            "        -0.3046, -0.2862], device='cuda:0') \n",
            "\n",
            "Pred probs:\n",
            "tensor([0.4080, 0.4288, 0.4268, 0.4266, 0.4225, 0.4268, 0.4217, 0.4239, 0.4244,\n",
            "        0.4289], device='cuda:0') \n",
            "\n",
            "Pred labels:\n",
            "tensor([0., 0., 0., 0., 0., 0., 0., 0., 0., 0.], device='cuda:0')\n"
          ]
        }
      ]
    },
    {
      "cell_type": "code",
      "source": [
        "# Let's calculuate the accuracy using accuracy from TorchMetrics\n",
        "!pip -q install torchmetrics # Colab doesn't come with torchmetrics\n",
        "from torchmetrics import Accuracy\n",
        "\n",
        "## TODO: Uncomment this code to use the Accuracy function\n",
        "# acc_fn = Accuracy().to(device) # send accuracy function to device\n",
        "# acc_fn\n",
        "acc_fn = Accuracy(task='multiclass', num_classes=2).to(device)\n",
        "acc_fn"
      ],
      "metadata": {
        "id": "rUSDNHB4euoJ",
        "colab": {
          "base_uri": "https://localhost:8080/"
        },
        "outputId": "5d28f1f5-0700-4e78-89da-fbc820c9681a"
      },
      "execution_count": 9,
      "outputs": [
        {
          "output_type": "execute_result",
          "data": {
            "text/plain": [
              "MulticlassAccuracy()"
            ]
          },
          "metadata": {},
          "execution_count": 9
        }
      ]
    },
    {
      "cell_type": "code",
      "source": [
        "## TODO: Uncomment this to set the seed\n",
        "# torch.manual_seed(RANDOM_SEED)\n",
        "torch.manual_seed(RANDOM_SEED)\n",
        "torch.cuda.manual_seed(RANDOM_SEED)\n",
        "\n",
        "# Setup epochs\n",
        "epochs = 10000\n",
        "\n",
        "# Send data to the device\n",
        "X_train, y_train = X_train.to(device), y_train.to(device)\n",
        "X_test, y_test = X_test.to(device), y_test.to(device)\n",
        "\n",
        "# Loop through the data\n",
        "# for epoch in range(epochs):\n",
        "  ### Training\n",
        "for epoch in range(epochs):\n",
        "  model_0.train()\n",
        "\n",
        "\n",
        "  # 1. Forward pass (logits output)\n",
        "  y_logits = model_0(X_train).squeeze()\n",
        "\n",
        "  # Turn logits into prediction probabilities\n",
        "  y_pred_probs = torch.sigmoid(y_logits)\n",
        "\n",
        "  # Turn prediction probabilities into prediction labels\n",
        "  y_pred_labels = torch.round(y_pred_probs)\n",
        "\n",
        "\n",
        "  # 2. Calculaute the loss\n",
        "  # loss = loss_fn(y_logits, y_train) # loss = compare model raw outputs to desired model outputs\n",
        "  loss = loss_fn(y_logits, y_train) #Note loss function has builtin sigmoid\n",
        "\n",
        "  # Calculate the accuracy\n",
        "  # acc = acc_fn(y_pred, y_train.int()) # the accuracy function needs to compare pred labels (not logits) with actual labels\n",
        "  acc = acc_fn(y_pred_labels, y_train.int())\n",
        "\n",
        "  # 3. Zero the gradients\n",
        "  optimizer.zero_grad()\n",
        "\n",
        "  # 4. Loss backward (perform backpropagation) - https://brilliant.org/wiki/backpropagation/#:~:text=Backpropagation%2C%20short%20for%20%22backward%20propagation,to%20the%20neural%20network's%20weights.\n",
        "  loss.backward()  \n",
        "  # 5. Step the optimizer (gradient descent) - https://towardsdatascience.com/gradient-descent-algorithm-a-deep-dive-cf04e8115f21#:~:text=Gradient%20descent%20(GD)%20is%20an,e.g.%20in%20a%20linear%20regression) \n",
        "  optimizer.step()  \n",
        "\n",
        "  ### Testing\n",
        "  model_0.eval() \n",
        "  with torch.inference_mode():\n",
        "    # 1. Forward pass (to get the logits)\n",
        "   test_logits = model_0(X_test).squeeze()\n",
        "  \n",
        "    # Turn the test logits into prediction labels\n",
        "   test_pred_labels = torch.round(torch.sigmoid(test_logits))  \n",
        " \n",
        "\n",
        "    # 2. Caculate the test loss/acc\n",
        "   test_loss = loss_fn(test_logits, y_test)\n",
        "   test_acc = acc_fn(test_pred_labels, y_test.int())    \n",
        "\n",
        "  # Print out what's happening every 100 epochs\n",
        "  # if epoch % 100 == 0:\n",
        "  if epoch % 100 == 0:\n",
        "    print(f\"Epoch: {epoch} | Loss: {loss:.5f} Acc: {acc:.2f} | Test loss: {test_loss:.5f} Test Acc: {test_acc:.2f}\")\n"
      ],
      "metadata": {
        "id": "SHBY3h7XXnxt",
        "colab": {
          "base_uri": "https://localhost:8080/"
        },
        "outputId": "6254b5a2-4976-4c8a-a979-6089c9255a06"
      },
      "execution_count": 10,
      "outputs": [
        {
          "output_type": "stream",
          "name": "stdout",
          "text": [
            "Epoch: 0 | Loss: 0.71394 Acc: 0.50 | Test loss: 0.71220 Test Acc: 0.50\n",
            "Epoch: 100 | Loss: 0.67962 Acc: 0.64 | Test loss: 0.68031 Test Acc: 0.63\n",
            "Epoch: 200 | Loss: 0.51619 Acc: 0.83 | Test loss: 0.52136 Test Acc: 0.82\n",
            "Epoch: 300 | Loss: 0.27524 Acc: 0.88 | Test loss: 0.27803 Test Acc: 0.87\n",
            "Epoch: 400 | Loss: 0.24062 Acc: 0.88 | Test loss: 0.23509 Test Acc: 0.89\n",
            "Epoch: 500 | Loss: 0.23333 Acc: 0.88 | Test loss: 0.22501 Test Acc: 0.89\n",
            "Epoch: 600 | Loss: 0.22820 Acc: 0.88 | Test loss: 0.21865 Test Acc: 0.90\n",
            "Epoch: 700 | Loss: 0.22370 Acc: 0.88 | Test loss: 0.21308 Test Acc: 0.90\n",
            "Epoch: 800 | Loss: 0.21992 Acc: 0.88 | Test loss: 0.20885 Test Acc: 0.91\n",
            "Epoch: 900 | Loss: 0.21696 Acc: 0.89 | Test loss: 0.20541 Test Acc: 0.91\n",
            "Epoch: 1000 | Loss: 0.21480 Acc: 0.89 | Test loss: 0.20266 Test Acc: 0.91\n",
            "Epoch: 1100 | Loss: 0.21324 Acc: 0.88 | Test loss: 0.20095 Test Acc: 0.90\n",
            "Epoch: 1200 | Loss: 0.21190 Acc: 0.88 | Test loss: 0.19928 Test Acc: 0.91\n",
            "Epoch: 1300 | Loss: 0.20936 Acc: 0.88 | Test loss: 0.19633 Test Acc: 0.91\n",
            "Epoch: 1400 | Loss: 0.19665 Acc: 0.90 | Test loss: 0.18369 Test Acc: 0.93\n",
            "Epoch: 1500 | Loss: 0.14694 Acc: 0.94 | Test loss: 0.13698 Test Acc: 0.95\n",
            "Epoch: 1600 | Loss: 0.09640 Acc: 0.96 | Test loss: 0.08808 Test Acc: 0.98\n",
            "Epoch: 1700 | Loss: 0.06155 Acc: 0.99 | Test loss: 0.05473 Test Acc: 0.99\n",
            "Epoch: 1800 | Loss: 0.04170 Acc: 0.99 | Test loss: 0.03610 Test Acc: 1.00\n",
            "Epoch: 1900 | Loss: 0.03035 Acc: 1.00 | Test loss: 0.02546 Test Acc: 1.00\n",
            "Epoch: 2000 | Loss: 0.02313 Acc: 1.00 | Test loss: 0.01882 Test Acc: 1.00\n",
            "Epoch: 2100 | Loss: 0.01837 Acc: 1.00 | Test loss: 0.01460 Test Acc: 1.00\n",
            "Epoch: 2200 | Loss: 0.01500 Acc: 1.00 | Test loss: 0.01166 Test Acc: 1.00\n",
            "Epoch: 2300 | Loss: 0.01240 Acc: 1.00 | Test loss: 0.00943 Test Acc: 1.00\n",
            "Epoch: 2400 | Loss: 0.01032 Acc: 1.00 | Test loss: 0.00769 Test Acc: 1.00\n",
            "Epoch: 2500 | Loss: 0.00870 Acc: 1.00 | Test loss: 0.00639 Test Acc: 1.00\n",
            "Epoch: 2600 | Loss: 0.00745 Acc: 1.00 | Test loss: 0.00538 Test Acc: 1.00\n",
            "Epoch: 2700 | Loss: 0.00648 Acc: 1.00 | Test loss: 0.00461 Test Acc: 1.00\n",
            "Epoch: 2800 | Loss: 0.00573 Acc: 1.00 | Test loss: 0.00405 Test Acc: 1.00\n",
            "Epoch: 2900 | Loss: 0.00513 Acc: 1.00 | Test loss: 0.00359 Test Acc: 1.00\n",
            "Epoch: 3000 | Loss: 0.00463 Acc: 1.00 | Test loss: 0.00321 Test Acc: 1.00\n",
            "Epoch: 3100 | Loss: 0.00422 Acc: 1.00 | Test loss: 0.00289 Test Acc: 1.00\n",
            "Epoch: 3200 | Loss: 0.00387 Acc: 1.00 | Test loss: 0.00263 Test Acc: 1.00\n",
            "Epoch: 3300 | Loss: 0.00358 Acc: 1.00 | Test loss: 0.00242 Test Acc: 1.00\n",
            "Epoch: 3400 | Loss: 0.00333 Acc: 1.00 | Test loss: 0.00223 Test Acc: 1.00\n",
            "Epoch: 3500 | Loss: 0.00311 Acc: 1.00 | Test loss: 0.00208 Test Acc: 1.00\n",
            "Epoch: 3600 | Loss: 0.00292 Acc: 1.00 | Test loss: 0.00194 Test Acc: 1.00\n",
            "Epoch: 3700 | Loss: 0.00275 Acc: 1.00 | Test loss: 0.00182 Test Acc: 1.00\n",
            "Epoch: 3800 | Loss: 0.00260 Acc: 1.00 | Test loss: 0.00171 Test Acc: 1.00\n",
            "Epoch: 3900 | Loss: 0.00246 Acc: 1.00 | Test loss: 0.00161 Test Acc: 1.00\n",
            "Epoch: 4000 | Loss: 0.00233 Acc: 1.00 | Test loss: 0.00152 Test Acc: 1.00\n",
            "Epoch: 4100 | Loss: 0.00222 Acc: 1.00 | Test loss: 0.00144 Test Acc: 1.00\n",
            "Epoch: 4200 | Loss: 0.00212 Acc: 1.00 | Test loss: 0.00137 Test Acc: 1.00\n",
            "Epoch: 4300 | Loss: 0.00202 Acc: 1.00 | Test loss: 0.00130 Test Acc: 1.00\n",
            "Epoch: 4400 | Loss: 0.00193 Acc: 1.00 | Test loss: 0.00124 Test Acc: 1.00\n",
            "Epoch: 4500 | Loss: 0.00185 Acc: 1.00 | Test loss: 0.00119 Test Acc: 1.00\n",
            "Epoch: 4600 | Loss: 0.00178 Acc: 1.00 | Test loss: 0.00113 Test Acc: 1.00\n",
            "Epoch: 4700 | Loss: 0.00171 Acc: 1.00 | Test loss: 0.00108 Test Acc: 1.00\n",
            "Epoch: 4800 | Loss: 0.00165 Acc: 1.00 | Test loss: 0.00104 Test Acc: 1.00\n",
            "Epoch: 4900 | Loss: 0.00159 Acc: 1.00 | Test loss: 0.00100 Test Acc: 1.00\n",
            "Epoch: 5000 | Loss: 0.00153 Acc: 1.00 | Test loss: 0.00096 Test Acc: 1.00\n",
            "Epoch: 5100 | Loss: 0.00148 Acc: 1.00 | Test loss: 0.00092 Test Acc: 1.00\n",
            "Epoch: 5200 | Loss: 0.00143 Acc: 1.00 | Test loss: 0.00089 Test Acc: 1.00\n",
            "Epoch: 5300 | Loss: 0.00139 Acc: 1.00 | Test loss: 0.00085 Test Acc: 1.00\n",
            "Epoch: 5400 | Loss: 0.00134 Acc: 1.00 | Test loss: 0.00082 Test Acc: 1.00\n",
            "Epoch: 5500 | Loss: 0.00130 Acc: 1.00 | Test loss: 0.00080 Test Acc: 1.00\n",
            "Epoch: 5600 | Loss: 0.00126 Acc: 1.00 | Test loss: 0.00077 Test Acc: 1.00\n",
            "Epoch: 5700 | Loss: 0.00123 Acc: 1.00 | Test loss: 0.00074 Test Acc: 1.00\n",
            "Epoch: 5800 | Loss: 0.00119 Acc: 1.00 | Test loss: 0.00072 Test Acc: 1.00\n",
            "Epoch: 5900 | Loss: 0.00116 Acc: 1.00 | Test loss: 0.00070 Test Acc: 1.00\n",
            "Epoch: 6000 | Loss: 0.00113 Acc: 1.00 | Test loss: 0.00068 Test Acc: 1.00\n",
            "Epoch: 6100 | Loss: 0.00110 Acc: 1.00 | Test loss: 0.00066 Test Acc: 1.00\n",
            "Epoch: 6200 | Loss: 0.00107 Acc: 1.00 | Test loss: 0.00064 Test Acc: 1.00\n",
            "Epoch: 6300 | Loss: 0.00105 Acc: 1.00 | Test loss: 0.00062 Test Acc: 1.00\n",
            "Epoch: 6400 | Loss: 0.00102 Acc: 1.00 | Test loss: 0.00060 Test Acc: 1.00\n",
            "Epoch: 6500 | Loss: 0.00100 Acc: 1.00 | Test loss: 0.00059 Test Acc: 1.00\n",
            "Epoch: 6600 | Loss: 0.00097 Acc: 1.00 | Test loss: 0.00057 Test Acc: 1.00\n",
            "Epoch: 6700 | Loss: 0.00095 Acc: 1.00 | Test loss: 0.00056 Test Acc: 1.00\n",
            "Epoch: 6800 | Loss: 0.00093 Acc: 1.00 | Test loss: 0.00054 Test Acc: 1.00\n",
            "Epoch: 6900 | Loss: 0.00091 Acc: 1.00 | Test loss: 0.00053 Test Acc: 1.00\n",
            "Epoch: 7000 | Loss: 0.00089 Acc: 1.00 | Test loss: 0.00051 Test Acc: 1.00\n",
            "Epoch: 7100 | Loss: 0.00087 Acc: 1.00 | Test loss: 0.00050 Test Acc: 1.00\n",
            "Epoch: 7200 | Loss: 0.00085 Acc: 1.00 | Test loss: 0.00049 Test Acc: 1.00\n",
            "Epoch: 7300 | Loss: 0.00084 Acc: 1.00 | Test loss: 0.00048 Test Acc: 1.00\n",
            "Epoch: 7400 | Loss: 0.00082 Acc: 1.00 | Test loss: 0.00047 Test Acc: 1.00\n",
            "Epoch: 7500 | Loss: 0.00080 Acc: 1.00 | Test loss: 0.00046 Test Acc: 1.00\n",
            "Epoch: 7600 | Loss: 0.00079 Acc: 1.00 | Test loss: 0.00045 Test Acc: 1.00\n",
            "Epoch: 7700 | Loss: 0.00077 Acc: 1.00 | Test loss: 0.00044 Test Acc: 1.00\n",
            "Epoch: 7800 | Loss: 0.00076 Acc: 1.00 | Test loss: 0.00043 Test Acc: 1.00\n",
            "Epoch: 7900 | Loss: 0.00075 Acc: 1.00 | Test loss: 0.00042 Test Acc: 1.00\n",
            "Epoch: 8000 | Loss: 0.00073 Acc: 1.00 | Test loss: 0.00041 Test Acc: 1.00\n",
            "Epoch: 8100 | Loss: 0.00072 Acc: 1.00 | Test loss: 0.00040 Test Acc: 1.00\n",
            "Epoch: 8200 | Loss: 0.00071 Acc: 1.00 | Test loss: 0.00039 Test Acc: 1.00\n",
            "Epoch: 8300 | Loss: 0.00070 Acc: 1.00 | Test loss: 0.00038 Test Acc: 1.00\n",
            "Epoch: 8400 | Loss: 0.00068 Acc: 1.00 | Test loss: 0.00038 Test Acc: 1.00\n",
            "Epoch: 8500 | Loss: 0.00067 Acc: 1.00 | Test loss: 0.00037 Test Acc: 1.00\n",
            "Epoch: 8600 | Loss: 0.00066 Acc: 1.00 | Test loss: 0.00036 Test Acc: 1.00\n",
            "Epoch: 8700 | Loss: 0.00065 Acc: 1.00 | Test loss: 0.00036 Test Acc: 1.00\n",
            "Epoch: 8800 | Loss: 0.00064 Acc: 1.00 | Test loss: 0.00035 Test Acc: 1.00\n",
            "Epoch: 8900 | Loss: 0.00063 Acc: 1.00 | Test loss: 0.00034 Test Acc: 1.00\n",
            "Epoch: 9000 | Loss: 0.00062 Acc: 1.00 | Test loss: 0.00034 Test Acc: 1.00\n",
            "Epoch: 9100 | Loss: 0.00061 Acc: 1.00 | Test loss: 0.00033 Test Acc: 1.00\n",
            "Epoch: 9200 | Loss: 0.00060 Acc: 1.00 | Test loss: 0.00032 Test Acc: 1.00\n",
            "Epoch: 9300 | Loss: 0.00059 Acc: 1.00 | Test loss: 0.00032 Test Acc: 1.00\n",
            "Epoch: 9400 | Loss: 0.00058 Acc: 1.00 | Test loss: 0.00031 Test Acc: 1.00\n",
            "Epoch: 9500 | Loss: 0.00058 Acc: 1.00 | Test loss: 0.00031 Test Acc: 1.00\n",
            "Epoch: 9600 | Loss: 0.00057 Acc: 1.00 | Test loss: 0.00030 Test Acc: 1.00\n",
            "Epoch: 9700 | Loss: 0.00056 Acc: 1.00 | Test loss: 0.00030 Test Acc: 1.00\n",
            "Epoch: 9800 | Loss: 0.00055 Acc: 1.00 | Test loss: 0.00029 Test Acc: 1.00\n",
            "Epoch: 9900 | Loss: 0.00055 Acc: 1.00 | Test loss: 0.00029 Test Acc: 1.00\n"
          ]
        }
      ]
    },
    {
      "cell_type": "markdown",
      "source": [
        "## 5. Make predictions with your trained model and plot them using the `plot_decision_boundary()` function created in this notebook."
      ],
      "metadata": {
        "id": "8Nwihtomj9JO"
      }
    },
    {
      "cell_type": "code",
      "source": [
        "# Plot the model predictions\n",
        "import numpy as np\n",
        "\n",
        "def plot_decision_boundary(model, X, y):\n",
        "  \n",
        "    # Put everything to CPU (works better with NumPy + Matplotlib)\n",
        "    model.to(\"cpu\")\n",
        "    X, y = X.to(\"cpu\"), y.to(\"cpu\")\n",
        "\n",
        "    # Source - https://madewithml.com/courses/foundations/neural-networks/ \n",
        "    # (with modifications)\n",
        "    x_min, x_max = X[:, 0].min() - 0.1, X[:, 0].max() + 0.1\n",
        "    y_min, y_max = X[:, 1].min() - 0.1, X[:, 1].max() + 0.1\n",
        "    xx, yy = np.meshgrid(np.linspace(x_min, x_max, 101), \n",
        "                         np.linspace(y_min, y_max, 101))\n",
        "\n",
        "    # Make features\n",
        "    X_to_pred_on = torch.from_numpy(np.column_stack((xx.ravel(), yy.ravel()))).float()\n",
        "\n",
        "    # Make predictions\n",
        "    model.eval()\n",
        "    with torch.inference_mode():\n",
        "        y_logits = model(X_to_pred_on)\n",
        "\n",
        "    # Test for multi-class or binary and adjust logits to prediction labels\n",
        "    if len(torch.unique(y)) > 2:\n",
        "        y_pred = torch.softmax(y_logits, dim=1).argmax(dim=1) # mutli-class\n",
        "    else: \n",
        "        y_pred = torch.round(torch.sigmoid(y_logits)) # binary\n",
        "    \n",
        "    # Reshape preds and plot\n",
        "    y_pred = y_pred.reshape(xx.shape).detach().numpy()\n",
        "    plt.contourf(xx, yy, y_pred, cmap=plt.cm.RdYlBu, alpha=0.7)\n",
        "    plt.scatter(X[:, 0], X[:, 1], c=y, s=40, cmap=plt.cm.RdYlBu)\n",
        "    plt.xlim(xx.min(), xx.max())\n",
        "    plt.ylim(yy.min(), yy.max())"
      ],
      "metadata": {
        "id": "0YRzatb8a1P2"
      },
      "execution_count": 11,
      "outputs": []
    },
    {
      "cell_type": "code",
      "source": [
        "# Plot decision boundaries for training and test sets\n",
        "plt.figure(figsize=(12, 6))\n",
        "plt.subplot(1, 2, 1)\n",
        "plt.title(\"Train\")\n",
        "plot_decision_boundary(model_0, X_train, y_train)\n",
        "plt.subplot(1, 2, 2)\n",
        "plt.title(\"Test\")\n",
        "plot_decision_boundary(model_0, X_test, y_test)"
      ],
      "metadata": {
        "id": "PMrcpyirig1d",
        "colab": {
          "base_uri": "https://localhost:8080/",
          "height": 351
        },
        "outputId": "70aa3057-df2a-412e-b69b-e2be3c92bd4a"
      },
      "execution_count": 12,
      "outputs": [
        {
          "output_type": "display_data",
          "data": {
            "text/plain": [
              "<Figure size 864x432 with 2 Axes>"
            ],
            "image/png": "[encoded data removed]"
          },
          "metadata": {
            "needs_background": "light"
          }
        }
      ]
    },
    {
      "cell_type": "markdown",
      "source": [
        "## 6. Replicate the Tanh (hyperbolic tangent) activation function in pure PyTorch.\n",
        "  * Feel free to reference the [ML cheatsheet website](https://ml-cheatsheet.readthedocs.io/en/latest/activation_functions.html#tanh) for the formula."
      ],
      "metadata": {
        "id": "EtMYBvtciiAU"
      }
    },
    {
      "cell_type": "code",
      "source": [
        "# Create a straight line tensor\n",
        "weight = 0.7\n",
        "bias = 0.3\n",
        "start = -100\n",
        "end = 100\n",
        "step = 2\n",
        "\n",
        "# create the data as a tensor \n",
        "X_linear = torch.arange(start, end, step).unsqueeze(dim=1)\n",
        "y_linear = weight * X_linear + bias"
      ],
      "metadata": {
        "id": "BlXaWC5TkEUE"
      },
      "execution_count": 13,
      "outputs": []
    },
    {
      "cell_type": "code",
      "source": [
        "# Test torch.tanh() on the tensor and plot it\n",
        "plt.plot(torch.tanh(X_linear))"
      ],
      "metadata": {
        "id": "vZPCcQmIkZjO",
        "colab": {
          "base_uri": "https://localhost:8080/",
          "height": 282
        },
        "outputId": "5c5938c0-26bc-4bf6-cec7-ec898c0552d4"
      },
      "execution_count": 14,
      "outputs": [
        {
          "output_type": "execute_result",
          "data": {
            "text/plain": [
              "[<matplotlib.lines.Line2D at 0x7f4310b0a910>]"
            ]
          },
          "metadata": {},
          "execution_count": 14
        },
        {
          "output_type": "display_data",
          "data": {
            "text/plain": [
              "<Figure size 432x288 with 1 Axes>"
            ],
            "image/png": "[encoded data removed]"
          },
          "metadata": {
            "needs_background": "light"
          }
        }
      ]
    },
    {
      "cell_type": "code",
      "source": [
        "# Replicate torch.tanh() and plot it\n",
        "def tanh(x):\n",
        "  #return (1 - torch.exp(-2*x))/(1 + torch.exp(-2*x))\n",
        "  return (torch.exp(x) - torch.exp(-x))/(torch.exp(x) + torch.exp(-x))\n",
        "\n",
        "plt.plot(tanh(X_linear))"
      ],
      "metadata": {
        "id": "J-ne__Kjkdc1",
        "colab": {
          "base_uri": "https://localhost:8080/",
          "height": 282
        },
        "outputId": "55e948ef-90d8-4a25-e564-5d8ae1a3631e"
      },
      "execution_count": 15,
      "outputs": [
        {
          "output_type": "execute_result",
          "data": {
            "text/plain": [
              "[<matplotlib.lines.Line2D at 0x7f4310aecfa0>]"
            ]
          },
          "metadata": {},
          "execution_count": 15
        },
        {
          "output_type": "display_data",
          "data": {
            "text/plain": [
              "<Figure size 432x288 with 1 Axes>"
            ],
            "image/png": "[encoded data removed]"
          },
          "metadata": {
            "needs_background": "light"
          }
        }
      ]
    },
    {
      "cell_type": "markdown",
      "source": [
        "## 7. Create a multi-class dataset using the [spirals data creation function from CS231n](https://cs231n.github.io/neural-networks-case-study/) (see below for the code).\n",
        "  * Split the data into training and test sets (80% train, 20% test) as well as turn it into PyTorch tensors.\n",
        "  * Construct a model capable of fitting the data (you may need a combination of linear and non-linear layers).\n",
        "  * Build a loss function and optimizer capable of handling multi-class data (optional extension: use the Adam optimizer instead of SGD, you may have to experiment with different values of the learning rate to get it working).\n",
        "  * Make a training and testing loop for the multi-class data and train a model on it to reach over 95% testing accuracy (you can use any accuracy measuring function here that you like) - 1000 epochs should be plenty.\n",
        "  * Plot the decision boundaries on the spirals dataset from your model predictions, the `plot_decision_boundary()` function should work for this dataset too."
      ],
      "metadata": {
        "id": "Lbt1bNcWk5G9"
      }
    },
    {
      "cell_type": "code",
      "source": [
        "import torch\n",
        "from torch import nn\n",
        "import matplotlib.pyplot as plt\n",
        "import numpy as np\n",
        "import pandas as pd\n",
        "\n",
        "device = \"cuda\" if torch.cuda.is_available() else \"cpu\"\n",
        "\n",
        "RANDOM_SEED = 42\n",
        "\n",
        "np.random.seed(RANDOM_SEED)\n",
        "N = 100 # number of points per class\n",
        "D = 2 # dimensionality\n",
        "K = 3 # number of classes\n",
        "X = np.zeros((N*K,D)) # data matrix (each row = single example)\n",
        "y = np.zeros(N*K, dtype='uint8') # class labels\n",
        "for j in range(K):\n",
        "  ix = range(N*j,N*(j+1))\n",
        "  r = np.linspace(0.0,1,N) # radius\n",
        "  t = np.linspace(j*4,(j+1)*4,N) + np.random.randn(N)*0.2 # theta\n",
        "  X[ix] = np.c_[r*np.sin(t), r*np.cos(t)]\n",
        "  y[ix] = j\n",
        "# lets visualize the data\n",
        "plt.scatter(X[:, 0], X[:, 1], c=y, s=40, cmap=plt.cm.RdYlBu)\n",
        "plt.show()"
      ],
      "metadata": {
        "colab": {
          "base_uri": "https://localhost:8080/",
          "height": 265
        },
        "id": "tU-UNZsKlJls",
        "outputId": "af427137-c451-4388-c5f6-3f5a5a225d52"
      },
      "execution_count": 29,
      "outputs": [
        {
          "output_type": "display_data",
          "data": {
            "text/plain": [
              "<Figure size 432x288 with 1 Axes>"
            ],
            "image/png": "[encoded data removed]"
          },
          "metadata": {
            "needs_background": "light"
          }
        }
      ]
    },
    {
      "cell_type": "code",
      "source": [
        "# Turn data into tensors\n",
        "import torch\n",
        "X = torch.from_numpy(X).type(torch.float) # features as float32\n",
        "y = torch.from_numpy(y).type(torch.LongTensor) # labels need to be of type long\n",
        "\n",
        "# Create train and test splits\n",
        "from sklearn.model_selection import train_test_split\n",
        "X_train, X_test, y_train, y_test = train_test_split(X,\n",
        "                                                    y,\n",
        "                                                    test_size=0.2,\n",
        "                                                    random_state=RANDOM_SEED)"
      ],
      "metadata": {
        "id": "OWVrmkEyl0VP"
      },
      "execution_count": 30,
      "outputs": []
    },
    {
      "cell_type": "code",
      "source": [
        "# Let's calculuate the accuracy for when we fit our model\n",
        "!pip -q install torchmetrics # colab doesn't come with torchmetrics\n",
        "from torchmetrics import Accuracy"
      ],
      "metadata": {
        "id": "a-v-7f0op0tG"
      },
      "execution_count": 31,
      "outputs": []
    },
    {
      "cell_type": "code",
      "source": [
        "acc_fn = Accuracy(task='multiclass', num_classes=4).to(device)\n",
        "acc_fn\n"
      ],
      "metadata": {
        "colab": {
          "base_uri": "https://localhost:8080/"
        },
        "id": "RwHssW7L7R9l",
        "outputId": "4fe09734-e895-4422-9320-0a93aa0116a9"
      },
      "execution_count": 32,
      "outputs": [
        {
          "output_type": "execute_result",
          "data": {
            "text/plain": [
              "MulticlassAccuracy()"
            ]
          },
          "metadata": {},
          "execution_count": 32
        }
      ]
    },
    {
      "cell_type": "code",
      "source": [
        "# Build the model\n",
        "class SpiralModelV0(nn.Module):\n",
        "  def __init__(self, input, output, hidden=10):\n",
        "    super().__init__()\n",
        "\n",
        "    self.layer_1 = nn.Linear(in_features = input, out_features = hidden)\n",
        "    self.layer_2 = nn.Linear(in_features = hidden, out_features = hidden)\n",
        "    self.layer_3 = nn.Linear(in_features = hidden, out_features = output)\n",
        "    self.relu = nn.ReLU()\n",
        "  \n",
        "  def forward(self, x):\n",
        "    return self.layer_3(self.relu(self.layer_2(self.relu(self.layer_1(x)))))\n",
        "\n",
        "\n",
        "# Instantiate model and send it to device\n",
        "model_1 = SpiralModelV0(input=2,\n",
        "                        output=3,\n",
        "                        hidden=10).to(device)\n",
        "\n",
        "model_1"
      ],
      "metadata": {
        "id": "DB3u3ldumapf",
        "colab": {
          "base_uri": "https://localhost:8080/"
        },
        "outputId": "b82daec1-8f4a-4dfc-f4d7-c11bdcff0905"
      },
      "execution_count": 33,
      "outputs": [
        {
          "output_type": "execute_result",
          "data": {
            "text/plain": [
              "SpiralModelV0(\n",
              "  (layer_1): Linear(in_features=2, out_features=10, bias=True)\n",
              "  (layer_2): Linear(in_features=10, out_features=10, bias=True)\n",
              "  (layer_3): Linear(in_features=10, out_features=3, bias=True)\n",
              "  (relu): ReLU()\n",
              ")"
            ]
          },
          "metadata": {},
          "execution_count": 33
        }
      ]
    },
    {
      "cell_type": "code",
      "source": [
        "# Setup data to be device agnostic\n",
        "X_train, y_train = X_train.to(device), y_train.to(device)\n",
        "X_test, y_test = X_test.to(device), y_test.to(device)\n",
        "print(X_test.dtype, y_test.dtype, X_train.dtype, y_train.dtype)\n",
        "\n",
        "model_1.eval()\n",
        "with torch.inference_mode():\n",
        "\n",
        "\n",
        "  # Print out first 10 untrained model outputs (forward pass)\n",
        "  print(\"Logits:\")\n",
        "  ## Your code here ##\n",
        "  print(model_1(X_train)[:10])\n",
        "  \n",
        "  print(\"Pred probs:\")\n",
        "  ## Your code here ##\n",
        "  # https://glassboxmedicine.com/2019/05/26/classification-sigmoid-vs-softmax/\n",
        "  #print(torch.sigmoid(model_1(X_train)[:10]))\n",
        "  print(torch.softmax(model_1(X_train)[:10], dim=1))\n",
        "\n",
        "  print(\"Pred labels:\")\n",
        "  ## Your code here ##\n",
        "  #print(torch.round(torch.sigmoid(model_1(X_train)[:10])))\n",
        "  print(torch.softmax(model_1(X_train)[:10], dim=1).argmax(dim=1))"
      ],
      "metadata": {
        "colab": {
          "base_uri": "https://localhost:8080/"
        },
        "id": "QE7XWSSunMTS",
        "outputId": "b24f5e7b-a731-4c86-c3f3-32f1b1559364"
      },
      "execution_count": 34,
      "outputs": [
        {
          "output_type": "stream",
          "name": "stdout",
          "text": [
            "torch.float32 torch.int64 torch.float32 torch.int64\n",
            "Logits:\n",
            "tensor([[ 2.7922e-01, -4.1833e-04,  3.9369e-01],\n",
            "        [ 2.3457e-01,  5.1637e-02,  3.3974e-01],\n",
            "        [ 3.2527e-01, -3.5720e-02,  4.0775e-01],\n",
            "        [ 2.7211e-01,  5.1948e-02,  3.3092e-01],\n",
            "        [ 3.3806e-01, -1.7030e-02,  3.7268e-01],\n",
            "        [ 3.1584e-01, -1.2659e-02,  3.6838e-01],\n",
            "        [ 3.2440e-01, -2.5109e-02,  3.8565e-01],\n",
            "        [ 3.4019e-01, -6.6376e-02,  4.8206e-01],\n",
            "        [ 2.5359e-01,  5.0053e-02,  3.2227e-01],\n",
            "        [ 2.7240e-01,  5.2172e-02,  3.3110e-01]], device='cuda:0')\n",
            "Pred probs:\n",
            "tensor([[0.3475, 0.2628, 0.3897],\n",
            "        [0.3397, 0.2829, 0.3774],\n",
            "        [0.3593, 0.2504, 0.3902],\n",
            "        [0.3493, 0.2803, 0.3704],\n",
            "        [0.3655, 0.2562, 0.3783],\n",
            "        [0.3605, 0.2596, 0.3799],\n",
            "        [0.3612, 0.2547, 0.3841],\n",
            "        [0.3548, 0.2363, 0.4089],\n",
            "        [0.3464, 0.2826, 0.3710],\n",
            "        [0.3493, 0.2803, 0.3704]], device='cuda:0')\n",
            "Pred labels:\n",
            "tensor([2, 2, 2, 2, 2, 2, 2, 2, 2, 2], device='cuda:0')\n"
          ]
        }
      ]
    },
    {
      "cell_type": "code",
      "source": [
        "# Setup loss function and optimizer\n",
        "loss_fn = nn.CrossEntropyLoss()\n",
        "optimizer = torch.optim.SGD(params=model_1.parameters(),\n",
        "                            lr=0.02)"
      ],
      "metadata": {
        "id": "54EqLRKLo0AW"
      },
      "execution_count": 37,
      "outputs": []
    },
    {
      "cell_type": "code",
      "source": [
        "\n",
        "# Build a training loop for the model\n",
        "epochs = 50000\n",
        "\n",
        "# Loop over data\n",
        "for epoch in range(epochs):\n",
        "  ## Training\n",
        "  model_1.train()\n",
        "  # 1. forward pass\n",
        "  y_logits = model_1(X_train)\n",
        "  y_pred = torch.softmax(y_logits, dim=1).argmax(dim=1)\n",
        "\n",
        "  # 2. calculate the loss\n",
        "  loss = loss_fn(y_logits, y_train)\n",
        "  acc = acc_fn(y_pred, y_train)\n",
        "  \n",
        "  # 3. optimizer zero grad\n",
        "  optimizer.zero_grad()\n",
        "\n",
        "  # 4. loss backwards\n",
        "  loss.backward()\n",
        "\n",
        "  # 5. optimizer step step step\n",
        "  optimizer.step()\n",
        "\n",
        "  ## Testing\n",
        "  model_1.eval()\n",
        "  with torch.inference_mode():\n",
        "    # 1. Forward pass\n",
        "    test_logits = model_1(X_test)\n",
        "    test_pred = torch.softmax(test_logits, dim=1).argmax(dim=1)\n",
        "    # 2. Caculate loss and acc\n",
        "    test_loss = loss_fn(test_logits, test_pred)\n",
        "    test_acc = acc_fn(test_pred, y_test)\n",
        "\n",
        "  # Print out what's happening\n",
        "  if epoch % 100 == 0:\n",
        "    print(f\"Epoch: {epoch} | Loss: {loss:.4f} Acc: {acc:.2f} | Test loss: {test_loss:.4f} Test acc: {test_acc:.2f}\")\n",
        "  "
      ],
      "metadata": {
        "id": "vIlExkUHnmxi",
        "colab": {
          "base_uri": "https://localhost:8080/"
        },
        "outputId": "efc67141-4992-415c-8d80-2ee6170db685"
      },
      "execution_count": 38,
      "outputs": [
        {
          "output_type": "stream",
          "name": "stdout",
          "text": [
            "Epoch: 0 | Loss: 0.3200 Acc: 0.84 | Test loss: 0.2588 Test acc: 0.83\n",
            "Epoch: 100 | Loss: 0.3082 Acc: 0.84 | Test loss: 0.2512 Test acc: 0.87\n",
            "Epoch: 200 | Loss: 0.2966 Acc: 0.85 | Test loss: 0.2440 Test acc: 0.87\n",
            "Epoch: 300 | Loss: 0.2856 Acc: 0.87 | Test loss: 0.2375 Test acc: 0.87\n",
            "Epoch: 400 | Loss: 0.2747 Acc: 0.87 | Test loss: 0.2308 Test acc: 0.90\n",
            "Epoch: 500 | Loss: 0.2648 Acc: 0.90 | Test loss: 0.2240 Test acc: 0.90\n",
            "Epoch: 600 | Loss: 0.2555 Acc: 0.91 | Test loss: 0.2171 Test acc: 0.93\n",
            "Epoch: 700 | Loss: 0.2466 Acc: 0.91 | Test loss: 0.2103 Test acc: 0.93\n",
            "Epoch: 800 | Loss: 0.2378 Acc: 0.92 | Test loss: 0.2041 Test acc: 0.93\n",
            "Epoch: 900 | Loss: 0.2295 Acc: 0.93 | Test loss: 0.1976 Test acc: 0.93\n",
            "Epoch: 1000 | Loss: 0.2220 Acc: 0.94 | Test loss: 0.1907 Test acc: 0.95\n",
            "Epoch: 1100 | Loss: 0.2149 Acc: 0.94 | Test loss: 0.1837 Test acc: 0.97\n",
            "Epoch: 1200 | Loss: 0.2084 Acc: 0.94 | Test loss: 0.1771 Test acc: 0.97\n",
            "Epoch: 1300 | Loss: 0.2023 Acc: 0.94 | Test loss: 0.1709 Test acc: 0.97\n",
            "Epoch: 1400 | Loss: 0.1965 Acc: 0.94 | Test loss: 0.1651 Test acc: 0.97\n",
            "Epoch: 1500 | Loss: 0.1909 Acc: 0.94 | Test loss: 0.1600 Test acc: 0.97\n",
            "Epoch: 1600 | Loss: 0.1856 Acc: 0.94 | Test loss: 0.1548 Test acc: 0.97\n",
            "Epoch: 1700 | Loss: 0.1807 Acc: 0.94 | Test loss: 0.1499 Test acc: 0.97\n",
            "Epoch: 1800 | Loss: 0.1760 Acc: 0.94 | Test loss: 0.1454 Test acc: 0.97\n",
            "Epoch: 1900 | Loss: 0.1717 Acc: 0.94 | Test loss: 0.1410 Test acc: 0.97\n",
            "Epoch: 2000 | Loss: 0.1677 Acc: 0.94 | Test loss: 0.1369 Test acc: 0.97\n",
            "Epoch: 2100 | Loss: 0.1639 Acc: 0.94 | Test loss: 0.1329 Test acc: 0.98\n",
            "Epoch: 2200 | Loss: 0.1603 Acc: 0.95 | Test loss: 0.1290 Test acc: 0.98\n",
            "Epoch: 2300 | Loss: 0.1570 Acc: 0.95 | Test loss: 0.1254 Test acc: 0.98\n",
            "Epoch: 2400 | Loss: 0.1539 Acc: 0.95 | Test loss: 0.1220 Test acc: 0.98\n",
            "Epoch: 2500 | Loss: 0.1507 Acc: 0.95 | Test loss: 0.1184 Test acc: 0.98\n",
            "Epoch: 2600 | Loss: 0.1476 Acc: 0.95 | Test loss: 0.1150 Test acc: 0.98\n",
            "Epoch: 2700 | Loss: 0.1446 Acc: 0.95 | Test loss: 0.1120 Test acc: 0.98\n",
            "Epoch: 2800 | Loss: 0.1415 Acc: 0.95 | Test loss: 0.1094 Test acc: 0.98\n",
            "Epoch: 2900 | Loss: 0.1387 Acc: 0.95 | Test loss: 0.1071 Test acc: 0.98\n",
            "Epoch: 3000 | Loss: 0.1361 Acc: 0.96 | Test loss: 0.1050 Test acc: 0.98\n",
            "Epoch: 3100 | Loss: 0.1334 Acc: 0.96 | Test loss: 0.1034 Test acc: 0.98\n",
            "Epoch: 3200 | Loss: 0.1309 Acc: 0.97 | Test loss: 0.1013 Test acc: 0.98\n",
            "Epoch: 3300 | Loss: 0.1286 Acc: 0.97 | Test loss: 0.0993 Test acc: 0.98\n",
            "Epoch: 3400 | Loss: 0.1264 Acc: 0.97 | Test loss: 0.0975 Test acc: 0.98\n",
            "Epoch: 3500 | Loss: 0.1243 Acc: 0.97 | Test loss: 0.0960 Test acc: 0.98\n",
            "Epoch: 3600 | Loss: 0.1223 Acc: 0.97 | Test loss: 0.0946 Test acc: 0.98\n",
            "Epoch: 3700 | Loss: 0.1204 Acc: 0.97 | Test loss: 0.0931 Test acc: 0.98\n",
            "Epoch: 3800 | Loss: 0.1186 Acc: 0.97 | Test loss: 0.0916 Test acc: 0.98\n",
            "Epoch: 3900 | Loss: 0.1168 Acc: 0.97 | Test loss: 0.0902 Test acc: 0.98\n",
            "Epoch: 4000 | Loss: 0.1152 Acc: 0.97 | Test loss: 0.0890 Test acc: 0.98\n",
            "Epoch: 4100 | Loss: 0.1136 Acc: 0.97 | Test loss: 0.0878 Test acc: 0.98\n",
            "Epoch: 4200 | Loss: 0.1121 Acc: 0.97 | Test loss: 0.0867 Test acc: 0.98\n",
            "Epoch: 4300 | Loss: 0.1106 Acc: 0.97 | Test loss: 0.0857 Test acc: 0.98\n",
            "Epoch: 4400 | Loss: 0.1092 Acc: 0.97 | Test loss: 0.0848 Test acc: 0.98\n",
            "Epoch: 4500 | Loss: 0.1078 Acc: 0.97 | Test loss: 0.0839 Test acc: 0.98\n",
            "Epoch: 4600 | Loss: 0.1066 Acc: 0.97 | Test loss: 0.0833 Test acc: 1.00\n",
            "Epoch: 4700 | Loss: 0.1054 Acc: 0.97 | Test loss: 0.0824 Test acc: 1.00\n",
            "Epoch: 4800 | Loss: 0.1042 Acc: 0.97 | Test loss: 0.0815 Test acc: 1.00\n",
            "Epoch: 4900 | Loss: 0.1031 Acc: 0.97 | Test loss: 0.0807 Test acc: 1.00\n",
            "Epoch: 5000 | Loss: 0.1020 Acc: 0.97 | Test loss: 0.0799 Test acc: 1.00\n",
            "Epoch: 5100 | Loss: 0.1010 Acc: 0.97 | Test loss: 0.0792 Test acc: 1.00\n",
            "Epoch: 5200 | Loss: 0.1000 Acc: 0.97 | Test loss: 0.0785 Test acc: 1.00\n",
            "Epoch: 5300 | Loss: 0.0990 Acc: 0.97 | Test loss: 0.0778 Test acc: 1.00\n",
            "Epoch: 5400 | Loss: 0.0980 Acc: 0.97 | Test loss: 0.0771 Test acc: 1.00\n",
            "Epoch: 5500 | Loss: 0.0968 Acc: 0.97 | Test loss: 0.0752 Test acc: 1.00\n",
            "Epoch: 5600 | Loss: 0.0958 Acc: 0.97 | Test loss: 0.0735 Test acc: 1.00\n",
            "Epoch: 5700 | Loss: 0.0948 Acc: 0.97 | Test loss: 0.0724 Test acc: 1.00\n",
            "Epoch: 5800 | Loss: 0.0938 Acc: 0.97 | Test loss: 0.0714 Test acc: 1.00\n",
            "Epoch: 5900 | Loss: 0.0929 Acc: 0.97 | Test loss: 0.0707 Test acc: 1.00\n",
            "Epoch: 6000 | Loss: 0.0921 Acc: 0.97 | Test loss: 0.0700 Test acc: 1.00\n",
            "Epoch: 6100 | Loss: 0.0912 Acc: 0.97 | Test loss: 0.0694 Test acc: 1.00\n",
            "Epoch: 6200 | Loss: 0.0904 Acc: 0.97 | Test loss: 0.0689 Test acc: 1.00\n",
            "Epoch: 6300 | Loss: 0.0897 Acc: 0.97 | Test loss: 0.0684 Test acc: 1.00\n",
            "Epoch: 6400 | Loss: 0.0889 Acc: 0.97 | Test loss: 0.0680 Test acc: 1.00\n",
            "Epoch: 6500 | Loss: 0.0882 Acc: 0.97 | Test loss: 0.0674 Test acc: 1.00\n",
            "Epoch: 6600 | Loss: 0.0875 Acc: 0.97 | Test loss: 0.0669 Test acc: 1.00\n",
            "Epoch: 6700 | Loss: 0.0868 Acc: 0.97 | Test loss: 0.0665 Test acc: 1.00\n",
            "Epoch: 6800 | Loss: 0.0861 Acc: 0.97 | Test loss: 0.0662 Test acc: 1.00\n",
            "Epoch: 6900 | Loss: 0.0854 Acc: 0.97 | Test loss: 0.0659 Test acc: 1.00\n",
            "Epoch: 7000 | Loss: 0.0848 Acc: 0.97 | Test loss: 0.0661 Test acc: 1.00\n",
            "Epoch: 7100 | Loss: 0.0841 Acc: 0.97 | Test loss: 0.0657 Test acc: 0.98\n",
            "Epoch: 7200 | Loss: 0.0834 Acc: 0.97 | Test loss: 0.0645 Test acc: 0.98\n",
            "Epoch: 7300 | Loss: 0.0828 Acc: 0.97 | Test loss: 0.0635 Test acc: 0.98\n",
            "Epoch: 7400 | Loss: 0.0822 Acc: 0.97 | Test loss: 0.0624 Test acc: 0.98\n",
            "Epoch: 7500 | Loss: 0.0815 Acc: 0.97 | Test loss: 0.0614 Test acc: 0.98\n",
            "Epoch: 7600 | Loss: 0.0809 Acc: 0.97 | Test loss: 0.0605 Test acc: 0.98\n",
            "Epoch: 7700 | Loss: 0.0803 Acc: 0.97 | Test loss: 0.0597 Test acc: 0.98\n",
            "Epoch: 7800 | Loss: 0.0798 Acc: 0.97 | Test loss: 0.0589 Test acc: 0.98\n",
            "Epoch: 7900 | Loss: 0.0792 Acc: 0.98 | Test loss: 0.0582 Test acc: 0.98\n",
            "Epoch: 8000 | Loss: 0.0786 Acc: 0.98 | Test loss: 0.0575 Test acc: 0.98\n",
            "Epoch: 8100 | Loss: 0.0781 Acc: 0.98 | Test loss: 0.0567 Test acc: 0.98\n",
            "Epoch: 8200 | Loss: 0.0776 Acc: 0.98 | Test loss: 0.0559 Test acc: 0.98\n",
            "Epoch: 8300 | Loss: 0.0770 Acc: 0.98 | Test loss: 0.0552 Test acc: 0.98\n",
            "Epoch: 8400 | Loss: 0.0765 Acc: 0.98 | Test loss: 0.0545 Test acc: 0.98\n",
            "Epoch: 8500 | Loss: 0.0760 Acc: 0.98 | Test loss: 0.0538 Test acc: 0.98\n",
            "Epoch: 8600 | Loss: 0.0755 Acc: 0.98 | Test loss: 0.0532 Test acc: 0.98\n",
            "Epoch: 8700 | Loss: 0.0750 Acc: 0.98 | Test loss: 0.0525 Test acc: 0.98\n",
            "Epoch: 8800 | Loss: 0.0746 Acc: 0.98 | Test loss: 0.0519 Test acc: 0.98\n",
            "Epoch: 8900 | Loss: 0.0741 Acc: 0.98 | Test loss: 0.0513 Test acc: 0.98\n",
            "Epoch: 9000 | Loss: 0.0737 Acc: 0.98 | Test loss: 0.0507 Test acc: 0.98\n",
            "Epoch: 9100 | Loss: 0.0732 Acc: 0.98 | Test loss: 0.0502 Test acc: 0.98\n",
            "Epoch: 9200 | Loss: 0.0728 Acc: 0.98 | Test loss: 0.0496 Test acc: 0.98\n",
            "Epoch: 9300 | Loss: 0.0724 Acc: 0.98 | Test loss: 0.0490 Test acc: 0.98\n",
            "Epoch: 9400 | Loss: 0.0719 Acc: 0.98 | Test loss: 0.0485 Test acc: 0.98\n",
            "Epoch: 9500 | Loss: 0.0715 Acc: 0.98 | Test loss: 0.0481 Test acc: 0.98\n",
            "Epoch: 9600 | Loss: 0.0711 Acc: 0.98 | Test loss: 0.0477 Test acc: 0.98\n",
            "Epoch: 9700 | Loss: 0.0706 Acc: 0.98 | Test loss: 0.0472 Test acc: 0.98\n",
            "Epoch: 9800 | Loss: 0.0702 Acc: 0.98 | Test loss: 0.0468 Test acc: 0.98\n",
            "Epoch: 9900 | Loss: 0.0698 Acc: 0.98 | Test loss: 0.0463 Test acc: 0.98\n",
            "Epoch: 10000 | Loss: 0.0694 Acc: 0.98 | Test loss: 0.0458 Test acc: 0.98\n",
            "Epoch: 10100 | Loss: 0.0690 Acc: 0.98 | Test loss: 0.0453 Test acc: 0.98\n",
            "Epoch: 10200 | Loss: 0.0686 Acc: 0.98 | Test loss: 0.0449 Test acc: 0.98\n",
            "Epoch: 10300 | Loss: 0.0682 Acc: 0.98 | Test loss: 0.0444 Test acc: 0.98\n",
            "Epoch: 10400 | Loss: 0.0678 Acc: 0.98 | Test loss: 0.0437 Test acc: 0.98\n",
            "Epoch: 10500 | Loss: 0.0675 Acc: 0.98 | Test loss: 0.0431 Test acc: 0.98\n",
            "Epoch: 10600 | Loss: 0.0671 Acc: 0.98 | Test loss: 0.0424 Test acc: 0.98\n",
            "Epoch: 10700 | Loss: 0.0668 Acc: 0.98 | Test loss: 0.0418 Test acc: 0.98\n",
            "Epoch: 10800 | Loss: 0.0664 Acc: 0.98 | Test loss: 0.0413 Test acc: 0.98\n",
            "Epoch: 10900 | Loss: 0.0661 Acc: 0.98 | Test loss: 0.0408 Test acc: 0.98\n",
            "Epoch: 11000 | Loss: 0.0658 Acc: 0.98 | Test loss: 0.0403 Test acc: 0.98\n",
            "Epoch: 11100 | Loss: 0.0654 Acc: 0.98 | Test loss: 0.0398 Test acc: 0.98\n",
            "Epoch: 11200 | Loss: 0.0651 Acc: 0.98 | Test loss: 0.0393 Test acc: 0.98\n",
            "Epoch: 11300 | Loss: 0.0648 Acc: 0.98 | Test loss: 0.0389 Test acc: 0.98\n",
            "Epoch: 11400 | Loss: 0.0645 Acc: 0.98 | Test loss: 0.0385 Test acc: 0.98\n",
            "Epoch: 11500 | Loss: 0.0642 Acc: 0.98 | Test loss: 0.0381 Test acc: 0.98\n",
            "Epoch: 11600 | Loss: 0.0639 Acc: 0.98 | Test loss: 0.0377 Test acc: 0.98\n",
            "Epoch: 11700 | Loss: 0.0636 Acc: 0.98 | Test loss: 0.0373 Test acc: 0.98\n",
            "Epoch: 11800 | Loss: 0.0633 Acc: 0.98 | Test loss: 0.0370 Test acc: 0.98\n",
            "Epoch: 11900 | Loss: 0.0630 Acc: 0.98 | Test loss: 0.0366 Test acc: 0.98\n",
            "Epoch: 12000 | Loss: 0.0627 Acc: 0.98 | Test loss: 0.0363 Test acc: 0.98\n",
            "Epoch: 12100 | Loss: 0.0624 Acc: 0.98 | Test loss: 0.0359 Test acc: 0.98\n",
            "Epoch: 12200 | Loss: 0.0621 Acc: 0.98 | Test loss: 0.0356 Test acc: 0.98\n",
            "Epoch: 12300 | Loss: 0.0618 Acc: 0.98 | Test loss: 0.0353 Test acc: 0.98\n",
            "Epoch: 12400 | Loss: 0.0615 Acc: 0.98 | Test loss: 0.0350 Test acc: 0.98\n",
            "Epoch: 12500 | Loss: 0.0613 Acc: 0.98 | Test loss: 0.0347 Test acc: 0.98\n",
            "Epoch: 12600 | Loss: 0.0610 Acc: 0.98 | Test loss: 0.0344 Test acc: 0.98\n",
            "Epoch: 12700 | Loss: 0.0607 Acc: 0.98 | Test loss: 0.0342 Test acc: 0.98\n",
            "Epoch: 12800 | Loss: 0.0605 Acc: 0.98 | Test loss: 0.0339 Test acc: 0.98\n",
            "Epoch: 12900 | Loss: 0.0602 Acc: 0.98 | Test loss: 0.0336 Test acc: 0.98\n",
            "Epoch: 13000 | Loss: 0.0599 Acc: 0.98 | Test loss: 0.0334 Test acc: 0.98\n",
            "Epoch: 13100 | Loss: 0.0597 Acc: 0.98 | Test loss: 0.0331 Test acc: 0.98\n",
            "Epoch: 13200 | Loss: 0.0594 Acc: 0.98 | Test loss: 0.0329 Test acc: 0.98\n",
            "Epoch: 13300 | Loss: 0.0592 Acc: 0.98 | Test loss: 0.0327 Test acc: 0.98\n",
            "Epoch: 13400 | Loss: 0.0589 Acc: 0.98 | Test loss: 0.0325 Test acc: 0.98\n",
            "Epoch: 13500 | Loss: 0.0587 Acc: 0.98 | Test loss: 0.0323 Test acc: 0.98\n",
            "Epoch: 13600 | Loss: 0.0584 Acc: 0.98 | Test loss: 0.0322 Test acc: 0.98\n",
            "Epoch: 13700 | Loss: 0.0582 Acc: 0.98 | Test loss: 0.0320 Test acc: 0.98\n",
            "Epoch: 13800 | Loss: 0.0579 Acc: 0.98 | Test loss: 0.0318 Test acc: 0.98\n",
            "Epoch: 13900 | Loss: 0.0577 Acc: 0.98 | Test loss: 0.0317 Test acc: 0.98\n",
            "Epoch: 14000 | Loss: 0.0574 Acc: 0.98 | Test loss: 0.0316 Test acc: 0.98\n",
            "Epoch: 14100 | Loss: 0.0572 Acc: 0.98 | Test loss: 0.0314 Test acc: 0.98\n",
            "Epoch: 14200 | Loss: 0.0569 Acc: 0.98 | Test loss: 0.0313 Test acc: 0.98\n",
            "Epoch: 14300 | Loss: 0.0567 Acc: 0.98 | Test loss: 0.0312 Test acc: 0.98\n",
            "Epoch: 14400 | Loss: 0.0565 Acc: 0.98 | Test loss: 0.0311 Test acc: 0.98\n",
            "Epoch: 14500 | Loss: 0.0562 Acc: 0.98 | Test loss: 0.0310 Test acc: 0.98\n",
            "Epoch: 14600 | Loss: 0.0560 Acc: 0.98 | Test loss: 0.0309 Test acc: 0.98\n",
            "Epoch: 14700 | Loss: 0.0557 Acc: 0.98 | Test loss: 0.0309 Test acc: 0.98\n",
            "Epoch: 14800 | Loss: 0.0555 Acc: 0.98 | Test loss: 0.0308 Test acc: 0.98\n",
            "Epoch: 14900 | Loss: 0.0553 Acc: 0.98 | Test loss: 0.0308 Test acc: 0.98\n",
            "Epoch: 15000 | Loss: 0.0551 Acc: 0.98 | Test loss: 0.0307 Test acc: 0.98\n",
            "Epoch: 15100 | Loss: 0.0548 Acc: 0.98 | Test loss: 0.0307 Test acc: 0.98\n",
            "Epoch: 15200 | Loss: 0.0546 Acc: 0.98 | Test loss: 0.0307 Test acc: 0.98\n",
            "Epoch: 15300 | Loss: 0.0544 Acc: 0.98 | Test loss: 0.0307 Test acc: 0.98\n",
            "Epoch: 15400 | Loss: 0.0542 Acc: 0.98 | Test loss: 0.0308 Test acc: 0.98\n",
            "Epoch: 15500 | Loss: 0.0540 Acc: 0.98 | Test loss: 0.0308 Test acc: 0.98\n",
            "Epoch: 15600 | Loss: 0.0537 Acc: 0.98 | Test loss: 0.0309 Test acc: 0.98\n",
            "Epoch: 15700 | Loss: 0.0535 Acc: 0.98 | Test loss: 0.0309 Test acc: 0.98\n",
            "Epoch: 15800 | Loss: 0.0533 Acc: 0.98 | Test loss: 0.0310 Test acc: 0.98\n",
            "Epoch: 15900 | Loss: 0.0531 Acc: 0.98 | Test loss: 0.0311 Test acc: 0.98\n",
            "Epoch: 16000 | Loss: 0.0529 Acc: 0.98 | Test loss: 0.0312 Test acc: 0.98\n",
            "Epoch: 16100 | Loss: 0.0527 Acc: 0.98 | Test loss: 0.0313 Test acc: 0.98\n",
            "Epoch: 16200 | Loss: 0.0525 Acc: 0.98 | Test loss: 0.0315 Test acc: 0.98\n",
            "Epoch: 16300 | Loss: 0.0523 Acc: 0.98 | Test loss: 0.0314 Test acc: 1.00\n",
            "Epoch: 16400 | Loss: 0.0521 Acc: 0.98 | Test loss: 0.0309 Test acc: 1.00\n",
            "Epoch: 16500 | Loss: 0.0519 Acc: 0.98 | Test loss: 0.0304 Test acc: 1.00\n",
            "Epoch: 16600 | Loss: 0.0517 Acc: 0.98 | Test loss: 0.0299 Test acc: 1.00\n",
            "Epoch: 16700 | Loss: 0.0515 Acc: 0.98 | Test loss: 0.0294 Test acc: 1.00\n",
            "Epoch: 16800 | Loss: 0.0513 Acc: 0.98 | Test loss: 0.0290 Test acc: 1.00\n",
            "Epoch: 16900 | Loss: 0.0511 Acc: 0.98 | Test loss: 0.0285 Test acc: 1.00\n",
            "Epoch: 17000 | Loss: 0.0509 Acc: 0.98 | Test loss: 0.0281 Test acc: 1.00\n",
            "Epoch: 17100 | Loss: 0.0507 Acc: 0.98 | Test loss: 0.0276 Test acc: 1.00\n",
            "Epoch: 17200 | Loss: 0.0505 Acc: 0.98 | Test loss: 0.0272 Test acc: 1.00\n",
            "Epoch: 17300 | Loss: 0.0503 Acc: 0.98 | Test loss: 0.0267 Test acc: 1.00\n",
            "Epoch: 17400 | Loss: 0.0501 Acc: 0.98 | Test loss: 0.0263 Test acc: 1.00\n",
            "Epoch: 17500 | Loss: 0.0499 Acc: 0.98 | Test loss: 0.0259 Test acc: 1.00\n",
            "Epoch: 17600 | Loss: 0.0497 Acc: 0.98 | Test loss: 0.0255 Test acc: 1.00\n",
            "Epoch: 17700 | Loss: 0.0495 Acc: 0.98 | Test loss: 0.0251 Test acc: 1.00\n",
            "Epoch: 17800 | Loss: 0.0494 Acc: 0.98 | Test loss: 0.0247 Test acc: 1.00\n",
            "Epoch: 17900 | Loss: 0.0492 Acc: 0.98 | Test loss: 0.0244 Test acc: 1.00\n",
            "Epoch: 18000 | Loss: 0.0490 Acc: 0.98 | Test loss: 0.0240 Test acc: 1.00\n",
            "Epoch: 18100 | Loss: 0.0488 Acc: 0.98 | Test loss: 0.0236 Test acc: 1.00\n",
            "Epoch: 18200 | Loss: 0.0486 Acc: 0.98 | Test loss: 0.0233 Test acc: 1.00\n",
            "Epoch: 18300 | Loss: 0.0485 Acc: 0.98 | Test loss: 0.0229 Test acc: 1.00\n",
            "Epoch: 18400 | Loss: 0.0483 Acc: 0.98 | Test loss: 0.0226 Test acc: 1.00\n",
            "Epoch: 18500 | Loss: 0.0481 Acc: 0.98 | Test loss: 0.0223 Test acc: 1.00\n",
            "Epoch: 18600 | Loss: 0.0479 Acc: 0.98 | Test loss: 0.0220 Test acc: 1.00\n",
            "Epoch: 18700 | Loss: 0.0477 Acc: 0.98 | Test loss: 0.0216 Test acc: 1.00\n",
            "Epoch: 18800 | Loss: 0.0476 Acc: 0.98 | Test loss: 0.0213 Test acc: 1.00\n",
            "Epoch: 18900 | Loss: 0.0474 Acc: 0.98 | Test loss: 0.0210 Test acc: 1.00\n",
            "Epoch: 19000 | Loss: 0.0472 Acc: 0.98 | Test loss: 0.0208 Test acc: 1.00\n",
            "Epoch: 19100 | Loss: 0.0471 Acc: 0.98 | Test loss: 0.0205 Test acc: 1.00\n",
            "Epoch: 19200 | Loss: 0.0469 Acc: 0.98 | Test loss: 0.0202 Test acc: 1.00\n",
            "Epoch: 19300 | Loss: 0.0467 Acc: 0.98 | Test loss: 0.0199 Test acc: 1.00\n",
            "Epoch: 19400 | Loss: 0.0466 Acc: 0.98 | Test loss: 0.0197 Test acc: 1.00\n",
            "Epoch: 19500 | Loss: 0.0464 Acc: 0.98 | Test loss: 0.0194 Test acc: 1.00\n",
            "Epoch: 19600 | Loss: 0.0462 Acc: 0.98 | Test loss: 0.0192 Test acc: 1.00\n",
            "Epoch: 19700 | Loss: 0.0461 Acc: 0.98 | Test loss: 0.0189 Test acc: 1.00\n",
            "Epoch: 19800 | Loss: 0.0459 Acc: 0.98 | Test loss: 0.0187 Test acc: 1.00\n",
            "Epoch: 19900 | Loss: 0.0457 Acc: 0.98 | Test loss: 0.0185 Test acc: 1.00\n",
            "Epoch: 20000 | Loss: 0.0456 Acc: 0.98 | Test loss: 0.0182 Test acc: 1.00\n",
            "Epoch: 20100 | Loss: 0.0454 Acc: 0.98 | Test loss: 0.0180 Test acc: 1.00\n",
            "Epoch: 20200 | Loss: 0.0453 Acc: 0.98 | Test loss: 0.0177 Test acc: 1.00\n",
            "Epoch: 20300 | Loss: 0.0451 Acc: 0.98 | Test loss: 0.0175 Test acc: 1.00\n",
            "Epoch: 20400 | Loss: 0.0449 Acc: 0.98 | Test loss: 0.0173 Test acc: 1.00\n",
            "Epoch: 20500 | Loss: 0.0448 Acc: 0.98 | Test loss: 0.0171 Test acc: 1.00\n",
            "Epoch: 20600 | Loss: 0.0446 Acc: 0.98 | Test loss: 0.0170 Test acc: 1.00\n",
            "Epoch: 20700 | Loss: 0.0445 Acc: 0.98 | Test loss: 0.0168 Test acc: 1.00\n",
            "Epoch: 20800 | Loss: 0.0443 Acc: 0.98 | Test loss: 0.0166 Test acc: 1.00\n",
            "Epoch: 20900 | Loss: 0.0442 Acc: 0.98 | Test loss: 0.0165 Test acc: 1.00\n",
            "Epoch: 21000 | Loss: 0.0440 Acc: 0.98 | Test loss: 0.0163 Test acc: 1.00\n",
            "Epoch: 21100 | Loss: 0.0439 Acc: 0.98 | Test loss: 0.0161 Test acc: 1.00\n",
            "Epoch: 21200 | Loss: 0.0437 Acc: 0.98 | Test loss: 0.0159 Test acc: 1.00\n",
            "Epoch: 21300 | Loss: 0.0436 Acc: 0.98 | Test loss: 0.0158 Test acc: 1.00\n",
            "Epoch: 21400 | Loss: 0.0434 Acc: 0.98 | Test loss: 0.0156 Test acc: 1.00\n",
            "Epoch: 21500 | Loss: 0.0433 Acc: 0.98 | Test loss: 0.0154 Test acc: 1.00\n",
            "Epoch: 21600 | Loss: 0.0431 Acc: 0.98 | Test loss: 0.0153 Test acc: 1.00\n",
            "Epoch: 21700 | Loss: 0.0430 Acc: 0.98 | Test loss: 0.0151 Test acc: 1.00\n",
            "Epoch: 21800 | Loss: 0.0428 Acc: 0.98 | Test loss: 0.0149 Test acc: 1.00\n",
            "Epoch: 21900 | Loss: 0.0427 Acc: 0.99 | Test loss: 0.0148 Test acc: 1.00\n",
            "Epoch: 22000 | Loss: 0.0425 Acc: 0.99 | Test loss: 0.0147 Test acc: 1.00\n",
            "Epoch: 22100 | Loss: 0.0424 Acc: 0.99 | Test loss: 0.0145 Test acc: 1.00\n",
            "Epoch: 22200 | Loss: 0.0423 Acc: 0.99 | Test loss: 0.0144 Test acc: 1.00\n",
            "Epoch: 22300 | Loss: 0.0421 Acc: 0.99 | Test loss: 0.0142 Test acc: 1.00\n",
            "Epoch: 22400 | Loss: 0.0420 Acc: 0.99 | Test loss: 0.0141 Test acc: 1.00\n",
            "Epoch: 22500 | Loss: 0.0418 Acc: 0.99 | Test loss: 0.0140 Test acc: 1.00\n",
            "Epoch: 22600 | Loss: 0.0417 Acc: 0.99 | Test loss: 0.0139 Test acc: 1.00\n",
            "Epoch: 22700 | Loss: 0.0416 Acc: 0.99 | Test loss: 0.0137 Test acc: 1.00\n",
            "Epoch: 22800 | Loss: 0.0414 Acc: 0.99 | Test loss: 0.0136 Test acc: 1.00\n",
            "Epoch: 22900 | Loss: 0.0413 Acc: 0.99 | Test loss: 0.0135 Test acc: 1.00\n",
            "Epoch: 23000 | Loss: 0.0412 Acc: 0.99 | Test loss: 0.0134 Test acc: 1.00\n",
            "Epoch: 23100 | Loss: 0.0410 Acc: 0.99 | Test loss: 0.0133 Test acc: 1.00\n",
            "Epoch: 23200 | Loss: 0.0409 Acc: 0.99 | Test loss: 0.0132 Test acc: 1.00\n",
            "Epoch: 23300 | Loss: 0.0408 Acc: 0.99 | Test loss: 0.0131 Test acc: 1.00\n",
            "Epoch: 23400 | Loss: 0.0406 Acc: 0.99 | Test loss: 0.0130 Test acc: 1.00\n",
            "Epoch: 23500 | Loss: 0.0405 Acc: 0.99 | Test loss: 0.0129 Test acc: 1.00\n",
            "Epoch: 23600 | Loss: 0.0404 Acc: 0.99 | Test loss: 0.0128 Test acc: 1.00\n",
            "Epoch: 23700 | Loss: 0.0403 Acc: 0.99 | Test loss: 0.0127 Test acc: 1.00\n",
            "Epoch: 23800 | Loss: 0.0401 Acc: 0.99 | Test loss: 0.0126 Test acc: 1.00\n",
            "Epoch: 23900 | Loss: 0.0400 Acc: 0.99 | Test loss: 0.0125 Test acc: 1.00\n",
            "Epoch: 24000 | Loss: 0.0399 Acc: 0.99 | Test loss: 0.0124 Test acc: 1.00\n",
            "Epoch: 24100 | Loss: 0.0398 Acc: 0.99 | Test loss: 0.0124 Test acc: 1.00\n",
            "Epoch: 24200 | Loss: 0.0396 Acc: 0.99 | Test loss: 0.0123 Test acc: 1.00\n",
            "Epoch: 24300 | Loss: 0.0395 Acc: 0.99 | Test loss: 0.0122 Test acc: 1.00\n",
            "Epoch: 24400 | Loss: 0.0394 Acc: 0.99 | Test loss: 0.0121 Test acc: 1.00\n",
            "Epoch: 24500 | Loss: 0.0393 Acc: 0.99 | Test loss: 0.0120 Test acc: 1.00\n",
            "Epoch: 24600 | Loss: 0.0392 Acc: 0.99 | Test loss: 0.0119 Test acc: 1.00\n",
            "Epoch: 24700 | Loss: 0.0390 Acc: 0.99 | Test loss: 0.0119 Test acc: 1.00\n",
            "Epoch: 24800 | Loss: 0.0389 Acc: 0.99 | Test loss: 0.0118 Test acc: 1.00\n",
            "Epoch: 24900 | Loss: 0.0388 Acc: 0.99 | Test loss: 0.0117 Test acc: 1.00\n",
            "Epoch: 25000 | Loss: 0.0387 Acc: 0.99 | Test loss: 0.0117 Test acc: 1.00\n",
            "Epoch: 25100 | Loss: 0.0386 Acc: 0.99 | Test loss: 0.0116 Test acc: 1.00\n",
            "Epoch: 25200 | Loss: 0.0385 Acc: 0.99 | Test loss: 0.0115 Test acc: 1.00\n",
            "Epoch: 25300 | Loss: 0.0383 Acc: 0.99 | Test loss: 0.0114 Test acc: 1.00\n",
            "Epoch: 25400 | Loss: 0.0382 Acc: 0.99 | Test loss: 0.0114 Test acc: 1.00\n",
            "Epoch: 25500 | Loss: 0.0381 Acc: 0.99 | Test loss: 0.0113 Test acc: 1.00\n",
            "Epoch: 25600 | Loss: 0.0380 Acc: 0.99 | Test loss: 0.0112 Test acc: 1.00\n",
            "Epoch: 25700 | Loss: 0.0379 Acc: 0.99 | Test loss: 0.0112 Test acc: 1.00\n",
            "Epoch: 25800 | Loss: 0.0378 Acc: 0.99 | Test loss: 0.0111 Test acc: 1.00\n",
            "Epoch: 25900 | Loss: 0.0377 Acc: 0.99 | Test loss: 0.0110 Test acc: 1.00\n",
            "Epoch: 26000 | Loss: 0.0376 Acc: 0.99 | Test loss: 0.0110 Test acc: 1.00\n",
            "Epoch: 26100 | Loss: 0.0375 Acc: 0.99 | Test loss: 0.0109 Test acc: 1.00\n",
            "Epoch: 26200 | Loss: 0.0374 Acc: 0.99 | Test loss: 0.0109 Test acc: 1.00\n",
            "Epoch: 26300 | Loss: 0.0373 Acc: 0.99 | Test loss: 0.0108 Test acc: 1.00\n",
            "Epoch: 26400 | Loss: 0.0372 Acc: 0.99 | Test loss: 0.0107 Test acc: 1.00\n",
            "Epoch: 26500 | Loss: 0.0371 Acc: 0.99 | Test loss: 0.0107 Test acc: 1.00\n",
            "Epoch: 26600 | Loss: 0.0370 Acc: 0.99 | Test loss: 0.0106 Test acc: 1.00\n",
            "Epoch: 26700 | Loss: 0.0369 Acc: 0.99 | Test loss: 0.0106 Test acc: 1.00\n",
            "Epoch: 26800 | Loss: 0.0368 Acc: 0.99 | Test loss: 0.0105 Test acc: 1.00\n",
            "Epoch: 26900 | Loss: 0.0367 Acc: 0.99 | Test loss: 0.0104 Test acc: 1.00\n",
            "Epoch: 27000 | Loss: 0.0366 Acc: 0.99 | Test loss: 0.0104 Test acc: 1.00\n",
            "Epoch: 27100 | Loss: 0.0365 Acc: 0.99 | Test loss: 0.0103 Test acc: 1.00\n",
            "Epoch: 27200 | Loss: 0.0364 Acc: 0.99 | Test loss: 0.0103 Test acc: 1.00\n",
            "Epoch: 27300 | Loss: 0.0363 Acc: 0.99 | Test loss: 0.0102 Test acc: 1.00\n",
            "Epoch: 27400 | Loss: 0.0362 Acc: 0.99 | Test loss: 0.0102 Test acc: 1.00\n",
            "Epoch: 27500 | Loss: 0.0361 Acc: 0.99 | Test loss: 0.0102 Test acc: 1.00\n",
            "Epoch: 27600 | Loss: 0.0360 Acc: 0.99 | Test loss: 0.0101 Test acc: 1.00\n",
            "Epoch: 27700 | Loss: 0.0359 Acc: 0.99 | Test loss: 0.0101 Test acc: 1.00\n",
            "Epoch: 27800 | Loss: 0.0358 Acc: 0.99 | Test loss: 0.0100 Test acc: 1.00\n",
            "Epoch: 27900 | Loss: 0.0357 Acc: 0.99 | Test loss: 0.0100 Test acc: 1.00\n",
            "Epoch: 28000 | Loss: 0.0356 Acc: 0.99 | Test loss: 0.0099 Test acc: 1.00\n",
            "Epoch: 28100 | Loss: 0.0355 Acc: 0.99 | Test loss: 0.0099 Test acc: 1.00\n",
            "Epoch: 28200 | Loss: 0.0354 Acc: 0.99 | Test loss: 0.0098 Test acc: 1.00\n",
            "Epoch: 28300 | Loss: 0.0353 Acc: 0.99 | Test loss: 0.0098 Test acc: 1.00\n",
            "Epoch: 28400 | Loss: 0.0352 Acc: 0.99 | Test loss: 0.0097 Test acc: 1.00\n",
            "Epoch: 28500 | Loss: 0.0351 Acc: 0.99 | Test loss: 0.0097 Test acc: 1.00\n",
            "Epoch: 28600 | Loss: 0.0350 Acc: 0.99 | Test loss: 0.0096 Test acc: 1.00\n",
            "Epoch: 28700 | Loss: 0.0349 Acc: 0.99 | Test loss: 0.0096 Test acc: 1.00\n",
            "Epoch: 28800 | Loss: 0.0348 Acc: 0.99 | Test loss: 0.0096 Test acc: 1.00\n",
            "Epoch: 28900 | Loss: 0.0347 Acc: 0.99 | Test loss: 0.0095 Test acc: 1.00\n",
            "Epoch: 29000 | Loss: 0.0346 Acc: 0.99 | Test loss: 0.0095 Test acc: 1.00\n",
            "Epoch: 29100 | Loss: 0.0345 Acc: 0.99 | Test loss: 0.0095 Test acc: 1.00\n",
            "Epoch: 29200 | Loss: 0.0344 Acc: 0.99 | Test loss: 0.0094 Test acc: 1.00\n",
            "Epoch: 29300 | Loss: 0.0343 Acc: 0.99 | Test loss: 0.0094 Test acc: 1.00\n",
            "Epoch: 29400 | Loss: 0.0343 Acc: 0.99 | Test loss: 0.0093 Test acc: 1.00\n",
            "Epoch: 29500 | Loss: 0.0342 Acc: 0.99 | Test loss: 0.0093 Test acc: 1.00\n",
            "Epoch: 29600 | Loss: 0.0341 Acc: 0.99 | Test loss: 0.0092 Test acc: 1.00\n",
            "Epoch: 29700 | Loss: 0.0340 Acc: 0.99 | Test loss: 0.0092 Test acc: 1.00\n",
            "Epoch: 29800 | Loss: 0.0339 Acc: 0.99 | Test loss: 0.0092 Test acc: 1.00\n",
            "Epoch: 29900 | Loss: 0.0338 Acc: 0.99 | Test loss: 0.0091 Test acc: 1.00\n",
            "Epoch: 30000 | Loss: 0.0337 Acc: 0.99 | Test loss: 0.0091 Test acc: 1.00\n",
            "Epoch: 30100 | Loss: 0.0336 Acc: 0.99 | Test loss: 0.0090 Test acc: 1.00\n",
            "Epoch: 30200 | Loss: 0.0335 Acc: 0.99 | Test loss: 0.0090 Test acc: 1.00\n",
            "Epoch: 30300 | Loss: 0.0334 Acc: 0.99 | Test loss: 0.0090 Test acc: 1.00\n",
            "Epoch: 30400 | Loss: 0.0333 Acc: 0.99 | Test loss: 0.0089 Test acc: 1.00\n",
            "Epoch: 30500 | Loss: 0.0333 Acc: 0.99 | Test loss: 0.0089 Test acc: 1.00\n",
            "Epoch: 30600 | Loss: 0.0332 Acc: 0.99 | Test loss: 0.0088 Test acc: 1.00\n",
            "Epoch: 30700 | Loss: 0.0331 Acc: 0.99 | Test loss: 0.0088 Test acc: 1.00\n",
            "Epoch: 30800 | Loss: 0.0330 Acc: 0.99 | Test loss: 0.0088 Test acc: 1.00\n",
            "Epoch: 30900 | Loss: 0.0329 Acc: 0.99 | Test loss: 0.0087 Test acc: 1.00\n",
            "Epoch: 31000 | Loss: 0.0328 Acc: 0.99 | Test loss: 0.0087 Test acc: 1.00\n",
            "Epoch: 31100 | Loss: 0.0328 Acc: 0.99 | Test loss: 0.0086 Test acc: 1.00\n",
            "Epoch: 31200 | Loss: 0.0327 Acc: 0.99 | Test loss: 0.0086 Test acc: 1.00\n",
            "Epoch: 31300 | Loss: 0.0326 Acc: 0.99 | Test loss: 0.0086 Test acc: 1.00\n",
            "Epoch: 31400 | Loss: 0.0325 Acc: 0.99 | Test loss: 0.0085 Test acc: 1.00\n",
            "Epoch: 31500 | Loss: 0.0324 Acc: 0.99 | Test loss: 0.0085 Test acc: 1.00\n",
            "Epoch: 31600 | Loss: 0.0324 Acc: 0.99 | Test loss: 0.0084 Test acc: 1.00\n",
            "Epoch: 31700 | Loss: 0.0323 Acc: 0.99 | Test loss: 0.0084 Test acc: 1.00\n",
            "Epoch: 31800 | Loss: 0.0322 Acc: 0.99 | Test loss: 0.0084 Test acc: 1.00\n",
            "Epoch: 31900 | Loss: 0.0321 Acc: 0.99 | Test loss: 0.0083 Test acc: 1.00\n",
            "Epoch: 32000 | Loss: 0.0320 Acc: 0.99 | Test loss: 0.0083 Test acc: 1.00\n",
            "Epoch: 32100 | Loss: 0.0320 Acc: 0.99 | Test loss: 0.0083 Test acc: 1.00\n",
            "Epoch: 32200 | Loss: 0.0319 Acc: 0.99 | Test loss: 0.0082 Test acc: 1.00\n",
            "Epoch: 32300 | Loss: 0.0318 Acc: 0.99 | Test loss: 0.0082 Test acc: 1.00\n",
            "Epoch: 32400 | Loss: 0.0317 Acc: 0.99 | Test loss: 0.0082 Test acc: 1.00\n",
            "Epoch: 32500 | Loss: 0.0317 Acc: 0.99 | Test loss: 0.0081 Test acc: 1.00\n",
            "Epoch: 32600 | Loss: 0.0316 Acc: 0.99 | Test loss: 0.0081 Test acc: 1.00\n",
            "Epoch: 32700 | Loss: 0.0315 Acc: 0.99 | Test loss: 0.0080 Test acc: 1.00\n",
            "Epoch: 32800 | Loss: 0.0315 Acc: 0.99 | Test loss: 0.0080 Test acc: 1.00\n",
            "Epoch: 32900 | Loss: 0.0314 Acc: 0.99 | Test loss: 0.0080 Test acc: 1.00\n",
            "Epoch: 33000 | Loss: 0.0313 Acc: 0.99 | Test loss: 0.0079 Test acc: 1.00\n",
            "Epoch: 33100 | Loss: 0.0312 Acc: 0.99 | Test loss: 0.0079 Test acc: 1.00\n",
            "Epoch: 33200 | Loss: 0.0312 Acc: 0.99 | Test loss: 0.0078 Test acc: 1.00\n",
            "Epoch: 33300 | Loss: 0.0311 Acc: 0.99 | Test loss: 0.0078 Test acc: 1.00\n",
            "Epoch: 33400 | Loss: 0.0310 Acc: 0.99 | Test loss: 0.0078 Test acc: 1.00\n",
            "Epoch: 33500 | Loss: 0.0310 Acc: 0.99 | Test loss: 0.0077 Test acc: 1.00\n",
            "Epoch: 33600 | Loss: 0.0309 Acc: 0.99 | Test loss: 0.0077 Test acc: 1.00\n",
            "Epoch: 33700 | Loss: 0.0308 Acc: 0.99 | Test loss: 0.0076 Test acc: 1.00\n",
            "Epoch: 33800 | Loss: 0.0308 Acc: 0.99 | Test loss: 0.0076 Test acc: 1.00\n",
            "Epoch: 33900 | Loss: 0.0307 Acc: 0.99 | Test loss: 0.0076 Test acc: 1.00\n",
            "Epoch: 34000 | Loss: 0.0306 Acc: 0.99 | Test loss: 0.0075 Test acc: 1.00\n",
            "Epoch: 34100 | Loss: 0.0306 Acc: 0.99 | Test loss: 0.0075 Test acc: 1.00\n",
            "Epoch: 34200 | Loss: 0.0305 Acc: 0.99 | Test loss: 0.0075 Test acc: 1.00\n",
            "Epoch: 34300 | Loss: 0.0304 Acc: 0.99 | Test loss: 0.0074 Test acc: 1.00\n",
            "Epoch: 34400 | Loss: 0.0304 Acc: 0.99 | Test loss: 0.0074 Test acc: 1.00\n",
            "Epoch: 34500 | Loss: 0.0303 Acc: 0.99 | Test loss: 0.0073 Test acc: 1.00\n",
            "Epoch: 34600 | Loss: 0.0303 Acc: 0.99 | Test loss: 0.0073 Test acc: 1.00\n",
            "Epoch: 34700 | Loss: 0.0302 Acc: 0.99 | Test loss: 0.0073 Test acc: 1.00\n",
            "Epoch: 34800 | Loss: 0.0301 Acc: 0.99 | Test loss: 0.0072 Test acc: 1.00\n",
            "Epoch: 34900 | Loss: 0.0301 Acc: 0.99 | Test loss: 0.0072 Test acc: 1.00\n",
            "Epoch: 35000 | Loss: 0.0300 Acc: 0.99 | Test loss: 0.0072 Test acc: 1.00\n",
            "Epoch: 35100 | Loss: 0.0299 Acc: 0.99 | Test loss: 0.0071 Test acc: 1.00\n",
            "Epoch: 35200 | Loss: 0.0299 Acc: 0.99 | Test loss: 0.0071 Test acc: 1.00\n",
            "Epoch: 35300 | Loss: 0.0298 Acc: 0.99 | Test loss: 0.0071 Test acc: 1.00\n",
            "Epoch: 35400 | Loss: 0.0298 Acc: 0.99 | Test loss: 0.0070 Test acc: 1.00\n",
            "Epoch: 35500 | Loss: 0.0297 Acc: 0.99 | Test loss: 0.0070 Test acc: 1.00\n",
            "Epoch: 35600 | Loss: 0.0296 Acc: 0.99 | Test loss: 0.0070 Test acc: 1.00\n",
            "Epoch: 35700 | Loss: 0.0296 Acc: 0.99 | Test loss: 0.0069 Test acc: 1.00\n",
            "Epoch: 35800 | Loss: 0.0295 Acc: 0.99 | Test loss: 0.0069 Test acc: 1.00\n",
            "Epoch: 35900 | Loss: 0.0295 Acc: 0.99 | Test loss: 0.0068 Test acc: 1.00\n",
            "Epoch: 36000 | Loss: 0.0294 Acc: 0.99 | Test loss: 0.0068 Test acc: 1.00\n",
            "Epoch: 36100 | Loss: 0.0294 Acc: 0.99 | Test loss: 0.0068 Test acc: 1.00\n",
            "Epoch: 36200 | Loss: 0.0293 Acc: 0.99 | Test loss: 0.0067 Test acc: 1.00\n",
            "Epoch: 36300 | Loss: 0.0292 Acc: 0.99 | Test loss: 0.0067 Test acc: 1.00\n",
            "Epoch: 36400 | Loss: 0.0292 Acc: 0.99 | Test loss: 0.0067 Test acc: 1.00\n",
            "Epoch: 36500 | Loss: 0.0291 Acc: 0.99 | Test loss: 0.0066 Test acc: 1.00\n",
            "Epoch: 36600 | Loss: 0.0291 Acc: 0.99 | Test loss: 0.0066 Test acc: 1.00\n",
            "Epoch: 36700 | Loss: 0.0290 Acc: 0.99 | Test loss: 0.0066 Test acc: 1.00\n",
            "Epoch: 36800 | Loss: 0.0290 Acc: 0.99 | Test loss: 0.0065 Test acc: 1.00\n",
            "Epoch: 36900 | Loss: 0.0289 Acc: 0.99 | Test loss: 0.0065 Test acc: 1.00\n",
            "Epoch: 37000 | Loss: 0.0289 Acc: 0.99 | Test loss: 0.0065 Test acc: 1.00\n",
            "Epoch: 37100 | Loss: 0.0288 Acc: 0.99 | Test loss: 0.0064 Test acc: 1.00\n",
            "Epoch: 37200 | Loss: 0.0288 Acc: 0.99 | Test loss: 0.0064 Test acc: 1.00\n",
            "Epoch: 37300 | Loss: 0.0287 Acc: 0.99 | Test loss: 0.0064 Test acc: 1.00\n",
            "Epoch: 37400 | Loss: 0.0287 Acc: 0.99 | Test loss: 0.0064 Test acc: 1.00\n",
            "Epoch: 37500 | Loss: 0.0286 Acc: 0.99 | Test loss: 0.0063 Test acc: 1.00\n",
            "Epoch: 37600 | Loss: 0.0285 Acc: 0.99 | Test loss: 0.0063 Test acc: 1.00\n",
            "Epoch: 37700 | Loss: 0.0285 Acc: 0.99 | Test loss: 0.0063 Test acc: 1.00\n",
            "Epoch: 37800 | Loss: 0.0284 Acc: 0.99 | Test loss: 0.0063 Test acc: 1.00\n",
            "Epoch: 37900 | Loss: 0.0284 Acc: 0.99 | Test loss: 0.0062 Test acc: 1.00\n",
            "Epoch: 38000 | Loss: 0.0283 Acc: 0.99 | Test loss: 0.0062 Test acc: 1.00\n",
            "Epoch: 38100 | Loss: 0.0283 Acc: 0.99 | Test loss: 0.0062 Test acc: 1.00\n",
            "Epoch: 38200 | Loss: 0.0282 Acc: 0.99 | Test loss: 0.0061 Test acc: 1.00\n",
            "Epoch: 38300 | Loss: 0.0282 Acc: 0.99 | Test loss: 0.0061 Test acc: 1.00\n",
            "Epoch: 38400 | Loss: 0.0281 Acc: 0.99 | Test loss: 0.0061 Test acc: 1.00\n",
            "Epoch: 38500 | Loss: 0.0281 Acc: 0.99 | Test loss: 0.0061 Test acc: 1.00\n",
            "Epoch: 38600 | Loss: 0.0281 Acc: 0.99 | Test loss: 0.0061 Test acc: 1.00\n",
            "Epoch: 38700 | Loss: 0.0280 Acc: 0.99 | Test loss: 0.0060 Test acc: 1.00\n",
            "Epoch: 38800 | Loss: 0.0280 Acc: 0.99 | Test loss: 0.0060 Test acc: 1.00\n",
            "Epoch: 38900 | Loss: 0.0279 Acc: 0.99 | Test loss: 0.0060 Test acc: 1.00\n",
            "Epoch: 39000 | Loss: 0.0279 Acc: 0.99 | Test loss: 0.0060 Test acc: 1.00\n",
            "Epoch: 39100 | Loss: 0.0278 Acc: 0.99 | Test loss: 0.0059 Test acc: 1.00\n",
            "Epoch: 39200 | Loss: 0.0278 Acc: 0.99 | Test loss: 0.0059 Test acc: 1.00\n",
            "Epoch: 39300 | Loss: 0.0277 Acc: 0.99 | Test loss: 0.0059 Test acc: 1.00\n",
            "Epoch: 39400 | Loss: 0.0277 Acc: 0.99 | Test loss: 0.0059 Test acc: 1.00\n",
            "Epoch: 39500 | Loss: 0.0276 Acc: 0.99 | Test loss: 0.0058 Test acc: 1.00\n",
            "Epoch: 39600 | Loss: 0.0276 Acc: 0.99 | Test loss: 0.0058 Test acc: 1.00\n",
            "Epoch: 39700 | Loss: 0.0275 Acc: 0.99 | Test loss: 0.0058 Test acc: 1.00\n",
            "Epoch: 39800 | Loss: 0.0275 Acc: 0.99 | Test loss: 0.0058 Test acc: 1.00\n",
            "Epoch: 39900 | Loss: 0.0274 Acc: 0.99 | Test loss: 0.0058 Test acc: 1.00\n",
            "Epoch: 40000 | Loss: 0.0274 Acc: 0.99 | Test loss: 0.0057 Test acc: 1.00\n",
            "Epoch: 40100 | Loss: 0.0274 Acc: 0.99 | Test loss: 0.0057 Test acc: 1.00\n",
            "Epoch: 40200 | Loss: 0.0273 Acc: 0.99 | Test loss: 0.0057 Test acc: 1.00\n",
            "Epoch: 40300 | Loss: 0.0273 Acc: 0.99 | Test loss: 0.0057 Test acc: 1.00\n",
            "Epoch: 40400 | Loss: 0.0272 Acc: 0.99 | Test loss: 0.0056 Test acc: 1.00\n",
            "Epoch: 40500 | Loss: 0.0272 Acc: 0.99 | Test loss: 0.0056 Test acc: 1.00\n",
            "Epoch: 40600 | Loss: 0.0271 Acc: 0.99 | Test loss: 0.0056 Test acc: 1.00\n",
            "Epoch: 40700 | Loss: 0.0271 Acc: 0.99 | Test loss: 0.0056 Test acc: 1.00\n",
            "Epoch: 40800 | Loss: 0.0271 Acc: 0.99 | Test loss: 0.0055 Test acc: 1.00\n",
            "Epoch: 40900 | Loss: 0.0270 Acc: 0.99 | Test loss: 0.0055 Test acc: 1.00\n",
            "Epoch: 41000 | Loss: 0.0270 Acc: 0.99 | Test loss: 0.0055 Test acc: 1.00\n",
            "Epoch: 41100 | Loss: 0.0269 Acc: 0.99 | Test loss: 0.0055 Test acc: 1.00\n",
            "Epoch: 41200 | Loss: 0.0269 Acc: 0.99 | Test loss: 0.0054 Test acc: 1.00\n",
            "Epoch: 41300 | Loss: 0.0268 Acc: 0.99 | Test loss: 0.0054 Test acc: 1.00\n",
            "Epoch: 41400 | Loss: 0.0268 Acc: 0.99 | Test loss: 0.0054 Test acc: 1.00\n",
            "Epoch: 41500 | Loss: 0.0268 Acc: 0.99 | Test loss: 0.0054 Test acc: 1.00\n",
            "Epoch: 41600 | Loss: 0.0267 Acc: 0.99 | Test loss: 0.0053 Test acc: 1.00\n",
            "Epoch: 41700 | Loss: 0.0267 Acc: 0.99 | Test loss: 0.0053 Test acc: 1.00\n",
            "Epoch: 41800 | Loss: 0.0266 Acc: 0.99 | Test loss: 0.0053 Test acc: 1.00\n",
            "Epoch: 41900 | Loss: 0.0266 Acc: 0.99 | Test loss: 0.0053 Test acc: 1.00\n",
            "Epoch: 42000 | Loss: 0.0266 Acc: 0.99 | Test loss: 0.0052 Test acc: 1.00\n",
            "Epoch: 42100 | Loss: 0.0265 Acc: 0.99 | Test loss: 0.0052 Test acc: 1.00\n",
            "Epoch: 42200 | Loss: 0.0265 Acc: 0.99 | Test loss: 0.0052 Test acc: 1.00\n",
            "Epoch: 42300 | Loss: 0.0264 Acc: 0.99 | Test loss: 0.0052 Test acc: 1.00\n",
            "Epoch: 42400 | Loss: 0.0264 Acc: 0.99 | Test loss: 0.0052 Test acc: 1.00\n",
            "Epoch: 42500 | Loss: 0.0264 Acc: 0.99 | Test loss: 0.0051 Test acc: 1.00\n",
            "Epoch: 42600 | Loss: 0.0263 Acc: 0.99 | Test loss: 0.0051 Test acc: 1.00\n",
            "Epoch: 42700 | Loss: 0.0263 Acc: 0.99 | Test loss: 0.0051 Test acc: 1.00\n",
            "Epoch: 42800 | Loss: 0.0263 Acc: 0.99 | Test loss: 0.0051 Test acc: 1.00\n",
            "Epoch: 42900 | Loss: 0.0262 Acc: 0.99 | Test loss: 0.0050 Test acc: 1.00\n",
            "Epoch: 43000 | Loss: 0.0262 Acc: 0.99 | Test loss: 0.0050 Test acc: 1.00\n",
            "Epoch: 43100 | Loss: 0.0261 Acc: 0.99 | Test loss: 0.0050 Test acc: 1.00\n",
            "Epoch: 43200 | Loss: 0.0261 Acc: 0.99 | Test loss: 0.0050 Test acc: 1.00\n",
            "Epoch: 43300 | Loss: 0.0261 Acc: 0.99 | Test loss: 0.0049 Test acc: 1.00\n",
            "Epoch: 43400 | Loss: 0.0260 Acc: 0.99 | Test loss: 0.0049 Test acc: 1.00\n",
            "Epoch: 43500 | Loss: 0.0260 Acc: 0.99 | Test loss: 0.0049 Test acc: 1.00\n",
            "Epoch: 43600 | Loss: 0.0260 Acc: 0.99 | Test loss: 0.0049 Test acc: 1.00\n",
            "Epoch: 43700 | Loss: 0.0259 Acc: 0.99 | Test loss: 0.0048 Test acc: 1.00\n",
            "Epoch: 43800 | Loss: 0.0259 Acc: 0.99 | Test loss: 0.0048 Test acc: 1.00\n",
            "Epoch: 43900 | Loss: 0.0259 Acc: 0.99 | Test loss: 0.0048 Test acc: 1.00\n",
            "Epoch: 44000 | Loss: 0.0258 Acc: 0.99 | Test loss: 0.0048 Test acc: 1.00\n",
            "Epoch: 44100 | Loss: 0.0258 Acc: 0.99 | Test loss: 0.0048 Test acc: 1.00\n",
            "Epoch: 44200 | Loss: 0.0257 Acc: 0.99 | Test loss: 0.0047 Test acc: 1.00\n",
            "Epoch: 44300 | Loss: 0.0257 Acc: 0.99 | Test loss: 0.0047 Test acc: 1.00\n",
            "Epoch: 44400 | Loss: 0.0257 Acc: 0.99 | Test loss: 0.0047 Test acc: 1.00\n",
            "Epoch: 44500 | Loss: 0.0256 Acc: 0.99 | Test loss: 0.0047 Test acc: 1.00\n",
            "Epoch: 44600 | Loss: 0.0256 Acc: 0.99 | Test loss: 0.0046 Test acc: 1.00\n",
            "Epoch: 44700 | Loss: 0.0256 Acc: 0.99 | Test loss: 0.0046 Test acc: 1.00\n",
            "Epoch: 44800 | Loss: 0.0255 Acc: 0.99 | Test loss: 0.0046 Test acc: 1.00\n",
            "Epoch: 44900 | Loss: 0.0255 Acc: 0.99 | Test loss: 0.0046 Test acc: 1.00\n",
            "Epoch: 45000 | Loss: 0.0255 Acc: 0.99 | Test loss: 0.0046 Test acc: 1.00\n",
            "Epoch: 45100 | Loss: 0.0254 Acc: 0.99 | Test loss: 0.0045 Test acc: 1.00\n",
            "Epoch: 45200 | Loss: 0.0254 Acc: 0.99 | Test loss: 0.0045 Test acc: 1.00\n",
            "Epoch: 45300 | Loss: 0.0254 Acc: 0.99 | Test loss: 0.0045 Test acc: 1.00\n",
            "Epoch: 45400 | Loss: 0.0253 Acc: 0.99 | Test loss: 0.0045 Test acc: 1.00\n",
            "Epoch: 45500 | Loss: 0.0253 Acc: 0.99 | Test loss: 0.0045 Test acc: 1.00\n",
            "Epoch: 45600 | Loss: 0.0253 Acc: 0.99 | Test loss: 0.0044 Test acc: 1.00\n",
            "Epoch: 45700 | Loss: 0.0252 Acc: 0.99 | Test loss: 0.0044 Test acc: 1.00\n",
            "Epoch: 45800 | Loss: 0.0252 Acc: 0.99 | Test loss: 0.0044 Test acc: 1.00\n",
            "Epoch: 45900 | Loss: 0.0252 Acc: 0.99 | Test loss: 0.0044 Test acc: 1.00\n",
            "Epoch: 46000 | Loss: 0.0251 Acc: 0.99 | Test loss: 0.0044 Test acc: 1.00\n",
            "Epoch: 46100 | Loss: 0.0251 Acc: 0.99 | Test loss: 0.0044 Test acc: 1.00\n",
            "Epoch: 46200 | Loss: 0.0250 Acc: 0.99 | Test loss: 0.0044 Test acc: 1.00\n",
            "Epoch: 46300 | Loss: 0.0250 Acc: 0.99 | Test loss: 0.0043 Test acc: 1.00\n",
            "Epoch: 46400 | Loss: 0.0250 Acc: 0.99 | Test loss: 0.0043 Test acc: 1.00\n",
            "Epoch: 46500 | Loss: 0.0249 Acc: 0.99 | Test loss: 0.0043 Test acc: 1.00\n",
            "Epoch: 46600 | Loss: 0.0249 Acc: 0.99 | Test loss: 0.0042 Test acc: 1.00\n",
            "Epoch: 46700 | Loss: 0.0248 Acc: 0.99 | Test loss: 0.0042 Test acc: 1.00\n",
            "Epoch: 46800 | Loss: 0.0248 Acc: 0.99 | Test loss: 0.0042 Test acc: 1.00\n",
            "Epoch: 46900 | Loss: 0.0248 Acc: 0.99 | Test loss: 0.0042 Test acc: 1.00\n",
            "Epoch: 47000 | Loss: 0.0247 Acc: 0.99 | Test loss: 0.0041 Test acc: 1.00\n",
            "Epoch: 47100 | Loss: 0.0247 Acc: 0.99 | Test loss: 0.0041 Test acc: 1.00\n",
            "Epoch: 47200 | Loss: 0.0247 Acc: 0.99 | Test loss: 0.0041 Test acc: 1.00\n",
            "Epoch: 47300 | Loss: 0.0246 Acc: 0.99 | Test loss: 0.0040 Test acc: 1.00\n",
            "Epoch: 47400 | Loss: 0.0246 Acc: 0.99 | Test loss: 0.0040 Test acc: 1.00\n",
            "Epoch: 47500 | Loss: 0.0245 Acc: 0.99 | Test loss: 0.0040 Test acc: 1.00\n",
            "Epoch: 47600 | Loss: 0.0245 Acc: 0.99 | Test loss: 0.0040 Test acc: 1.00\n",
            "Epoch: 47700 | Loss: 0.0245 Acc: 0.99 | Test loss: 0.0039 Test acc: 1.00\n",
            "Epoch: 47800 | Loss: 0.0244 Acc: 0.99 | Test loss: 0.0039 Test acc: 1.00\n",
            "Epoch: 47900 | Loss: 0.0244 Acc: 0.99 | Test loss: 0.0039 Test acc: 1.00\n",
            "Epoch: 48000 | Loss: 0.0244 Acc: 0.99 | Test loss: 0.0039 Test acc: 1.00\n",
            "Epoch: 48100 | Loss: 0.0243 Acc: 0.99 | Test loss: 0.0039 Test acc: 1.00\n",
            "Epoch: 48200 | Loss: 0.0243 Acc: 0.99 | Test loss: 0.0038 Test acc: 1.00\n",
            "Epoch: 48300 | Loss: 0.0243 Acc: 0.99 | Test loss: 0.0038 Test acc: 1.00\n",
            "Epoch: 48400 | Loss: 0.0242 Acc: 0.99 | Test loss: 0.0038 Test acc: 1.00\n",
            "Epoch: 48500 | Loss: 0.0242 Acc: 0.99 | Test loss: 0.0038 Test acc: 1.00\n",
            "Epoch: 48600 | Loss: 0.0242 Acc: 0.99 | Test loss: 0.0037 Test acc: 1.00\n",
            "Epoch: 48700 | Loss: 0.0241 Acc: 0.99 | Test loss: 0.0037 Test acc: 1.00\n",
            "Epoch: 48800 | Loss: 0.0241 Acc: 0.99 | Test loss: 0.0037 Test acc: 1.00\n",
            "Epoch: 48900 | Loss: 0.0240 Acc: 0.99 | Test loss: 0.0038 Test acc: 1.00\n",
            "Epoch: 49000 | Loss: 0.0240 Acc: 0.99 | Test loss: 0.0039 Test acc: 1.00\n",
            "Epoch: 49100 | Loss: 0.0239 Acc: 0.99 | Test loss: 0.0040 Test acc: 1.00\n",
            "Epoch: 49200 | Loss: 0.0238 Acc: 0.99 | Test loss: 0.0040 Test acc: 1.00\n",
            "Epoch: 49300 | Loss: 0.0238 Acc: 0.99 | Test loss: 0.0040 Test acc: 1.00\n",
            "Epoch: 49400 | Loss: 0.0237 Acc: 0.99 | Test loss: 0.0041 Test acc: 1.00\n",
            "Epoch: 49500 | Loss: 0.0237 Acc: 0.99 | Test loss: 0.0041 Test acc: 1.00\n",
            "Epoch: 49600 | Loss: 0.0236 Acc: 0.99 | Test loss: 0.0041 Test acc: 1.00\n",
            "Epoch: 49700 | Loss: 0.0236 Acc: 0.99 | Test loss: 0.0041 Test acc: 1.00\n",
            "Epoch: 49800 | Loss: 0.0236 Acc: 0.99 | Test loss: 0.0041 Test acc: 1.00\n",
            "Epoch: 49900 | Loss: 0.0235 Acc: 0.99 | Test loss: 0.0041 Test acc: 1.00\n"
          ]
        }
      ]
    },
    {
      "cell_type": "code",
      "source": [
        "# Plot decision boundaries for training and test sets\n",
        "# Plot the model predictions\n",
        "# TK - this could go in the helper_functions.py and be explained there\n",
        "def plot_decision_boundary(model, X, y):\n",
        "  \n",
        "    # Put everything to CPU (works better with NumPy + Matplotlib)\n",
        "    model.to(\"cpu\")\n",
        "    X, y = X.to(\"cpu\"), y.to(\"cpu\")\n",
        "\n",
        "    # Source - https://madewithml.com/courses/foundations/neural-networks/ \n",
        "    # (with modifications)\n",
        "    x_min, x_max = X[:, 0].min() - 0.1, X[:, 0].max() + 0.1\n",
        "    y_min, y_max = X[:, 1].min() - 0.1, X[:, 1].max() + 0.1\n",
        "    xx, yy = np.meshgrid(np.linspace(x_min, x_max, 101), \n",
        "                         np.linspace(y_min, y_max, 101))\n",
        "\n",
        "    # Make features\n",
        "    X_to_pred_on = torch.from_numpy(np.column_stack((xx.ravel(), yy.ravel()))).float()\n",
        "\n",
        "    # Make predictions\n",
        "    model.eval()\n",
        "    with torch.inference_mode():\n",
        "        y_logits = model(X_to_pred_on)\n",
        "\n",
        "    # Test for multi-class or binary and adjust logits to prediction labels\n",
        "    if len(torch.unique(y)) > 2:\n",
        "        y_pred = torch.softmax(y_logits, dim=1).argmax(dim=1) # mutli-class\n",
        "    else: \n",
        "        y_pred = torch.round(torch.sigmoid(y_logits)) # binary\n",
        "    \n",
        "    # Reshape preds and plot\n",
        "    y_pred = y_pred.reshape(xx.shape).detach().numpy()\n",
        "    plt.contourf(xx, yy, y_pred, cmap=plt.cm.RdYlBu, alpha=0.7)\n",
        "    plt.scatter(X[:, 0], X[:, 1], c=y, s=40, cmap=plt.cm.RdYlBu)\n",
        "    plt.xlim(xx.min(), xx.max())\n",
        "    plt.ylim(yy.min(), yy.max())"
      ],
      "metadata": {
        "id": "JrwVRbaE0keT"
      },
      "execution_count": 39,
      "outputs": []
    },
    {
      "cell_type": "code",
      "source": [
        "# Plot decision boundaries for training and test sets\n",
        "plt.figure(figsize=(12, 6))\n",
        "plt.subplot(1, 2, 1)\n",
        "plt.title(\"Train\")\n",
        "plot_decision_boundary(model_1, X_train, y_train)\n",
        "plt.subplot(1, 2, 2)\n",
        "plt.title(\"Test\")\n",
        "plot_decision_boundary(model_1, X_test, y_test)"
      ],
      "metadata": {
        "colab": {
          "base_uri": "https://localhost:8080/",
          "height": 350
        },
        "id": "_gl2Cso_8JTS",
        "outputId": "0c12135c-6467-4c01-f87e-ce563d6fe431"
      },
      "execution_count": 40,
      "outputs": [
        {
          "output_type": "display_data",
          "data": {
            "text/plain": [
              "<Figure size 864x432 with 2 Axes>"
            ],
            "image/png": "[encoded data removed]"
          },
          "metadata": {
            "needs_background": "light"
          }
        }
      ]
    }
  ]
}